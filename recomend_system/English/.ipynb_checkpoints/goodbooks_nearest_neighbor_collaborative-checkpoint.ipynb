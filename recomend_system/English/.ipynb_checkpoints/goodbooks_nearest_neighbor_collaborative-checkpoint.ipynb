{
 "cells": [
  {
   "cell_type": "code",
   "execution_count": 2,
   "metadata": {
    "execution": {
     "iopub.execute_input": "2021-10-04T22:39:57.650817Z",
     "iopub.status.busy": "2021-10-04T22:39:57.650512Z",
     "iopub.status.idle": "2021-10-04T22:39:57.658552Z",
     "shell.execute_reply": "2021-10-04T22:39:57.657315Z",
     "shell.execute_reply.started": "2021-10-04T22:39:57.650788Z"
    }
   },
   "outputs": [],
   "source": [
    "import numpy as np # linear algebra\n",
    "import pandas as pd # data processing, CSV file I/O (e.g. pd.read_csv)\n",
    "\n",
    "# Input data files are available in the read-only \"../input/\" directory\n",
    "# For example, running this (by clicking run or pressing Shift+Enter) will list all files under the input directory\n",
    "\n",
    "import pandas as pd\n",
    "import numpy as np\n",
    "import io\n",
    "import re\n",
    "import sys\n",
    "import tensorflow as tf\n",
    "from pandasql import sqldf\n",
    "from sklearn.model_selection import train_test_split\n",
    "from scipy.sparse import coo_matrix\n",
    "pd.set_option('display.max_columns', 500)\n"
   ]
  },
  {
   "cell_type": "code",
   "execution_count": 4,
   "metadata": {
    "execution": {
     "iopub.execute_input": "2021-10-04T22:40:45.899822Z",
     "iopub.status.busy": "2021-10-04T22:40:45.899070Z",
     "iopub.status.idle": "2021-10-04T22:40:47.128592Z",
     "shell.execute_reply": "2021-10-04T22:40:47.127456Z",
     "shell.execute_reply.started": "2021-10-04T22:40:45.899757Z"
    }
   },
   "outputs": [],
   "source": [
    "import os\n",
    "for dirname, _, filenames in os.walk('/kaggle/input'):\n",
    "    for filename in filenames:\n",
    "        print(os.path.join(dirname, filename))\n",
    "\n",
    "books = pd.read_csv('/kaggle/input/goodbooks-10k/books.csv',error_bad_lines = False)\n",
    "book_tags = pd.read_csv('/kaggle/input/goodbooks-10k/book_tags.csv')\n",
    "ratings = pd.read_csv('/kaggle/input/goodbooks-10k/ratings.csv')\n",
    "tags = pd.read_csv('/kaggle/input/goodbooks-10k/tags.csv')\n"
   ]
  },
  {
   "cell_type": "code",
   "execution_count": 5,
   "metadata": {
    "execution": {
     "iopub.execute_input": "2021-10-04T22:41:31.642427Z",
     "iopub.status.busy": "2021-10-04T22:41:31.641284Z",
     "iopub.status.idle": "2021-10-04T22:41:52.969151Z",
     "shell.execute_reply": "2021-10-04T22:41:52.968317Z",
     "shell.execute_reply.started": "2021-10-04T22:41:31.642388Z"
    }
   },
   "outputs": [],
   "source": [
    "from scipy.sparse import csr_matrix\n",
    "ratings = ratings.sort_values('user_id')\n",
    "ratings = ratings.drop_duplicates(subset = ['user_id','book_id'])\n",
    "ratings = ratings.dropna()\n",
    "# pivot ratings into book features\n",
    "df_book_features = ratings.pivot(index='book_id',columns='user_id',values='rating').fillna(0)\n",
    "mat_book_features = csr_matrix(df_book_features.values)"
   ]
  },
  {
   "cell_type": "code",
   "execution_count": 6,
   "metadata": {
    "execution": {
     "iopub.execute_input": "2021-10-04T22:42:25.160254Z",
     "iopub.status.busy": "2021-10-04T22:42:25.159109Z",
     "iopub.status.idle": "2021-10-04T22:42:25.629414Z",
     "shell.execute_reply": "2021-10-04T22:42:25.628437Z",
     "shell.execute_reply.started": "2021-10-04T22:42:25.160201Z"
    }
   },
   "outputs": [],
   "source": [
    "df_book_features.head(3)"
   ]
  },
  {
   "cell_type": "code",
   "execution_count": 7,
   "metadata": {
    "execution": {
     "iopub.execute_input": "2021-10-04T22:42:58.574118Z",
     "iopub.status.busy": "2021-10-04T22:42:58.573057Z",
     "iopub.status.idle": "2021-10-04T22:42:58.744316Z",
     "shell.execute_reply": "2021-10-04T22:42:58.743022Z",
     "shell.execute_reply.started": "2021-10-04T22:42:58.574083Z"
    }
   },
   "outputs": [],
   "source": [
    "from sklearn.neighbors import NearestNeighbors\n",
    "model_knn = NearestNeighbors(metric='cosine', algorithm='brute', n_neighbors=20, n_jobs=-1)\n",
    "\n",
    "\n",
    "num_users = len(ratings.user_id.unique())\n",
    "num_items = len(ratings.book_id.unique())\n",
    "print('There are {} unique users and {} unique movies in this data set'.format(num_users, num_items))"
   ]
  },
  {
   "cell_type": "code",
   "execution_count": 8,
   "metadata": {
    "execution": {
     "iopub.execute_input": "2021-10-04T22:43:16.847476Z",
     "iopub.status.busy": "2021-10-04T22:43:16.846660Z",
     "iopub.status.idle": "2021-10-04T22:43:16.873827Z",
     "shell.execute_reply": "2021-10-04T22:43:16.872884Z",
     "shell.execute_reply.started": "2021-10-04T22:43:16.847412Z"
    }
   },
   "outputs": [],
   "source": [
    "df_ratings_cnt_tmp = pd.DataFrame(ratings.groupby('rating').size(), columns=['count'])\n",
    "df_ratings_cnt_tmp.head(10)"
   ]
  },
  {
   "cell_type": "code",
   "execution_count": 9,
   "metadata": {
    "execution": {
     "iopub.execute_input": "2021-10-04T22:43:48.494002Z",
     "iopub.status.busy": "2021-10-04T22:43:48.493294Z",
     "iopub.status.idle": "2021-10-04T22:43:48.515135Z",
     "shell.execute_reply": "2021-10-04T22:43:48.513746Z",
     "shell.execute_reply.started": "2021-10-04T22:43:48.493953Z"
    }
   },
   "outputs": [],
   "source": [
    "total_cnt = num_users * num_items\n",
    "rating_zero_cnt = total_cnt - ratings.shape[0]\n",
    "\n",
    "df_ratings_cnt = df_ratings_cnt_tmp.append(\n",
    "    pd.DataFrame({'count': rating_zero_cnt}, index=[0.0]),\n",
    "    verify_integrity=True,\n",
    ").sort_index()\n",
    "df_ratings_cnt"
   ]
  },
  {
   "cell_type": "markdown",
   "metadata": {},
   "source": [
    "From above table we can see there are too many 0 in the matrix, which need to be fixed."
   ]
  },
  {
   "cell_type": "code",
   "execution_count": 10,
   "metadata": {
    "execution": {
     "iopub.execute_input": "2021-10-04T22:46:41.770691Z",
     "iopub.status.busy": "2021-10-04T22:46:41.770350Z",
     "iopub.status.idle": "2021-10-04T22:46:41.811478Z",
     "shell.execute_reply": "2021-10-04T22:46:41.810774Z",
     "shell.execute_reply.started": "2021-10-04T22:46:41.770661Z"
    }
   },
   "outputs": [],
   "source": [
    "df_books_cnt = pd.DataFrame(ratings.groupby('book_id').size(), columns=['count'])\n",
    "df_books_cnt.head(3)"
   ]
  },
  {
   "cell_type": "code",
   "execution_count": 11,
   "metadata": {
    "execution": {
     "iopub.execute_input": "2021-10-04T22:47:01.361194Z",
     "iopub.status.busy": "2021-10-04T22:47:01.360387Z",
     "iopub.status.idle": "2021-10-04T22:47:01.417237Z",
     "shell.execute_reply": "2021-10-04T22:47:01.416135Z",
     "shell.execute_reply.started": "2021-10-04T22:47:01.361153Z"
    }
   },
   "outputs": [],
   "source": [
    "#now we need to take only books that have been rated atleast 60 times to get some idea of the reactions of users towards it\n",
    "\n",
    "popularity_thres = 60\n",
    "popular_movies = list(set(df_books_cnt.query('count >= @popularity_thres').index))\n",
    "df_ratings_drop = ratings[ratings.book_id.isin(popular_movies)]\n",
    "print('shape of original ratings data: ', ratings.shape)\n",
    "print('shape of ratings data after dropping unpopular movies: ', df_ratings_drop.shape)"
   ]
  },
  {
   "cell_type": "code",
   "execution_count": 12,
   "metadata": {
    "execution": {
     "iopub.execute_input": "2021-10-04T22:47:20.765387Z",
     "iopub.status.busy": "2021-10-04T22:47:20.765020Z",
     "iopub.status.idle": "2021-10-04T22:47:20.813616Z",
     "shell.execute_reply": "2021-10-04T22:47:20.812793Z",
     "shell.execute_reply.started": "2021-10-04T22:47:20.765357Z"
    }
   },
   "outputs": [],
   "source": [
    "# get number of ratings given by every user\n",
    "df_users_cnt = pd.DataFrame(df_ratings_drop.groupby('user_id').size(), columns=['count'])\n",
    "df_users_cnt.head()"
   ]
  },
  {
   "cell_type": "code",
   "execution_count": 20,
   "metadata": {
    "execution": {
     "iopub.execute_input": "2021-10-04T22:51:09.129216Z",
     "iopub.status.busy": "2021-10-04T22:51:09.128837Z",
     "iopub.status.idle": "2021-10-04T22:51:09.165005Z",
     "shell.execute_reply": "2021-10-04T22:51:09.164121Z",
     "shell.execute_reply.started": "2021-10-04T22:51:09.129183Z"
    }
   },
   "outputs": [],
   "source": [
    "#Dropping users who have rated less than 50 times\n",
    "ratings_thres = 50\n",
    "active_users = list(set(df_users_cnt.query('count >= @ratings_thres').index))\n",
    "df_ratings_drop_users = df_ratings_drop[df_ratings_drop.user_id.isin(active_users)]\n",
    "print('shape of original ratings data: ', ratings.shape)\n",
    "print('shape of ratings data after dropping both unpopular movies and inactive users: ', df_ratings_drop_users.shape)"
   ]
  },
  {
   "cell_type": "code",
   "execution_count": 21,
   "metadata": {
    "execution": {
     "iopub.execute_input": "2021-10-04T22:51:11.289031Z",
     "iopub.status.busy": "2021-10-04T22:51:11.288728Z",
     "iopub.status.idle": "2021-10-04T22:51:12.932757Z",
     "shell.execute_reply": "2021-10-04T22:51:12.931848Z",
     "shell.execute_reply.started": "2021-10-04T22:51:11.288993Z"
    }
   },
   "outputs": [],
   "source": [
    "book_user_mat = df_ratings_drop_users.pivot(index='book_id', columns='user_id', values='rating').fillna(0)\n",
    "book_user_mat"
   ]
  },
  {
   "cell_type": "code",
   "execution_count": 32,
   "metadata": {
    "execution": {
     "iopub.execute_input": "2021-10-04T22:53:36.183514Z",
     "iopub.status.busy": "2021-10-04T22:53:36.182622Z",
     "iopub.status.idle": "2021-10-04T22:53:37.172276Z",
     "shell.execute_reply": "2021-10-04T22:53:37.171206Z",
     "shell.execute_reply.started": "2021-10-04T22:53:36.183475Z"
    }
   },
   "outputs": [],
   "source": [
    "book_user_mat_sparse = csr_matrix(book_user_mat.values)\n",
    "model_knn = NearestNeighbors(metric='cosine', algorithm='brute', n_neighbors=20, n_jobs=-1)\n",
    "# fit\n",
    "model_knn.fit(book_user_mat_sparse)"
   ]
  },
  {
   "cell_type": "code",
   "execution_count": 33,
   "metadata": {
    "execution": {
     "iopub.execute_input": "2021-10-04T22:54:18.001082Z",
     "iopub.status.busy": "2021-10-04T22:54:18.000794Z",
     "iopub.status.idle": "2021-10-04T22:54:18.029460Z",
     "shell.execute_reply": "2021-10-04T22:54:18.028265Z",
     "shell.execute_reply.started": "2021-10-04T22:54:18.001054Z"
    }
   },
   "outputs": [],
   "source": [
    "from fuzzywuzzy import fuzz\n",
    "\n",
    "\n",
    "# In[24]:\n",
    "\n",
    "\n",
    "def fuzzy_matching(mapper, fav_book, verbose=True):\n",
    "    \"\"\"\n",
    "    return the closest match via fuzzy ratio. \n",
    "    \n",
    "    Parameters\n",
    "    ----------    \n",
    "    mapper: dict, map movie title name to index of the movie in data\n",
    "    fav_movie: str, name of user input movie\n",
    "    \n",
    "    verbose: bool, print log if True\n",
    "    Return\n",
    "    ------\n",
    "    index of the closest match\n",
    "    \"\"\"\n",
    "    match_tuple = []\n",
    "    # get match\n",
    "    for title, idx in mapper.items():\n",
    "        ratio = fuzz.ratio(title.lower(), fav_book.lower())\n",
    "        if ratio >= 60:\n",
    "            match_tuple.append((title, idx, ratio))\n",
    "    # sort\n",
    "    match_tuple = sorted(match_tuple, key=lambda x: x[2])[::-1]\n",
    "    if not match_tuple:\n",
    "        print('Oops! No match is found')\n",
    "        return\n",
    "    if verbose:\n",
    "        print('Found possible matches in our database: {0}\\n'.format([x[0] for x in match_tuple]))\n",
    "    return match_tuple[0][1]"
   ]
  },
  {
   "cell_type": "code",
   "execution_count": 36,
   "metadata": {
    "execution": {
     "iopub.execute_input": "2021-10-04T23:01:16.118242Z",
     "iopub.status.busy": "2021-10-04T23:01:16.117882Z",
     "iopub.status.idle": "2021-10-04T23:01:16.195536Z",
     "shell.execute_reply": "2021-10-04T23:01:16.194288Z",
     "shell.execute_reply.started": "2021-10-04T23:01:16.118210Z"
    }
   },
   "outputs": [],
   "source": [
    "books_col = books[['book_id', 'original_title']].dropna()\n",
    "\n",
    "my_favorite = 'To Kill a Mockingbird'\n",
    "indices = pd.Series(books_col.index, index=books_col['original_title'])\n",
    "fuzzy_matching(mapper= indices, fav_book= my_favorite, verbose=True)"
   ]
  },
  {
   "cell_type": "code",
   "execution_count": 37,
   "metadata": {
    "execution": {
     "iopub.execute_input": "2021-10-04T23:03:00.476065Z",
     "iopub.status.busy": "2021-10-04T23:03:00.475739Z",
     "iopub.status.idle": "2021-10-04T23:03:00.487354Z",
     "shell.execute_reply": "2021-10-04T23:03:00.486424Z",
     "shell.execute_reply.started": "2021-10-04T23:03:00.476033Z"
    }
   },
   "outputs": [],
   "source": [
    "def make_recommendation(model_knn, data, mapper, fav_book, n_recommendations):\n",
    "    \"\"\"\n",
    "    return top n similar book recommendations based on user's input book\n",
    "    Parameters\n",
    "    ----------\n",
    "    model_knn: sklearn model, knn model\n",
    "    data: book-user matrix\n",
    "    mapper: dict, map book title name to index of the book in data\n",
    "    fav_book: str, name of user input book\n",
    "    n_recommendations: int, top n recommendations\n",
    "    Return\n",
    "    ------\n",
    "    list of top n similar book recommendations\n",
    "    \"\"\"\n",
    "    # fit\n",
    "    model_knn.fit(data)\n",
    "    # get input movie index\n",
    "    print('You have input book:', fav_book)\n",
    "    idx = fuzzy_matching(mapper, fav_book, verbose=True)\n",
    "    \n",
    "    print('Recommendation system starting to make inference')\n",
    "    print('......\\n')\n",
    "    distances, indices = model_knn.kneighbors(data[idx], n_neighbors=n_recommendations+1)\n",
    "    \n",
    "    raw_recommends = sorted(list(zip(indices.squeeze().tolist(), distances.squeeze().tolist())), key=lambda x: x[1])[:0:-1]\n",
    "    # get reverse mapper\n",
    "    reverse_mapper = {v: k for k, v in mapper.items()}\n",
    "    # print recommendations\n",
    "    print('Recommendations for {}:'.format(fav_book))\n",
    "    rec=[]\n",
    "    for i, (idx, dist) in enumerate(raw_recommends):\n",
    "        if idx not in reverse_mapper.keys():\n",
    "            continue\n",
    "        print('{0}: {1}, with distance of {2}'.format(i+1, reverse_mapper[idx], dist))\n",
    "        rec.append(reverse_mapper[idx])\n",
    "    return rec"
   ]
  },
  {
   "cell_type": "code",
   "execution_count": 38,
   "metadata": {
    "execution": {
     "iopub.execute_input": "2021-10-04T23:03:16.602816Z",
     "iopub.status.busy": "2021-10-04T23:03:16.602515Z",
     "iopub.status.idle": "2021-10-04T23:03:16.790697Z",
     "shell.execute_reply": "2021-10-04T23:03:16.789612Z",
     "shell.execute_reply.started": "2021-10-04T23:03:16.602784Z"
    }
   },
   "outputs": [],
   "source": [
    "my_favorite = 'To Kill a Mockingbird'\n",
    "indices = pd.Series(books_col.index, index=books_col['original_title'])\n",
    "make_recommendation(\n",
    "    model_knn=model_knn,\n",
    "    data=book_user_mat_sparse,\n",
    "    fav_book=my_favorite,\n",
    "    mapper=indices,\n",
    "    n_recommendations=10)"
   ]
  }
 ],
 "metadata": {
  "kernelspec": {
   "display_name": "Python 3",
   "language": "python",
   "name": "python3"
  },
  "language_info": {
   "codemirror_mode": {
    "name": "ipython",
    "version": 3
   },
   "file_extension": ".py",
   "mimetype": "text/x-python",
   "name": "python",
   "nbconvert_exporter": "python",
   "pygments_lexer": "ipython3",
   "version": "3.8.8"
  }
 },
 "nbformat": 4,
 "nbformat_minor": 4
}
