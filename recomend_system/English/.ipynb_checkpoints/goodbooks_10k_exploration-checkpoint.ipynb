{
 "cells": [
  {
   "cell_type": "code",
   "execution_count": 104,
   "id": "c87d6ffb",
   "metadata": {},
   "outputs": [
    {
     "name": "stdout",
     "output_type": "stream",
     "text": [
      "2.5.0\n"
     ]
    }
   ],
   "source": [
    "import pandas as pd\n",
    "import numpy as np\n",
    "import io\n",
    "import os\n",
    "import re\n",
    "import tensorflow as tf\n",
    "from pandasql import sqldf\n",
    "from sklearn.model_selection import train_test_split\n",
    "from scipy.sparse import coo_matrix\n",
    "root_path = 'C:\\\\Users\\\\luoyan011\\\\Desktop\\\\PersonalLearning\\\\GitHub\\\\NLP_data\\\\goodbooks'\n",
    "\n",
    "print(tf.__version__)\n",
    "pysqldf = lambda q: sqldf(q, globals())"
   ]
  },
  {
   "cell_type": "markdown",
   "id": "d04b97fe",
   "metadata": {},
   "source": [
    "**Reference**\n",
    "\n",
    "[Learn about collaborative filtering and weighted alternatng least square with tensorflow](https://fairyonice.github.io/Learn-about-collaborative-filtering-and-weighted-alternating-least-square-with-tensorflow.html)"
   ]
  },
  {
   "cell_type": "code",
   "execution_count": 53,
   "id": "9c8ac35f",
   "metadata": {},
   "outputs": [],
   "source": [
    "book_tags = pd.read_csv(os.path.join(root_path, \"book_tags.csv\"))\n",
    "books = pd.read_csv(os.path.join(root_path, \"books.csv\"))\n",
    "ratings = pd.read_csv(os.path.join(root_path, \"ratings.csv\"))\n",
    "tags = pd.read_csv(os.path.join(root_path, \"tags.csv\"))\n",
    "to_read = pd.read_csv(os.path.join(root_path, \"to_read.csv\"))"
   ]
  },
  {
   "cell_type": "code",
   "execution_count": 54,
   "id": "dc6f0b55",
   "metadata": {},
   "outputs": [],
   "source": [
    "def change_id_from_0(data, column):\n",
    "    data_copy = data.copy()\n",
    "    for i in column:\n",
    "        data_copy[i] = data_copy[i] - 1\n",
    "    return data_copy\n",
    "\n",
    "book_tags = change_id_from_0(book_tags, ['goodreads_book_id'])\n",
    "books = change_id_from_0(books, ['id'])\n",
    "ratings = change_id_from_0(ratings, ['book_id','user_id'])\n",
    "to_read = change_id_from_0(to_read, ['book_id','user_id'])\n",
    "        "
   ]
  },
  {
   "cell_type": "code",
   "execution_count": 55,
   "id": "ae0f8acd",
   "metadata": {},
   "outputs": [
    {
     "name": "stdout",
     "output_type": "stream",
     "text": [
      "--------------book_tags--------------\n"
     ]
    },
    {
     "data": {
      "text/html": [
       "<div>\n",
       "<style scoped>\n",
       "    .dataframe tbody tr th:only-of-type {\n",
       "        vertical-align: middle;\n",
       "    }\n",
       "\n",
       "    .dataframe tbody tr th {\n",
       "        vertical-align: top;\n",
       "    }\n",
       "\n",
       "    .dataframe thead th {\n",
       "        text-align: right;\n",
       "    }\n",
       "</style>\n",
       "<table border=\"1\" class=\"dataframe\">\n",
       "  <thead>\n",
       "    <tr style=\"text-align: right;\">\n",
       "      <th></th>\n",
       "      <th>goodreads_book_id</th>\n",
       "      <th>tag_id</th>\n",
       "      <th>count</th>\n",
       "    </tr>\n",
       "  </thead>\n",
       "  <tbody>\n",
       "    <tr>\n",
       "      <th>0</th>\n",
       "      <td>0</td>\n",
       "      <td>30574</td>\n",
       "      <td>167697</td>\n",
       "    </tr>\n",
       "    <tr>\n",
       "      <th>1</th>\n",
       "      <td>0</td>\n",
       "      <td>11305</td>\n",
       "      <td>37174</td>\n",
       "    </tr>\n",
       "    <tr>\n",
       "      <th>2</th>\n",
       "      <td>0</td>\n",
       "      <td>11557</td>\n",
       "      <td>34173</td>\n",
       "    </tr>\n",
       "  </tbody>\n",
       "</table>\n",
       "</div>"
      ],
      "text/plain": [
       "   goodreads_book_id  tag_id   count\n",
       "0                  0   30574  167697\n",
       "1                  0   11305   37174\n",
       "2                  0   11557   34173"
      ]
     },
     "metadata": {},
     "output_type": "display_data"
    },
    {
     "name": "stdout",
     "output_type": "stream",
     "text": [
      "--------------books--------------\n"
     ]
    },
    {
     "data": {
      "text/html": [
       "<div>\n",
       "<style scoped>\n",
       "    .dataframe tbody tr th:only-of-type {\n",
       "        vertical-align: middle;\n",
       "    }\n",
       "\n",
       "    .dataframe tbody tr th {\n",
       "        vertical-align: top;\n",
       "    }\n",
       "\n",
       "    .dataframe thead th {\n",
       "        text-align: right;\n",
       "    }\n",
       "</style>\n",
       "<table border=\"1\" class=\"dataframe\">\n",
       "  <thead>\n",
       "    <tr style=\"text-align: right;\">\n",
       "      <th></th>\n",
       "      <th>id</th>\n",
       "      <th>book_id</th>\n",
       "      <th>best_book_id</th>\n",
       "      <th>work_id</th>\n",
       "      <th>books_count</th>\n",
       "      <th>isbn</th>\n",
       "      <th>isbn13</th>\n",
       "      <th>authors</th>\n",
       "      <th>original_publication_year</th>\n",
       "      <th>original_title</th>\n",
       "      <th>...</th>\n",
       "      <th>ratings_count</th>\n",
       "      <th>work_ratings_count</th>\n",
       "      <th>work_text_reviews_count</th>\n",
       "      <th>ratings_1</th>\n",
       "      <th>ratings_2</th>\n",
       "      <th>ratings_3</th>\n",
       "      <th>ratings_4</th>\n",
       "      <th>ratings_5</th>\n",
       "      <th>image_url</th>\n",
       "      <th>small_image_url</th>\n",
       "    </tr>\n",
       "  </thead>\n",
       "  <tbody>\n",
       "    <tr>\n",
       "      <th>0</th>\n",
       "      <td>0</td>\n",
       "      <td>2767052</td>\n",
       "      <td>2767052</td>\n",
       "      <td>2792775</td>\n",
       "      <td>272</td>\n",
       "      <td>439023483</td>\n",
       "      <td>9.780439e+12</td>\n",
       "      <td>Suzanne Collins</td>\n",
       "      <td>2008.0</td>\n",
       "      <td>The Hunger Games</td>\n",
       "      <td>...</td>\n",
       "      <td>4780653</td>\n",
       "      <td>4942365</td>\n",
       "      <td>155254</td>\n",
       "      <td>66715</td>\n",
       "      <td>127936</td>\n",
       "      <td>560092</td>\n",
       "      <td>1481305</td>\n",
       "      <td>2706317</td>\n",
       "      <td>https://images.gr-assets.com/books/1447303603m...</td>\n",
       "      <td>https://images.gr-assets.com/books/1447303603s...</td>\n",
       "    </tr>\n",
       "    <tr>\n",
       "      <th>1</th>\n",
       "      <td>1</td>\n",
       "      <td>3</td>\n",
       "      <td>3</td>\n",
       "      <td>4640799</td>\n",
       "      <td>491</td>\n",
       "      <td>439554934</td>\n",
       "      <td>9.780440e+12</td>\n",
       "      <td>J.K. Rowling, Mary GrandPré</td>\n",
       "      <td>1997.0</td>\n",
       "      <td>Harry Potter and the Philosopher's Stone</td>\n",
       "      <td>...</td>\n",
       "      <td>4602479</td>\n",
       "      <td>4800065</td>\n",
       "      <td>75867</td>\n",
       "      <td>75504</td>\n",
       "      <td>101676</td>\n",
       "      <td>455024</td>\n",
       "      <td>1156318</td>\n",
       "      <td>3011543</td>\n",
       "      <td>https://images.gr-assets.com/books/1474154022m...</td>\n",
       "      <td>https://images.gr-assets.com/books/1474154022s...</td>\n",
       "    </tr>\n",
       "    <tr>\n",
       "      <th>2</th>\n",
       "      <td>2</td>\n",
       "      <td>41865</td>\n",
       "      <td>41865</td>\n",
       "      <td>3212258</td>\n",
       "      <td>226</td>\n",
       "      <td>316015849</td>\n",
       "      <td>9.780316e+12</td>\n",
       "      <td>Stephenie Meyer</td>\n",
       "      <td>2005.0</td>\n",
       "      <td>Twilight</td>\n",
       "      <td>...</td>\n",
       "      <td>3866839</td>\n",
       "      <td>3916824</td>\n",
       "      <td>95009</td>\n",
       "      <td>456191</td>\n",
       "      <td>436802</td>\n",
       "      <td>793319</td>\n",
       "      <td>875073</td>\n",
       "      <td>1355439</td>\n",
       "      <td>https://images.gr-assets.com/books/1361039443m...</td>\n",
       "      <td>https://images.gr-assets.com/books/1361039443s...</td>\n",
       "    </tr>\n",
       "  </tbody>\n",
       "</table>\n",
       "<p>3 rows × 23 columns</p>\n",
       "</div>"
      ],
      "text/plain": [
       "   id  book_id  best_book_id  work_id  books_count       isbn        isbn13  \\\n",
       "0   0  2767052       2767052  2792775          272  439023483  9.780439e+12   \n",
       "1   1        3             3  4640799          491  439554934  9.780440e+12   \n",
       "2   2    41865         41865  3212258          226  316015849  9.780316e+12   \n",
       "\n",
       "                       authors  original_publication_year  \\\n",
       "0              Suzanne Collins                     2008.0   \n",
       "1  J.K. Rowling, Mary GrandPré                     1997.0   \n",
       "2              Stephenie Meyer                     2005.0   \n",
       "\n",
       "                             original_title  ... ratings_count  \\\n",
       "0                          The Hunger Games  ...       4780653   \n",
       "1  Harry Potter and the Philosopher's Stone  ...       4602479   \n",
       "2                                  Twilight  ...       3866839   \n",
       "\n",
       "  work_ratings_count  work_text_reviews_count  ratings_1  ratings_2  \\\n",
       "0            4942365                   155254      66715     127936   \n",
       "1            4800065                    75867      75504     101676   \n",
       "2            3916824                    95009     456191     436802   \n",
       "\n",
       "   ratings_3  ratings_4  ratings_5  \\\n",
       "0     560092    1481305    2706317   \n",
       "1     455024    1156318    3011543   \n",
       "2     793319     875073    1355439   \n",
       "\n",
       "                                           image_url  \\\n",
       "0  https://images.gr-assets.com/books/1447303603m...   \n",
       "1  https://images.gr-assets.com/books/1474154022m...   \n",
       "2  https://images.gr-assets.com/books/1361039443m...   \n",
       "\n",
       "                                     small_image_url  \n",
       "0  https://images.gr-assets.com/books/1447303603s...  \n",
       "1  https://images.gr-assets.com/books/1474154022s...  \n",
       "2  https://images.gr-assets.com/books/1361039443s...  \n",
       "\n",
       "[3 rows x 23 columns]"
      ]
     },
     "metadata": {},
     "output_type": "display_data"
    },
    {
     "name": "stdout",
     "output_type": "stream",
     "text": [
      "--------------ratings--------------\n"
     ]
    },
    {
     "data": {
      "text/html": [
       "<div>\n",
       "<style scoped>\n",
       "    .dataframe tbody tr th:only-of-type {\n",
       "        vertical-align: middle;\n",
       "    }\n",
       "\n",
       "    .dataframe tbody tr th {\n",
       "        vertical-align: top;\n",
       "    }\n",
       "\n",
       "    .dataframe thead th {\n",
       "        text-align: right;\n",
       "    }\n",
       "</style>\n",
       "<table border=\"1\" class=\"dataframe\">\n",
       "  <thead>\n",
       "    <tr style=\"text-align: right;\">\n",
       "      <th></th>\n",
       "      <th>book_id</th>\n",
       "      <th>user_id</th>\n",
       "      <th>rating</th>\n",
       "    </tr>\n",
       "  </thead>\n",
       "  <tbody>\n",
       "    <tr>\n",
       "      <th>0</th>\n",
       "      <td>0</td>\n",
       "      <td>313</td>\n",
       "      <td>5</td>\n",
       "    </tr>\n",
       "    <tr>\n",
       "      <th>1</th>\n",
       "      <td>0</td>\n",
       "      <td>438</td>\n",
       "      <td>3</td>\n",
       "    </tr>\n",
       "    <tr>\n",
       "      <th>2</th>\n",
       "      <td>0</td>\n",
       "      <td>587</td>\n",
       "      <td>5</td>\n",
       "    </tr>\n",
       "  </tbody>\n",
       "</table>\n",
       "</div>"
      ],
      "text/plain": [
       "   book_id  user_id  rating\n",
       "0        0      313       5\n",
       "1        0      438       3\n",
       "2        0      587       5"
      ]
     },
     "metadata": {},
     "output_type": "display_data"
    },
    {
     "name": "stdout",
     "output_type": "stream",
     "text": [
      "--------------tags--------------\n"
     ]
    },
    {
     "data": {
      "text/html": [
       "<div>\n",
       "<style scoped>\n",
       "    .dataframe tbody tr th:only-of-type {\n",
       "        vertical-align: middle;\n",
       "    }\n",
       "\n",
       "    .dataframe tbody tr th {\n",
       "        vertical-align: top;\n",
       "    }\n",
       "\n",
       "    .dataframe thead th {\n",
       "        text-align: right;\n",
       "    }\n",
       "</style>\n",
       "<table border=\"1\" class=\"dataframe\">\n",
       "  <thead>\n",
       "    <tr style=\"text-align: right;\">\n",
       "      <th></th>\n",
       "      <th>tag_id</th>\n",
       "      <th>tag_name</th>\n",
       "    </tr>\n",
       "  </thead>\n",
       "  <tbody>\n",
       "    <tr>\n",
       "      <th>0</th>\n",
       "      <td>0</td>\n",
       "      <td>-</td>\n",
       "    </tr>\n",
       "    <tr>\n",
       "      <th>1</th>\n",
       "      <td>1</td>\n",
       "      <td>--1-</td>\n",
       "    </tr>\n",
       "    <tr>\n",
       "      <th>2</th>\n",
       "      <td>2</td>\n",
       "      <td>--10-</td>\n",
       "    </tr>\n",
       "  </tbody>\n",
       "</table>\n",
       "</div>"
      ],
      "text/plain": [
       "   tag_id tag_name\n",
       "0       0        -\n",
       "1       1     --1-\n",
       "2       2    --10-"
      ]
     },
     "metadata": {},
     "output_type": "display_data"
    },
    {
     "name": "stdout",
     "output_type": "stream",
     "text": [
      "--------------to_read--------------\n"
     ]
    },
    {
     "data": {
      "text/html": [
       "<div>\n",
       "<style scoped>\n",
       "    .dataframe tbody tr th:only-of-type {\n",
       "        vertical-align: middle;\n",
       "    }\n",
       "\n",
       "    .dataframe tbody tr th {\n",
       "        vertical-align: top;\n",
       "    }\n",
       "\n",
       "    .dataframe thead th {\n",
       "        text-align: right;\n",
       "    }\n",
       "</style>\n",
       "<table border=\"1\" class=\"dataframe\">\n",
       "  <thead>\n",
       "    <tr style=\"text-align: right;\">\n",
       "      <th></th>\n",
       "      <th>user_id</th>\n",
       "      <th>book_id</th>\n",
       "    </tr>\n",
       "  </thead>\n",
       "  <tbody>\n",
       "    <tr>\n",
       "      <th>0</th>\n",
       "      <td>0</td>\n",
       "      <td>111</td>\n",
       "    </tr>\n",
       "    <tr>\n",
       "      <th>1</th>\n",
       "      <td>0</td>\n",
       "      <td>234</td>\n",
       "    </tr>\n",
       "    <tr>\n",
       "      <th>2</th>\n",
       "      <td>0</td>\n",
       "      <td>532</td>\n",
       "    </tr>\n",
       "  </tbody>\n",
       "</table>\n",
       "</div>"
      ],
      "text/plain": [
       "   user_id  book_id\n",
       "0        0      111\n",
       "1        0      234\n",
       "2        0      532"
      ]
     },
     "metadata": {},
     "output_type": "display_data"
    }
   ],
   "source": [
    "print('--------------book_tags--------------')\n",
    "display(book_tags.head(3))\n",
    "print('--------------books--------------')\n",
    "display(books.head(3))\n",
    "print('--------------ratings--------------')\n",
    "display(ratings.head(3))\n",
    "print('--------------tags--------------')\n",
    "display(tags.head(3))\n",
    "print('--------------to_read--------------')\n",
    "display(to_read.head(3))"
   ]
  },
  {
   "cell_type": "code",
   "execution_count": 17,
   "id": "834856d7",
   "metadata": {},
   "outputs": [
    {
     "data": {
      "text/html": [
       "<div>\n",
       "<style scoped>\n",
       "    .dataframe tbody tr th:only-of-type {\n",
       "        vertical-align: middle;\n",
       "    }\n",
       "\n",
       "    .dataframe tbody tr th {\n",
       "        vertical-align: top;\n",
       "    }\n",
       "\n",
       "    .dataframe thead th {\n",
       "        text-align: right;\n",
       "    }\n",
       "</style>\n",
       "<table border=\"1\" class=\"dataframe\">\n",
       "  <thead>\n",
       "    <tr style=\"text-align: right;\">\n",
       "      <th></th>\n",
       "      <th>book_id</th>\n",
       "      <th>user_id</th>\n",
       "      <th>rating</th>\n",
       "      <th>original_title</th>\n",
       "      <th>authors</th>\n",
       "    </tr>\n",
       "  </thead>\n",
       "  <tbody>\n",
       "    <tr>\n",
       "      <th>0</th>\n",
       "      <td>1</td>\n",
       "      <td>314</td>\n",
       "      <td>5</td>\n",
       "      <td>Harry Potter and the Half-Blood Prince</td>\n",
       "      <td>J.K. Rowling, Mary GrandPré</td>\n",
       "    </tr>\n",
       "    <tr>\n",
       "      <th>1</th>\n",
       "      <td>1</td>\n",
       "      <td>439</td>\n",
       "      <td>3</td>\n",
       "      <td>Harry Potter and the Half-Blood Prince</td>\n",
       "      <td>J.K. Rowling, Mary GrandPré</td>\n",
       "    </tr>\n",
       "    <tr>\n",
       "      <th>2</th>\n",
       "      <td>1</td>\n",
       "      <td>588</td>\n",
       "      <td>5</td>\n",
       "      <td>Harry Potter and the Half-Blood Prince</td>\n",
       "      <td>J.K. Rowling, Mary GrandPré</td>\n",
       "    </tr>\n",
       "  </tbody>\n",
       "</table>\n",
       "</div>"
      ],
      "text/plain": [
       "   book_id  user_id  rating                          original_title  \\\n",
       "0        1      314       5  Harry Potter and the Half-Blood Prince   \n",
       "1        1      439       3  Harry Potter and the Half-Blood Prince   \n",
       "2        1      588       5  Harry Potter and the Half-Blood Prince   \n",
       "\n",
       "                       authors  \n",
       "0  J.K. Rowling, Mary GrandPré  \n",
       "1  J.K. Rowling, Mary GrandPré  \n",
       "2  J.K. Rowling, Mary GrandPré  "
      ]
     },
     "execution_count": 17,
     "metadata": {},
     "output_type": "execute_result"
    }
   ],
   "source": [
    "query = \"\"\"\n",
    "select A.*\n",
    "    , B.original_title\n",
    "    , B.authors\n",
    "\n",
    "from ratings A\n",
    "left join books B on A.book_id = B.book_id\n",
    "\"\"\"\n",
    "test = pysqldf(query)\n",
    "test.head(3)"
   ]
  },
  {
   "cell_type": "markdown",
   "id": "f13bbf01",
   "metadata": {},
   "source": [
    "## Collaborative Filtering\n",
    "### Split Training/Testing"
   ]
  },
  {
   "cell_type": "code",
   "execution_count": 18,
   "id": "166dd27c",
   "metadata": {},
   "outputs": [
    {
     "data": {
      "text/html": [
       "<div>\n",
       "<style scoped>\n",
       "    .dataframe tbody tr th:only-of-type {\n",
       "        vertical-align: middle;\n",
       "    }\n",
       "\n",
       "    .dataframe tbody tr th {\n",
       "        vertical-align: top;\n",
       "    }\n",
       "\n",
       "    .dataframe thead th {\n",
       "        text-align: right;\n",
       "    }\n",
       "</style>\n",
       "<table border=\"1\" class=\"dataframe\">\n",
       "  <thead>\n",
       "    <tr style=\"text-align: right;\">\n",
       "      <th></th>\n",
       "      <th>book_id</th>\n",
       "      <th>user_id</th>\n",
       "      <th>rating</th>\n",
       "    </tr>\n",
       "  </thead>\n",
       "  <tbody>\n",
       "    <tr>\n",
       "      <th>count</th>\n",
       "      <td>981756.000000</td>\n",
       "      <td>981756.000000</td>\n",
       "      <td>981756.000000</td>\n",
       "    </tr>\n",
       "    <tr>\n",
       "      <th>mean</th>\n",
       "      <td>4943.275636</td>\n",
       "      <td>25616.759933</td>\n",
       "      <td>3.856534</td>\n",
       "    </tr>\n",
       "    <tr>\n",
       "      <th>std</th>\n",
       "      <td>2873.207415</td>\n",
       "      <td>15228.338826</td>\n",
       "      <td>0.983941</td>\n",
       "    </tr>\n",
       "    <tr>\n",
       "      <th>min</th>\n",
       "      <td>1.000000</td>\n",
       "      <td>1.000000</td>\n",
       "      <td>1.000000</td>\n",
       "    </tr>\n",
       "    <tr>\n",
       "      <th>25%</th>\n",
       "      <td>2457.000000</td>\n",
       "      <td>12372.000000</td>\n",
       "      <td>3.000000</td>\n",
       "    </tr>\n",
       "    <tr>\n",
       "      <th>50%</th>\n",
       "      <td>4921.000000</td>\n",
       "      <td>25077.000000</td>\n",
       "      <td>4.000000</td>\n",
       "    </tr>\n",
       "    <tr>\n",
       "      <th>75%</th>\n",
       "      <td>7414.000000</td>\n",
       "      <td>38572.000000</td>\n",
       "      <td>5.000000</td>\n",
       "    </tr>\n",
       "    <tr>\n",
       "      <th>max</th>\n",
       "      <td>10000.000000</td>\n",
       "      <td>53424.000000</td>\n",
       "      <td>5.000000</td>\n",
       "    </tr>\n",
       "  </tbody>\n",
       "</table>\n",
       "</div>"
      ],
      "text/plain": [
       "             book_id        user_id         rating\n",
       "count  981756.000000  981756.000000  981756.000000\n",
       "mean     4943.275636   25616.759933       3.856534\n",
       "std      2873.207415   15228.338826       0.983941\n",
       "min         1.000000       1.000000       1.000000\n",
       "25%      2457.000000   12372.000000       3.000000\n",
       "50%      4921.000000   25077.000000       4.000000\n",
       "75%      7414.000000   38572.000000       5.000000\n",
       "max     10000.000000   53424.000000       5.000000"
      ]
     },
     "execution_count": 18,
     "metadata": {},
     "output_type": "execute_result"
    }
   ],
   "source": [
    "stats = ratings.describe()\n",
    "stats"
   ]
  },
  {
   "cell_type": "code",
   "execution_count": 88,
   "id": "40378e9c",
   "metadata": {},
   "outputs": [],
   "source": [
    "def create_sparse_train_test(dataset, n_users, n_items, test_set_ratio = 0.1, seed=1):\n",
    "    train_set, test_set = train_test_split(dataset, test_size = test_set_ratio, random_state = seed)\n",
    "    test_set = test_set.values\n",
    "    train_set = train_set.values\n",
    "    \n",
    "    i_tr, u_tr, r_tr = zip(*train_set)\n",
    "    tr_sparse = coo_matrix((r_tr, (u_tr, i_tr)), shape = (n_users, n_items))\n",
    "    \n",
    "    i_ts, u_ts, r_ts = zip(*test_set)\n",
    "    ts_sparse = coo_matrix((r_ts, (u_ts, i_ts)), shape = (n_users, n_items))\n",
    "    \n",
    "    return tr_sparse, ts_sparse"
   ]
  },
  {
   "cell_type": "code",
   "execution_count": 89,
   "id": "9b0bd3b4",
   "metadata": {},
   "outputs": [],
   "source": [
    "tr_sparse, ts_sparse = create_sparse_train_test(ratings, len(ratings.user_id.unique()), len(ratings.book_id.unique()))"
   ]
  },
  {
   "cell_type": "code",
   "execution_count": 91,
   "id": "fa925c94",
   "metadata": {},
   "outputs": [
    {
     "name": "stdout",
     "output_type": "stream",
     "text": [
      "sparse matrix dimension: (53424, 10000) (883580,) (883580,) 1\n",
      "sparse matrix dimension: (53424, 10000) (98176,) (98176,)\n"
     ]
    }
   ],
   "source": [
    "print(\"sparse matrix dimension:\",tr_sparse.shape,tr_sparse.row.shape,tr_sparse.col.shape,tr_sparse.data.min())\n",
    "print(\"sparse matrix dimension:\",ts_sparse.shape,ts_sparse.row.shape,ts_sparse.col.shape)"
   ]
  },
  {
   "cell_type": "code",
   "execution_count": 23,
   "id": "c4da6b4d",
   "metadata": {},
   "outputs": [
    {
     "name": "stdout",
     "output_type": "stream",
     "text": [
      "10000 items, 53424 users, 981756 interactions\n"
     ]
    }
   ],
   "source": [
    "NITEMS = np.max(ratings.book_id)\n",
    "NUSERS = np.max(ratings.user_id)\n",
    "print('{} items, {} users, {} interactions'.format(NITEMS, NUSERS, len(ratings)))"
   ]
  },
  {
   "cell_type": "code",
   "execution_count": 106,
   "id": "1315a61e",
   "metadata": {},
   "outputs": [
    {
     "ename": "LinAlgError",
     "evalue": "0-dimensional array given. Array must be at least two-dimensional",
     "output_type": "error",
     "traceback": [
      "\u001b[1;31m---------------------------------------------------------------------------\u001b[0m",
      "\u001b[1;31mLinAlgError\u001b[0m                               Traceback (most recent call last)",
      "\u001b[1;32m<ipython-input-106-4c776d624858>\u001b[0m in \u001b[0;36m<module>\u001b[1;34m\u001b[0m\n\u001b[1;32m----> 1\u001b[1;33m \u001b[0mU\u001b[0m\u001b[1;33m,\u001b[0m \u001b[0mS\u001b[0m\u001b[1;33m,\u001b[0m \u001b[0mV\u001b[0m \u001b[1;33m=\u001b[0m \u001b[0mnp\u001b[0m\u001b[1;33m.\u001b[0m\u001b[0mlinalg\u001b[0m\u001b[1;33m.\u001b[0m\u001b[0msvd\u001b[0m\u001b[1;33m(\u001b[0m\u001b[0mts_sparse\u001b[0m\u001b[1;33m)\u001b[0m\u001b[1;33m\u001b[0m\u001b[1;33m\u001b[0m\u001b[0m\n\u001b[0m",
      "\u001b[1;32m<__array_function__ internals>\u001b[0m in \u001b[0;36msvd\u001b[1;34m(*args, **kwargs)\u001b[0m\n",
      "\u001b[1;32m~\\.conda\\envs\\nlp\\lib\\site-packages\\numpy\\linalg\\linalg.py\u001b[0m in \u001b[0;36msvd\u001b[1;34m(a, full_matrices, compute_uv, hermitian)\u001b[0m\n\u001b[0;32m   1640\u001b[0m             \u001b[1;32mreturn\u001b[0m \u001b[0msort\u001b[0m\u001b[1;33m(\u001b[0m\u001b[0ms\u001b[0m\u001b[1;33m)\u001b[0m\u001b[1;33m[\u001b[0m\u001b[1;33m...\u001b[0m\u001b[1;33m,\u001b[0m \u001b[1;33m:\u001b[0m\u001b[1;33m:\u001b[0m\u001b[1;33m-\u001b[0m\u001b[1;36m1\u001b[0m\u001b[1;33m]\u001b[0m\u001b[1;33m\u001b[0m\u001b[1;33m\u001b[0m\u001b[0m\n\u001b[0;32m   1641\u001b[0m \u001b[1;33m\u001b[0m\u001b[0m\n\u001b[1;32m-> 1642\u001b[1;33m     \u001b[0m_assert_stacked_2d\u001b[0m\u001b[1;33m(\u001b[0m\u001b[0ma\u001b[0m\u001b[1;33m)\u001b[0m\u001b[1;33m\u001b[0m\u001b[1;33m\u001b[0m\u001b[0m\n\u001b[0m\u001b[0;32m   1643\u001b[0m     \u001b[0mt\u001b[0m\u001b[1;33m,\u001b[0m \u001b[0mresult_t\u001b[0m \u001b[1;33m=\u001b[0m \u001b[0m_commonType\u001b[0m\u001b[1;33m(\u001b[0m\u001b[0ma\u001b[0m\u001b[1;33m)\u001b[0m\u001b[1;33m\u001b[0m\u001b[1;33m\u001b[0m\u001b[0m\n\u001b[0;32m   1644\u001b[0m \u001b[1;33m\u001b[0m\u001b[0m\n",
      "\u001b[1;32m~\\.conda\\envs\\nlp\\lib\\site-packages\\numpy\\linalg\\linalg.py\u001b[0m in \u001b[0;36m_assert_stacked_2d\u001b[1;34m(*arrays)\u001b[0m\n\u001b[0;32m    195\u001b[0m     \u001b[1;32mfor\u001b[0m \u001b[0ma\u001b[0m \u001b[1;32min\u001b[0m \u001b[0marrays\u001b[0m\u001b[1;33m:\u001b[0m\u001b[1;33m\u001b[0m\u001b[1;33m\u001b[0m\u001b[0m\n\u001b[0;32m    196\u001b[0m         \u001b[1;32mif\u001b[0m \u001b[0ma\u001b[0m\u001b[1;33m.\u001b[0m\u001b[0mndim\u001b[0m \u001b[1;33m<\u001b[0m \u001b[1;36m2\u001b[0m\u001b[1;33m:\u001b[0m\u001b[1;33m\u001b[0m\u001b[1;33m\u001b[0m\u001b[0m\n\u001b[1;32m--> 197\u001b[1;33m             raise LinAlgError('%d-dimensional array given. Array must be '\n\u001b[0m\u001b[0;32m    198\u001b[0m                     'at least two-dimensional' % a.ndim)\n\u001b[0;32m    199\u001b[0m \u001b[1;33m\u001b[0m\u001b[0m\n",
      "\u001b[1;31mLinAlgError\u001b[0m: 0-dimensional array given. Array must be at least two-dimensional"
     ]
    }
   ],
   "source": [
    "U, S, V = np.linalg.svd(ts_sparse)"
   ]
  },
  {
   "cell_type": "markdown",
   "id": "ae6ca23f",
   "metadata": {},
   "source": [
    "### Weighted Alternating Least Square Model\n",
    "#### Weight"
   ]
  },
  {
   "cell_type": "code",
   "execution_count": 95,
   "id": "f3596f4e",
   "metadata": {},
   "outputs": [],
   "source": [
    "def make_weights(data, wt_type, obs_wt, feature_wt_exp, axis):\n",
    "    \"\"\"\n",
    "    data: coo_matrix of ratings data\n",
    "    wt_type: weight type, LOG_RATINGS or LINEAR_RATINGS\n",
    "    obs_wt: linear weight factor\n",
    "    feature_wt_exp: logarithmic weight factor\n",
    "    axis: axis to make weights for, 1 = rows/users, 0 = cols/items\n",
    "    \"\"\"\n",
    "    assert wt_type in ['LOG_RATINGS','LINEAR_RATINGS']\n",
    "    frac = np.array(1.0 / (data > 0.0).sum(axis))\n",
    "    frac[np.ma.masked_invalid(frac).mask] = 0\n",
    "    \n",
    "    if wt_type == 'LOG_RATINGS':\n",
    "        wts = np.array(np.power(frac, feature_wt_exp)).flatten()\n",
    "    elif wt_type == 'LINEAR_RATINGS':\n",
    "        wts = np.array(obs_wt * frac).flatten()\n",
    "    \n",
    "    assert np.isfinite(wts).sum() == wts.shape[0]\n",
    "    return wts\n",
    "\n",
    "# Visualize Weight\n"
   ]
  },
  {
   "cell_type": "markdown",
   "id": "b3f73528",
   "metadata": {},
   "source": [
    "LINEAR RATINGS seems to put more weights on those items that are rated only a few times in comparisons to LOG RATINGS."
   ]
  },
  {
   "cell_type": "code",
   "execution_count": 97,
   "id": "b9567b4e",
   "metadata": {},
   "outputs": [
    {
     "name": "stdout",
     "output_type": "stream",
     "text": [
      "(10000,)\n"
     ]
    },
    {
     "data": {
      "image/png": "[encoded data removed]",
      "text/plain": [
       "<Figure size 720x216 with 2 Axes>"
      ]
     },
     "metadata": {
      "needs_background": "light"
     },
     "output_type": "display_data"
    },
    {
     "data": {
      "image/png": "[encoded data removed]",
      "text/plain": [
       "<Figure size 720x216 with 2 Axes>"
      ]
     },
     "metadata": {
      "needs_background": "light"
     },
     "output_type": "display_data"
    }
   ],
   "source": [
    "import matplotlib.pyplot as plt\n",
    "n_nonzero_items = np.array((tr_sparse > 0).sum(axis=0)).squeeze()\n",
    "print(n_nonzero_items.shape)\n",
    "\n",
    "def plot(col_wt,n_nonzero_items,title):\n",
    "    fig, ax = plt.subplots(1,2,figsize=(10,3))\n",
    "    ax[0].plot(col_wt,\"p\")\n",
    "    ax[0].set_xlabel(\"item index\")\n",
    "    ax[0].set_ylabel(\"weights\")\n",
    "    ax[1].plot(n_nonzero_items,col_wt,\"p\")\n",
    "    ax[1].set_xlabel(\"tot N of rating / item\")\n",
    "    ax[1].set_ylabel(\"weights\")\n",
    "    plt.suptitle(title)\n",
    "    plt.show()\n",
    "    \n",
    "for wt_type in [\"LOG_RATINGS\",\"LINEAR_RATINGS\"]:    \n",
    "    col_wt = make_weights(tr_sparse, wt_type, obs_wt=189.8, feature_wt_exp=0.008, axis=0)\n",
    "    plot(col_wt,n_nonzero_items,title=wt_type)"
   ]
  },
  {
   "cell_type": "code",
   "execution_count": 102,
   "id": "41044150",
   "metadata": {},
   "outputs": [
    {
     "ename": "ModuleNotFoundError",
     "evalue": "No module named 'tensorflow.contrib'",
     "output_type": "error",
     "traceback": [
      "\u001b[1;31m---------------------------------------------------------------------------\u001b[0m",
      "\u001b[1;31mModuleNotFoundError\u001b[0m                       Traceback (most recent call last)",
      "\u001b[1;32m<ipython-input-102-c7317717ae5a>\u001b[0m in \u001b[0;36m<module>\u001b[1;34m\u001b[0m\n\u001b[1;32m----> 1\u001b[1;33m \u001b[1;32mfrom\u001b[0m \u001b[0mtensorflow\u001b[0m\u001b[1;33m.\u001b[0m\u001b[0mcontrib\u001b[0m\u001b[1;33m.\u001b[0m\u001b[0mfactorization\u001b[0m\u001b[1;33m.\u001b[0m\u001b[0mpython\u001b[0m\u001b[1;33m.\u001b[0m\u001b[0mops\u001b[0m \u001b[1;32mimport\u001b[0m \u001b[0mfactorization_ops\u001b[0m\u001b[1;33m\u001b[0m\u001b[1;33m\u001b[0m\u001b[0m\n\u001b[0m\u001b[0;32m      2\u001b[0m \u001b[1;32mdef\u001b[0m \u001b[0mdefine_graph\u001b[0m\u001b[1;33m(\u001b[0m\u001b[0mdata\u001b[0m\u001b[1;33m,\u001b[0m\u001b[0mPARAMS\u001b[0m\u001b[1;33m)\u001b[0m\u001b[1;33m:\u001b[0m\u001b[1;33m\u001b[0m\u001b[1;33m\u001b[0m\u001b[0m\n\u001b[0;32m      3\u001b[0m     \u001b[0mgraph\u001b[0m \u001b[1;33m=\u001b[0m \u001b[0mtf\u001b[0m\u001b[1;33m.\u001b[0m\u001b[0mGraph\u001b[0m\u001b[1;33m(\u001b[0m\u001b[1;33m)\u001b[0m\u001b[1;33m\u001b[0m\u001b[1;33m\u001b[0m\u001b[0m\n\u001b[0;32m      4\u001b[0m     \u001b[1;32mwith\u001b[0m \u001b[0mgraph\u001b[0m\u001b[1;33m.\u001b[0m\u001b[0mas_default\u001b[0m\u001b[1;33m(\u001b[0m\u001b[1;33m)\u001b[0m\u001b[1;33m:\u001b[0m\u001b[1;33m\u001b[0m\u001b[1;33m\u001b[0m\u001b[0m\n\u001b[0;32m      5\u001b[0m \u001b[1;33m\u001b[0m\u001b[0m\n",
      "\u001b[1;31mModuleNotFoundError\u001b[0m: No module named 'tensorflow.contrib'"
     ]
    }
   ],
   "source": [
    "from tensorflow.contrib.factorization.python.ops import factorization_ops\n",
    "def define_graph(data,PARAMS):\n",
    "    graph = tf.Graph()\n",
    "    with graph.as_default():\n",
    "\n",
    "        input_tensor = tf.SparseTensor(indices=np.array([data.row, data.col]).T,\n",
    "                                       values=(data.data).astype(np.float32),\n",
    "                                       dense_shape=data.shape)\n",
    "\n",
    "\n",
    "        row_wts = None\n",
    "        col_wts = None\n",
    "        num_rows = data.shape[0]\n",
    "        num_cols = data.shape[1]\n",
    "\n",
    "        # initialize the weights \n",
    "        if PARAMS[\"wt_type\"] in [\"LOG_RATINGS\",\"LINEAR_RATINGS\"]:\n",
    "            row_wts = np.ones(num_rows)\n",
    "            col_wts = make_wts(data, \n",
    "                               PARAMS[\"wt_type\"], \n",
    "                               PARAMS['feature_wt_factor'],\n",
    "                               PARAMS['feature_wt_exp'],axis=0)\n",
    "\n",
    "        model = factorization_ops.WALSModel(num_rows, num_cols, PARAMS[\"latent_factors\"],\n",
    "                                            unobserved_weight=PARAMS[\"unobs_weight\"],\n",
    "                                            regularization=PARAMS[\"regularization\"],\n",
    "                                            row_weights=row_wts,\n",
    "                                            col_weights=col_wts)\n",
    "\n",
    "        return(graph,model,input_tensor)"
   ]
  },
  {
   "cell_type": "markdown",
   "id": "28085a6f",
   "metadata": {},
   "source": [
    "#### Training"
   ]
  },
  {
   "cell_type": "code",
   "execution_count": 99,
   "id": "00cabed8",
   "metadata": {},
   "outputs": [],
   "source": [
    "def train(graph,model,input_tensor,verbose=False):\n",
    "    sess = tf.Session(graph=graph)\n",
    "    with graph.as_default():\n",
    "        row_update_op = model.update_row_factors(sp_input=input_tensor)[1]\n",
    "        col_update_op = model.update_col_factors(sp_input=input_tensor)[1]\n",
    "\n",
    "        sess.run(model.initialize_op)\n",
    "        sess.run(model.worker_init)\n",
    "        for i in range(num_iterations):\n",
    "            sess.run(model.row_update_prep_gramian_op)\n",
    "            sess.run(model.initialize_row_update_op)\n",
    "            sess.run(row_update_op)\n",
    "            sess.run(model.col_update_prep_gramian_op)\n",
    "            sess.run(model.initialize_col_update_op)\n",
    "            sess.run(col_update_op)\n",
    "            if verbose and i % 1 == 0:\n",
    "                rf = sess.run(row_factor)\n",
    "                print(\"iter\",i,rf.mean(),rf.min(),sess.run(col_factor).mean())\n",
    "    return sess \n",
    "\n",
    "import math\n",
    "def get_rmse(output_row, output_col, actual):\n",
    "        \"\"\"Compute rmse between predicted and actual ratings.\n",
    "        Args:\n",
    "          output_row: evaluated numpy array of row_factor\n",
    "          output_col: evaluated numpy array of col_factor\n",
    "          actual: coo_matrix of actual (test) values\n",
    "        Returns:\n",
    "          rmse\n",
    "        \"\"\"\n",
    "        mse = 0\n",
    "        rate_preds = []\n",
    "        for i in range(actual.data.shape[0]):\n",
    "            row_pred = output_row[actual.row[i]]\n",
    "            col_pred = output_col[actual.col[i]]\n",
    "            rate_pred = np.dot(row_pred, col_pred)\n",
    "            rate_preds.append(rate_pred)\n",
    "            err = actual.data[i] - rate_pred\n",
    "            mse += err * err\n",
    "        mse /= actual.data.shape[0]\n",
    "        rmse = math.sqrt(mse)\n",
    "        return rmse,rate_preds"
   ]
  },
  {
   "cell_type": "code",
   "execution_count": 100,
   "id": "1b9ed52f",
   "metadata": {},
   "outputs": [],
   "source": [
    "PARAMS = {\n",
    "    'regularization': 0.01,\n",
    "    'unobs_weight': .001,  \n",
    "    'feature_wt_factor': 189.8,\n",
    "    'feature_wt_exp': 0.08,\n",
    "}"
   ]
  },
  {
   "cell_type": "code",
   "execution_count": 101,
   "id": "23346bb3",
   "metadata": {},
   "outputs": [
    {
     "name": "stdout",
     "output_type": "stream",
     "text": [
      "UNIFORM\n"
     ]
    },
    {
     "ename": "NameError",
     "evalue": "name 'factorization_ops' is not defined",
     "output_type": "error",
     "traceback": [
      "\u001b[1;31m---------------------------------------------------------------------------\u001b[0m",
      "\u001b[1;31mNameError\u001b[0m                                 Traceback (most recent call last)",
      "\u001b[1;32m<ipython-input-101-d7e34f35fc61>\u001b[0m in \u001b[0;36m<module>\u001b[1;34m\u001b[0m\n\u001b[0;32m     12\u001b[0m             \u001b[0mPARAMS\u001b[0m\u001b[1;33m[\u001b[0m\u001b[1;34m\"regularizations\"\u001b[0m\u001b[1;33m]\u001b[0m \u001b[1;33m=\u001b[0m \u001b[0mr\u001b[0m\u001b[1;33m\u001b[0m\u001b[1;33m\u001b[0m\u001b[0m\n\u001b[0;32m     13\u001b[0m \u001b[1;33m\u001b[0m\u001b[0m\n\u001b[1;32m---> 14\u001b[1;33m             \u001b[0mgraph\u001b[0m\u001b[1;33m,\u001b[0m\u001b[0mmodel\u001b[0m\u001b[1;33m,\u001b[0m\u001b[0minput_tensor\u001b[0m \u001b[1;33m=\u001b[0m \u001b[0mdefine_graph\u001b[0m\u001b[1;33m(\u001b[0m\u001b[0mtr_sparse\u001b[0m\u001b[1;33m,\u001b[0m\u001b[0mPARAMS\u001b[0m\u001b[1;33m)\u001b[0m\u001b[1;33m\u001b[0m\u001b[1;33m\u001b[0m\u001b[0m\n\u001b[0m\u001b[0;32m     15\u001b[0m             \u001b[0msess\u001b[0m \u001b[1;33m=\u001b[0m \u001b[0mtrain\u001b[0m\u001b[1;33m(\u001b[0m\u001b[0mgraph\u001b[0m\u001b[1;33m,\u001b[0m\u001b[0mmodel\u001b[0m\u001b[1;33m,\u001b[0m\u001b[0minput_tensor\u001b[0m\u001b[1;33m)\u001b[0m\u001b[1;33m\u001b[0m\u001b[1;33m\u001b[0m\u001b[0m\n\u001b[0;32m     16\u001b[0m \u001b[1;33m\u001b[0m\u001b[0m\n",
      "\u001b[1;32m<ipython-input-98-dbcad1a030f8>\u001b[0m in \u001b[0;36mdefine_graph\u001b[1;34m(data, PARAMS)\u001b[0m\n\u001b[0;32m     21\u001b[0m                                PARAMS['feature_wt_exp'],axis=0)\n\u001b[0;32m     22\u001b[0m \u001b[1;33m\u001b[0m\u001b[0m\n\u001b[1;32m---> 23\u001b[1;33m         model = factorization_ops.WALSModel(num_rows, num_cols, PARAMS[\"latent_factors\"],\n\u001b[0m\u001b[0;32m     24\u001b[0m                                             \u001b[0munobserved_weight\u001b[0m\u001b[1;33m=\u001b[0m\u001b[0mPARAMS\u001b[0m\u001b[1;33m[\u001b[0m\u001b[1;34m\"unobs_weight\"\u001b[0m\u001b[1;33m]\u001b[0m\u001b[1;33m,\u001b[0m\u001b[1;33m\u001b[0m\u001b[1;33m\u001b[0m\u001b[0m\n\u001b[0;32m     25\u001b[0m                                             \u001b[0mregularization\u001b[0m\u001b[1;33m=\u001b[0m\u001b[0mPARAMS\u001b[0m\u001b[1;33m[\u001b[0m\u001b[1;34m\"regularization\"\u001b[0m\u001b[1;33m]\u001b[0m\u001b[1;33m,\u001b[0m\u001b[1;33m\u001b[0m\u001b[1;33m\u001b[0m\u001b[0m\n",
      "\u001b[1;31mNameError\u001b[0m: name 'factorization_ops' is not defined"
     ]
    }
   ],
   "source": [
    "latent_factors  = [1,  2,   5, 15]\n",
    "regularizations = [0.001,0.1,  5, 20,100]\n",
    "wt_types = [\"UNIFORM\",\"LINEAR_RATINGS\",\"LOG_RATINGS\"]\n",
    "rmse_best = np.Inf\n",
    "num_iterations = 40\n",
    "for wt_type in wt_types:\n",
    "    print(wt_type)\n",
    "    for lf in latent_factors:\n",
    "        for r in regularizations:\n",
    "            PARAMS[\"wt_type\"] = wt_type\n",
    "            PARAMS[\"latent_factors\"] = lf\n",
    "            PARAMS[\"regularizations\"] = r\n",
    "\n",
    "            graph,model,input_tensor = define_graph(tr_sparse,PARAMS)\n",
    "            sess = train(graph,model,input_tensor)\n",
    "\n",
    "            output_row = model.row_factors[0].eval(session=sess)\n",
    "            output_col = model.col_factors[0].eval(session=sess)        \n",
    "\n",
    "            rmse_train, _ = get_rmse(output_row, output_col, tr_sparse)\n",
    "            rmse_test, rate_preds_test = get_rmse(output_row, output_col, test_sparse)\n",
    "            print(\"{:10} latent factor {:3.0f}, reg {:5.1f}, rmse (train) {:5.2f}, rmse (test) {:5.2f}\".format(\" \",\n",
    "                                                                                                               lf,\n",
    "                                                                                                               r,\n",
    "                                                                                                               rmse_train,\n",
    "                                                                                                               rmse_test))\n",
    "            if rmse_test < rmse_best:\n",
    "                rmse_best = rmse_test\n",
    "                out = {\n",
    "                      \"rate_preds_test\":rate_preds_test,\n",
    "                      \"rmse\":rmse_test,\n",
    "                      \"output_row\":output_row,\n",
    "                      \"output_col\":output_col,\n",
    "                      \"params\": PARAMS\n",
    "                      }"
   ]
  }
 ],
 "metadata": {
  "kernelspec": {
   "display_name": "Python 3",
   "language": "python",
   "name": "python3"
  },
  "language_info": {
   "codemirror_mode": {
    "name": "ipython",
    "version": 3
   },
   "file_extension": ".py",
   "mimetype": "text/x-python",
   "name": "python",
   "nbconvert_exporter": "python",
   "pygments_lexer": "ipython3",
   "version": "3.8.8"
  }
 },
 "nbformat": 4,
 "nbformat_minor": 5
}
