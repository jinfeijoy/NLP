{
  "nbformat": 4,
  "nbformat_minor": 0,
  "metadata": {
    "colab": {
      "name": "goodbook_collaborative_filtering.ipynb",
      "provenance": [],
      "collapsed_sections": []
    },
    "kernelspec": {
      "name": "python3",
      "display_name": "Python 3"
    },
    "language_info": {
      "name": "python"
    }
  },
  "cells": [
    {
      "cell_type": "code",
      "metadata": {
        "colab": {
          "base_uri": "https://localhost:8080/"
        },
        "id": "gxKCS4qYKWaC",
        "outputId": "f82a21c9-e8cc-4f20-d128-e47c1acbda77"
      },
      "source": [
        "import pandas as pd\n",
        "import numpy as np\n",
        "import io\n",
        "import os\n",
        "import re\n",
        "from google.colab import drive\n",
        "!pip install tensorflow==1.15\n",
        "import tensorflow as tf\n",
        "from sklearn.model_selection import train_test_split\n",
        "from scipy.sparse import coo_matrix\n",
        "\n",
        "drive.mount('/content/drive')\n",
        "print(tf.__version__)\n"
      ],
      "execution_count": 2,
      "outputs": [
        {
          "output_type": "stream",
          "name": "stdout",
          "text": [
            "Requirement already satisfied: tensorflow==1.15 in /usr/local/lib/python3.7/dist-packages (1.15.0)\n",
            "Requirement already satisfied: keras-applications>=1.0.8 in /usr/local/lib/python3.7/dist-packages (from tensorflow==1.15) (1.0.8)\n",
            "Requirement already satisfied: absl-py>=0.7.0 in /usr/local/lib/python3.7/dist-packages (from tensorflow==1.15) (0.12.0)\n",
            "Requirement already satisfied: keras-preprocessing>=1.0.5 in /usr/local/lib/python3.7/dist-packages (from tensorflow==1.15) (1.1.2)\n",
            "Requirement already satisfied: protobuf>=3.6.1 in /usr/local/lib/python3.7/dist-packages (from tensorflow==1.15) (3.17.3)\n",
            "Requirement already satisfied: tensorboard<1.16.0,>=1.15.0 in /usr/local/lib/python3.7/dist-packages (from tensorflow==1.15) (1.15.0)\n",
            "Requirement already satisfied: wrapt>=1.11.1 in /usr/local/lib/python3.7/dist-packages (from tensorflow==1.15) (1.12.1)\n",
            "Requirement already satisfied: grpcio>=1.8.6 in /usr/local/lib/python3.7/dist-packages (from tensorflow==1.15) (1.40.0)\n",
            "Requirement already satisfied: google-pasta>=0.1.6 in /usr/local/lib/python3.7/dist-packages (from tensorflow==1.15) (0.2.0)\n",
            "Requirement already satisfied: opt-einsum>=2.3.2 in /usr/local/lib/python3.7/dist-packages (from tensorflow==1.15) (3.3.0)\n",
            "Requirement already satisfied: tensorflow-estimator==1.15.1 in /usr/local/lib/python3.7/dist-packages (from tensorflow==1.15) (1.15.1)\n",
            "Requirement already satisfied: wheel>=0.26 in /usr/local/lib/python3.7/dist-packages (from tensorflow==1.15) (0.37.0)\n",
            "Requirement already satisfied: termcolor>=1.1.0 in /usr/local/lib/python3.7/dist-packages (from tensorflow==1.15) (1.1.0)\n",
            "Requirement already satisfied: astor>=0.6.0 in /usr/local/lib/python3.7/dist-packages (from tensorflow==1.15) (0.8.1)\n",
            "Requirement already satisfied: gast==0.2.2 in /usr/local/lib/python3.7/dist-packages (from tensorflow==1.15) (0.2.2)\n",
            "Requirement already satisfied: six>=1.10.0 in /usr/local/lib/python3.7/dist-packages (from tensorflow==1.15) (1.15.0)\n",
            "Requirement already satisfied: numpy<2.0,>=1.16.0 in /usr/local/lib/python3.7/dist-packages (from tensorflow==1.15) (1.19.5)\n",
            "Requirement already satisfied: h5py in /usr/local/lib/python3.7/dist-packages (from keras-applications>=1.0.8->tensorflow==1.15) (3.1.0)\n",
            "Requirement already satisfied: werkzeug>=0.11.15 in /usr/local/lib/python3.7/dist-packages (from tensorboard<1.16.0,>=1.15.0->tensorflow==1.15) (1.0.1)\n",
            "Requirement already satisfied: setuptools>=41.0.0 in /usr/local/lib/python3.7/dist-packages (from tensorboard<1.16.0,>=1.15.0->tensorflow==1.15) (57.4.0)\n",
            "Requirement already satisfied: markdown>=2.6.8 in /usr/local/lib/python3.7/dist-packages (from tensorboard<1.16.0,>=1.15.0->tensorflow==1.15) (3.3.4)\n",
            "Requirement already satisfied: importlib-metadata in /usr/local/lib/python3.7/dist-packages (from markdown>=2.6.8->tensorboard<1.16.0,>=1.15.0->tensorflow==1.15) (4.8.1)\n",
            "Requirement already satisfied: cached-property in /usr/local/lib/python3.7/dist-packages (from h5py->keras-applications>=1.0.8->tensorflow==1.15) (1.5.2)\n",
            "Requirement already satisfied: zipp>=0.5 in /usr/local/lib/python3.7/dist-packages (from importlib-metadata->markdown>=2.6.8->tensorboard<1.16.0,>=1.15.0->tensorflow==1.15) (3.5.0)\n",
            "Requirement already satisfied: typing-extensions>=3.6.4 in /usr/local/lib/python3.7/dist-packages (from importlib-metadata->markdown>=2.6.8->tensorboard<1.16.0,>=1.15.0->tensorflow==1.15) (3.7.4.3)\n",
            "Drive already mounted at /content/drive; to attempt to forcibly remount, call drive.mount(\"/content/drive\", force_remount=True).\n",
            "1.15.0\n"
          ]
        }
      ]
    },
    {
      "cell_type": "code",
      "metadata": {
        "id": "emtDUydOKz39"
      },
      "source": [
        "path = '/content/drive/MyDrive/colab_data'\n",
        "ratings = pd.read_csv(os.path.join(path, \"ratings.csv\"))"
      ],
      "execution_count": 3,
      "outputs": []
    },
    {
      "cell_type": "code",
      "metadata": {
        "colab": {
          "base_uri": "https://localhost:8080/",
          "height": 159
        },
        "id": "p0jV0azILgPQ",
        "outputId": "e7d550c4-2cf6-4774-a2a9-821b6a9b7fd7"
      },
      "source": [
        "def change_id_from_0(data, column):\n",
        "    data_copy = data.copy()\n",
        "    for i in column:\n",
        "        data_copy[i] = data_copy[i] - 1\n",
        "    return data_copy\n",
        "\n",
        "ratings = change_id_from_0(ratings, ['book_id','user_id'])\n",
        "print('--------------ratings--------------')\n",
        "display(ratings.head(3))\n"
      ],
      "execution_count": 4,
      "outputs": [
        {
          "output_type": "stream",
          "name": "stdout",
          "text": [
            "--------------ratings--------------\n"
          ]
        },
        {
          "output_type": "display_data",
          "data": {
            "text/html": [
              "<div>\n",
              "<style scoped>\n",
              "    .dataframe tbody tr th:only-of-type {\n",
              "        vertical-align: middle;\n",
              "    }\n",
              "\n",
              "    .dataframe tbody tr th {\n",
              "        vertical-align: top;\n",
              "    }\n",
              "\n",
              "    .dataframe thead th {\n",
              "        text-align: right;\n",
              "    }\n",
              "</style>\n",
              "<table border=\"1\" class=\"dataframe\">\n",
              "  <thead>\n",
              "    <tr style=\"text-align: right;\">\n",
              "      <th></th>\n",
              "      <th>book_id</th>\n",
              "      <th>user_id</th>\n",
              "      <th>rating</th>\n",
              "    </tr>\n",
              "  </thead>\n",
              "  <tbody>\n",
              "    <tr>\n",
              "      <th>0</th>\n",
              "      <td>0</td>\n",
              "      <td>313</td>\n",
              "      <td>5</td>\n",
              "    </tr>\n",
              "    <tr>\n",
              "      <th>1</th>\n",
              "      <td>0</td>\n",
              "      <td>438</td>\n",
              "      <td>3</td>\n",
              "    </tr>\n",
              "    <tr>\n",
              "      <th>2</th>\n",
              "      <td>0</td>\n",
              "      <td>587</td>\n",
              "      <td>5</td>\n",
              "    </tr>\n",
              "  </tbody>\n",
              "</table>\n",
              "</div>"
            ],
            "text/plain": [
              "   book_id  user_id  rating\n",
              "0        0      313       5\n",
              "1        0      438       3\n",
              "2        0      587       5"
            ]
          },
          "metadata": {}
        }
      ]
    },
    {
      "cell_type": "code",
      "metadata": {
        "colab": {
          "base_uri": "https://localhost:8080/",
          "height": 297
        },
        "id": "_2NvCikeLuNO",
        "outputId": "7c667101-0aa8-4393-f21d-752e56181af0"
      },
      "source": [
        "stats = ratings.describe()\n",
        "stats"
      ],
      "execution_count": 5,
      "outputs": [
        {
          "output_type": "execute_result",
          "data": {
            "text/html": [
              "<div>\n",
              "<style scoped>\n",
              "    .dataframe tbody tr th:only-of-type {\n",
              "        vertical-align: middle;\n",
              "    }\n",
              "\n",
              "    .dataframe tbody tr th {\n",
              "        vertical-align: top;\n",
              "    }\n",
              "\n",
              "    .dataframe thead th {\n",
              "        text-align: right;\n",
              "    }\n",
              "</style>\n",
              "<table border=\"1\" class=\"dataframe\">\n",
              "  <thead>\n",
              "    <tr style=\"text-align: right;\">\n",
              "      <th></th>\n",
              "      <th>book_id</th>\n",
              "      <th>user_id</th>\n",
              "      <th>rating</th>\n",
              "    </tr>\n",
              "  </thead>\n",
              "  <tbody>\n",
              "    <tr>\n",
              "      <th>count</th>\n",
              "      <td>981756.000000</td>\n",
              "      <td>981756.000000</td>\n",
              "      <td>981756.000000</td>\n",
              "    </tr>\n",
              "    <tr>\n",
              "      <th>mean</th>\n",
              "      <td>4942.275636</td>\n",
              "      <td>25615.759933</td>\n",
              "      <td>3.856534</td>\n",
              "    </tr>\n",
              "    <tr>\n",
              "      <th>std</th>\n",
              "      <td>2873.207415</td>\n",
              "      <td>15228.338826</td>\n",
              "      <td>0.983941</td>\n",
              "    </tr>\n",
              "    <tr>\n",
              "      <th>min</th>\n",
              "      <td>0.000000</td>\n",
              "      <td>0.000000</td>\n",
              "      <td>1.000000</td>\n",
              "    </tr>\n",
              "    <tr>\n",
              "      <th>25%</th>\n",
              "      <td>2456.000000</td>\n",
              "      <td>12371.000000</td>\n",
              "      <td>3.000000</td>\n",
              "    </tr>\n",
              "    <tr>\n",
              "      <th>50%</th>\n",
              "      <td>4920.000000</td>\n",
              "      <td>25076.000000</td>\n",
              "      <td>4.000000</td>\n",
              "    </tr>\n",
              "    <tr>\n",
              "      <th>75%</th>\n",
              "      <td>7413.000000</td>\n",
              "      <td>38571.000000</td>\n",
              "      <td>5.000000</td>\n",
              "    </tr>\n",
              "    <tr>\n",
              "      <th>max</th>\n",
              "      <td>9999.000000</td>\n",
              "      <td>53423.000000</td>\n",
              "      <td>5.000000</td>\n",
              "    </tr>\n",
              "  </tbody>\n",
              "</table>\n",
              "</div>"
            ],
            "text/plain": [
              "             book_id        user_id         rating\n",
              "count  981756.000000  981756.000000  981756.000000\n",
              "mean     4942.275636   25615.759933       3.856534\n",
              "std      2873.207415   15228.338826       0.983941\n",
              "min         0.000000       0.000000       1.000000\n",
              "25%      2456.000000   12371.000000       3.000000\n",
              "50%      4920.000000   25076.000000       4.000000\n",
              "75%      7413.000000   38571.000000       5.000000\n",
              "max      9999.000000   53423.000000       5.000000"
            ]
          },
          "metadata": {},
          "execution_count": 5
        }
      ]
    },
    {
      "cell_type": "markdown",
      "metadata": {
        "id": "tCL2TIE-LqOH"
      },
      "source": [
        "## Split Training/Testing"
      ]
    },
    {
      "cell_type": "code",
      "metadata": {
        "id": "NCa8aZizLpiH"
      },
      "source": [
        "def create_sparse_train_test(dataset, n_users, n_items, test_set_ratio = 0.1, seed=1):\n",
        "    train_set, test_set = train_test_split(dataset, test_size = test_set_ratio, random_state = seed)\n",
        "    test_set = test_set.values\n",
        "    train_set = train_set.values\n",
        "    \n",
        "    i_tr, u_tr, r_tr = zip(*train_set)\n",
        "    tr_sparse = coo_matrix((r_tr, (u_tr, i_tr)), shape = (n_users, n_items))\n",
        "    \n",
        "    i_ts, u_ts, r_ts = zip(*test_set)\n",
        "    ts_sparse = coo_matrix((r_ts, (u_ts, i_ts)), shape = (n_users, n_items))\n",
        "    \n",
        "    return tr_sparse, ts_sparse"
      ],
      "execution_count": 6,
      "outputs": []
    },
    {
      "cell_type": "code",
      "metadata": {
        "id": "RuB58c5YLw5u"
      },
      "source": [
        "tr_sparse, ts_sparse = create_sparse_train_test(ratings, len(ratings.user_id.unique()), len(ratings.book_id.unique()))"
      ],
      "execution_count": 7,
      "outputs": []
    },
    {
      "cell_type": "code",
      "metadata": {
        "colab": {
          "base_uri": "https://localhost:8080/"
        },
        "id": "laRVg9JvLyGV",
        "outputId": "c632a3cc-d0ad-4c45-fddf-29b38547afb5"
      },
      "source": [
        "print(\"sparse matrix dimension:\",tr_sparse.shape,tr_sparse.row.shape,tr_sparse.col.shape,tr_sparse.data.min())\n",
        "print(\"sparse matrix dimension:\",ts_sparse.shape,ts_sparse.row.shape,ts_sparse.col.shape)\n",
        "NITEMS = len(ratings.book_id.unique())\n",
        "NUSERS = len(ratings.user_id.unique())\n",
        "print('{} items, {} users, {} interactions'.format(NITEMS, NUSERS, len(ratings)))"
      ],
      "execution_count": 8,
      "outputs": [
        {
          "output_type": "stream",
          "name": "stdout",
          "text": [
            "sparse matrix dimension: (53424, 10000) (883580,) (883580,) 1\n",
            "sparse matrix dimension: (53424, 10000) (98176,) (98176,)\n",
            "10000 items, 53424 users, 981756 interactions\n"
          ]
        }
      ]
    },
    {
      "cell_type": "markdown",
      "metadata": {
        "id": "ylgkrPX9L-TZ"
      },
      "source": [
        "## Weighted Alternating Least Square Model"
      ]
    },
    {
      "cell_type": "code",
      "metadata": {
        "colab": {
          "base_uri": "https://localhost:8080/",
          "height": 494
        },
        "id": "dZa7lTayMAxF",
        "outputId": "98dacdd7-ea2e-4ee0-985c-4941d3e58cd6"
      },
      "source": [
        "def make_weights(data, wt_type, obs_wt, feature_wt_exp, axis):\n",
        "    \"\"\"\n",
        "    data: coo_matrix of ratings data\n",
        "    wt_type: weight type, LOG_RATINGS or LINEAR_RATINGS\n",
        "    obs_wt: linear weight factor\n",
        "    feature_wt_exp: logarithmic weight factor\n",
        "    axis: axis to make weights for, 1 = rows/users, 0 = cols/items\n",
        "    \"\"\"\n",
        "    assert wt_type in ['LOG_RATINGS','LINEAR_RATINGS']\n",
        "    frac = np.array(1.0 / (data > 0.0).sum(axis))\n",
        "    frac[np.ma.masked_invalid(frac).mask] = 0\n",
        "    \n",
        "    if wt_type == 'LOG_RATINGS':\n",
        "        wts = np.array(np.power(frac, feature_wt_exp)).flatten()\n",
        "    elif wt_type == 'LINEAR_RATINGS':\n",
        "        wts = np.array(obs_wt * frac).flatten()\n",
        "    \n",
        "    assert np.isfinite(wts).sum() == wts.shape[0]\n",
        "    return wts\n",
        "\n",
        "# Visualize Weight\n",
        "import matplotlib.pyplot as plt\n",
        "n_nonzero_items = np.array((tr_sparse > 0).sum(axis=0)).squeeze()\n",
        "print(n_nonzero_items.shape)\n",
        "\n",
        "def plot(col_wt,n_nonzero_items,title):\n",
        "    fig, ax = plt.subplots(1,2,figsize=(10,3))\n",
        "    ax[0].plot(col_wt,\"p\")\n",
        "    ax[0].set_xlabel(\"item index\")\n",
        "    ax[0].set_ylabel(\"weights\")\n",
        "    ax[1].plot(n_nonzero_items,col_wt,\"p\")\n",
        "    ax[1].set_xlabel(\"tot N of rating / item\")\n",
        "    ax[1].set_ylabel(\"weights\")\n",
        "    plt.suptitle(title)\n",
        "    plt.show()\n",
        "    \n",
        "for wt_type in [\"LOG_RATINGS\",\"LINEAR_RATINGS\"]:    \n",
        "    col_wt = make_weights(tr_sparse, wt_type, obs_wt=189.8, feature_wt_exp=0.008, axis=0)\n",
        "    plot(col_wt,n_nonzero_items,title=wt_type)\n"
      ],
      "execution_count": 9,
      "outputs": [
        {
          "output_type": "stream",
          "name": "stdout",
          "text": [
            "(10000,)\n"
          ]
        },
        {
          "output_type": "display_data",
          "data": {
            "image/png": "[encoded data removed]",
            "text/plain": [
              "<Figure size 720x216 with 2 Axes>"
            ]
          },
          "metadata": {
            "needs_background": "light"
          }
        },
        {
          "output_type": "display_data",
          "data": {
            "image/png": "[encoded data removed]",
            "text/plain": [
              "<Figure size 720x216 with 2 Axes>"
            ]
          },
          "metadata": {
            "needs_background": "light"
          }
        }
      ]
    },
    {
      "cell_type": "code",
      "metadata": {
        "id": "hwKa-zgQMDoK"
      },
      "source": [
        "from tensorflow.contrib.factorization.python.ops import factorization_ops\n",
        "def define_graph(data,PARAMS):\n",
        "    graph = tf.Graph()\n",
        "    with graph.as_default():\n",
        "\n",
        "        input_tensor = tf.SparseTensor(indices=np.array([data.row, data.col]).T,\n",
        "                                       values=(data.data).astype(np.float32),\n",
        "                                       dense_shape=data.shape)\n",
        "\n",
        "\n",
        "        row_wts = None\n",
        "        col_wts = None\n",
        "        num_rows = data.shape[0]\n",
        "        num_cols = data.shape[1]\n",
        "\n",
        "        # initialize the weights \n",
        "        if PARAMS[\"wt_type\"] in [\"LOG_RATINGS\",\"LINEAR_RATINGS\"]:\n",
        "            row_wts = np.ones(num_rows)\n",
        "            col_wts = make_weights(data, \n",
        "                               PARAMS[\"wt_type\"], \n",
        "                               PARAMS['feature_wt_factor'],\n",
        "                               PARAMS['feature_wt_exp'],axis=0)\n",
        "\n",
        "        model = factorization_ops.WALSModel(num_rows, num_cols, PARAMS[\"latent_factors\"],\n",
        "                                            unobserved_weight=PARAMS[\"unobs_weight\"],\n",
        "                                            regularization=PARAMS[\"regularization\"],\n",
        "                                            row_weights=row_wts,\n",
        "                                            col_weights=col_wts)\n",
        "\n",
        "        return(graph,model,input_tensor)"
      ],
      "execution_count": 10,
      "outputs": []
    },
    {
      "cell_type": "code",
      "metadata": {
        "id": "jS29hihbMFby"
      },
      "source": [
        "def train(graph,model,input_tensor,verbose=False):\n",
        "    sess = tf.Session(graph=graph)\n",
        "    with graph.as_default():\n",
        "        row_update_op = model.update_row_factors(sp_input=input_tensor)[1]\n",
        "        col_update_op = model.update_col_factors(sp_input=input_tensor)[1]\n",
        "\n",
        "        sess.run(model.initialize_op)\n",
        "        sess.run(model.worker_init)\n",
        "        for i in range(num_iterations):\n",
        "            sess.run(model.row_update_prep_gramian_op)\n",
        "            sess.run(model.initialize_row_update_op)\n",
        "            sess.run(row_update_op)\n",
        "            sess.run(model.col_update_prep_gramian_op)\n",
        "            sess.run(model.initialize_col_update_op)\n",
        "            sess.run(col_update_op)\n",
        "            if verbose and i % 1 == 0:\n",
        "                rf = sess.run(row_factor)\n",
        "                print(\"iter\",i,rf.mean(),rf.min(),sess.run(col_factor).mean())\n",
        "    return sess \n",
        "\n",
        "import math\n",
        "def get_rmse(output_row, output_col, actual):\n",
        "        \"\"\"Compute rmse between predicted and actual ratings.\n",
        "        Args:\n",
        "          output_row: evaluated numpy array of row_factor\n",
        "          output_col: evaluated numpy array of col_factor\n",
        "          actual: coo_matrix of actual (test) values\n",
        "        Returns:\n",
        "          rmse\n",
        "        \"\"\"\n",
        "        mse = 0\n",
        "        rate_preds = []\n",
        "        for i in range(actual.data.shape[0]):\n",
        "            row_pred = output_row[actual.row[i]]\n",
        "            col_pred = output_col[actual.col[i]]\n",
        "            rate_pred = np.dot(row_pred, col_pred)\n",
        "            rate_preds.append(rate_pred)\n",
        "            err = actual.data[i] - rate_pred\n",
        "            mse += err * err\n",
        "        mse /= actual.data.shape[0]\n",
        "        rmse = math.sqrt(mse)\n",
        "        return rmse,rate_preds"
      ],
      "execution_count": 11,
      "outputs": []
    },
    {
      "cell_type": "code",
      "metadata": {
        "id": "kKH9dgxdMHFp"
      },
      "source": [
        "PARAMS = {\n",
        "    'regularization': 0.01,\n",
        "    'unobs_weight': .001,  \n",
        "    'feature_wt_factor': 189.8,\n",
        "    'feature_wt_exp': 0.08,\n",
        "}"
      ],
      "execution_count": 12,
      "outputs": []
    },
    {
      "cell_type": "code",
      "metadata": {
        "colab": {
          "base_uri": "https://localhost:8080/"
        },
        "id": "i0zO27TBMIJq",
        "outputId": "cb4b4909-575f-4156-a7cd-b6ac2c3ee6b0"
      },
      "source": [
        "latent_factors  = [1,  2,   5, 15]\n",
        "regularizations = [0.001,0.1,  5, 20,100]\n",
        "wt_types = [\"UNIFORM\",\"LINEAR_RATINGS\",\"LOG_RATINGS\"]\n",
        "rmse_best = np.Inf\n",
        "num_iterations = 40\n",
        "for wt_type in wt_types:\n",
        "    print(wt_type)\n",
        "    for lf in latent_factors:\n",
        "        for r in regularizations:\n",
        "            PARAMS[\"wt_type\"] = wt_type\n",
        "            PARAMS[\"latent_factors\"] = lf\n",
        "            PARAMS[\"regularizations\"] = r\n",
        "\n",
        "            graph,model,input_tensor = define_graph(tr_sparse,PARAMS)\n",
        "            sess = train(graph,model,input_tensor)\n",
        "\n",
        "            output_row = model.row_factors[0].eval(session=sess)\n",
        "            output_col = model.col_factors[0].eval(session=sess)        \n",
        "\n",
        "            rmse_train, _ = get_rmse(output_row, output_col, tr_sparse)\n",
        "            rmse_test, rate_preds_test = get_rmse(output_row, output_col, ts_sparse)\n",
        "            print(\"{:10} latent factor {:3.0f}, reg {:5.1f}, rmse (train) {:5.2f}, rmse (test) {:5.2f}\".format(\" \",\n",
        "                                                                                                               lf,\n",
        "                                                                                                               r,\n",
        "                                                                                                               rmse_train,\n",
        "                                                                                                               rmse_test))\n",
        "            if rmse_test < rmse_best:\n",
        "                rmse_best = rmse_test\n",
        "                out = {\n",
        "                      \"rate_preds_test\":rate_preds_test,\n",
        "                      \"rmse\":rmse_test,\n",
        "                      \"output_row\":output_row,\n",
        "                      \"output_col\":output_col,\n",
        "                      \"params\": PARAMS\n",
        "                      }"
      ],
      "execution_count": 13,
      "outputs": [
        {
          "output_type": "stream",
          "name": "stdout",
          "text": [
            "UNIFORM\n",
            "           latent factor   1, reg   0.0, rmse (train)  3.95, rmse (test)  3.95\n",
            "           latent factor   1, reg   0.1, rmse (train)  3.95, rmse (test)  3.95\n",
            "           latent factor   1, reg   5.0, rmse (train)  3.95, rmse (test)  3.95\n",
            "           latent factor   1, reg  20.0, rmse (train)  3.95, rmse (test)  3.95\n",
            "           latent factor   1, reg 100.0, rmse (train)  3.95, rmse (test)  3.95\n",
            "           latent factor   2, reg   0.0, rmse (train)  3.93, rmse (test)  3.93\n",
            "           latent factor   2, reg   0.1, rmse (train)  3.93, rmse (test)  3.93\n",
            "           latent factor   2, reg   5.0, rmse (train)  3.93, rmse (test)  3.93\n",
            "           latent factor   2, reg  20.0, rmse (train)  3.93, rmse (test)  3.93\n",
            "           latent factor   2, reg 100.0, rmse (train)  3.93, rmse (test)  3.93\n",
            "           latent factor   5, reg   0.0, rmse (train)  3.90, rmse (test)  3.90\n",
            "           latent factor   5, reg   0.1, rmse (train)  3.90, rmse (test)  3.90\n",
            "           latent factor   5, reg   5.0, rmse (train)  3.90, rmse (test)  3.90\n",
            "           latent factor   5, reg  20.0, rmse (train)  3.90, rmse (test)  3.90\n",
            "           latent factor   5, reg 100.0, rmse (train)  3.90, rmse (test)  3.90\n",
            "           latent factor  15, reg   0.0, rmse (train)  3.83, rmse (test)  3.84\n",
            "           latent factor  15, reg   0.1, rmse (train)  3.83, rmse (test)  3.84\n",
            "           latent factor  15, reg   5.0, rmse (train)  3.83, rmse (test)  3.84\n",
            "           latent factor  15, reg  20.0, rmse (train)  3.83, rmse (test)  3.84\n",
            "           latent factor  15, reg 100.0, rmse (train)  3.83, rmse (test)  3.84\n",
            "LINEAR_RATINGS\n",
            "           latent factor   1, reg   0.0, rmse (train)  1.16, rmse (test)  1.27\n",
            "           latent factor   1, reg   0.1, rmse (train)  1.16, rmse (test)  1.27\n",
            "           latent factor   1, reg   5.0, rmse (train)  1.16, rmse (test)  1.27\n",
            "           latent factor   1, reg  20.0, rmse (train)  1.16, rmse (test)  1.26\n",
            "           latent factor   1, reg 100.0, rmse (train)  1.16, rmse (test)  1.26\n",
            "           latent factor   2, reg   0.0, rmse (train)  1.00, rmse (test)  1.16\n",
            "           latent factor   2, reg   0.1, rmse (train)  1.01, rmse (test)  1.19\n",
            "           latent factor   2, reg   5.0, rmse (train)  1.01, rmse (test)  1.17\n",
            "           latent factor   2, reg  20.0, rmse (train)  1.01, rmse (test)  1.18\n",
            "           latent factor   2, reg 100.0, rmse (train)  1.01, rmse (test)  1.19\n",
            "           latent factor   5, reg   0.0, rmse (train)  0.83, rmse (test)  1.14\n",
            "           latent factor   5, reg   0.1, rmse (train)  0.83, rmse (test)  1.14\n",
            "           latent factor   5, reg   5.0, rmse (train)  0.83, rmse (test)  1.14\n",
            "           latent factor   5, reg  20.0, rmse (train)  0.83, rmse (test)  1.14\n",
            "           latent factor   5, reg 100.0, rmse (train)  0.82, rmse (test)  1.14\n",
            "           latent factor  15, reg   0.0, rmse (train)  0.52, rmse (test)  1.36\n",
            "           latent factor  15, reg   0.1, rmse (train)  0.52, rmse (test)  1.36\n",
            "           latent factor  15, reg   5.0, rmse (train)  0.52, rmse (test)  1.36\n",
            "           latent factor  15, reg  20.0, rmse (train)  0.52, rmse (test)  1.37\n",
            "           latent factor  15, reg 100.0, rmse (train)  0.52, rmse (test)  1.37\n",
            "LOG_RATINGS\n",
            "           latent factor   1, reg   0.0, rmse (train)  1.73, rmse (test)  1.80\n",
            "           latent factor   1, reg   0.1, rmse (train)  1.73, rmse (test)  1.80\n",
            "           latent factor   1, reg   5.0, rmse (train)  1.73, rmse (test)  1.80\n",
            "           latent factor   1, reg  20.0, rmse (train)  1.73, rmse (test)  1.80\n",
            "           latent factor   1, reg 100.0, rmse (train)  1.73, rmse (test)  1.80\n",
            "           latent factor   2, reg   0.0, rmse (train)  1.46, rmse (test)  1.59\n",
            "           latent factor   2, reg   0.1, rmse (train)  1.45, rmse (test)  1.58\n",
            "           latent factor   2, reg   5.0, rmse (train)  1.46, rmse (test)  1.60\n",
            "           latent factor   2, reg  20.0, rmse (train)  1.46, rmse (test)  1.59\n",
            "           latent factor   2, reg 100.0, rmse (train)  1.46, rmse (test)  1.59\n",
            "           latent factor   5, reg   0.0, rmse (train)  1.12, rmse (test)  1.37\n",
            "           latent factor   5, reg   0.1, rmse (train)  1.13, rmse (test)  1.37\n",
            "           latent factor   5, reg   5.0, rmse (train)  1.13, rmse (test)  1.37\n",
            "           latent factor   5, reg  20.0, rmse (train)  1.13, rmse (test)  1.37\n",
            "           latent factor   5, reg 100.0, rmse (train)  1.13, rmse (test)  1.38\n",
            "           latent factor  15, reg   0.0, rmse (train)  0.78, rmse (test)  1.37\n",
            "           latent factor  15, reg   0.1, rmse (train)  0.78, rmse (test)  1.37\n",
            "           latent factor  15, reg   5.0, rmse (train)  0.78, rmse (test)  1.37\n",
            "           latent factor  15, reg  20.0, rmse (train)  0.78, rmse (test)  1.37\n",
            "           latent factor  15, reg 100.0, rmse (train)  0.78, rmse (test)  1.37\n"
          ]
        }
      ]
    },
    {
      "cell_type": "code",
      "metadata": {
        "colab": {
          "base_uri": "https://localhost:8080/"
        },
        "id": "JhhQ5T4xMJRq",
        "outputId": "c682f410-f699-402d-eb1a-76175540de8d"
      },
      "source": [
        "output_row.shape"
      ],
      "execution_count": 17,
      "outputs": [
        {
          "output_type": "execute_result",
          "data": {
            "text/plain": [
              "(53424, 15)"
            ]
          },
          "metadata": {},
          "execution_count": 17
        }
      ]
    },
    {
      "cell_type": "code",
      "metadata": {
        "colab": {
          "base_uri": "https://localhost:8080/"
        },
        "id": "37jahp_C15YF",
        "outputId": "6454080e-fe1e-4b12-a883-5ae3c32dc16c"
      },
      "source": [
        "output_col.shape"
      ],
      "execution_count": 18,
      "outputs": [
        {
          "output_type": "execute_result",
          "data": {
            "text/plain": [
              "(10000, 15)"
            ]
          },
          "metadata": {},
          "execution_count": 18
        }
      ]
    },
    {
      "cell_type": "code",
      "metadata": {
        "colab": {
          "base_uri": "https://localhost:8080/"
        },
        "id": "585-3drO6Xzs",
        "outputId": "47128817-5b7e-4ac1-87a8-29c1cd386ed1"
      },
      "source": [
        "i = 0\n",
        "print(tr_sparse.row[i])\n",
        "print(output_row[tr_sparse.row[i]])\n",
        "print(output_row[30117])"
      ],
      "execution_count": 35,
      "outputs": [
        {
          "output_type": "stream",
          "name": "stdout",
          "text": [
            "30117\n",
            "[-0.72755504  0.2721139  -0.33889163 -0.322146   -0.48045266  0.10904129\n",
            "  0.53850204  0.11212166 -0.05398895 -0.16874848  0.32790282  0.1300478\n",
            "  0.60678226 -1.4431714  -0.30790293]\n",
            "[-0.72755504  0.2721139  -0.33889163 -0.322146   -0.48045266  0.10904129\n",
            "  0.53850204  0.11212166 -0.05398895 -0.16874848  0.32790282  0.1300478\n",
            "  0.60678226 -1.4431714  -0.30790293]\n"
          ]
        }
      ]
    },
    {
      "cell_type": "code",
      "metadata": {
        "colab": {
          "base_uri": "https://localhost:8080/"
        },
        "id": "wt28Kuka8Fc4",
        "outputId": "493c907f-e9d2-429b-8e0e-682d0476b6c6"
      },
      "source": [
        "i = 1\n",
        "print(tr_sparse.col[i])\n",
        "print(output_col[tr_sparse.col[i]])"
      ],
      "execution_count": 34,
      "outputs": [
        {
          "output_type": "stream",
          "name": "stdout",
          "text": [
            "4403\n",
            "[-0.8307707  -0.4819777   1.0630914   0.48243517  0.11226083  0.9110728\n",
            " -1.7230009   1.9636053   0.6852343  -1.698267    0.20536159  0.2826137\n",
            " -0.33110753 -0.38804087 -1.1149062 ]\n"
          ]
        }
      ]
    },
    {
      "cell_type": "code",
      "metadata": {
        "colab": {
          "base_uri": "https://localhost:8080/"
        },
        "id": "oEXgCUvA5kLB",
        "outputId": "17b2493d-4538-4227-d656-7764aa8cf742"
      },
      "source": [
        "user_latent = pd.DataFrame(output_row)\n",
        "print(user_latent.head(3))\n",
        "item_latent = pd.DataFrame(output_col)\n",
        "print(item_latent.head(3))\n",
        "\n",
        "print(user_latent.shape)\n",
        "print(item_latent.shape)"
      ],
      "execution_count": 37,
      "outputs": [
        {
          "output_type": "stream",
          "name": "stdout",
          "text": [
            "         0         1         2   ...        12        13        14\n",
            "0  0.199595 -0.108096  0.247037  ...  0.041728  0.185200 -0.358743\n",
            "1 -0.212097 -0.068822  0.102718  ... -0.156847  0.019408 -0.642446\n",
            "2 -0.057435 -0.006853  0.118266  ... -0.047005  0.054901 -0.032876\n",
            "\n",
            "[3 rows x 15 columns]\n",
            "         0         1         2   ...        12        13        14\n",
            "0  1.900808  0.380494  0.661577  ... -0.702245 -0.751551 -0.541900\n",
            "1  1.694283  0.602090  0.477443  ... -0.551353 -0.573139 -0.660848\n",
            "2  1.265569  0.245617  0.385378  ... -0.768754 -0.879207 -0.654471\n",
            "\n",
            "[3 rows x 15 columns]\n",
            "(53424, 15)\n",
            "(10000, 15)\n"
          ]
        }
      ]
    },
    {
      "cell_type": "code",
      "metadata": {
        "id": "n2X2iLdh83TN"
      },
      "source": [
        "user_latent.to_csv(os.path.join(path, \"user_latent.csv\"), index=True)\n",
        "item_latent.to_csv(os.path.join(path, \"item_latent.csv\"), index=True)"
      ],
      "execution_count": 38,
      "outputs": []
    },
    {
      "cell_type": "markdown",
      "metadata": {
        "id": "ORHCvinoL00N"
      },
      "source": [
        ""
      ]
    }
  ]
}