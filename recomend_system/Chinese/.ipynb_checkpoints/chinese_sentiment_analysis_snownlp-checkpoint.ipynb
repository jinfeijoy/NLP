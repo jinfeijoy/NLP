{
 "cells": [
  {
   "cell_type": "code",
   "execution_count": 1,
   "id": "faf34cb6",
   "metadata": {},
   "outputs": [],
   "source": [
    "import pandas as pd\n",
    "import numpy as np\n",
    "import io\n",
    "import os\n",
    "import re\n",
    "import sys\n",
    "from pandasql import sqldf\n",
    "from sklearn.model_selection import train_test_split\n",
    "from scipy.sparse import coo_matrix\n",
    "import jieba\n",
    "root_path = 'C:\\\\Users\\\\luoyan011\\\\Desktop\\\\PersonalLearning\\\\GitHub\\\\NLP_data\\\\simplifyweibo_4_moods'\n",
    "sys.path.append('C:\\\\Users\\\\luoyan011\\\\Desktop\\\\PersonalLearning\\\\GitHub\\\\python_functions\\\\jl_nlp_pkg')\n"
   ]
  },
  {
   "cell_type": "code",
   "execution_count": 2,
   "id": "0be7a370",
   "metadata": {},
   "outputs": [
    {
     "data": {
      "text/html": [
       "<div>\n",
       "<style scoped>\n",
       "    .dataframe tbody tr th:only-of-type {\n",
       "        vertical-align: middle;\n",
       "    }\n",
       "\n",
       "    .dataframe tbody tr th {\n",
       "        vertical-align: top;\n",
       "    }\n",
       "\n",
       "    .dataframe thead th {\n",
       "        text-align: right;\n",
       "    }\n",
       "</style>\n",
       "<table border=\"1\" class=\"dataframe\">\n",
       "  <thead>\n",
       "    <tr style=\"text-align: right;\">\n",
       "      <th></th>\n",
       "      <th>label</th>\n",
       "      <th>review</th>\n",
       "    </tr>\n",
       "  </thead>\n",
       "  <tbody>\n",
       "    <tr>\n",
       "      <th>103534</th>\n",
       "      <td>0</td>\n",
       "      <td>恶不想吃晚饭了！完全没有食欲了。0口0哇塞~ ~ 超级巨无霸三文鱼！还没吃的童鞋，我请您吃这个</td>\n",
       "    </tr>\n",
       "    <tr>\n",
       "      <th>187258</th>\n",
       "      <td>0</td>\n",
       "      <td>小王子的博客你帮忙发下吧呵呵估计好多人不知道呢还回复还有9小时再不抓紧你们就会错过2010第...</td>\n",
       "    </tr>\n",
       "    <tr>\n",
       "      <th>91936</th>\n",
       "      <td>0</td>\n",
       "      <td>学习果然不比不知道哦。。【照相姿势指南】一比较就知道了</td>\n",
       "    </tr>\n",
       "    <tr>\n",
       "      <th>14845</th>\n",
       "      <td>0</td>\n",
       "      <td>领导说：那你辞职吧！批准最牛的世界杯请假条</td>\n",
       "    </tr>\n",
       "    <tr>\n",
       "      <th>152272</th>\n",
       "      <td>0</td>\n",
       "      <td>申请２５日至３０日放假这个嘛应该是中秋以及国庆放假最形象的一个时间表啦~ ~ ~</td>\n",
       "    </tr>\n",
       "    <tr>\n",
       "      <th>308071</th>\n",
       "      <td>3</td>\n",
       "      <td>让人想哭的浇花图</td>\n",
       "    </tr>\n",
       "    <tr>\n",
       "      <th>198340</th>\n",
       "      <td>0</td>\n",
       "      <td>要潛 入雲 中的獨 角獸 你们看，这片云像什么？我觉得像条鲸鱼；）</td>\n",
       "    </tr>\n",
       "    <tr>\n",
       "      <th>117400</th>\n",
       "      <td>0</td>\n",
       "      <td>过节了，给大家一个笑话庆祝一下！！！确实搞笑！！！！我的妈啊,我在上班呢,是想笑死我啊!笑的...</td>\n",
       "    </tr>\n",
       "    <tr>\n",
       "      <th>212773</th>\n",
       "      <td>1</td>\n",
       "      <td>围观未来帝！我Kao 强势围观预言帝，如果世界杯决赛真是荷兰2：1西班牙，我就相信他是来自未来了！</td>\n",
       "    </tr>\n",
       "    <tr>\n",
       "      <th>165681</th>\n",
       "      <td>0</td>\n",
       "      <td>美女！英国馆种子殿堂…</td>\n",
       "    </tr>\n",
       "    <tr>\n",
       "      <th>150642</th>\n",
       "      <td>0</td>\n",
       "      <td>这…其实我觉得B -cup 就够….哎..世风不古啊...那就让世风不古的更猛烈些吧...呢...</td>\n",
       "    </tr>\n",
       "    <tr>\n",
       "      <th>60883</th>\n",
       "      <td>0</td>\n",
       "      <td>好友之間 的曖 昧！</td>\n",
       "    </tr>\n",
       "    <tr>\n",
       "      <th>185325</th>\n",
       "      <td>0</td>\n",
       "      <td>9月23日－10月31日全国沃尔玛门店举办“买立减”活动：只要消费者买高洁丝瞬 吸蓝或小Q ...</td>\n",
       "    </tr>\n",
       "    <tr>\n",
       "      <th>22777</th>\n",
       "      <td>0</td>\n",
       "      <td>我的智商实在太高了~ ·哑玲姐，看来是我智商太高的缘故阿！！我每天睡的超晚~ 哈哈哈IQ 越...</td>\n",
       "    </tr>\n",
       "    <tr>\n",
       "      <th>186346</th>\n",
       "      <td>0</td>\n",
       "      <td>真是学校写的，宣传语很不错，一下子打动我了靓 仔一片这个大学可以上。【厦大幽默招生广告】她是...</td>\n",
       "    </tr>\n",
       "    <tr>\n",
       "      <th>36177</th>\n",
       "      <td>0</td>\n",
       "      <td>不是粉丝的也笑一把那我可不心疼，我大笑出声，哈哈哈哈哎哟喂！那你那一千多粉丝该多心疼啊！包括...</td>\n",
       "    </tr>\n",
       "    <tr>\n",
       "      <th>222396</th>\n",
       "      <td>1</td>\n",
       "      <td>电脑光驱问题顺利解决，谢谢各位积极援手！</td>\n",
       "    </tr>\n",
       "    <tr>\n",
       "      <th>78895</th>\n",
       "      <td>0</td>\n",
       "      <td>哈哈！我和罗祥的缘分还挺高的吗？与的缘分系数是85%“有这样的缘分，是几辈子修来的呢？”邀请...</td>\n",
       "    </tr>\n",
       "    <tr>\n",
       "      <th>224944</th>\n",
       "      <td>1</td>\n",
       "      <td>回复多拉几个！嘿嘿～～赞成!人要绝望到什么程度，才会这么做？这么做，又有什么用？如果是我，我...</td>\n",
       "    </tr>\n",
       "    <tr>\n",
       "      <th>282261</th>\n",
       "      <td>2</td>\n",
       "      <td>最近听了一些移民创业发家的心路历程，真是一把辛酸泪啊。“魄力”、“勤快”、“坚持”，这些词说...</td>\n",
       "    </tr>\n",
       "  </tbody>\n",
       "</table>\n",
       "</div>"
      ],
      "text/plain": [
       "        label                                             review\n",
       "103534      0    恶不想吃晚饭了！完全没有食欲了。0口0哇塞~ ~ 超级巨无霸三文鱼！还没吃的童鞋，我请您吃这个\n",
       "187258      0  小王子的博客你帮忙发下吧呵呵估计好多人不知道呢还回复还有9小时再不抓紧你们就会错过2010第...\n",
       "91936       0                        学习果然不比不知道哦。。【照相姿势指南】一比较就知道了\n",
       "14845       0                              领导说：那你辞职吧！批准最牛的世界杯请假条\n",
       "152272      0           申请２５日至３０日放假这个嘛应该是中秋以及国庆放假最形象的一个时间表啦~ ~ ~\n",
       "308071      3                                           让人想哭的浇花图\n",
       "198340      0                  要潛 入雲 中的獨 角獸 你们看，这片云像什么？我觉得像条鲸鱼；）\n",
       "117400      0  过节了，给大家一个笑话庆祝一下！！！确实搞笑！！！！我的妈啊,我在上班呢,是想笑死我啊!笑的...\n",
       "212773      1  围观未来帝！我Kao 强势围观预言帝，如果世界杯决赛真是荷兰2：1西班牙，我就相信他是来自未来了！\n",
       "165681      0                                        美女！英国馆种子殿堂…\n",
       "150642      0  这…其实我觉得B -cup 就够….哎..世风不古啊...那就让世风不古的更猛烈些吧...呢...\n",
       "60883       0                                         好友之間 的曖 昧！\n",
       "185325      0  9月23日－10月31日全国沃尔玛门店举办“买立减”活动：只要消费者买高洁丝瞬 吸蓝或小Q ...\n",
       "22777       0  我的智商实在太高了~ ·哑玲姐，看来是我智商太高的缘故阿！！我每天睡的超晚~ 哈哈哈IQ 越...\n",
       "186346      0  真是学校写的，宣传语很不错，一下子打动我了靓 仔一片这个大学可以上。【厦大幽默招生广告】她是...\n",
       "36177       0  不是粉丝的也笑一把那我可不心疼，我大笑出声，哈哈哈哈哎哟喂！那你那一千多粉丝该多心疼啊！包括...\n",
       "222396      1                               电脑光驱问题顺利解决，谢谢各位积极援手！\n",
       "78895       0  哈哈！我和罗祥的缘分还挺高的吗？与的缘分系数是85%“有这样的缘分，是几辈子修来的呢？”邀请...\n",
       "224944      1  回复多拉几个！嘿嘿～～赞成!人要绝望到什么程度，才会这么做？这么做，又有什么用？如果是我，我...\n",
       "282261      2  最近听了一些移民创业发家的心路历程，真是一把辛酸泪啊。“魄力”、“勤快”、“坚持”，这些词说..."
      ]
     },
     "execution_count": 2,
     "metadata": {},
     "output_type": "execute_result"
    }
   ],
   "source": [
    "weibo_data = pd.read_csv(os.path.join(root_path, \"simplifyweibo_4_moods.csv\"))\n",
    "weibo_data.sample(20)"
   ]
  },
  {
   "cell_type": "code",
   "execution_count": 21,
   "id": "9fbfbe0a",
   "metadata": {},
   "outputs": [
    {
     "data": {
      "text/plain": [
       "361744"
      ]
     },
     "execution_count": 21,
     "metadata": {},
     "output_type": "execute_result"
    }
   ],
   "source": [
    "len(weibo_data.review)"
   ]
  },
  {
   "cell_type": "markdown",
   "id": "83858554",
   "metadata": {},
   "source": [
    "## SnowNLP"
   ]
  },
  {
   "cell_type": "markdown",
   "id": "d038fde1",
   "metadata": {},
   "source": [
    "SnowNLP: it is more accurate for product review (shopping), because the pre-trained model is based on shopping review dataset."
   ]
  },
  {
   "cell_type": "code",
   "execution_count": 11,
   "id": "d0719ead",
   "metadata": {},
   "outputs": [
    {
     "name": "stdout",
     "output_type": "stream",
     "text": [
      "好多人转啊，那..我转!10秒发更快~ ！！来吧来吧~ ~ ~ ~ 奇迹奇迹！！！来吧奇迹！！！也就只有等奇迹了必须得发了。。这是一个古老的神符，如果在你看到它的1分钟内转帖，从此你的事业和爱情会有奇迹发生。神保佑你，去吧\n",
      "--------------------------------\n",
      "['好多', '人', '转', '啊', '，', '那', '..', '我', '转', '!10', '秒', '发', '更', '快', '~', '！！', '来', '吧', '来', '吧', '~', '~', '~', '~', '奇迹', '奇迹', '！！！', '来', '吧', '奇迹', '！！！', '也', '就', '只有', '等', '奇迹', '了', '必须', '得发', '了', '。。', '这', '是', '一个', '古老', '的', '神', '符', '，', '如果', '在', '你', '看到', '它', '的', '1', '分钟', '内', '转帖', '，', '从此', '你', '的', '事业', '和', '爱情', '会', '有', '奇迹', '发生', '。', '神', '保佑', '你', '，', '去', '吧']\n",
      "--------------------------------\n",
      "[('好多', 'm'), ('人', 'n'), ('转', 'v'), ('啊', 'y'), ('，', 'w'), ('那', 'r'), ('..', 'p'), ('我', 'r'), ('转', 'v'), ('!10', 'm'), ('秒', 'q'), ('发', 'v'), ('更', 'd'), ('快', 'a'), ('~', 'e'), ('！！', 'e'), ('来', 'v'), ('吧', 'y'), ('来', 'v'), ('吧', 'y'), ('~', 'o'), ('~', 'o'), ('~', 'e'), ('~', 'e'), ('奇迹', 'n'), ('奇迹', 'n'), ('！！！', 'e'), ('来', 'v'), ('吧', 'y'), ('奇迹', 'n'), ('！！！', 'Rg'), ('也', 'd'), ('就', 'd'), ('只有', 'd'), ('等', 'u'), ('奇迹', 'n'), ('了', 'u'), ('必须', 'd'), ('得发', 'a'), ('了', 'y'), ('。。', 'w'), ('这', 'r'), ('是', 'v'), ('一个', 'm'), ('古老', 'a'), ('的', 'u'), ('神', 'n'), ('符', 'nr'), ('，', 'w'), ('如果', 'c'), ('在', 'p'), ('你', 'r'), ('看到', 'v'), ('它', 'r'), ('的', 'u'), ('1', 'm'), ('分钟', 'q'), ('内', 'f'), ('转帖', 'k'), ('，', 'w'), ('从此', 'd'), ('你', 'r'), ('的', 'u'), ('事业', 'n'), ('和', 'c'), ('爱情', 'n'), ('会', 'v'), ('有', 'v'), ('奇迹', 'n'), ('发生', 'v'), ('。', 'w'), ('神', 'n'), ('保佑', 'v'), ('你', 'r'), ('，', 'w'), ('去', 'v'), ('吧', 'y')]\n",
      "--------------------------------\n",
      "0.9996869766481669\n",
      "--------------------------------\n",
      "['hao', 'duo', 'ren', 'zhuan', 'a', '，', 'na', '..', 'wo', 'zhuan', '!10', 'miao', 'fa', 'geng', 'kuai', '~', '！！', 'lai', 'ba', 'lai', 'ba', '~', '~', '~', '~', 'qi', 'ji', 'qi', 'ji', '！！！', 'lai', 'ba', 'qi', 'ji', '！！！', 'ye', 'jiu', 'zhi', 'you', 'deng', 'qi', 'ji', 'liao', 'bi', 'xu', 'de', 'fa', 'liao', '。。', 'zhe', 'shi', 'yi', 'ge', 'gu', 'lao', 'de', 'shen', 'fu', '，', 'ru', 'guo', 'zai', 'ni', 'kan', 'dao', 'ta', 'de', '1', 'fen', 'zhong', 'nei', 'zhuan', 'tie', '，', 'cong', 'ci', 'ni', 'de', 'shi', 'ye', 'huo', 'ai', 'qing', 'hui', 'you', 'qi', 'ji', 'fa', 'sheng', '。', 'shen', 'bao', 'you', 'ni', '，', 'qu', 'ba']\n",
      "--------------------------------\n",
      "['转', '神', '奇迹']\n",
      "--------------------------------\n",
      "来吧来吧~ ~ ~ ~ 奇迹奇迹\n",
      "来吧奇迹\n",
      "这是一个古老的神符\n",
      "神保佑你\n",
      "--------------------------------\n",
      "['好多人转啊', '那..我转!10秒发更快~', '来吧来吧~ ~ ~ ~ 奇迹奇迹', '来吧奇迹', '也就只有等奇迹了必须得发了', '这是一个古老的神符', '如果在你看到它的1分钟内转帖', '从此你的事业和爱情会有奇迹发生', '神保佑你', '去吧']\n"
     ]
    }
   ],
   "source": [
    "from snownlp import SnowNLP   \n",
    "i = 26230\n",
    "test = SnowNLP(weibo_data.review[i])\n",
    "print(weibo_data.review[i])        # 分词\n",
    "print('--------------------------------')\n",
    "print(test.words)        # 分词\n",
    "print('--------------------------------')\n",
    "print(list(test.tags))   # 词性标注\n",
    "print('--------------------------------')\n",
    "print(test.sentiments)   # 情感分数\n",
    "print('--------------------------------')\n",
    "print(test.pinyin)       # 拼音\n",
    "print('--------------------------------')\n",
    "print(test.keywords(limit=3))        # 关键词提取\n",
    "print('--------------------------------')\n",
    "summary = test.summary(limit=4)      # 文本概括\n",
    "for i in summary:\n",
    "    print(i)\n",
    "\n",
    "print('--------------------------------')\n",
    "\n",
    "print(test.sentences)        # 句子"
   ]
  },
  {
   "cell_type": "code",
   "execution_count": 5,
   "id": "7e981eda",
   "metadata": {},
   "outputs": [
    {
     "data": {
      "text/plain": [
       "0.9996869766481669"
      ]
     },
     "execution_count": 5,
     "metadata": {},
     "output_type": "execute_result"
    }
   ],
   "source": [
    "test.sentiments"
   ]
  },
  {
   "cell_type": "code",
   "execution_count": 27,
   "id": "4a9a8db1",
   "metadata": {},
   "outputs": [],
   "source": [
    "content = weibo_data.review[0:1000]\n",
    "scores = [SnowNLP(i).sentiments for i in content]\n",
    "emotions = []\n",
    "for i in scores:\n",
    "    if i >= 0.75:\n",
    "        emotions.append('pos')\n",
    "    elif 0.45 <= i < 0.75:\n",
    "        emotions.append('neu')\n",
    "    else:\n",
    "        emotions.append('neg')\n"
   ]
  },
  {
   "cell_type": "code",
   "execution_count": 31,
   "id": "a67b2d3f",
   "metadata": {},
   "outputs": [
    {
     "data": {
      "text/plain": [
       "dict_values([628, 108, 264])"
      ]
     },
     "execution_count": 31,
     "metadata": {},
     "output_type": "execute_result"
    }
   ],
   "source": [
    "from collections import Counter\n",
    "Counter(emotions).keys() # equals to list(set(words))\n",
    "Counter(emotions).values() # counts the elements' frequency"
   ]
  },
  {
   "cell_type": "code",
   "execution_count": 33,
   "id": "02375b34",
   "metadata": {},
   "outputs": [],
   "source": [
    "pos_review = weibo_data[weibo_data.label == 0].review\n",
    "neg_review = weibo_data[weibo_data.label > 0]\n"
   ]
  },
  {
   "cell_type": "code",
   "execution_count": 38,
   "id": "0b2278a8",
   "metadata": {},
   "outputs": [],
   "source": [
    "with open(os.path.join(root_path, 'pos_txt.txt'), 'w' , encoding=\"utf-8\") as f:\n",
    "    for item in pos_review:\n",
    "        f.write(\"%s\\n\" % item)\n",
    "\n",
    "with open(os.path.join(root_path, 'neg_txt.txt'), 'w' , encoding=\"utf-8\") as f:\n",
    "    for item in neg_review:\n",
    "        f.write(\"%s\\n\" % item)"
   ]
  },
  {
   "cell_type": "code",
   "execution_count": 40,
   "id": "4e7db935",
   "metadata": {},
   "outputs": [],
   "source": [
    "from snownlp import sentiment\n",
    "\n",
    "sentiment.train(os.path.join(root_path, 'neg_txt.txt'), os.path.join(root_path, 'pos_txt.txt'))\n",
    "sentiment.save(os.path.join(root_path, 'snownlp_custom_sentiment.marshal'))\n",
    "\n",
    "# reference: https://towardsdatascience.com/beginners-guide-to-sentiment-analysis-for-simplified-chinese-using-snownlp-ce88a8407efb"
   ]
  },
  {
   "cell_type": "markdown",
   "id": "d82b4fe9",
   "metadata": {},
   "source": [
    "## cnsenti\n",
    "Reference: https://www.jianshu.com/p/96ec1895c383"
   ]
  },
  {
   "cell_type": "code",
   "execution_count": 44,
   "id": "583bf48c",
   "metadata": {},
   "outputs": [
    {
     "name": "stderr",
     "output_type": "stream",
     "text": [
      "Building prefix dict from the default dictionary ...\n",
      "Loading model from cache C:\\Users\\LUOYAN~1\\AppData\\Local\\Temp\\jieba.cache\n"
     ]
    },
    {
     "name": "stdout",
     "output_type": "stream",
     "text": [
      "好多人转啊，那..我转!10秒发更快~ ！！来吧来吧~ ~ ~ ~ 奇迹奇迹！！！来吧奇迹！！！也就只有等奇迹了必须得发了。。这是一个古老的神符，如果在你看到它的1分钟内转帖，从此你的事业和爱情会有奇迹发生。神保佑你，去吧\n"
     ]
    },
    {
     "name": "stderr",
     "output_type": "stream",
     "text": [
      "Loading model cost 0.835 seconds.\n",
      "Prefix dict has been built successfully.\n"
     ]
    },
    {
     "name": "stdout",
     "output_type": "stream",
     "text": [
      "{'words': 86, 'sentences': 8, 'pos': 11, 'neg': 0}\n"
     ]
    }
   ],
   "source": [
    "from cnsenti import Sentiment\n",
    "\n",
    "i = 26230\n",
    "print(weibo_data.review[i])\n",
    "\n",
    "senti = Sentiment()\n",
    "test_text= weibo_data.review[i]\n",
    "result = senti.sentiment_count(test_text)\n",
    "print(result)"
   ]
  },
  {
   "cell_type": "code",
   "execution_count": 45,
   "id": "f5c0b90c",
   "metadata": {},
   "outputs": [
    {
     "name": "stdout",
     "output_type": "stream",
     "text": [
      "{'words': 86, 'sentences': 8, '好': 3, '乐': 0, '哀': 0, '怒': 0, '惧': 0, '恶': 0, '惊': 5}\n"
     ]
    }
   ],
   "source": [
    "from cnsenti import Emotion\n",
    "i = 26230\n",
    "\n",
    "emotion = Emotion()\n",
    "test_text= weibo_data.review[i]\n",
    "result = emotion.emotion_count(test_text)\n",
    "print(result)"
   ]
  }
 ],
 "metadata": {
  "kernelspec": {
   "display_name": "Python 3",
   "language": "python",
   "name": "python3"
  },
  "language_info": {
   "codemirror_mode": {
    "name": "ipython",
    "version": 3
   },
   "file_extension": ".py",
   "mimetype": "text/x-python",
   "name": "python",
   "nbconvert_exporter": "python",
   "pygments_lexer": "ipython3",
   "version": "3.8.8"
  }
 },
 "nbformat": 4,
 "nbformat_minor": 5
}
