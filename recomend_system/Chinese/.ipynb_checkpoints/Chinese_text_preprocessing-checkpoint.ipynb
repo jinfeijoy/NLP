{
 "cells": [
  {
   "cell_type": "code",
   "execution_count": 13,
   "id": "56821b58",
   "metadata": {},
   "outputs": [],
   "source": [
    "import pandas as pd\n",
    "import numpy as np\n",
    "import io\n",
    "import os\n",
    "import re\n",
    "import sys\n",
    "from pandasql import sqldf\n",
    "from sklearn.model_selection import train_test_split\n",
    "from scipy.sparse import coo_matrix\n",
    "import jieba\n",
    "root_path = 'C:\\\\Users\\\\luoyan011\\\\Desktop\\\\PersonalLearning\\\\GitHub\\\\NLP_data\\\\simplifyweibo_4_moods'\n",
    "sys.path.append('C:\\\\Users\\\\luoyan011\\\\Desktop\\\\PersonalLearning\\\\GitHub\\\\python_functions\\\\jl_nlp_pkg')\n"
   ]
  },
  {
   "cell_type": "markdown",
   "id": "4b267fc4",
   "metadata": {},
   "source": [
    "Chinese NLP Corpus Dataset: https://github.com/SophonPlus/ChineseNlpCorpus\n",
    "\n",
    "Chinese Word Vectors:\n",
    "* https://github.com/Embedding/Chinese-Word-Vectors\n",
    "* https://github.com/SophonPlus/ChineseWordVectors\n",
    "\n",
    "[Chinese Corpus Package](https://www.52nlp.cn/python%E4%B8%AD%E6%96%87%E5%88%86%E8%AF%8D%E5%B7%A5%E5%85%B7-%E5%90%88%E9%9B%86-%E5%88%86%E8%AF%8D%E5%AE%89%E8%A3%85-%E5%88%86%E8%AF%8D%E4%BD%BF%E7%94%A8-%E5%88%86%E8%AF%8D%E6%B5%8B%E8%AF%95)"
   ]
  },
  {
   "cell_type": "code",
   "execution_count": 12,
   "id": "b4231e17",
   "metadata": {},
   "outputs": [
    {
     "data": {
      "text/html": [
       "<div>\n",
       "<style scoped>\n",
       "    .dataframe tbody tr th:only-of-type {\n",
       "        vertical-align: middle;\n",
       "    }\n",
       "\n",
       "    .dataframe tbody tr th {\n",
       "        vertical-align: top;\n",
       "    }\n",
       "\n",
       "    .dataframe thead th {\n",
       "        text-align: right;\n",
       "    }\n",
       "</style>\n",
       "<table border=\"1\" class=\"dataframe\">\n",
       "  <thead>\n",
       "    <tr style=\"text-align: right;\">\n",
       "      <th></th>\n",
       "      <th>label</th>\n",
       "      <th>review</th>\n",
       "    </tr>\n",
       "  </thead>\n",
       "  <tbody>\n",
       "    <tr>\n",
       "      <th>6989</th>\n",
       "      <td>0</td>\n",
       "      <td>恭喜毕总！我正好缺一部小四，哈哈！围脖的力量无穷大呀，昨日刚刚在围脖上小发了下，乐淘Ipho...</td>\n",
       "    </tr>\n",
       "    <tr>\n",
       "      <th>149368</th>\n",
       "      <td>0</td>\n",
       "      <td>好活动，支持越淘越开心一台联想S10 -3笔记本电脑，是一次全新的发现之旅。越淘越开心精心准...</td>\n",
       "    </tr>\n",
       "    <tr>\n",
       "      <th>327071</th>\n",
       "      <td>3</td>\n",
       "      <td>。今日超淤.......;嗚 嗚 嗚</td>\n",
       "    </tr>\n",
       "    <tr>\n",
       "      <th>56986</th>\n",
       "      <td>0</td>\n",
       "      <td>终于来中国了~ ~ ~ 好开心</td>\n",
       "    </tr>\n",
       "    <tr>\n",
       "      <th>328254</th>\n",
       "      <td>3</td>\n",
       "      <td>做得真赞啊，又勾起我想看《争霸》了记得以前转过这一组MV ，非常好怎可以如此美丽～～～刚才那...</td>\n",
       "    </tr>\n",
       "    <tr>\n",
       "      <th>7664</th>\n",
       "      <td>0</td>\n",
       "      <td>“真实的观察，只有在放弃形式之后才可以获得，而真正的自由意见也只可在跳出制度以外才能发生。能...</td>\n",
       "    </tr>\n",
       "    <tr>\n",
       "      <th>6745</th>\n",
       "      <td>0</td>\n",
       "      <td>恋爱通告！···8月观影指南，欢迎围观，世界杯过后，大家可以选择去影院消夏了3阿黛拉非凡冒险...</td>\n",
       "    </tr>\n",
       "    <tr>\n",
       "      <th>315458</th>\n",
       "      <td>3</td>\n",
       "      <td>对说：你懂的书剑恩仇录郑少秋---本港台</td>\n",
       "    </tr>\n",
       "    <tr>\n",
       "      <th>330871</th>\n",
       "      <td>3</td>\n",
       "      <td>回复是啊，佳妮走之前找你来着，我们说你可能已经走啦，可惜啊昨天后悔先走了，以为芝麻都走了呢，...</td>\n",
       "    </tr>\n",
       "    <tr>\n",
       "      <th>283133</th>\n",
       "      <td>2</td>\n",
       "      <td>干S 我算了。真不知道这脸都换了几层皮了。。。到冬天可怎么办涅</td>\n",
       "    </tr>\n",
       "    <tr>\n",
       "      <th>260836</th>\n",
       "      <td>2</td>\n",
       "      <td>对我来说没区别周末都是机房里啊啊啊啊(⊙o ⊙)。明天周一！！@ 作业本</td>\n",
       "    </tr>\n",
       "    <tr>\n",
       "      <th>279554</th>\n",
       "      <td>2</td>\n",
       "      <td>这个，无论如何，要表扬一下。老头也真是够辛苦了。温家宝再次赴青海玉树地震灾区考察】5月1日下...</td>\n",
       "    </tr>\n",
       "    <tr>\n",
       "      <th>219577</th>\n",
       "      <td>1</td>\n",
       "      <td>哈哈哈。。没有了什么我们都不怕，我们谁都不理我们集体傲娇你个大龄女愤青~ ~ ~ 没有了QQ...</td>\n",
       "    </tr>\n",
       "    <tr>\n",
       "      <th>19437</th>\n",
       "      <td>0</td>\n",
       "      <td>任老这里从不缺好博～回复不够资格。（联合早报网讯）香港明报报道，微软创办人盖茨和「 股神」 ...</td>\n",
       "    </tr>\n",
       "    <tr>\n",
       "      <th>139086</th>\n",
       "      <td>0</td>\n",
       "      <td>好可爱哦咒怨娃卸了妆好帅气啊~ ~ 祝你開 心的長 大哦,心裡 別 留下陰 影喔.........</td>\n",
       "    </tr>\n",
       "    <tr>\n",
       "      <th>239726</th>\n",
       "      <td>1</td>\n",
       "      <td>我也想要!!~ 这应该会让所有女人都失控吧？~ 我承认，我疯了！</td>\n",
       "    </tr>\n",
       "    <tr>\n",
       "      <th>79880</th>\n",
       "      <td>0</td>\n",
       "      <td>GREE 的空调很好啊.我家就是.好消息：金秋十月参加格力空调关注有奖活动，价值50元的移动...</td>\n",
       "    </tr>\n",
       "    <tr>\n",
       "      <th>26230</th>\n",
       "      <td>0</td>\n",
       "      <td>好多人转啊，那..我转!10秒发更快~ ！！来吧来吧~ ~ ~ ~ 奇迹奇迹！！！来吧奇迹！...</td>\n",
       "    </tr>\n",
       "    <tr>\n",
       "      <th>46882</th>\n",
       "      <td>0</td>\n",
       "      <td>期待了很久哇哈哈，没得玩，就吃吧！向大家推荐一部美食电影《美食、祈祷和恋爱》(Eat Pra...</td>\n",
       "    </tr>\n",
       "    <tr>\n",
       "      <th>162871</th>\n",
       "      <td>0</td>\n",
       "      <td>中国就是人多。世界各地精彩的人类进化史~ （via@ 史上第一最最搞）</td>\n",
       "    </tr>\n",
       "  </tbody>\n",
       "</table>\n",
       "</div>"
      ],
      "text/plain": [
       "        label                                             review\n",
       "6989        0  恭喜毕总！我正好缺一部小四，哈哈！围脖的力量无穷大呀，昨日刚刚在围脖上小发了下，乐淘Ipho...\n",
       "149368      0  好活动，支持越淘越开心一台联想S10 -3笔记本电脑，是一次全新的发现之旅。越淘越开心精心准...\n",
       "327071      3                                 。今日超淤.......;嗚 嗚 嗚\n",
       "56986       0                                    终于来中国了~ ~ ~ 好开心\n",
       "328254      3  做得真赞啊，又勾起我想看《争霸》了记得以前转过这一组MV ，非常好怎可以如此美丽～～～刚才那...\n",
       "7664        0  “真实的观察，只有在放弃形式之后才可以获得，而真正的自由意见也只可在跳出制度以外才能发生。能...\n",
       "6745        0  恋爱通告！···8月观影指南，欢迎围观，世界杯过后，大家可以选择去影院消夏了3阿黛拉非凡冒险...\n",
       "315458      3                               对说：你懂的书剑恩仇录郑少秋---本港台\n",
       "330871      3  回复是啊，佳妮走之前找你来着，我们说你可能已经走啦，可惜啊昨天后悔先走了，以为芝麻都走了呢，...\n",
       "283133      2                    干S 我算了。真不知道这脸都换了几层皮了。。。到冬天可怎么办涅\n",
       "260836      2               对我来说没区别周末都是机房里啊啊啊啊(⊙o ⊙)。明天周一！！@ 作业本\n",
       "279554      2  这个，无论如何，要表扬一下。老头也真是够辛苦了。温家宝再次赴青海玉树地震灾区考察】5月1日下...\n",
       "219577      1  哈哈哈。。没有了什么我们都不怕，我们谁都不理我们集体傲娇你个大龄女愤青~ ~ ~ 没有了QQ...\n",
       "19437       0  任老这里从不缺好博～回复不够资格。（联合早报网讯）香港明报报道，微软创办人盖茨和「 股神」 ...\n",
       "139086      0  好可爱哦咒怨娃卸了妆好帅气啊~ ~ 祝你開 心的長 大哦,心裡 別 留下陰 影喔.........\n",
       "239726      1                   我也想要!!~ 这应该会让所有女人都失控吧？~ 我承认，我疯了！\n",
       "79880       0  GREE 的空调很好啊.我家就是.好消息：金秋十月参加格力空调关注有奖活动，价值50元的移动...\n",
       "26230       0  好多人转啊，那..我转!10秒发更快~ ！！来吧来吧~ ~ ~ ~ 奇迹奇迹！！！来吧奇迹！...\n",
       "46882       0  期待了很久哇哈哈，没得玩，就吃吧！向大家推荐一部美食电影《美食、祈祷和恋爱》(Eat Pra...\n",
       "162871      0                中国就是人多。世界各地精彩的人类进化史~ （via@ 史上第一最最搞）"
      ]
     },
     "execution_count": 12,
     "metadata": {},
     "output_type": "execute_result"
    }
   ],
   "source": [
    "weibo_data = pd.read_csv(os.path.join(root_path, \"simplifyweibo_4_moods.csv\"))\n",
    "weibo_data.sample(20)"
   ]
  },
  {
   "cell_type": "code",
   "execution_count": 11,
   "id": "d3eb4cb1",
   "metadata": {},
   "outputs": [
    {
     "name": "stdout",
     "output_type": "stream",
     "text": [
      "微博数目（总体）：361744\n",
      "微博数目（喜悦）：199496\n",
      "微博数目（愤怒）：51714\n",
      "微博数目（厌恶）：55267\n",
      "微博数目（低落）：55267\n"
     ]
    }
   ],
   "source": [
    "moods = {0: '喜悦', 1: '愤怒', 2: '厌恶', 3: '低落'}\n",
    "\n",
    "print('微博数目（总体）：%d' % weibo_data.shape[0])\n",
    "\n",
    "for label, mood in moods.items(): \n",
    "    print('微博数目（{}）：{}'.format(mood,  weibo_data[weibo_data.label==label].shape[0]))"
   ]
  },
  {
   "cell_type": "code",
   "execution_count": 18,
   "id": "be851db4",
   "metadata": {},
   "outputs": [
    {
     "name": "stdout",
     "output_type": "stream",
     "text": [
      "好多;人转;啊;，;那;..;我;转;!;10;秒;发;更;快;~; ;！;！;来;吧;来;吧;~; ;~; ;~; ;~; ;奇迹;奇迹;！;！;！;来;吧;奇迹;！;！;！;也;就;只有;等;奇迹;了;必须;得发;了;。;。;这是;一个;古老;的;神符;，;如果;在;你;看到;它;的;1;分钟;内转;帖;，;从此;你;的;事业;和;爱情;会;有;奇迹;发生;。;神;保佑;你;，;去;吧\n"
     ]
    }
   ],
   "source": [
    "import jieba\n",
    "test = jieba.cut(weibo_data.review[26230])\n",
    "print(';'.join(test))"
   ]
  },
  {
   "cell_type": "code",
   "execution_count": 21,
   "id": "8aaca6f6",
   "metadata": {},
   "outputs": [
    {
     "name": "stdout",
     "output_type": "stream",
     "text": [
      "好多;人;转;啊;，;那;..;我;转;!10;秒;发;更;快;~;！！;来;吧;来;吧;~;~;~;~;奇迹;奇迹;！！！;来;吧;奇迹;！！！;也;就;只有;等;奇迹;了;必须;得发;了;。。;这;是;一个;古老;的;神;符;，;如果;在;你;看到;它;的;1;分钟;内;转帖;，;从此;你;的;事业;和;爱情;会;有;奇迹;发生;。;神;保佑;你;，;去;吧\n"
     ]
    }
   ],
   "source": [
    "from snownlp import SnowNLP   \n",
    "test = SnowNLP(weibo_data.review[26230])\n",
    "print(';'.join(test.words)) "
   ]
  },
  {
   "cell_type": "code",
   "execution_count": 22,
   "id": "7de92dec",
   "metadata": {},
   "outputs": [
    {
     "ename": "ModuleNotFoundError",
     "evalue": "No module named 'LAC'",
     "output_type": "error",
     "traceback": [
      "\u001b[1;31m---------------------------------------------------------------------------\u001b[0m",
      "\u001b[1;31mModuleNotFoundError\u001b[0m                       Traceback (most recent call last)",
      "\u001b[1;32m<ipython-input-22-a1911e172c6a>\u001b[0m in \u001b[0;36m<module>\u001b[1;34m\u001b[0m\n\u001b[1;32m----> 1\u001b[1;33m \u001b[1;32mfrom\u001b[0m \u001b[0mLAC\u001b[0m \u001b[1;32mimport\u001b[0m \u001b[0mLAC\u001b[0m\u001b[1;33m\u001b[0m\u001b[1;33m\u001b[0m\u001b[0m\n\u001b[0m\u001b[0;32m      2\u001b[0m \u001b[0mbseg\u001b[0m \u001b[1;33m=\u001b[0m \u001b[0mLAC\u001b[0m\u001b[1;33m(\u001b[0m\u001b[0mmode\u001b[0m\u001b[1;33m=\u001b[0m\u001b[1;34m'seg'\u001b[0m\u001b[1;33m)\u001b[0m\u001b[1;33m\u001b[0m\u001b[1;33m\u001b[0m\u001b[0m\n\u001b[0;32m      3\u001b[0m \u001b[0mtest\u001b[0m \u001b[1;33m=\u001b[0m \u001b[0mbseg\u001b[0m\u001b[1;33m.\u001b[0m\u001b[0mrun\u001b[0m\u001b[1;33m(\u001b[0m\u001b[0mweibo_data\u001b[0m\u001b[1;33m.\u001b[0m\u001b[0mreview\u001b[0m\u001b[1;33m[\u001b[0m\u001b[1;36m26230\u001b[0m\u001b[1;33m]\u001b[0m\u001b[1;33m)\u001b[0m\u001b[1;33m\u001b[0m\u001b[1;33m\u001b[0m\u001b[0m\n\u001b[0;32m      4\u001b[0m \u001b[0mprint\u001b[0m\u001b[1;33m(\u001b[0m\u001b[0mtest\u001b[0m\u001b[1;33m)\u001b[0m\u001b[1;33m\u001b[0m\u001b[1;33m\u001b[0m\u001b[0m\n",
      "\u001b[1;31mModuleNotFoundError\u001b[0m: No module named 'LAC'"
     ]
    }
   ],
   "source": [
    "from LAC import LAC\n",
    "bseg = LAC(mode='seg')\n",
    "test = bseg.run(weibo_data.review[26230])\n",
    "print(test) "
   ]
  },
  {
   "cell_type": "code",
   "execution_count": 23,
   "id": "8ce5fc3f",
   "metadata": {},
   "outputs": [
    {
     "name": "stdout",
     "output_type": "stream",
     "text": [
      "['好多', '人', '转', '啊', '，', '那', '..', '我', '转', '!', '10', '秒发', '更', '快', '~', '！！', '来', '吧', '来', '吧', '~', '~', '~', '~', '奇迹', '奇迹', '！！！', '来', '吧', '奇迹', '！！！', '也', '就', '只有', '等', '奇迹', '了', '必须', '得', '发', '了', '。。', '这是', '一个', '古老', '的', '神符', '，', '如果', '在', '你', '看到', '它', '的', '1', '分钟', '内', '转帖', '，', '从此', '你', '的', '事业', '和', '爱情', '会', '有', '奇迹', '发生', '。', '神保佑', '你', '，', '去', '吧']\n"
     ]
    }
   ],
   "source": [
    "import pkuseg\n",
    "pseg = pkuseg.pkuseg()\n",
    "print(pseg.cut(weibo_data.review[26230]))"
   ]
  },
  {
   "cell_type": "code",
   "execution_count": 24,
   "id": "1f996687",
   "metadata": {},
   "outputs": [
    {
     "ename": "ModuleNotFoundError",
     "evalue": "No module named 'stanfordcorenlp'",
     "output_type": "error",
     "traceback": [
      "\u001b[1;31m---------------------------------------------------------------------------\u001b[0m",
      "\u001b[1;31mModuleNotFoundError\u001b[0m                       Traceback (most recent call last)",
      "\u001b[1;32m<ipython-input-24-26d1f536a64f>\u001b[0m in \u001b[0;36m<module>\u001b[1;34m\u001b[0m\n\u001b[1;32m----> 1\u001b[1;33m \u001b[1;32mimport\u001b[0m \u001b[0mstanfordcorenlp\u001b[0m\u001b[1;33m\u001b[0m\u001b[1;33m\u001b[0m\u001b[0m\n\u001b[0m",
      "\u001b[1;31mModuleNotFoundError\u001b[0m: No module named 'stanfordcorenlp'"
     ]
    }
   ],
   "source": [
    "import stanfordcorenlp"
   ]
  }
 ],
 "metadata": {
  "kernelspec": {
   "display_name": "Python 3",
   "language": "python",
   "name": "python3"
  },
  "language_info": {
   "codemirror_mode": {
    "name": "ipython",
    "version": 3
   },
   "file_extension": ".py",
   "mimetype": "text/x-python",
   "name": "python",
   "nbconvert_exporter": "python",
   "pygments_lexer": "ipython3",
   "version": "3.8.8"
  }
 },
 "nbformat": 4,
 "nbformat_minor": 5
}
