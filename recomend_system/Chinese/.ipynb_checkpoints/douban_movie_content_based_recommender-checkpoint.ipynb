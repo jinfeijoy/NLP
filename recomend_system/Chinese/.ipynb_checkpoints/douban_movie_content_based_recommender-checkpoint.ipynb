{
 "cells": [
  {
   "cell_type": "code",
   "execution_count": 1,
   "id": "d67bc4b0",
   "metadata": {},
   "outputs": [
    {
     "name": "stderr",
     "output_type": "stream",
     "text": [
      "C:\\Users\\luoyan011\\.conda\\envs\\nlp\\lib\\site-packages\\gensim\\similarities\\__init__.py:15: UserWarning: The gensim.similarities.levenshtein submodule is disabled, because the optional Levenshtein package <https://pypi.org/project/python-Levenshtein/> is unavailable. Install Levenhstein (e.g. `pip install python-Levenshtein`) to suppress this warning.\n",
      "  warnings.warn(msg)\n"
     ]
    }
   ],
   "source": [
    "import pandas as pd\n",
    "import numpy as np\n",
    "import io\n",
    "import os\n",
    "import re\n",
    "import sys\n",
    "from pandasql import sqldf\n",
    "from sklearn.model_selection import train_test_split\n",
    "from scipy.sparse import coo_matrix\n",
    "import jieba\n",
    "import json\n",
    "root_path = 'C:\\\\Users\\\\luoyan011\\\\Desktop\\\\PersonalLearning\\\\GitHub\\\\NLP_data\\\\chinese_recommender'\n",
    "sys.path.append('C:\\\\Users\\\\luoyan011\\\\Desktop\\\\PersonalLearning\\\\GitHub\\\\python_functions\\\\jl_nlp_pkg')\n",
    "stop_words_path = 'C:\\\\Users\\\\luoyan011\\\\Desktop\\\\PersonalLearning\\\\GitHub\\\\NLP\\\\recomend_system\\\\Chinese\\\\hit_stopwords.txt'\n",
    "\n",
    "sys.path.append('C:\\\\Users\\\\luoyan011\\\\Desktop\\\\PersonalLearning\\\\GitHub\\\\python_functions\\\\jl_nlp_pkg')\n",
    "import nlpbasic.dataExploration as DataExploration\n",
    "import nlpbasic.lda as lda\n",
    "import nlpbasic.tfidf as tfidf\n",
    "import nlpbasic.dataExploration as dataExploration"
   ]
  },
  {
   "cell_type": "code",
   "execution_count": 2,
   "id": "cee7ca24",
   "metadata": {},
   "outputs": [
    {
     "data": {
      "text/html": [
       "<div>\n",
       "<style scoped>\n",
       "    .dataframe tbody tr th:only-of-type {\n",
       "        vertical-align: middle;\n",
       "    }\n",
       "\n",
       "    .dataframe tbody tr th {\n",
       "        vertical-align: top;\n",
       "    }\n",
       "\n",
       "    .dataframe thead th {\n",
       "        text-align: right;\n",
       "    }\n",
       "</style>\n",
       "<table border=\"1\" class=\"dataframe\">\n",
       "  <thead>\n",
       "    <tr style=\"text-align: right;\">\n",
       "      <th></th>\n",
       "      <th>序号</th>\n",
       "      <th>片名</th>\n",
       "      <th>评分</th>\n",
       "      <th>导演</th>\n",
       "      <th>主演</th>\n",
       "      <th>一句话点评</th>\n",
       "    </tr>\n",
       "  </thead>\n",
       "  <tbody>\n",
       "    <tr>\n",
       "      <th>0</th>\n",
       "      <td>1</td>\n",
       "      <td>肖申克的救赎</td>\n",
       "      <td>9.7</td>\n",
       "      <td>弗兰克·德拉邦特</td>\n",
       "      <td>蒂姆·罗宾斯</td>\n",
       "      <td>希望让人自由。</td>\n",
       "    </tr>\n",
       "    <tr>\n",
       "      <th>1</th>\n",
       "      <td>2</td>\n",
       "      <td>霸王别姬</td>\n",
       "      <td>9.6</td>\n",
       "      <td>陈凯歌</td>\n",
       "      <td>张国荣</td>\n",
       "      <td>风华绝代。</td>\n",
       "    </tr>\n",
       "    <tr>\n",
       "      <th>2</th>\n",
       "      <td>3</td>\n",
       "      <td>阿甘正传</td>\n",
       "      <td>9.5</td>\n",
       "      <td>罗伯特·泽米吉斯</td>\n",
       "      <td>汤姆·汉克斯</td>\n",
       "      <td>一部美国近现代史。</td>\n",
       "    </tr>\n",
       "  </tbody>\n",
       "</table>\n",
       "</div>"
      ],
      "text/plain": [
       "   序号      片名   评分        导演      主演      一句话点评\n",
       "0   1  肖申克的救赎  9.7  弗兰克·德拉邦特  蒂姆·罗宾斯    希望让人自由。\n",
       "1   2    霸王别姬  9.6       陈凯歌     张国荣      风华绝代。\n",
       "2   3    阿甘正传  9.5  罗伯特·泽米吉斯  汤姆·汉克斯  一部美国近现代史。"
      ]
     },
     "execution_count": 2,
     "metadata": {},
     "output_type": "execute_result"
    }
   ],
   "source": [
    "douban_data = dfs = pd.read_excel(os.path.join(root_path, \"douban.xlsx\"),sheet_name='Sheet')\n",
    "douban_data.head(3)"
   ]
  },
  {
   "cell_type": "code",
   "execution_count": 3,
   "id": "cfaaf100",
   "metadata": {},
   "outputs": [],
   "source": [
    "douban_data['content'] = douban_data['导演'] + douban_data['主演'] + douban_data['一句话点评'] + douban_data['片名']"
   ]
  },
  {
   "cell_type": "code",
   "execution_count": 4,
   "id": "b3d3ba7c",
   "metadata": {},
   "outputs": [
    {
     "data": {
      "text/html": [
       "<div>\n",
       "<style scoped>\n",
       "    .dataframe tbody tr th:only-of-type {\n",
       "        vertical-align: middle;\n",
       "    }\n",
       "\n",
       "    .dataframe tbody tr th {\n",
       "        vertical-align: top;\n",
       "    }\n",
       "\n",
       "    .dataframe thead th {\n",
       "        text-align: right;\n",
       "    }\n",
       "</style>\n",
       "<table border=\"1\" class=\"dataframe\">\n",
       "  <thead>\n",
       "    <tr style=\"text-align: right;\">\n",
       "      <th></th>\n",
       "      <th>序号</th>\n",
       "      <th>片名</th>\n",
       "      <th>评分</th>\n",
       "      <th>导演</th>\n",
       "      <th>主演</th>\n",
       "      <th>一句话点评</th>\n",
       "      <th>content</th>\n",
       "    </tr>\n",
       "  </thead>\n",
       "  <tbody>\n",
       "    <tr>\n",
       "      <th>0</th>\n",
       "      <td>1</td>\n",
       "      <td>肖申克的救赎</td>\n",
       "      <td>9.7</td>\n",
       "      <td>弗兰克·德拉邦特</td>\n",
       "      <td>蒂姆·罗宾斯</td>\n",
       "      <td>希望让人自由。</td>\n",
       "      <td>弗兰克·德拉邦特蒂姆·罗宾斯希望让人自由。肖申克的救赎</td>\n",
       "    </tr>\n",
       "    <tr>\n",
       "      <th>1</th>\n",
       "      <td>2</td>\n",
       "      <td>霸王别姬</td>\n",
       "      <td>9.6</td>\n",
       "      <td>陈凯歌</td>\n",
       "      <td>张国荣</td>\n",
       "      <td>风华绝代。</td>\n",
       "      <td>陈凯歌张国荣风华绝代。霸王别姬</td>\n",
       "    </tr>\n",
       "    <tr>\n",
       "      <th>2</th>\n",
       "      <td>3</td>\n",
       "      <td>阿甘正传</td>\n",
       "      <td>9.5</td>\n",
       "      <td>罗伯特·泽米吉斯</td>\n",
       "      <td>汤姆·汉克斯</td>\n",
       "      <td>一部美国近现代史。</td>\n",
       "      <td>罗伯特·泽米吉斯汤姆·汉克斯一部美国近现代史。阿甘正传</td>\n",
       "    </tr>\n",
       "  </tbody>\n",
       "</table>\n",
       "</div>"
      ],
      "text/plain": [
       "   序号      片名   评分        导演      主演      一句话点评                      content\n",
       "0   1  肖申克的救赎  9.7  弗兰克·德拉邦特  蒂姆·罗宾斯    希望让人自由。  弗兰克·德拉邦特蒂姆·罗宾斯希望让人自由。肖申克的救赎\n",
       "1   2    霸王别姬  9.6       陈凯歌     张国荣      风华绝代。              陈凯歌张国荣风华绝代。霸王别姬\n",
       "2   3    阿甘正传  9.5  罗伯特·泽米吉斯  汤姆·汉克斯  一部美国近现代史。  罗伯特·泽米吉斯汤姆·汉克斯一部美国近现代史。阿甘正传"
      ]
     },
     "execution_count": 4,
     "metadata": {},
     "output_type": "execute_result"
    }
   ],
   "source": [
    "douban_data.head(3)"
   ]
  },
  {
   "cell_type": "code",
   "execution_count": 5,
   "id": "e4f8bdfe",
   "metadata": {},
   "outputs": [
    {
     "name": "stdout",
     "output_type": "stream",
     "text": [
      "start read stopwords data.\n",
      "['———', '》），', '）÷（１－', '”，', '）、', '＝（', ':', '→', '℃', '&', '*', '一一', '~~~~', '’', '.', '『', '.一', './', '--', '』', '＝″', '【', '［＊］', '｝＞', '［⑤］］', '［①Ｄ］', 'ｃ］', 'ｎｇ昉', '＊', '//', '［', '］', '［②ｅ］', '［②ｇ］', '＝｛', '}', '，也', '‘', 'Ａ', '［①⑥］', '［②Ｂ］', '［①ａ］', '［④ａ］', '［①③］', '［③ｈ］', '③］', '１．', '－－', '［②ｂ］', '’‘', '×××', '［①⑧］', '０：２', '＝［', '［⑤ｂ］', '［②ｃ］', '［④ｂ］', '［②③］', '［③ａ］', '［④ｃ］', '［①⑤］', '［①⑦］', '［①ｇ］', '∈［', '［①⑨］', '［①④］', '［①ｃ］', '［②ｆ］', '［②⑧］', '［②①］', '［①Ｃ］', '［③ｃ］', '［③ｇ］', '［②⑤］', '［②②］', '一.', '［①ｈ］', '.数', '［］', '［①Ｂ］', '数/', '［①ｉ］', '［③ｅ］', '［①①］', '［④ｄ］', '［④ｅ］', '［③ｂ］', '［⑤ａ］', '［①Ａ］', '［②⑧］', '［②⑦］', '［①ｄ］', '［②ｊ］', '〕〔', '］［', '://', '′∈', '［②④', '［⑤ｅ］', '１２％', 'ｂ］', '...', '...................', '…………………………………………………③', 'ＺＸＦＩＴＬ', '［③Ｆ］', '」', '［①ｏ］', '］∧′＝［', '∪φ∈', '′｜', '｛－', '②ｃ', '｝', '［③①］', 'Ｒ．Ｌ．', '［①Ｅ］', 'Ψ', '－［＊］－', '↑', '.日', '［②ｄ］', '［②', '［②⑦］', '［②②］', '［③ｅ］', '［①ｉ］', '［①Ｂ］', '［①ｈ］', '［①ｄ］', '［①ｇ］', '［①②］', '［②ａ］', 'ｆ］', '［⑩］', 'ａ］', '［①ｅ］', '［②ｈ］', '［②⑥］', '［③ｄ］', '［②⑩］', 'ｅ］', '〉', '】', '元／吨', '［②⑩］', '２．３％', '５：０', '［①］', '::', '［②］', '［③］', '［④］', '［⑤］', '［⑥］', '［⑦］', '［⑧］', '［⑨］', '……', '——', '?', '、', '。', '“', '”', '《', '》', '！', '，', '：', '；', '？', '．', ',', '．', \"'\", '?', '·', '———', '──', '?', '—', '<', '>', '（', '）', '〔', '〕', '[', ']', '(', ')', '-', '+', '～', '×', '／', '/', '①', '②', '③', '④', '⑤', '⑥', '⑦', '⑧', '⑨', '⑩', 'Ⅲ', 'В', '\"', ';', '#', '@', 'γ', 'μ', 'φ', 'φ．', '×', 'Δ', '■', '▲', 'sub', 'exp', 'sup', 'sub', 'Lex', '＃', '％', '＆', '＇', '＋', '＋ξ', '＋＋', '－', '－β', '＜', '＜±', '＜Δ', '＜λ', '＜φ', '＜＜', '=', '＝', '＝☆', '＝－', '＞', '＞λ', '＿', '～±', '～＋', '［⑤ｆ］', '［⑤ｄ］', '［②ｉ］', '≈', '［②Ｇ］', '［①ｆ］', 'ＬＩ', '㈧', '［－', '......', '〉', '［③⑩］', '第二', '一番', '一直', '一个', '一些', '许多', '种', '有的是', '也就是说', '末##末', '啊', '阿', '哎', '哎呀', '哎哟', '唉', '俺', '俺们', '按', '按照', '吧', '吧哒', '把', '罢了', '被', '本', '本着', '比', '比方', '比如', '鄙人', '彼', '彼此', '边', '别', '别的', '别说', '并', '并且', '不比', '不成', '不单', '不但', '不独', '不管', '不光', '不过', '不仅', '不拘', '不论', '不怕', '不然', '不如', '不特', '不惟', '不问', '不只', '朝', '朝着', '趁', '趁着', '乘', '冲', '除', '除此之外', '除非', '除了', '此', '此间', '此外', '从', '从而', '打', '待', '但', '但是', '当', '当着', '到', '得', '的', '的话', '等', '等等', '地', '第', '叮咚', '对', '对于', '多', '多少', '而', '而况', '而且', '而是', '而外', '而言', '而已', '尔后', '反过来', '反过来说', '反之', '非但', '非徒', '否则', '嘎', '嘎登', '该', '赶', '个', '各', '各个', '各位', '各种', '各自', '给', '根据', '跟', '故', '故此', '固然', '关于', '管', '归', '果然', '果真', '过', '哈', '哈哈', '呵', '和', '何', '何处', '何况', '何时', '嘿', '哼', '哼唷', '呼哧', '乎', '哗', '还是', '还有', '换句话说', '换言之', '或', '或是', '或者', '极了', '及', '及其', '及至', '即', '即便', '即或', '即令', '即若', '即使', '几', '几时', '己', '既', '既然', '既是', '继而', '加之', '假如', '假若', '假使', '鉴于', '将', '较', '较之', '叫', '接着', '结果', '借', '紧接着', '进而', '尽', '尽管', '经', '经过', '就', '就是', '就是说', '据', '具体地说', '具体说来', '开始', '开外', '靠', '咳', '可', '可见', '可是', '可以', '况且', '啦', '来', '来着', '离', '例如', '哩', '连', '连同', '两者', '了', '临', '另', '另外', '另一方面', '论', '嘛', '吗', '慢说', '漫说', '冒', '么', '每', '每当', '们', '莫若', '某', '某个', '某些', '拿', '哪', '哪边', '哪儿', '哪个', '哪里', '哪年', '哪怕', '哪天', '哪些', '哪样', '那', '那边', '那儿', '那个', '那会儿', '那里', '那么', '那么些', '那么样', '那时', '那些', '那样', '乃', '乃至', '呢', '能', '你', '你们', '您', '宁', '宁可', '宁肯', '宁愿', '哦', '呕', '啪达', '旁人', '呸', '凭', '凭借', '其', '其次', '其二', '其他', '其它', '其一', '其余', '其中', '起', '起见', '起见', '岂但', '恰恰相反', '前后', '前者', '且', '然而', '然后', '然则', '让', '人家', '任', '任何', '任凭', '如', '如此', '如果', '如何', '如其', '如若', '如上所述', '若', '若非', '若是', '啥', '上下', '尚且', '设若', '设使', '甚而', '甚么', '甚至', '省得', '时候', '什么', '什么样', '使得', '是', '是的', '首先', '谁', '谁知', '顺', '顺着', '似的', '虽', '虽然', '虽说', '虽则', '随', '随着', '所', '所以', '他', '他们', '他人', '它', '它们', '她', '她们', '倘', '倘或', '倘然', '倘若', '倘使', '腾', '替', '通过', '同', '同时', '哇', '万一', '往', '望', '为', '为何', '为了', '为什么', '为着', '喂', '嗡嗡', '我', '我们', '呜', '呜呼', '乌乎', '无论', '无宁', '毋宁', '嘻', '吓', '相对而言', '像', '向', '向着', '嘘', '呀', '焉', '沿', '沿着', '要', '要不', '要不然', '要不是', '要么', '要是', '也', '也罢', '也好', '一', '一般', '一旦', '一方面', '一来', '一切', '一样', '一则', '依', '依照', '矣', '以', '以便', '以及', '以免', '以至', '以至于', '以致', '抑或', '因', '因此', '因而', '因为', '哟', '用', '由', '由此可见', '由于', '有', '有的', '有关', '有些', '又', '于', '于是', '于是乎', '与', '与此同时', '与否', '与其', '越是', '云云', '哉', '再说', '再者', '在', '在下', '咱', '咱们', '则', '怎', '怎么', '怎么办', '怎么样', '怎样', '咋', '照', '照着', '者', '这', '这边', '这儿', '这个', '这会儿', '这就是说', '这里', '这么', '这么点儿', '这么些', '这么样', '这时', '这些', '这样', '正如', '吱', '之', '之类', '之所以', '之一', '只是', '只限', '只要', '只有', '至', '至于', '诸位', '着', '着呢', '自', '自从', '自个儿', '自各儿', '自己', '自家', '自身', '综上所述', '总的来看', '总的来说', '总的说来', '总而言之', '总之', '纵', '纵令', '纵然', '纵使', '遵照', '作为', '兮', '呃', '呗', '咚', '咦', '喏', '啐', '喔唷', '嗬', '嗯', '嗳']\n"
     ]
    }
   ],
   "source": [
    "print('start read stopwords data.')\n",
    "stopwords = []\n",
    "with open(stop_words_path, 'r', encoding='utf-8') as f:\n",
    "    for line in f:\n",
    "        if len(line)>0:\n",
    "            stopwords.append(line.strip())\n",
    "print(stopwords)"
   ]
  },
  {
   "cell_type": "code",
   "execution_count": 6,
   "id": "542df551",
   "metadata": {},
   "outputs": [],
   "source": [
    "def preprocess_text(text):\n",
    "    try:\n",
    "        segs=jieba.lcut(text)\n",
    "        segs = filter(lambda x:len(x)>1, segs)\n",
    "        segs = [v for v in segs if not str(v).isdigit()]#去数字\n",
    "        segs = list(filter(lambda x:x.strip(), segs)) #去左右空格\n",
    "        segs = filter(lambda x:x not in stopwords, segs)\n",
    "        temp = \" \".join(segs)\n",
    "        return(temp)\n",
    "    except Exception:\n",
    "        pass"
   ]
  },
  {
   "cell_type": "code",
   "execution_count": 8,
   "id": "fd65de6b",
   "metadata": {},
   "outputs": [
    {
     "name": "stderr",
     "output_type": "stream",
     "text": [
      "Building prefix dict from the default dictionary ...\n",
      "Loading model from cache C:\\Users\\LUOYAN~1\\AppData\\Local\\Temp\\jieba.cache\n",
      "Loading model cost 0.961 seconds.\n",
      "Prefix dict has been built successfully.\n"
     ]
    },
    {
     "data": {
      "text/html": [
       "<div>\n",
       "<style scoped>\n",
       "    .dataframe tbody tr th:only-of-type {\n",
       "        vertical-align: middle;\n",
       "    }\n",
       "\n",
       "    .dataframe tbody tr th {\n",
       "        vertical-align: top;\n",
       "    }\n",
       "\n",
       "    .dataframe thead th {\n",
       "        text-align: right;\n",
       "    }\n",
       "</style>\n",
       "<table border=\"1\" class=\"dataframe\">\n",
       "  <thead>\n",
       "    <tr style=\"text-align: right;\">\n",
       "      <th></th>\n",
       "      <th>序号</th>\n",
       "      <th>片名</th>\n",
       "      <th>评分</th>\n",
       "      <th>导演</th>\n",
       "      <th>主演</th>\n",
       "      <th>一句话点评</th>\n",
       "      <th>content</th>\n",
       "      <th>tokenizer</th>\n",
       "    </tr>\n",
       "  </thead>\n",
       "  <tbody>\n",
       "    <tr>\n",
       "      <th>0</th>\n",
       "      <td>1</td>\n",
       "      <td>肖申克的救赎</td>\n",
       "      <td>9.7</td>\n",
       "      <td>弗兰克·德拉邦特</td>\n",
       "      <td>蒂姆·罗宾斯</td>\n",
       "      <td>希望让人自由。</td>\n",
       "      <td>弗兰克·德拉邦特蒂姆·罗宾斯希望让人自由。肖申克的救赎</td>\n",
       "      <td>弗兰克 德拉 邦特 蒂姆 罗宾斯 希望 自由 肖申克 救赎</td>\n",
       "    </tr>\n",
       "    <tr>\n",
       "      <th>1</th>\n",
       "      <td>2</td>\n",
       "      <td>霸王别姬</td>\n",
       "      <td>9.6</td>\n",
       "      <td>陈凯歌</td>\n",
       "      <td>张国荣</td>\n",
       "      <td>风华绝代。</td>\n",
       "      <td>陈凯歌张国荣风华绝代。霸王别姬</td>\n",
       "      <td>陈凯歌 张国荣 风华绝代 霸王别姬</td>\n",
       "    </tr>\n",
       "    <tr>\n",
       "      <th>2</th>\n",
       "      <td>3</td>\n",
       "      <td>阿甘正传</td>\n",
       "      <td>9.5</td>\n",
       "      <td>罗伯特·泽米吉斯</td>\n",
       "      <td>汤姆·汉克斯</td>\n",
       "      <td>一部美国近现代史。</td>\n",
       "      <td>罗伯特·泽米吉斯汤姆·汉克斯一部美国近现代史。阿甘正传</td>\n",
       "      <td>罗伯特 泽米 吉斯 汤姆 汉克斯 一部 美国 近现代史 阿甘正传</td>\n",
       "    </tr>\n",
       "  </tbody>\n",
       "</table>\n",
       "</div>"
      ],
      "text/plain": [
       "   序号      片名   评分        导演      主演      一句话点评                      content  \\\n",
       "0   1  肖申克的救赎  9.7  弗兰克·德拉邦特  蒂姆·罗宾斯    希望让人自由。  弗兰克·德拉邦特蒂姆·罗宾斯希望让人自由。肖申克的救赎   \n",
       "1   2    霸王别姬  9.6       陈凯歌     张国荣      风华绝代。              陈凯歌张国荣风华绝代。霸王别姬   \n",
       "2   3    阿甘正传  9.5  罗伯特·泽米吉斯  汤姆·汉克斯  一部美国近现代史。  罗伯特·泽米吉斯汤姆·汉克斯一部美国近现代史。阿甘正传   \n",
       "\n",
       "                          tokenizer  \n",
       "0     弗兰克 德拉 邦特 蒂姆 罗宾斯 希望 自由 肖申克 救赎  \n",
       "1                 陈凯歌 张国荣 风华绝代 霸王别姬  \n",
       "2  罗伯特 泽米 吉斯 汤姆 汉克斯 一部 美国 近现代史 阿甘正传  "
      ]
     },
     "execution_count": 8,
     "metadata": {},
     "output_type": "execute_result"
    }
   ],
   "source": [
    "douban_data['tokenizer'] = douban_data['content'].apply(lambda x: preprocess_text(x))\n",
    "douban_data.head(3)"
   ]
  },
  {
   "cell_type": "code",
   "execution_count": 13,
   "id": "592a67ea",
   "metadata": {},
   "outputs": [
    {
     "data": {
      "image/png": "[encoded data removed]",
      "text/plain": [
       "<Figure size 432x288 with 1 Axes>"
      ]
     },
     "metadata": {
      "needs_background": "light"
     },
     "output_type": "display_data"
    }
   ],
   "source": [
    "# get word cloud plot\n",
    "from numpy import array, concatenate, atleast_1d\n",
    "all_tokens = concatenate([atleast_1d(a) for a in list(douban_data['tokenizer'].dropna())])\n",
    "all_tokens = \" \".join(all_tokens)\n",
    "img_link = os.path.join(root_path, 'movie.png')\n",
    "font_path = \"C:\\\\Users\\\\luoyan011\\\\Desktop\\\\PersonalLearning\\\\GitHub\\\\NLP\\\\recomend_system\\\\Chinese\\\\simsun.ttf\"\n",
    "DataExploration.generate_chinese_word_cloud(all_tokens, img_link, font_path ,stopwords = '', color_control = True, save = True)\n"
   ]
  },
  {
   "cell_type": "code",
   "execution_count": 14,
   "id": "309de6d5",
   "metadata": {},
   "outputs": [],
   "source": [
    "import pprint \n",
    "corseid = list(douban_data['序号'])\n",
    "text = douban_data['tokenizer']\n",
    "sentences = [] \n",
    "for item in text:     \n",
    "    sentence = str(item).split(' ')     \n",
    "    sentences.append(sentence)\n",
    "\n",
    "tfidf_data = tfidf.get_tfidf_dataframe(sentences, doc_index = corseid, no_below =1, no_above = 0.5, keep_n = 100000)\n"
   ]
  },
  {
   "cell_type": "code",
   "execution_count": 22,
   "id": "6a6464be",
   "metadata": {},
   "outputs": [
    {
     "name": "stdout",
     "output_type": "stream",
     "text": [
      "{'霸王别姬'}\n",
      "['阿飞正传', '东邪西毒', '倩女幽魂', '春光乍泄', '爆裂鼓手']\n"
     ]
    }
   ],
   "source": [
    "test = dataExploration.get_similarity_cosin(tfidf_data[tfidf_data.doc_id ==2], \n",
    "                                            tfidf_data, \n",
    "                                            'bow', \n",
    "                                            'doc_id', \n",
    "                                            index_is_int = False, \n",
    "                                            topn = 5)\n",
    "test = test.merge(douban_data[['序号','片名']], how = 'left', left_on = ['compareindex'], right_on = ['序号']).drop(columns = ['序号']).rename(columns={'display_name':'compare_name'})\n",
    "test = test.merge(douban_data[['序号','片名']], how = 'left', left_on = ['baseindex'], right_on = ['序号']).drop(columns = ['序号']).rename(columns={'display_name':'base_name'})\n",
    "print(set(test.片名_y))\n",
    "print(list(test.片名_x))"
   ]
  }
 ],
 "metadata": {
  "kernelspec": {
   "display_name": "Python 3",
   "language": "python",
   "name": "python3"
  },
  "language_info": {
   "codemirror_mode": {
    "name": "ipython",
    "version": 3
   },
   "file_extension": ".py",
   "mimetype": "text/x-python",
   "name": "python",
   "nbconvert_exporter": "python",
   "pygments_lexer": "ipython3",
   "version": "3.8.8"
  }
 },
 "nbformat": 4,
 "nbformat_minor": 5
}
