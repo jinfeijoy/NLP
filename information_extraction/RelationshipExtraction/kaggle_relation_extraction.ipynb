{
 "cells": [
  {
   "cell_type": "code",
   "execution_count": 16,
   "id": "a9ff3df1",
   "metadata": {},
   "outputs": [],
   "source": [
    "import re\n",
    "import pandas as pd\n",
    "import bs4\n",
    "import requests\n",
    "import spacy\n",
    "from spacy import displacy\n",
    "nlp = spacy.load('en_core_web_sm')\n",
    "import os\n",
    "from spacy.matcher import Matcher \n",
    "from spacy.tokens import Span \n",
    "\n",
    "import networkx as nx\n",
    "\n",
    "import matplotlib.pyplot as plt\n",
    "from tqdm import tqdm\n",
    "datapath = 'C:\\\\Users\\\\luoyan011\\\\Desktop\\\\PersonalLearning\\\\GitHub\\\\NLP_data'\n",
    "\n",
    "pd.set_option('display.max_colwidth', 200)\n",
    "%matplotlib inline"
   ]
  },
  {
   "cell_type": "markdown",
   "id": "5d407e42",
   "metadata": {},
   "source": [
    "This code used to generate sample files from Kaggle wikipedia dataset, the dataset path is: https://www.kaggle.com/mikeortman/wikipedia-sentences.\n",
    "\n",
    "The reference of this code is: https://www.kaggle.com/pavansanagapati/knowledge-graph-nlp-tutorial-bert-spacy-nltk/notebook\n",
    "\n",
    "```python\n",
    "with open(\"/kaggle/input/wikipedia-sentences/wikisent2.txt\") as myfile:\n",
    "    head = [next(myfile) for x in range(5000)]\n",
    "print(head[-1])\n",
    "textfile = open(\"wiki_5000.txt\", \"w\")\n",
    "for element in head:\n",
    "    textfile.write(element + \"\\n\")\n",
    "textfile.close()\n",
    "```"
   ]
  },
  {
   "cell_type": "code",
   "execution_count": 2,
   "id": "99a66bd1",
   "metadata": {},
   "outputs": [
    {
     "name": "stdout",
     "output_type": "stream",
     "text": [
      "the ... det\n",
      "drawdown ... compound\n",
      "process ... nsubjpass\n",
      "is ... auxpass\n",
      "governed ... ROOT\n",
      "by ... agent\n",
      "astm ... compound\n",
      "standard ... pobj\n",
      "d823 ... punct\n"
     ]
    }
   ],
   "source": [
    "doc = nlp(\"the drawdown process is governed by astm standard d823\")\n",
    "\n",
    "for tok in doc:\n",
    "    print(tok.text, \"...\", tok.dep_)"
   ]
  },
  {
   "cell_type": "code",
   "execution_count": 18,
   "id": "ccbdba07",
   "metadata": {},
   "outputs": [],
   "source": [
    "with open(os.path.join(datapath, \"wiki_5000.txt\")) as myfile:\n",
    "    wiki_sample = [next(myfile) for x in range(5000)]"
   ]
  }
 ],
 "metadata": {
  "kernelspec": {
   "display_name": "Python 3",
   "language": "python",
   "name": "python3"
  },
  "language_info": {
   "codemirror_mode": {
    "name": "ipython",
    "version": 3
   },
   "file_extension": ".py",
   "mimetype": "text/x-python",
   "name": "python",
   "nbconvert_exporter": "python",
   "pygments_lexer": "ipython3",
   "version": "3.8.8"
  }
 },
 "nbformat": 4,
 "nbformat_minor": 5
}
