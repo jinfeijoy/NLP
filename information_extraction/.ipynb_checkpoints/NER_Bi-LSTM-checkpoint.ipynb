{
 "cells": [
  {
   "cell_type": "code",
   "execution_count": null,
   "id": "187ebd4e",
   "metadata": {},
   "outputs": [],
   "source": [
    "import sys\n",
    "import os\n",
    "sys.path.append('C:\\\\Users\\\\luoyan011\\\\Desktop\\\\PersonalLearning\\\\GitHub\\\\python_functions\\\\jl_nlp_pkg')\n",
    "sys.path.append('C:\\\\Users\\\\luoyan011\\\\Desktop\\\\PersonalLearning\\\\GitHub\\\\python_functions\\\\jl_model_explain_pkg')\n",
    "import nlpbasic.textClean as textClean\n",
    "import nlpbasic.docVectors as DocVector\n",
    "import nlpbasic.dataExploration as DataExploration\n",
    "import nlpbasic.lda as lda\n",
    "import nlpbasic.tfidf as tfidf\n",
    "import nlpbasic.text_summarize as txtsmr\n",
    "import nlpbasic.word_embedding as wdembd\n",
    "\n",
    "import model_explain.plot as meplot\n",
    "import model_explain.shap as meshap\n",
    "\n",
    "import pandas as pd\n",
    "import matplotlib.pyplot as plt\n",
    "import seaborn as sb\n",
    "import numpy as np\n",
    "import re\n",
    "import seaborn as sns\n",
    "datapath = 'C:\\\\Users\\\\luoyan011\\\\Desktop\\\\PersonalLearning\\\\GitHub\\\\NLP_data'\n"
   ]
  },
  {
   "cell_type": "markdown",
   "id": "253a6cce",
   "metadata": {},
   "source": [
    "## Load Data\n",
    "**NER dataset with word tag**"
   ]
  },
  {
   "cell_type": "code",
   "execution_count": null,
   "id": "c7126613",
   "metadata": {},
   "outputs": [],
   "source": [
    "data = pd.read_csv(os.path.join(datapath,'ner_dataset.csv'), encoding= 'unicode_escape')\n",
    "data.columns = ['sentence', 'word', 'pos', 'tag']\n",
    "data.ffill(inplace=True)\n",
    "data.head()"
   ]
  },
  {
   "cell_type": "markdown",
   "id": "6fad1f91",
   "metadata": {},
   "source": [
    "**Resume json data**"
   ]
  },
  {
   "cell_type": "code",
   "execution_count": null,
   "id": "630313f7",
   "metadata": {},
   "outputs": [],
   "source": [
    "import json\n",
    "from collections import defaultdict\n",
    "\n",
    "def pop_annot(raw_line):\n",
    "    in_line = defaultdict(list, **raw_line)\n",
    "    if 'annotation' in in_line:\n",
    "        labels = in_line['annotation']\n",
    "        for c_lab in labels:\n",
    "            if len(c_lab['label'])>0:\n",
    "                in_line[c_lab['label'][0]] += c_lab['points']\n",
    "    return in_line\n",
    "with open(os.path.join(datapath, 'Entity Recognition in Resumes.json'), encoding=\"utf8\") as f:\n",
    "    # data is jsonl and so we parse it line-by-line\n",
    "    resume_data = [json.loads(f_line) for f_line in f.readlines()]\n",
    "    resume_df = pd.DataFrame([pop_annot(line) for line in resume_data])\n",
    "    \n",
    "for col in resume_df.columns:\n",
    "    print(col)\n",
    "    display(resume_df.iloc[0][col])\n",
    "    \n",
    "displacy.render(nlp(resume_df.iloc[0]['content']), jupyter=True, style='ent')"
   ]
  },
  {
   "cell_type": "markdown",
   "id": "2259233d",
   "metadata": {},
   "source": [
    "## LSTM"
   ]
  }
 ],
 "metadata": {
  "kernelspec": {
   "display_name": "Python 3",
   "language": "python",
   "name": "python3"
  },
  "language_info": {
   "codemirror_mode": {
    "name": "ipython",
    "version": 3
   },
   "file_extension": ".py",
   "mimetype": "text/x-python",
   "name": "python",
   "nbconvert_exporter": "python",
   "pygments_lexer": "ipython3",
   "version": "3.8.8"
  }
 },
 "nbformat": 4,
 "nbformat_minor": 5
}
