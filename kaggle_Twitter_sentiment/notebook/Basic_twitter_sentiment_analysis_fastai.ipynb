{
 "cells": [
  {
   "cell_type": "code",
   "execution_count": null,
   "metadata": {
    "colab": {
     "base_uri": "https://localhost:8080/"
    },
    "executionInfo": {
     "elapsed": 120,
     "status": "ok",
     "timestamp": 1622467369448,
     "user": {
      "displayName": "Jinfei Li",
      "photoUrl": "https://lh3.googleusercontent.com/a-/AOh14Ggnb-qJjCzbIWJNSpwIjCwPzmOPJB1bG-PKgr6qCg=s64",
      "userId": "03112626207949006140"
     },
     "user_tz": 240
    },
    "id": "XsesQBF7yb9Y",
    "outputId": "fb8bf65a-79b7-4328-c7d3-be60551f1c02"
   },
   "outputs": [
    {
     "name": "stdout",
     "output_type": "stream",
     "text": [
      "Drive already mounted at /content/drive; to attempt to forcibly remount, call drive.mount(\"/content/drive\", force_remount=True).\n"
     ]
    }
   ],
   "source": [
    "#Please select GPU first (from Edit->NotebookSetting)\n",
    "import pandas as pd\n",
    "import numpy as np\n",
    "import io\n",
    "import os\n",
    "import re\n",
    "from google.colab import drive\n",
    "drive.mount('/content/drive')"
   ]
  },
  {
   "cell_type": "code",
   "execution_count": null,
   "metadata": {
    "id": "IpFJXXMY0YPv"
   },
   "outputs": [],
   "source": [
    "path = '/content/drive/MyDrive/colab_data'\n",
    "def de_emojify(inputString):\n",
    "    return inputString.encode('ascii', 'ignore').decode('ascii')\n",
    "def tweet_proc(df, text_col='text'):\n",
    "    df['orig_text'] = df[text_col]\n",
    "    # Remove twitter handles\n",
    "    df[text_col] = df[text_col].apply(lambda x:re.sub('@[^\\s]+','',x))\n",
    "    # Remove URLs\n",
    "    df[text_col] = df[text_col].apply(lambda x:re.sub(r\"http\\S+\", \"\", x))\n",
    "    # Remove emojis\n",
    "    df[text_col] = df[text_col].apply(de_emojify)\n",
    "    # Remove hashtags\n",
    "    df[text_col] = df[text_col].apply(lambda x:re.sub(r'\\B#\\S+','',x))\n",
    "    return df[df[text_col]!='']\n"
   ]
  },
  {
   "cell_type": "code",
   "execution_count": null,
   "metadata": {
    "colab": {
     "base_uri": "https://localhost:8080/",
     "height": 723
    },
    "executionInfo": {
     "elapsed": 4561,
     "status": "ok",
     "timestamp": 1622467377089,
     "user": {
      "displayName": "Jinfei Li",
      "photoUrl": "https://lh3.googleusercontent.com/a-/AOh14Ggnb-qJjCzbIWJNSpwIjCwPzmOPJB1bG-PKgr6qCg=s64",
      "userId": "03112626207949006140"
     },
     "user_tz": 240
    },
    "id": "JzxjzoeR0kYm",
    "outputId": "52318398-461b-49d4-c359-a18eeb550d1a"
   },
   "outputs": [
    {
     "data": {
      "text/html": [
       "<div>\n",
       "<style scoped>\n",
       "    .dataframe tbody tr th:only-of-type {\n",
       "        vertical-align: middle;\n",
       "    }\n",
       "\n",
       "    .dataframe tbody tr th {\n",
       "        vertical-align: top;\n",
       "    }\n",
       "\n",
       "    .dataframe thead th {\n",
       "        text-align: right;\n",
       "    }\n",
       "</style>\n",
       "<table border=\"1\" class=\"dataframe\">\n",
       "  <thead>\n",
       "    <tr style=\"text-align: right;\">\n",
       "      <th></th>\n",
       "      <th>id</th>\n",
       "      <th>created_at</th>\n",
       "      <th>source</th>\n",
       "      <th>text</th>\n",
       "      <th>lang</th>\n",
       "      <th>favorite_count</th>\n",
       "      <th>retweet_count</th>\n",
       "      <th>original_author</th>\n",
       "      <th>hashtags</th>\n",
       "      <th>user_mentions</th>\n",
       "      <th>place</th>\n",
       "      <th>clean_tweet</th>\n",
       "      <th>compound</th>\n",
       "      <th>neg</th>\n",
       "      <th>neu</th>\n",
       "      <th>pos</th>\n",
       "      <th>sentiment</th>\n",
       "      <th>orig_text</th>\n",
       "      <th>label</th>\n",
       "    </tr>\n",
       "  </thead>\n",
       "  <tbody>\n",
       "    <tr>\n",
       "      <th>0</th>\n",
       "      <td>1.300000e+18</td>\n",
       "      <td>Thu Aug 20 08:20:55 +0000 2020</td>\n",
       "      <td>&lt;a href=\"http://twitter.com/download/android\" rel=\"nofollow\"&gt;Twitter for Android&lt;/a&gt;</td>\n",
       "      <td>RT  91-year-old Ex-Vice President Moody Awori Lands Inter County Covid-19 Committee Role</td>\n",
       "      <td>en</td>\n",
       "      <td>0.0</td>\n",
       "      <td>100.0</td>\n",
       "      <td>kvn_kegan</td>\n",
       "      <td>NaN</td>\n",
       "      <td>RobertAlai</td>\n",
       "      <td>Nairobi, Kenya</td>\n",
       "      <td>year old ex vice presid moodi awori land inter counti covid19 committe role</td>\n",
       "      <td>0.0000</td>\n",
       "      <td>0.0</td>\n",
       "      <td>1.000</td>\n",
       "      <td>0.000</td>\n",
       "      <td>neu</td>\n",
       "      <td>RT @RobertAlai: 91-year-old Ex-Vice President Moody Awori Lands Inter County Covid-19 Committee Role https://t.co/bslXxeMpGD</td>\n",
       "      <td>NaN</td>\n",
       "    </tr>\n",
       "    <tr>\n",
       "      <th>1</th>\n",
       "      <td>1.300000e+18</td>\n",
       "      <td>Thu Aug 20 08:20:54 +0000 2020</td>\n",
       "      <td>&lt;a href=\"http://twitter.com/download/android\" rel=\"nofollow\"&gt;Twitter for Android&lt;/a&gt;</td>\n",
       "      <td>RT  BREAKING: The Department of Health reports 4,339 more people caught COVID-19, pushing the national case count to 178,02</td>\n",
       "      <td>en</td>\n",
       "      <td>0.0</td>\n",
       "      <td>38.0</td>\n",
       "      <td>puTOPinamo</td>\n",
       "      <td>NaN</td>\n",
       "      <td>cnnphilippines</td>\n",
       "      <td>NaN</td>\n",
       "      <td>break depart health report peopl caught covid19 push nation case count</td>\n",
       "      <td>0.0000</td>\n",
       "      <td>0.0</td>\n",
       "      <td>1.000</td>\n",
       "      <td>0.000</td>\n",
       "      <td>neu</td>\n",
       "      <td>RT @cnnphilippines: BREAKING: The Department of Health reports 4,339 more people caught COVID-19, pushing the national case count to 178,02…</td>\n",
       "      <td>NaN</td>\n",
       "    </tr>\n",
       "    <tr>\n",
       "      <th>2</th>\n",
       "      <td>1.300000e+18</td>\n",
       "      <td>Thu Aug 20 08:20:53 +0000 2020</td>\n",
       "      <td>&lt;a href=\"http://twitter.com/download/android\" rel=\"nofollow\"&gt;Twitter for Android&lt;/a&gt;</td>\n",
       "      <td>RT   Helps Out Fan Who Requested Him To Help Arrange A Bed For Her  Positive Father (View Tweet)\\n</td>\n",
       "      <td>en</td>\n",
       "      <td>0.0</td>\n",
       "      <td>0.0</td>\n",
       "      <td>DevSidheart</td>\n",
       "      <td>SidharthShukla, Covid_19</td>\n",
       "      <td>latestly</td>\n",
       "      <td>Sidheart</td>\n",
       "      <td>help fan request help arrang bed posit father view tweet</td>\n",
       "      <td>0.7717</td>\n",
       "      <td>0.0</td>\n",
       "      <td>0.476</td>\n",
       "      <td>0.524</td>\n",
       "      <td>pos</td>\n",
       "      <td>RT @latestly: #SidharthShukla Helps Out Fan Who Requested Him To Help Arrange A Bed For Her #Covid_19 Positive Father (View Tweet)\\n@sidhart…</td>\n",
       "      <td>NaN</td>\n",
       "    </tr>\n",
       "  </tbody>\n",
       "</table>\n",
       "</div>"
      ],
      "text/plain": [
       "             id  ... label\n",
       "0  1.300000e+18  ...   NaN\n",
       "1  1.300000e+18  ...   NaN\n",
       "2  1.300000e+18  ...   NaN\n",
       "\n",
       "[3 rows x 19 columns]"
      ]
     },
     "execution_count": 4,
     "metadata": {
      "tags": []
     },
     "output_type": "execute_result"
    }
   ],
   "source": [
    "covid_tweet = pd.read_csv(os.path.join(path, \"Covid-19 Twitter Dataset (Aug-Sep 2020).csv\"))\n",
    "covid_tweet = covid_tweet[covid_tweet.original_text.isnull()==False].drop_duplicates().reset_index(drop=True)\n",
    "covid_tweet = tweet_proc(covid_tweet,'original_text')\n",
    "covid_tweet['label'] = np.nan\n",
    "covid_tweet = covid_tweet[covid_tweet.lang=='en']\n",
    "covid_tweet = covid_tweet.rename(columns={'original_text':'text'})\n",
    "# covid_tweet = covid_tweet.sample(n=40000, random_state=1)\n",
    "covid_tweet.head(3)"
   ]
  },
  {
   "cell_type": "code",
   "execution_count": null,
   "metadata": {
    "colab": {
     "base_uri": "https://localhost:8080/",
     "height": 142
    },
    "executionInfo": {
     "elapsed": 420,
     "status": "ok",
     "timestamp": 1622467379822,
     "user": {
      "displayName": "Jinfei Li",
      "photoUrl": "https://lh3.googleusercontent.com/a-/AOh14Ggnb-qJjCzbIWJNSpwIjCwPzmOPJB1bG-PKgr6qCg=s64",
      "userId": "03112626207949006140"
     },
     "user_tz": 240
    },
    "id": "DoYVm1eQ0wU1",
    "outputId": "c9822fe5-59d3-423d-eacc-fc33f29570df"
   },
   "outputs": [
    {
     "data": {
      "text/html": [
       "<div>\n",
       "<style scoped>\n",
       "    .dataframe tbody tr th:only-of-type {\n",
       "        vertical-align: middle;\n",
       "    }\n",
       "\n",
       "    .dataframe tbody tr th {\n",
       "        vertical-align: top;\n",
       "    }\n",
       "\n",
       "    .dataframe thead th {\n",
       "        text-align: right;\n",
       "    }\n",
       "</style>\n",
       "<table border=\"1\" class=\"dataframe\">\n",
       "  <thead>\n",
       "    <tr style=\"text-align: right;\">\n",
       "      <th></th>\n",
       "      <th>text</th>\n",
       "      <th>label</th>\n",
       "      <th>orig_text</th>\n",
       "    </tr>\n",
       "  </thead>\n",
       "  <tbody>\n",
       "    <tr>\n",
       "      <th>0</th>\n",
       "      <td>Layin n bed with a headache  ughhhh...waitin on your call...</td>\n",
       "      <td>negative</td>\n",
       "      <td>Layin n bed with a headache  ughhhh...waitin on your call...</td>\n",
       "    </tr>\n",
       "    <tr>\n",
       "      <th>1</th>\n",
       "      <td>Funeral ceremony...gloomy friday...</td>\n",
       "      <td>negative</td>\n",
       "      <td>Funeral ceremony...gloomy friday...</td>\n",
       "    </tr>\n",
       "    <tr>\n",
       "      <th>2</th>\n",
       "      <td>wants to hang out with friends SOON!</td>\n",
       "      <td>positive</td>\n",
       "      <td>wants to hang out with friends SOON!</td>\n",
       "    </tr>\n",
       "  </tbody>\n",
       "</table>\n",
       "</div>"
      ],
      "text/plain": [
       "                                                           text  ...                                                     orig_text\n",
       "0  Layin n bed with a headache  ughhhh...waitin on your call...  ...  Layin n bed with a headache  ughhhh...waitin on your call...\n",
       "1                           Funeral ceremony...gloomy friday...  ...                           Funeral ceremony...gloomy friday...\n",
       "2                          wants to hang out with friends SOON!  ...                          wants to hang out with friends SOON!\n",
       "\n",
       "[3 rows x 3 columns]"
      ]
     },
     "execution_count": 5,
     "metadata": {
      "tags": []
     },
     "output_type": "execute_result"
    }
   ],
   "source": [
    "basic_tweet = pd.read_csv(os.path.join(path, \"tweet_dataset.csv\"))\n",
    "basic_tweet = basic_tweet[basic_tweet.new_sentiment.isnull()==False].drop_duplicates().reset_index(drop=True)\n",
    "basic_tweet = basic_tweet[['old_text', 'new_sentiment']].rename(columns={'old_text':'text', 'new_sentiment':'label'})\n",
    "basic_tweet = tweet_proc(basic_tweet,'text')\n",
    "# basic_tweet = basic_tweet[['id', 'text', 'label']]\n",
    "basic_tweet.head(3)"
   ]
  },
  {
   "cell_type": "code",
   "execution_count": null,
   "metadata": {
    "colab": {
     "base_uri": "https://localhost:8080/",
     "height": 159
    },
    "executionInfo": {
     "elapsed": 158,
     "status": "ok",
     "timestamp": 1622467381916,
     "user": {
      "displayName": "Jinfei Li",
      "photoUrl": "https://lh3.googleusercontent.com/a-/AOh14Ggnb-qJjCzbIWJNSpwIjCwPzmOPJB1bG-PKgr6qCg=s64",
      "userId": "03112626207949006140"
     },
     "user_tz": 240
    },
    "id": "VnPnKwbC15qR",
    "outputId": "a3713208-7be1-4660-cb51-e7aec7c7d1bf"
   },
   "outputs": [
    {
     "name": "stdout",
     "output_type": "stream",
     "text": [
      "274059 31323\n"
     ]
    },
    {
     "data": {
      "text/html": [
       "<div>\n",
       "<style scoped>\n",
       "    .dataframe tbody tr th:only-of-type {\n",
       "        vertical-align: middle;\n",
       "    }\n",
       "\n",
       "    .dataframe tbody tr th {\n",
       "        vertical-align: top;\n",
       "    }\n",
       "\n",
       "    .dataframe thead th {\n",
       "        text-align: right;\n",
       "    }\n",
       "</style>\n",
       "<table border=\"1\" class=\"dataframe\">\n",
       "  <thead>\n",
       "    <tr style=\"text-align: right;\">\n",
       "      <th></th>\n",
       "      <th>text</th>\n",
       "      <th>label</th>\n",
       "    </tr>\n",
       "  </thead>\n",
       "  <tbody>\n",
       "    <tr>\n",
       "      <th>0</th>\n",
       "      <td>Layin n bed with a headache  ughhhh...waitin on your call...</td>\n",
       "      <td>negative</td>\n",
       "    </tr>\n",
       "    <tr>\n",
       "      <th>1</th>\n",
       "      <td>Funeral ceremony...gloomy friday...</td>\n",
       "      <td>negative</td>\n",
       "    </tr>\n",
       "    <tr>\n",
       "      <th>2</th>\n",
       "      <td>wants to hang out with friends SOON!</td>\n",
       "      <td>positive</td>\n",
       "    </tr>\n",
       "  </tbody>\n",
       "</table>\n",
       "</div>"
      ],
      "text/plain": [
       "                                                           text     label\n",
       "0  Layin n bed with a headache  ughhhh...waitin on your call...  negative\n",
       "1                           Funeral ceremony...gloomy friday...  negative\n",
       "2                          wants to hang out with friends SOON!  positive"
      ]
     },
     "execution_count": 6,
     "metadata": {
      "tags": []
     },
     "output_type": "execute_result"
    }
   ],
   "source": [
    "df_lm = basic_tweet[['text', 'label']].append(covid_tweet[['text', 'label']]) \n",
    "df_clas = df_lm[['text', 'label']].dropna(subset=['label'])\n",
    "print(len(df_lm), len(df_clas))\n",
    "df_clas.head(3)"
   ]
  },
  {
   "cell_type": "markdown",
   "metadata": {
    "id": "zhS72MFj17EY"
   },
   "source": [
    "# DL & Transfer Learning with fastai\n",
    "some reference:\n",
    "\n",
    "https://www.kaggle.com/maroberti/fastai-with-transformers-bert-roberta\n",
    "\n",
    "https://www.kaggle.com/twhelan/covid-19-vaccine-sentiment-analysis-with-fastai\n",
    "\n",
    "https://www.youtube.com/watch?v=WjnwWeGjZcM&t=626s"
   ]
  },
  {
   "cell_type": "code",
   "execution_count": null,
   "metadata": {
    "id": "AVDFyzrD1_Oo"
   },
   "outputs": [],
   "source": [
    "# !pip install fastai==2.3.1\n",
    "from fastai.text.all import *"
   ]
  },
  {
   "cell_type": "markdown",
   "metadata": {
    "id": "dy1lzJXp9ev_"
   },
   "source": [
    "Here we told fastai that we are working with text data, which is contained in the text column of a pandas DataFrame called df_lm. We set is_lm=True since we want to train a language model, so fastai needs to label the input data for us. Finally, we told fastai to hold out a random 10% of our data for a validation set using valid_pct=0.1"
   ]
  },
  {
   "cell_type": "code",
   "execution_count": null,
   "metadata": {
    "colab": {
     "base_uri": "https://localhost:8080/",
     "height": 71
    },
    "executionInfo": {
     "elapsed": 5377442,
     "status": "ok",
     "timestamp": 1622474770205,
     "user": {
      "displayName": "Jinfei Li",
      "photoUrl": "https://lh3.googleusercontent.com/a-/AOh14Ggnb-qJjCzbIWJNSpwIjCwPzmOPJB1bG-PKgr6qCg=s64",
      "userId": "03112626207949006140"
     },
     "user_tz": 240
    },
    "id": "vJf9tRTA2t2e",
    "outputId": "c84c31d9-8d8a-4ebb-bc81-92c986570534"
   },
   "outputs": [
    {
     "data": {
      "text/html": [],
      "text/plain": [
       "<IPython.core.display.HTML object>"
      ]
     },
     "metadata": {
      "tags": []
     },
     "output_type": "display_data"
    },
    {
     "name": "stderr",
     "output_type": "stream",
     "text": [
      "/usr/local/lib/python3.7/dist-packages/numpy/core/_asarray.py:83: VisibleDeprecationWarning: Creating an ndarray from ragged nested sequences (which is a list-or-tuple of lists-or-tuples-or ndarrays with different lengths or shapes) is deprecated. If you meant to do this, you must specify 'dtype=object' when creating the ndarray\n",
      "  return array(a, dtype, copy=False, order=order)\n"
     ]
    }
   ],
   "source": [
    "dls_lm = TextDataLoaders.from_df(df_lm, text_col='text', is_lm=True, valid_pct=0.1)"
   ]
  },
  {
   "cell_type": "code",
   "execution_count": null,
   "metadata": {
    "colab": {
     "base_uri": "https://localhost:8080/",
     "height": 179
    },
    "executionInfo": {
     "elapsed": 1961,
     "status": "ok",
     "timestamp": 1622474805417,
     "user": {
      "displayName": "Jinfei Li",
      "photoUrl": "https://lh3.googleusercontent.com/a-/AOh14Ggnb-qJjCzbIWJNSpwIjCwPzmOPJB1bG-PKgr6qCg=s64",
      "userId": "03112626207949006140"
     },
     "user_tz": 240
    },
    "id": "NZ15HGIn3D3L",
    "outputId": "17623897-fcaa-4cf1-bbe3-bd8b75ddec6d"
   },
   "outputs": [
    {
     "data": {
      "text/html": [
       "<table border=\"1\" class=\"dataframe\">\n",
       "  <thead>\n",
       "    <tr style=\"text-align: right;\">\n",
       "      <th></th>\n",
       "      <th>text</th>\n",
       "      <th>text_</th>\n",
       "    </tr>\n",
       "  </thead>\n",
       "  <tbody>\n",
       "    <tr>\n",
       "      <th>0</th>\n",
       "      <td>xxbos xxup rt xxmaj ten people living at a xxmaj kansas nursing home have died after an outbreak of xxmaj covid-19 infected all 62 residents , according to a state xxbos xxup rt xxmaj ca n't believe we 've fought the whole of 2020 to stay alive . \\n xxmaj we 've fought for being black , we 've fought for being women , we ' xxbos i do nt think you</td>\n",
       "      <td>xxup rt xxmaj ten people living at a xxmaj kansas nursing home have died after an outbreak of xxmaj covid-19 infected all 62 residents , according to a state xxbos xxup rt xxmaj ca n't believe we 've fought the whole of 2020 to stay alive . \\n xxmaj we 've fought for being black , we 've fought for being women , we ' xxbos i do nt think you can</td>\n",
       "    </tr>\n",
       "    <tr>\n",
       "      <th>1</th>\n",
       "      <td>more than any other demographic . \\n\\n xxmaj how many grandparents have died bc of trumps mishandling of xxbos xxmaj who checks to see why / when / how xxmaj trump invested in these new the xxbos hahahaha omg you win the xxunk today ! &amp; ' why are you trying to turn me into xxmaj zac xxmaj xxunk ? &amp; ' hahaha xxbos xxup rt xxmaj dr . xxmaj fauci .</td>\n",
       "      <td>than any other demographic . \\n\\n xxmaj how many grandparents have died bc of trumps mishandling of xxbos xxmaj who checks to see why / when / how xxmaj trump invested in these new the xxbos hahahaha omg you win the xxunk today ! &amp; ' why are you trying to turn me into xxmaj zac xxmaj xxunk ? &amp; ' hahaha xxbos xxup rt xxmaj dr . xxmaj fauci . xxmaj</td>\n",
       "    </tr>\n",
       "  </tbody>\n",
       "</table>"
      ],
      "text/plain": [
       "<IPython.core.display.HTML object>"
      ]
     },
     "metadata": {
      "tags": []
     },
     "output_type": "display_data"
    }
   ],
   "source": [
    "dls_lm.show_batch(max_n=2)"
   ]
  },
  {
   "cell_type": "code",
   "execution_count": null,
   "metadata": {
    "id": "4CHOQ2SUzz8z"
   },
   "outputs": [],
   "source": [
    "torch.save(dls_lm, os.path.join(path, 'dls_lm.pkl'))"
   ]
  },
  {
   "cell_type": "markdown",
   "metadata": {
    "id": "VPC104mDy1kH"
   },
   "source": [
    "# Fine-tuning the language model\n"
   ]
  },
  {
   "cell_type": "code",
   "execution_count": null,
   "metadata": {
    "id": "EdQIs8-byzNw"
   },
   "outputs": [],
   "source": [
    "learn = language_model_learner(dls_lm, AWD_LSTM, drop_mult = 0.3, metrics=[accuracy, Perplexity()]).to_fp16()"
   ]
  },
  {
   "cell_type": "markdown",
   "metadata": {
    "id": "-I8uaV1kzA95"
   },
   "source": [
    "Here we passed language_model_learner our DataLoaders, dls_lm, and the pre-trained RNN model, AWD_LSTM, which is built into fastai. drop_mult is a multiplier applied to all dropouts in the AWD_LSTM model to reduce overfitting. For example, by default fastai's AWD_LSTM applies EmbeddingDropout with 10% probability (at the time of writing), but we told fastai that we want to reduce that to 3%. The metrics we want to track are perplexity, which is the exponential of the loss (in this case cross entropy loss), and accuracy, which tells us how often our model predicts the next word correctly. We can also train with fp16 to use less memory and speed up the training process.\n",
    "\n",
    "We can find a good learning rate for training using lr_find and use that to fit our model."
   ]
  },
  {
   "cell_type": "code",
   "execution_count": null,
   "metadata": {
    "colab": {
     "base_uri": "https://localhost:8080/",
     "height": 300
    },
    "executionInfo": {
     "elapsed": 26899,
     "status": "ok",
     "timestamp": 1622400426196,
     "user": {
      "displayName": "Jinfei Li",
      "photoUrl": "https://lh3.googleusercontent.com/a-/AOh14Ggnb-qJjCzbIWJNSpwIjCwPzmOPJB1bG-PKgr6qCg=s64",
      "userId": "03112626207949006140"
     },
     "user_tz": 240
    },
    "id": "ZlNGglYzyzQg",
    "outputId": "b9e2d0e6-04e4-4c75-ed1e-1cee441ec534"
   },
   "outputs": [
    {
     "data": {
      "text/html": [],
      "text/plain": [
       "<IPython.core.display.HTML object>"
      ]
     },
     "metadata": {
      "tags": []
     },
     "output_type": "display_data"
    },
    {
     "data": {
      "text/plain": [
       "SuggestedLRs(lr_min=5.754399462603033e-05, lr_steep=1.0964781722577754e-06)"
      ]
     },
     "execution_count": 16,
     "metadata": {
      "tags": []
     },
     "output_type": "execute_result"
    },
    {
     "data": {
      "image/png": "[encoded data removed]",
      "text/plain": [
       "<Figure size 432x288 with 1 Axes>"
      ]
     },
     "metadata": {
      "needs_background": "light",
      "tags": []
     },
     "output_type": "display_data"
    }
   ],
   "source": [
    "learn.lr_find()"
   ]
  },
  {
   "cell_type": "markdown",
   "metadata": {
    "id": "_EmoqXV2zEug"
   },
   "source": [
    "When we created our Learner the embeddings from the pre-trained AWD_LSTM model were merged with random embeddings added for words that weren't in the vocabulary. The pre-trained layers were also automatically frozen for us. Using fit_one_cycle with our Learner will train only the new random embeddings (i.e. words that are in our Twitter vocab but not the Wikipedia vocab) in the last layer of the neural network"
   ]
  },
  {
   "cell_type": "code",
   "execution_count": null,
   "metadata": {
    "colab": {
     "base_uri": "https://localhost:8080/",
     "height": 80
    },
    "executionInfo": {
     "elapsed": 392434,
     "status": "ok",
     "timestamp": 1622411545094,
     "user": {
      "displayName": "Jinfei Li",
      "photoUrl": "https://lh3.googleusercontent.com/a-/AOh14Ggnb-qJjCzbIWJNSpwIjCwPzmOPJB1bG-PKgr6qCg=s64",
      "userId": "03112626207949006140"
     },
     "user_tz": 240
    },
    "id": "iIKW0fs8yzTA",
    "outputId": "2d32b286-b978-43f5-ff15-2a4ba43b98f8"
   },
   "outputs": [
    {
     "data": {
      "text/html": [
       "<table border=\"1\" class=\"dataframe\">\n",
       "  <thead>\n",
       "    <tr style=\"text-align: left;\">\n",
       "      <th>epoch</th>\n",
       "      <th>train_loss</th>\n",
       "      <th>valid_loss</th>\n",
       "      <th>accuracy</th>\n",
       "      <th>perplexity</th>\n",
       "      <th>time</th>\n",
       "    </tr>\n",
       "  </thead>\n",
       "  <tbody>\n",
       "    <tr>\n",
       "      <td>0</td>\n",
       "      <td>3.066971</td>\n",
       "      <td>2.903956</td>\n",
       "      <td>0.496153</td>\n",
       "      <td>18.246193</td>\n",
       "      <td>06:32</td>\n",
       "    </tr>\n",
       "  </tbody>\n",
       "</table>"
      ],
      "text/plain": [
       "<IPython.core.display.HTML object>"
      ]
     },
     "metadata": {
      "tags": []
     },
     "output_type": "display_data"
    }
   ],
   "source": [
    "learn.fit_one_cycle(1, 3e-2)"
   ]
  },
  {
   "cell_type": "markdown",
   "metadata": {
    "id": "flon5mEDzG7J"
   },
   "source": [
    "We can unfreeze the entire model, find a more suitable learning rate and train for a few more epochs to improve the accuracy further."
   ]
  },
  {
   "cell_type": "code",
   "execution_count": null,
   "metadata": {
    "id": "rmF3WLFYyzZ4"
   },
   "outputs": [],
   "source": [
    "learn.unfreeze()\n",
    "# learn.lr_find()"
   ]
  },
  {
   "cell_type": "code",
   "execution_count": null,
   "metadata": {
    "colab": {
     "base_uri": "https://localhost:8080/",
     "height": 173
    },
    "executionInfo": {
     "elapsed": 1685178,
     "status": "ok",
     "timestamp": 1622424304498,
     "user": {
      "displayName": "Jinfei Li",
      "photoUrl": "https://lh3.googleusercontent.com/a-/AOh14Ggnb-qJjCzbIWJNSpwIjCwPzmOPJB1bG-PKgr6qCg=s64",
      "userId": "03112626207949006140"
     },
     "user_tz": 240
    },
    "id": "ulkn0r5uyzeP",
    "outputId": "b5365154-8b5d-4a74-f377-f029da4ba707"
   },
   "outputs": [
    {
     "data": {
      "text/html": [
       "<table border=\"1\" class=\"dataframe\">\n",
       "  <thead>\n",
       "    <tr style=\"text-align: left;\">\n",
       "      <th>epoch</th>\n",
       "      <th>train_loss</th>\n",
       "      <th>valid_loss</th>\n",
       "      <th>accuracy</th>\n",
       "      <th>perplexity</th>\n",
       "      <th>time</th>\n",
       "    </tr>\n",
       "  </thead>\n",
       "  <tbody>\n",
       "    <tr>\n",
       "      <td>0</td>\n",
       "      <td>3.055696</td>\n",
       "      <td>2.884866</td>\n",
       "      <td>0.509043</td>\n",
       "      <td>17.901176</td>\n",
       "      <td>07:03</td>\n",
       "    </tr>\n",
       "    <tr>\n",
       "      <td>1</td>\n",
       "      <td>2.560153</td>\n",
       "      <td>2.481781</td>\n",
       "      <td>0.569966</td>\n",
       "      <td>11.962545</td>\n",
       "      <td>07:01</td>\n",
       "    </tr>\n",
       "    <tr>\n",
       "      <td>2</td>\n",
       "      <td>2.316329</td>\n",
       "      <td>2.333495</td>\n",
       "      <td>0.595523</td>\n",
       "      <td>10.313930</td>\n",
       "      <td>07:00</td>\n",
       "    </tr>\n",
       "    <tr>\n",
       "      <td>3</td>\n",
       "      <td>2.190758</td>\n",
       "      <td>2.309766</td>\n",
       "      <td>0.600834</td>\n",
       "      <td>10.072065</td>\n",
       "      <td>07:00</td>\n",
       "    </tr>\n",
       "  </tbody>\n",
       "</table>"
      ],
      "text/plain": [
       "<IPython.core.display.HTML object>"
      ]
     },
     "metadata": {
      "tags": []
     },
     "output_type": "display_data"
    }
   ],
   "source": [
    "learn.fit_one_cycle(4, 1e-3) #4 means 4 epoch"
   ]
  },
  {
   "cell_type": "markdown",
   "metadata": {
    "id": "Ttj6C5FbzLn3"
   },
   "source": [
    "We can test our model by predicting the next word as below:"
   ]
  },
  {
   "cell_type": "code",
   "execution_count": null,
   "metadata": {
    "colab": {
     "base_uri": "https://localhost:8080/",
     "height": 51
    },
    "executionInfo": {
     "elapsed": 1610,
     "status": "ok",
     "timestamp": 1622424374939,
     "user": {
      "displayName": "Jinfei Li",
      "photoUrl": "https://lh3.googleusercontent.com/a-/AOh14Ggnb-qJjCzbIWJNSpwIjCwPzmOPJB1bG-PKgr6qCg=s64",
      "userId": "03112626207949006140"
     },
     "user_tz": 240
    },
    "id": "7aJ9UsA3zMvH",
    "outputId": "78282e85-5b86-4d84-e531-cd75c523acf6"
   },
   "outputs": [
    {
     "data": {
      "text/html": [],
      "text/plain": [
       "<IPython.core.display.HTML object>"
      ]
     },
     "metadata": {
      "tags": []
     },
     "output_type": "display_data"
    },
    {
     "data": {
      "text/html": [],
      "text/plain": [
       "<IPython.core.display.HTML object>"
      ]
     },
     "metadata": {
      "tags": []
     },
     "output_type": "display_data"
    },
    {
     "name": "stdout",
     "output_type": "stream",
     "text": [
      "i love my daddy . He is a true doctor . He 's a doctors . Due to COVID-19 , he is no longer considered a doctor . Must be This is the conclusion of i know , we did\n",
      "i love the fans . RT Have a great weekend ! The National Government has been working hard to limit the spread of the coronavirus , and we have been designed to This is the perfect way to manage\n"
     ]
    }
   ],
   "source": [
    "TEXT = \"I love\"\n",
    "N_WORDS = 45\n",
    "N_SENTENCES = 2\n",
    "print(\"\\n\".join(learn.predict(TEXT, N_WORDS, temperature=0.75) for _ in range(N_SENTENCES)))"
   ]
  },
  {
   "cell_type": "markdown",
   "metadata": {
    "id": "DVxFUiCjzOWI"
   },
   "source": [
    "Let's save the model encoder so we can use it to fine-tune our classifier. The encoder is all of the model except for the final layer, which converts activations to probabilities of picking each token in the vocabulary. We want to keep the knowledge the model has learned about tweet language but we won't be using our classifier to predict the next word in a sentence, so we won't need the final layer any more."
   ]
  },
  {
   "cell_type": "code",
   "execution_count": null,
   "metadata": {
    "id": "SqQu2QX_zPs4"
   },
   "outputs": [],
   "source": [
    "learn.save_encoder(os.path.join(path, 'finetuned_lm')) # save encoder\n",
    "learn.save(os.path.join(path, 'finetuned_lm_0531')) # save model"
   ]
  },
  {
   "cell_type": "markdown",
   "metadata": {
    "id": "BwQWhsaIomSz"
   },
   "source": [
    "# Training a sentiment classifier\n",
    "To get the DataLoaders for our classifier let's use the DataBlock API this time, which is more customisable."
   ]
  },
  {
   "cell_type": "code",
   "execution_count": null,
   "metadata": {
    "colab": {
     "base_uri": "https://localhost:8080/",
     "height": 71
    },
    "executionInfo": {
     "elapsed": 613432,
     "status": "ok",
     "timestamp": 1622475895623,
     "user": {
      "displayName": "Jinfei Li",
      "photoUrl": "https://lh3.googleusercontent.com/a-/AOh14Ggnb-qJjCzbIWJNSpwIjCwPzmOPJB1bG-PKgr6qCg=s64",
      "userId": "03112626207949006140"
     },
     "user_tz": 240
    },
    "id": "81cP5zzcopNQ",
    "outputId": "e85ef15f-f6a5-4d87-810d-8c3bf1b4d224"
   },
   "outputs": [
    {
     "data": {
      "text/html": [],
      "text/plain": [
       "<IPython.core.display.HTML object>"
      ]
     },
     "metadata": {
      "tags": []
     },
     "output_type": "display_data"
    },
    {
     "name": "stderr",
     "output_type": "stream",
     "text": [
      "/usr/local/lib/python3.7/dist-packages/numpy/core/_asarray.py:83: VisibleDeprecationWarning: Creating an ndarray from ragged nested sequences (which is a list-or-tuple of lists-or-tuples-or ndarrays with different lengths or shapes) is deprecated. If you meant to do this, you must specify 'dtype=object' when creating the ndarray\n",
      "  return array(a, dtype, copy=False, order=order)\n"
     ]
    }
   ],
   "source": [
    "dls_clas = DataBlock(\n",
    "    blocks = (TextBlock.from_df('text', seq_len = dls_lm.seq_len, vocab = dls_lm.vocab), CategoryBlock),\n",
    "    # blocks = (TextBlock.from_df('text', seq_len = 72, vocab = vocab_list), CategoryBlock),\n",
    "    get_x = ColReader('text'),\n",
    "    get_y = ColReader('label'),\n",
    "    splitter = RandomSplitter()\n",
    ").dataloaders(df_clas, bs = 64)"
   ]
  },
  {
   "cell_type": "code",
   "execution_count": null,
   "metadata": {
    "id": "AosgsP97EFVe"
   },
   "outputs": [],
   "source": [
    "torch.save(dls_clas, os.path.join(path, 'dls_clas.pkl'))"
   ]
  },
  {
   "cell_type": "markdown",
   "metadata": {
    "id": "C0yefGBaotLp"
   },
   "source": [
    "To use the API, fastai needs the following:\n",
    "\n",
    "blocks:\n",
    "TextBlock: Our x variable will be text contained in a pandas DataFrame. We want to use the same sequence length and vocab as the language model DataLoaders so we can make use of our pre-trained model.\n",
    "CategoryBlock: Our y variable will be a single-label category (negative, neutral or positive sentiment).\n",
    "get_x, get_y: Get data for the model by reading the text and sentiment columns from the DataFrame.\n",
    "splitter: We will use RandomSplitter() to randomly split the data into a training set (80% by default) and a validation set (20%).\n",
    "dataloaders: Builds the DataLoaders using the DataBlock template we just defined, the df_clas DataFrame and a batch size of 64."
   ]
  },
  {
   "cell_type": "code",
   "execution_count": null,
   "metadata": {
    "colab": {
     "base_uri": "https://localhost:8080/",
     "height": 224
    },
    "executionInfo": {
     "elapsed": 130,
     "status": "ok",
     "timestamp": 1622476410150,
     "user": {
      "displayName": "Jinfei Li",
      "photoUrl": "https://lh3.googleusercontent.com/a-/AOh14Ggnb-qJjCzbIWJNSpwIjCwPzmOPJB1bG-PKgr6qCg=s64",
      "userId": "03112626207949006140"
     },
     "user_tz": 240
    },
    "id": "c8uR_kh-orcC",
    "outputId": "7360a9da-a0dd-4d99-e7a5-7ab1fd1f6f7c"
   },
   "outputs": [
    {
     "data": {
      "text/html": [
       "<table border=\"1\" class=\"dataframe\">\n",
       "  <thead>\n",
       "    <tr style=\"text-align: right;\">\n",
       "      <th></th>\n",
       "      <th>text</th>\n",
       "      <th>category</th>\n",
       "    </tr>\n",
       "  </thead>\n",
       "  <tbody>\n",
       "    <tr>\n",
       "      <th>0</th>\n",
       "      <td>xxbos xxup ugg xxup want xxup to xxup go xxup to xxup xxunk xxup house xxup but i xxup ca nt xxup finna xxup be xxup bored xxup this xxup weekend xxrep 3 ! xxrep 3 u xxup xxunk xxup wanna xxup spend xxup da xxup nite xxup and xxup go xxup see xxup up xxup and xxup go xxup shopping</td>\n",
       "      <td>neutral</td>\n",
       "    </tr>\n",
       "    <tr>\n",
       "      <th>1</th>\n",
       "      <td>xxbos xxup my xxup car xxup is xxup almost xxup definately xxup going xxup to xxup be xxup written xxup off ! xxup the xxup garage xxup rang xxup and xxup said xxup the xxup work xxup will xxup cost 3k xxup and xxup its xxup up xxup to xxup the xxup insurance xxup co</td>\n",
       "      <td>neutral</td>\n",
       "    </tr>\n",
       "    <tr>\n",
       "      <th>2</th>\n",
       "      <td>xxbos xxmaj yeah xxmaj it xxmaj good xxmaj but do nt xxmaj click xxmaj the xxmaj red x xxmaj because xxmaj it xxmaj shuts xxmaj it xxmaj down xxmaj but xxmaj other xxmaj then xxmaj that xxmaj its xxmaj good xxmaj and xxmaj when u minimize xxmaj it , xxmaj it xxmaj goes ..</td>\n",
       "      <td>positive</td>\n",
       "    </tr>\n",
       "    <tr>\n",
       "      <th>3</th>\n",
       "      <td>xxbos d xxrep 4 u de , xxmaj tim said that they 're making a xxmaj red vs xxmaj blue animated series ! xxmaj it 'll be either on xxmaj adult xxmaj swim or xxup g4 . i hope xxup as , coz i do n't have xxup g4 !</td>\n",
       "      <td>neutral</td>\n",
       "    </tr>\n",
       "  </tbody>\n",
       "</table>"
      ],
      "text/plain": [
       "<IPython.core.display.HTML object>"
      ]
     },
     "metadata": {
      "tags": []
     },
     "output_type": "display_data"
    }
   ],
   "source": [
    "dls_clas.show_batch(max_n=4)"
   ]
  },
  {
   "cell_type": "markdown",
   "metadata": {
    "id": "Q0jxt_R3osd6"
   },
   "source": [
    "Initialising the Learner is similar to before, but in this case we want a text_classifier_learner."
   ]
  },
  {
   "cell_type": "code",
   "execution_count": null,
   "metadata": {
    "colab": {
     "base_uri": "https://localhost:8080/",
     "height": 51
    },
    "executionInfo": {
     "elapsed": 5490,
     "status": "ok",
     "timestamp": 1622465525857,
     "user": {
      "displayName": "Jinfei Li",
      "photoUrl": "https://lh3.googleusercontent.com/a-/AOh14Ggnb-qJjCzbIWJNSpwIjCwPzmOPJB1bG-PKgr6qCg=s64",
      "userId": "03112626207949006140"
     },
     "user_tz": 240
    },
    "id": "rCP4kiWgoxyy",
    "outputId": "30b99305-b99f-4be6-c197-7b51fe2221e7"
   },
   "outputs": [
    {
     "data": {
      "text/html": [],
      "text/plain": [
       "<IPython.core.display.HTML object>"
      ]
     },
     "metadata": {
      "tags": []
     },
     "output_type": "display_data"
    },
    {
     "name": "stderr",
     "output_type": "stream",
     "text": [
      "/usr/local/lib/python3.7/dist-packages/torch/cuda/amp/autocast_mode.py:118: UserWarning: torch.cuda.amp.autocast only affects CUDA ops, but CUDA is not available.  Disabling.\n",
      "  warnings.warn(\"torch.cuda.amp.autocast only affects CUDA ops, but CUDA is not available.  Disabling.\")\n"
     ]
    }
   ],
   "source": [
    "learn = text_classifier_learner(dls_clas, AWD_LSTM, drop_mult=0.5, metrics=accuracy).to_fp16()"
   ]
  },
  {
   "cell_type": "markdown",
   "metadata": {
    "id": "pkIOg-nuo3p1"
   },
   "source": [
    "Finally, we want to load the encoder from the language model we trained earlier, so our classifier uses pre-trained weights."
   ]
  },
  {
   "cell_type": "code",
   "execution_count": null,
   "metadata": {
    "id": "75t9z4qFozMM"
   },
   "outputs": [],
   "source": [
    "learn = learn.load_encoder(os.path.join(path, 'finetuned_lm'))"
   ]
  },
  {
   "cell_type": "markdown",
   "metadata": {
    "id": "GE06FvZxo7N1"
   },
   "source": [
    "## Fine-tuning the classifier\n",
    "Now we can train the classifier using discriminative learning rates and gradual unfreezing, which has been found to give better results for this type of model. First let's freeze all but the last layer:"
   ]
  },
  {
   "cell_type": "code",
   "execution_count": null,
   "metadata": {
    "colab": {
     "base_uri": "https://localhost:8080/",
     "height": 80
    },
    "executionInfo": {
     "elapsed": 35769,
     "status": "ok",
     "timestamp": 1622425084352,
     "user": {
      "displayName": "Jinfei Li",
      "photoUrl": "https://lh3.googleusercontent.com/a-/AOh14Ggnb-qJjCzbIWJNSpwIjCwPzmOPJB1bG-PKgr6qCg=s64",
      "userId": "03112626207949006140"
     },
     "user_tz": 240
    },
    "id": "MeGoTqPeo5sd",
    "outputId": "6641c598-8f09-4e43-b69d-c9023b70cd52"
   },
   "outputs": [
    {
     "data": {
      "text/html": [
       "<table border=\"1\" class=\"dataframe\">\n",
       "  <thead>\n",
       "    <tr style=\"text-align: left;\">\n",
       "      <th>epoch</th>\n",
       "      <th>train_loss</th>\n",
       "      <th>valid_loss</th>\n",
       "      <th>accuracy</th>\n",
       "      <th>time</th>\n",
       "    </tr>\n",
       "  </thead>\n",
       "  <tbody>\n",
       "    <tr>\n",
       "      <td>0</td>\n",
       "      <td>0.843142</td>\n",
       "      <td>0.780375</td>\n",
       "      <td>0.653097</td>\n",
       "      <td>00:35</td>\n",
       "    </tr>\n",
       "  </tbody>\n",
       "</table>"
      ],
      "text/plain": [
       "<IPython.core.display.HTML object>"
      ]
     },
     "metadata": {
      "tags": []
     },
     "output_type": "display_data"
    }
   ],
   "source": [
    "learn.fit_one_cycle(1, 3e-2)"
   ]
  },
  {
   "cell_type": "markdown",
   "metadata": {
    "id": "88rH0xVIo-bH"
   },
   "source": [
    "Now freeze all but the last two layers:"
   ]
  },
  {
   "cell_type": "code",
   "execution_count": null,
   "metadata": {
    "colab": {
     "base_uri": "https://localhost:8080/",
     "height": 80
    },
    "executionInfo": {
     "elapsed": 37148,
     "status": "ok",
     "timestamp": 1622425233660,
     "user": {
      "displayName": "Jinfei Li",
      "photoUrl": "https://lh3.googleusercontent.com/a-/AOh14Ggnb-qJjCzbIWJNSpwIjCwPzmOPJB1bG-PKgr6qCg=s64",
      "userId": "03112626207949006140"
     },
     "user_tz": 240
    },
    "id": "TOLXbQ8So-jN",
    "outputId": "76f98d6a-d046-470b-a4eb-06870eb3435e"
   },
   "outputs": [
    {
     "data": {
      "text/html": [
       "<table border=\"1\" class=\"dataframe\">\n",
       "  <thead>\n",
       "    <tr style=\"text-align: left;\">\n",
       "      <th>epoch</th>\n",
       "      <th>train_loss</th>\n",
       "      <th>valid_loss</th>\n",
       "      <th>accuracy</th>\n",
       "      <th>time</th>\n",
       "    </tr>\n",
       "  </thead>\n",
       "  <tbody>\n",
       "    <tr>\n",
       "      <td>0</td>\n",
       "      <td>0.737293</td>\n",
       "      <td>0.644346</td>\n",
       "      <td>0.720307</td>\n",
       "      <td>00:37</td>\n",
       "    </tr>\n",
       "  </tbody>\n",
       "</table>"
      ],
      "text/plain": [
       "<IPython.core.display.HTML object>"
      ]
     },
     "metadata": {
      "tags": []
     },
     "output_type": "display_data"
    }
   ],
   "source": [
    "learn.freeze_to(-2)\n",
    "learn.fit_one_cycle(1, slice(1e-2/(2.6**4),1e-2))"
   ]
  },
  {
   "cell_type": "markdown",
   "metadata": {
    "id": "QN-Gkajqo-rF"
   },
   "source": [
    "Now all but the last three:"
   ]
  },
  {
   "cell_type": "code",
   "execution_count": null,
   "metadata": {
    "colab": {
     "base_uri": "https://localhost:8080/",
     "height": 80
    },
    "executionInfo": {
     "elapsed": 38378,
     "status": "ok",
     "timestamp": 1622425369071,
     "user": {
      "displayName": "Jinfei Li",
      "photoUrl": "https://lh3.googleusercontent.com/a-/AOh14Ggnb-qJjCzbIWJNSpwIjCwPzmOPJB1bG-PKgr6qCg=s64",
      "userId": "03112626207949006140"
     },
     "user_tz": 240
    },
    "id": "B3MN5_FLo-yN",
    "outputId": "4024c463-9df9-45b8-e5cf-08fb38aa2cb0"
   },
   "outputs": [
    {
     "data": {
      "text/html": [
       "<table border=\"1\" class=\"dataframe\">\n",
       "  <thead>\n",
       "    <tr style=\"text-align: left;\">\n",
       "      <th>epoch</th>\n",
       "      <th>train_loss</th>\n",
       "      <th>valid_loss</th>\n",
       "      <th>accuracy</th>\n",
       "      <th>time</th>\n",
       "    </tr>\n",
       "  </thead>\n",
       "  <tbody>\n",
       "    <tr>\n",
       "      <td>0</td>\n",
       "      <td>0.643461</td>\n",
       "      <td>0.584041</td>\n",
       "      <td>0.754151</td>\n",
       "      <td>00:38</td>\n",
       "    </tr>\n",
       "  </tbody>\n",
       "</table>"
      ],
      "text/plain": [
       "<IPython.core.display.HTML object>"
      ]
     },
     "metadata": {
      "tags": []
     },
     "output_type": "display_data"
    }
   ],
   "source": [
    "learn.freeze_to(-3)\n",
    "learn.fit_one_cycle(1, slice(5e-3/(2.6**4),5e-3))"
   ]
  },
  {
   "cell_type": "markdown",
   "metadata": {
    "id": "URb6EuaZpDzI"
   },
   "source": [
    "Finally, let's unfreeze the entire model and train a bit more:"
   ]
  },
  {
   "cell_type": "code",
   "execution_count": null,
   "metadata": {
    "id": "KltpOyufpD6o"
   },
   "outputs": [],
   "source": [
    "learn.unfreeze()\n",
    "learn.fit_one_cycle(2, slice(1e-3/(2.6**4),1e-3))"
   ]
  },
  {
   "cell_type": "code",
   "execution_count": null,
   "metadata": {
    "colab": {
     "base_uri": "https://localhost:8080/"
    },
    "executionInfo": {
     "elapsed": 1652,
     "status": "ok",
     "timestamp": 1622425777843,
     "user": {
      "displayName": "Jinfei Li",
      "photoUrl": "https://lh3.googleusercontent.com/a-/AOh14Ggnb-qJjCzbIWJNSpwIjCwPzmOPJB1bG-PKgr6qCg=s64",
      "userId": "03112626207949006140"
     },
     "user_tz": 240
    },
    "id": "kOdTlq4vpGXg",
    "outputId": "d0bfda61-bcf7-4dc1-d756-a44a3269243b"
   },
   "outputs": [
    {
     "data": {
      "text/plain": [
       "Path('/content/drive/MyDrive/colab_data/twitter_classifier.pth')"
      ]
     },
     "execution_count": 26,
     "metadata": {
      "tags": []
     },
     "output_type": "execute_result"
    }
   ],
   "source": [
    "learn.save(os.path.join(path, 'twitter_classifier'))"
   ]
  },
  {
   "cell_type": "code",
   "execution_count": null,
   "metadata": {
    "colab": {
     "base_uri": "https://localhost:8080/",
     "height": 34
    },
    "executionInfo": {
     "elapsed": 307,
     "status": "ok",
     "timestamp": 1622466825704,
     "user": {
      "displayName": "Jinfei Li",
      "photoUrl": "https://lh3.googleusercontent.com/a-/AOh14Ggnb-qJjCzbIWJNSpwIjCwPzmOPJB1bG-PKgr6qCg=s64",
      "userId": "03112626207949006140"
     },
     "user_tz": 240
    },
    "id": "NRyCEtR3pHvA",
    "outputId": "9129d055-aa6b-4287-816d-8919f4fb60bb"
   },
   "outputs": [
    {
     "data": {
      "text/html": [],
      "text/plain": [
       "<IPython.core.display.HTML object>"
      ]
     },
     "metadata": {
      "tags": []
     },
     "output_type": "display_data"
    },
    {
     "data": {
      "text/plain": [
       "('negative', tensor(0), tensor([0.9940, 0.0034, 0.0026]))"
      ]
     },
     "execution_count": 24,
     "metadata": {
      "tags": []
     },
     "output_type": "execute_result"
    }
   ],
   "source": [
    "learn.predict(\"I hate\")"
   ]
  },
  {
   "cell_type": "markdown",
   "metadata": {
    "id": "OJ1Nqr8Omtxj"
   },
   "source": [
    "# Load model file"
   ]
  },
  {
   "cell_type": "code",
   "execution_count": null,
   "metadata": {
    "id": "4Y9BjlKpm9Uk"
   },
   "outputs": [],
   "source": [
    "learn = text_classifier_learner(dls_clas, AWD_LSTM, drop_mult=0.5, metrics=accuracy).load(os.path.join(path, 'twitter_classifier'))"
   ]
  },
  {
   "cell_type": "markdown",
   "metadata": {
    "id": "MNt2LfCb1j9X"
   },
   "source": [
    "# Analysing the tweets\n",
    "To carry out sentiment analysis on the vaccine tweets, we can add them to the DataLoaders as a test set:"
   ]
  },
  {
   "cell_type": "code",
   "execution_count": null,
   "metadata": {
    "colab": {
     "base_uri": "https://localhost:8080/",
     "height": 17
    },
    "executionInfo": {
     "elapsed": 9827875,
     "status": "ok",
     "timestamp": 1622486292686,
     "user": {
      "displayName": "Jinfei Li",
      "photoUrl": "https://lh3.googleusercontent.com/a-/AOh14Ggnb-qJjCzbIWJNSpwIjCwPzmOPJB1bG-PKgr6qCg=s64",
      "userId": "03112626207949006140"
     },
     "user_tz": 240
    },
    "id": "M_pkbv3T1lTI",
    "outputId": "1f0a0ff2-7e77-4c99-b534-9c685d65972e"
   },
   "outputs": [
    {
     "data": {
      "text/html": [],
      "text/plain": [
       "<IPython.core.display.HTML object>"
      ]
     },
     "metadata": {
      "tags": []
     },
     "output_type": "display_data"
    }
   ],
   "source": [
    "# load the model, do the prediction and save the output data\n",
    "# learn = text_classifier_learner(dls_clas, AWD_LSTM, drop_mult=0.5, metrics=accuracy).load(os.path.join(path, 'twitter_classifier'))\n",
    "pred_dl = dls_clas.test_dl(covid_tweet['text'])\n",
    "preds = learn.get_preds(dl=pred_dl)\n",
    "\n"
   ]
  },
  {
   "cell_type": "markdown",
   "metadata": {
    "id": "RttJmAgh3z7o"
   },
   "source": [
    "Let's go ahead and check out the results."
   ]
  },
  {
   "cell_type": "code",
   "execution_count": null,
   "metadata": {
    "colab": {
     "base_uri": "https://localhost:8080/",
     "height": 299
    },
    "executionInfo": {
     "elapsed": 6066,
     "status": "ok",
     "timestamp": 1622486414549,
     "user": {
      "displayName": "Jinfei Li",
      "photoUrl": "https://lh3.googleusercontent.com/a-/AOh14Ggnb-qJjCzbIWJNSpwIjCwPzmOPJB1bG-PKgr6qCg=s64",
      "userId": "03112626207949006140"
     },
     "user_tz": 240
    },
    "id": "V2vCQ57p32uP",
    "outputId": "2f531491-0ec1-463a-d879-adba1d5d0d5f"
   },
   "outputs": [
    {
     "data": {
      "image/png": "[encoded data removed]",
      "text/plain": [
       "<Figure size 432x288 with 1 Axes>"
      ]
     },
     "metadata": {
      "needs_background": "light",
      "tags": []
     },
     "output_type": "display_data"
    }
   ],
   "source": [
    "# Get predicted sentiment\n",
    "covid_tweet['label'] = preds[0].argmax(dim=-1)\n",
    "covid_tweet['label'] = covid_tweet['label'].map({0:'negative', 1:'neutral', 2:'positive'})\n",
    "\n",
    "# Save to csv\n",
    "covid_tweet.to_csv(os.path.join(path, 'covid_tweet_sentiment.csv'))\n",
    "\n",
    "# Plot sentiment value counts\n",
    "covid_tweet['label'].value_counts(normalize=True).plot.bar();"
   ]
  }
 ],
 "metadata": {
  "accelerator": "GPU",
  "colab": {
   "authorship_tag": "ABX9TyPpYsJnDIiaDClm722XeSg/",
   "collapsed_sections": [],
   "name": "Basic_twitter_sentiment_analysis_fastai.ipynb",
   "provenance": []
  },
  "kernelspec": {
   "display_name": "Python 3",
   "language": "python",
   "name": "python3"
  },
  "language_info": {
   "codemirror_mode": {
    "name": "ipython",
    "version": 3
   },
   "file_extension": ".py",
   "mimetype": "text/x-python",
   "name": "python",
   "nbconvert_exporter": "python",
   "pygments_lexer": "ipython3",
   "version": "3.8.8"
  }
 },
 "nbformat": 4,
 "nbformat_minor": 1
}
