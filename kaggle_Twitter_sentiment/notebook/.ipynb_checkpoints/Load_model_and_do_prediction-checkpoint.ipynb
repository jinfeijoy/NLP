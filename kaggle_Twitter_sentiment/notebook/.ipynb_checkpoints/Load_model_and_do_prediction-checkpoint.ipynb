{
 "cells": [
  {
   "cell_type": "code",
   "execution_count": 1,
   "metadata": {
    "colab": {
     "base_uri": "https://localhost:8080/"
    },
    "executionInfo": {
     "elapsed": 31417,
     "status": "ok",
     "timestamp": 1622487011983,
     "user": {
      "displayName": "Jinfei Li",
      "photoUrl": "https://lh3.googleusercontent.com/a-/AOh14Ggnb-qJjCzbIWJNSpwIjCwPzmOPJB1bG-PKgr6qCg=s64",
      "userId": "03112626207949006140"
     },
     "user_tz": 240
    },
    "id": "9FWqxI99bGa1",
    "outputId": "eca68af5-c9ab-4250-8b9b-e146fcd3620f"
   },
   "outputs": [
    {
     "name": "stdout",
     "output_type": "stream",
     "text": [
      "Collecting fastai==2.3.1\n",
      "\u001b[?25l  Downloading https://files.pythonhosted.org/packages/e8/79/e8a87e4c20238e114671314426227db8647d2b42744eab79e0917c59865e/fastai-2.3.1-py3-none-any.whl (194kB)\n",
      "\r",
      "\u001b[K     |█▊                              | 10kB 22.6MB/s eta 0:00:01\r",
      "\u001b[K     |███▍                            | 20kB 28.3MB/s eta 0:00:01\r",
      "\u001b[K     |█████                           | 30kB 32.3MB/s eta 0:00:01\r",
      "\u001b[K     |██████▊                         | 40kB 23.5MB/s eta 0:00:01\r",
      "\u001b[K     |████████▍                       | 51kB 23.6MB/s eta 0:00:01\r",
      "\u001b[K     |██████████                      | 61kB 25.7MB/s eta 0:00:01\r",
      "\u001b[K     |███████████▉                    | 71kB 23.7MB/s eta 0:00:01\r",
      "\u001b[K     |█████████████▌                  | 81kB 25.1MB/s eta 0:00:01\r",
      "\u001b[K     |███████████████▏                | 92kB 25.8MB/s eta 0:00:01\r",
      "\u001b[K     |████████████████▉               | 102kB 27.2MB/s eta 0:00:01\r",
      "\u001b[K     |██████████████████▌             | 112kB 27.2MB/s eta 0:00:01\r",
      "\u001b[K     |████████████████████▏           | 122kB 27.2MB/s eta 0:00:01\r",
      "\u001b[K     |██████████████████████          | 133kB 27.2MB/s eta 0:00:01\r",
      "\u001b[K     |███████████████████████▋        | 143kB 27.2MB/s eta 0:00:01\r",
      "\u001b[K     |█████████████████████████▎      | 153kB 27.2MB/s eta 0:00:01\r",
      "\u001b[K     |███████████████████████████     | 163kB 27.2MB/s eta 0:00:01\r",
      "\u001b[K     |████████████████████████████▋   | 174kB 27.2MB/s eta 0:00:01\r",
      "\u001b[K     |██████████████████████████████▎ | 184kB 27.2MB/s eta 0:00:01\r",
      "\u001b[K     |████████████████████████████████| 194kB 27.2MB/s eta 0:00:01\r",
      "\u001b[K     |████████████████████████████████| 204kB 27.2MB/s \n",
      "\u001b[?25hRequirement already satisfied: pyyaml in /usr/local/lib/python3.7/dist-packages (from fastai==2.3.1) (3.13)\n",
      "Requirement already satisfied: pandas in /usr/local/lib/python3.7/dist-packages (from fastai==2.3.1) (1.1.5)\n",
      "Requirement already satisfied: scikit-learn in /usr/local/lib/python3.7/dist-packages (from fastai==2.3.1) (0.22.2.post1)\n",
      "Requirement already satisfied: pip in /usr/local/lib/python3.7/dist-packages (from fastai==2.3.1) (19.3.1)\n",
      "Requirement already satisfied: scipy in /usr/local/lib/python3.7/dist-packages (from fastai==2.3.1) (1.4.1)\n",
      "Requirement already satisfied: torch<1.9,>=1.7.0 in /usr/local/lib/python3.7/dist-packages (from fastai==2.3.1) (1.8.1+cu101)\n",
      "Requirement already satisfied: pillow>6.0.0 in /usr/local/lib/python3.7/dist-packages (from fastai==2.3.1) (7.1.2)\n",
      "Requirement already satisfied: packaging in /usr/local/lib/python3.7/dist-packages (from fastai==2.3.1) (20.9)\n",
      "Requirement already satisfied: matplotlib in /usr/local/lib/python3.7/dist-packages (from fastai==2.3.1) (3.2.2)\n",
      "Requirement already satisfied: fastprogress>=0.2.4 in /usr/local/lib/python3.7/dist-packages (from fastai==2.3.1) (1.0.0)\n",
      "Requirement already satisfied: torchvision>=0.8.2 in /usr/local/lib/python3.7/dist-packages (from fastai==2.3.1) (0.9.1+cu101)\n",
      "Requirement already satisfied: spacy<4 in /usr/local/lib/python3.7/dist-packages (from fastai==2.3.1) (2.2.4)\n",
      "Collecting fastcore<1.4,>=1.3.8\n",
      "\u001b[?25l  Downloading https://files.pythonhosted.org/packages/d8/b0/f1fbf554e0bf3c76e1bdc3b82eedfe41fcf656479586be38c64421082b1b/fastcore-1.3.20-py3-none-any.whl (53kB)\n",
      "\u001b[K     |████████████████████████████████| 61kB 9.3MB/s \n",
      "\u001b[?25hRequirement already satisfied: requests in /usr/local/lib/python3.7/dist-packages (from fastai==2.3.1) (2.23.0)\n",
      "Requirement already satisfied: pytz>=2017.2 in /usr/local/lib/python3.7/dist-packages (from pandas->fastai==2.3.1) (2018.9)\n",
      "Requirement already satisfied: python-dateutil>=2.7.3 in /usr/local/lib/python3.7/dist-packages (from pandas->fastai==2.3.1) (2.8.1)\n",
      "Requirement already satisfied: numpy>=1.15.4 in /usr/local/lib/python3.7/dist-packages (from pandas->fastai==2.3.1) (1.19.5)\n",
      "Requirement already satisfied: joblib>=0.11 in /usr/local/lib/python3.7/dist-packages (from scikit-learn->fastai==2.3.1) (1.0.1)\n",
      "Requirement already satisfied: typing-extensions in /usr/local/lib/python3.7/dist-packages (from torch<1.9,>=1.7.0->fastai==2.3.1) (3.7.4.3)\n",
      "Requirement already satisfied: pyparsing>=2.0.2 in /usr/local/lib/python3.7/dist-packages (from packaging->fastai==2.3.1) (2.4.7)\n",
      "Requirement already satisfied: kiwisolver>=1.0.1 in /usr/local/lib/python3.7/dist-packages (from matplotlib->fastai==2.3.1) (1.3.1)\n",
      "Requirement already satisfied: cycler>=0.10 in /usr/local/lib/python3.7/dist-packages (from matplotlib->fastai==2.3.1) (0.10.0)\n",
      "Requirement already satisfied: setuptools in /usr/local/lib/python3.7/dist-packages (from spacy<4->fastai==2.3.1) (56.1.0)\n",
      "Requirement already satisfied: preshed<3.1.0,>=3.0.2 in /usr/local/lib/python3.7/dist-packages (from spacy<4->fastai==2.3.1) (3.0.5)\n",
      "Requirement already satisfied: murmurhash<1.1.0,>=0.28.0 in /usr/local/lib/python3.7/dist-packages (from spacy<4->fastai==2.3.1) (1.0.5)\n",
      "Requirement already satisfied: cymem<2.1.0,>=2.0.2 in /usr/local/lib/python3.7/dist-packages (from spacy<4->fastai==2.3.1) (2.0.5)\n",
      "Requirement already satisfied: blis<0.5.0,>=0.4.0 in /usr/local/lib/python3.7/dist-packages (from spacy<4->fastai==2.3.1) (0.4.1)\n",
      "Requirement already satisfied: catalogue<1.1.0,>=0.0.7 in /usr/local/lib/python3.7/dist-packages (from spacy<4->fastai==2.3.1) (1.0.0)\n",
      "Requirement already satisfied: thinc==7.4.0 in /usr/local/lib/python3.7/dist-packages (from spacy<4->fastai==2.3.1) (7.4.0)\n",
      "Requirement already satisfied: plac<1.2.0,>=0.9.6 in /usr/local/lib/python3.7/dist-packages (from spacy<4->fastai==2.3.1) (1.1.3)\n",
      "Requirement already satisfied: tqdm<5.0.0,>=4.38.0 in /usr/local/lib/python3.7/dist-packages (from spacy<4->fastai==2.3.1) (4.41.1)\n",
      "Requirement already satisfied: wasabi<1.1.0,>=0.4.0 in /usr/local/lib/python3.7/dist-packages (from spacy<4->fastai==2.3.1) (0.8.2)\n",
      "Requirement already satisfied: srsly<1.1.0,>=1.0.2 in /usr/local/lib/python3.7/dist-packages (from spacy<4->fastai==2.3.1) (1.0.5)\n",
      "Requirement already satisfied: idna<3,>=2.5 in /usr/local/lib/python3.7/dist-packages (from requests->fastai==2.3.1) (2.10)\n",
      "Requirement already satisfied: chardet<4,>=3.0.2 in /usr/local/lib/python3.7/dist-packages (from requests->fastai==2.3.1) (3.0.4)\n",
      "Requirement already satisfied: urllib3!=1.25.0,!=1.25.1,<1.26,>=1.21.1 in /usr/local/lib/python3.7/dist-packages (from requests->fastai==2.3.1) (1.24.3)\n",
      "Requirement already satisfied: certifi>=2017.4.17 in /usr/local/lib/python3.7/dist-packages (from requests->fastai==2.3.1) (2020.12.5)\n",
      "Requirement already satisfied: six>=1.5 in /usr/local/lib/python3.7/dist-packages (from python-dateutil>=2.7.3->pandas->fastai==2.3.1) (1.15.0)\n",
      "Requirement already satisfied: importlib-metadata>=0.20; python_version < \"3.8\" in /usr/local/lib/python3.7/dist-packages (from catalogue<1.1.0,>=0.0.7->spacy<4->fastai==2.3.1) (4.0.1)\n",
      "Requirement already satisfied: zipp>=0.5 in /usr/local/lib/python3.7/dist-packages (from importlib-metadata>=0.20; python_version < \"3.8\"->catalogue<1.1.0,>=0.0.7->spacy<4->fastai==2.3.1) (3.4.1)\n",
      "Installing collected packages: fastcore, fastai\n",
      "  Found existing installation: fastai 1.0.61\n",
      "    Uninstalling fastai-1.0.61:\n",
      "      Successfully uninstalled fastai-1.0.61\n",
      "Successfully installed fastai-2.3.1 fastcore-1.3.20\n",
      "Mounted at /content/drive\n"
     ]
    }
   ],
   "source": [
    "#Please select GPU first (from Edit->NotebookSetting)\n",
    "import pandas as pd\n",
    "import numpy as np\n",
    "import io\n",
    "import os\n",
    "import re\n",
    "!pip install fastai==2.3.1\n",
    "from fastai.text.all import *\n",
    "from google.colab import drive\n",
    "drive.mount('/content/drive')"
   ]
  },
  {
   "cell_type": "code",
   "execution_count": 2,
   "metadata": {
    "executionInfo": {
     "elapsed": 130,
     "status": "ok",
     "timestamp": 1622487025827,
     "user": {
      "displayName": "Jinfei Li",
      "photoUrl": "https://lh3.googleusercontent.com/a-/AOh14Ggnb-qJjCzbIWJNSpwIjCwPzmOPJB1bG-PKgr6qCg=s64",
      "userId": "03112626207949006140"
     },
     "user_tz": 240
    },
    "id": "X4HHL_f_bL8P"
   },
   "outputs": [],
   "source": [
    "path = '/content/drive/MyDrive/colab_data'\n",
    "def de_emojify(inputString):\n",
    "    return inputString.encode('ascii', 'ignore').decode('ascii')\n",
    "def tweet_proc(df, text_col='text'):\n",
    "    df['orig_text'] = df[text_col]\n",
    "    # Remove twitter handles\n",
    "    df[text_col] = df[text_col].apply(lambda x:re.sub('@[^\\s]+','',x))\n",
    "    # Remove URLs\n",
    "    df[text_col] = df[text_col].apply(lambda x:re.sub(r\"http\\S+\", \"\", x))\n",
    "    # Remove emojis\n",
    "    df[text_col] = df[text_col].apply(de_emojify)\n",
    "    # Remove hashtags\n",
    "    df[text_col] = df[text_col].apply(lambda x:re.sub(r'\\B#\\S+','',x))\n",
    "    return df[df[text_col]!='']\n"
   ]
  },
  {
   "cell_type": "code",
   "execution_count": 3,
   "metadata": {
    "colab": {
     "base_uri": "https://localhost:8080/",
     "height": 723
    },
    "executionInfo": {
     "elapsed": 6982,
     "status": "ok",
     "timestamp": 1622487035211,
     "user": {
      "displayName": "Jinfei Li",
      "photoUrl": "https://lh3.googleusercontent.com/a-/AOh14Ggnb-qJjCzbIWJNSpwIjCwPzmOPJB1bG-PKgr6qCg=s64",
      "userId": "03112626207949006140"
     },
     "user_tz": 240
    },
    "id": "Fwk-RepjbNow",
    "outputId": "b04fbff6-07fd-4fd7-9bcb-ed454bf72296"
   },
   "outputs": [
    {
     "data": {
      "text/html": [
       "<div>\n",
       "<style scoped>\n",
       "    .dataframe tbody tr th:only-of-type {\n",
       "        vertical-align: middle;\n",
       "    }\n",
       "\n",
       "    .dataframe tbody tr th {\n",
       "        vertical-align: top;\n",
       "    }\n",
       "\n",
       "    .dataframe thead th {\n",
       "        text-align: right;\n",
       "    }\n",
       "</style>\n",
       "<table border=\"1\" class=\"dataframe\">\n",
       "  <thead>\n",
       "    <tr style=\"text-align: right;\">\n",
       "      <th></th>\n",
       "      <th>id</th>\n",
       "      <th>created_at</th>\n",
       "      <th>source</th>\n",
       "      <th>text</th>\n",
       "      <th>lang</th>\n",
       "      <th>favorite_count</th>\n",
       "      <th>retweet_count</th>\n",
       "      <th>original_author</th>\n",
       "      <th>hashtags</th>\n",
       "      <th>user_mentions</th>\n",
       "      <th>place</th>\n",
       "      <th>clean_tweet</th>\n",
       "      <th>compound</th>\n",
       "      <th>neg</th>\n",
       "      <th>neu</th>\n",
       "      <th>pos</th>\n",
       "      <th>sentiment</th>\n",
       "      <th>orig_text</th>\n",
       "      <th>label</th>\n",
       "    </tr>\n",
       "  </thead>\n",
       "  <tbody>\n",
       "    <tr>\n",
       "      <th>0</th>\n",
       "      <td>1.300000e+18</td>\n",
       "      <td>Thu Aug 20 08:20:55 +0000 2020</td>\n",
       "      <td>&lt;a href=\"http://twitter.com/download/android\" rel=\"nofollow\"&gt;Twitter for Android&lt;/a&gt;</td>\n",
       "      <td>RT  91-year-old Ex-Vice President Moody Awori Lands Inter County Covid-19 Committee Role</td>\n",
       "      <td>en</td>\n",
       "      <td>0.0</td>\n",
       "      <td>100.0</td>\n",
       "      <td>kvn_kegan</td>\n",
       "      <td>NaN</td>\n",
       "      <td>RobertAlai</td>\n",
       "      <td>Nairobi, Kenya</td>\n",
       "      <td>year old ex vice presid moodi awori land inter counti covid19 committe role</td>\n",
       "      <td>0.0000</td>\n",
       "      <td>0.0</td>\n",
       "      <td>1.000</td>\n",
       "      <td>0.000</td>\n",
       "      <td>neu</td>\n",
       "      <td>RT @RobertAlai: 91-year-old Ex-Vice President Moody Awori Lands Inter County Covid-19 Committee Role https://t.co/bslXxeMpGD</td>\n",
       "      <td>NaN</td>\n",
       "    </tr>\n",
       "    <tr>\n",
       "      <th>1</th>\n",
       "      <td>1.300000e+18</td>\n",
       "      <td>Thu Aug 20 08:20:54 +0000 2020</td>\n",
       "      <td>&lt;a href=\"http://twitter.com/download/android\" rel=\"nofollow\"&gt;Twitter for Android&lt;/a&gt;</td>\n",
       "      <td>RT  BREAKING: The Department of Health reports 4,339 more people caught COVID-19, pushing the national case count to 178,02</td>\n",
       "      <td>en</td>\n",
       "      <td>0.0</td>\n",
       "      <td>38.0</td>\n",
       "      <td>puTOPinamo</td>\n",
       "      <td>NaN</td>\n",
       "      <td>cnnphilippines</td>\n",
       "      <td>NaN</td>\n",
       "      <td>break depart health report peopl caught covid19 push nation case count</td>\n",
       "      <td>0.0000</td>\n",
       "      <td>0.0</td>\n",
       "      <td>1.000</td>\n",
       "      <td>0.000</td>\n",
       "      <td>neu</td>\n",
       "      <td>RT @cnnphilippines: BREAKING: The Department of Health reports 4,339 more people caught COVID-19, pushing the national case count to 178,02…</td>\n",
       "      <td>NaN</td>\n",
       "    </tr>\n",
       "    <tr>\n",
       "      <th>2</th>\n",
       "      <td>1.300000e+18</td>\n",
       "      <td>Thu Aug 20 08:20:53 +0000 2020</td>\n",
       "      <td>&lt;a href=\"http://twitter.com/download/android\" rel=\"nofollow\"&gt;Twitter for Android&lt;/a&gt;</td>\n",
       "      <td>RT   Helps Out Fan Who Requested Him To Help Arrange A Bed For Her  Positive Father (View Tweet)\\n</td>\n",
       "      <td>en</td>\n",
       "      <td>0.0</td>\n",
       "      <td>0.0</td>\n",
       "      <td>DevSidheart</td>\n",
       "      <td>SidharthShukla, Covid_19</td>\n",
       "      <td>latestly</td>\n",
       "      <td>Sidheart</td>\n",
       "      <td>help fan request help arrang bed posit father view tweet</td>\n",
       "      <td>0.7717</td>\n",
       "      <td>0.0</td>\n",
       "      <td>0.476</td>\n",
       "      <td>0.524</td>\n",
       "      <td>pos</td>\n",
       "      <td>RT @latestly: #SidharthShukla Helps Out Fan Who Requested Him To Help Arrange A Bed For Her #Covid_19 Positive Father (View Tweet)\\n@sidhart…</td>\n",
       "      <td>NaN</td>\n",
       "    </tr>\n",
       "  </tbody>\n",
       "</table>\n",
       "</div>"
      ],
      "text/plain": [
       "             id  ... label\n",
       "0  1.300000e+18  ...   NaN\n",
       "1  1.300000e+18  ...   NaN\n",
       "2  1.300000e+18  ...   NaN\n",
       "\n",
       "[3 rows x 19 columns]"
      ]
     },
     "execution_count": 3,
     "metadata": {
      "tags": []
     },
     "output_type": "execute_result"
    }
   ],
   "source": [
    "covid_tweet = pd.read_csv(os.path.join(path, \"Covid-19 Twitter Dataset (Aug-Sep 2020).csv\"))\n",
    "covid_tweet = covid_tweet[covid_tweet.original_text.isnull()==False].drop_duplicates().reset_index(drop=True)\n",
    "covid_tweet = tweet_proc(covid_tweet,'original_text')\n",
    "covid_tweet['label'] = np.nan\n",
    "covid_tweet = covid_tweet[covid_tweet.lang=='en']\n",
    "covid_tweet = covid_tweet.rename(columns={'original_text':'text'})\n",
    "# covid_tweet = covid_tweet.sample(n=40000, random_state=1)\n",
    "covid_tweet.head(3)"
   ]
  },
  {
   "cell_type": "code",
   "execution_count": 4,
   "metadata": {
    "colab": {
     "base_uri": "https://localhost:8080/",
     "height": 142
    },
    "executionInfo": {
     "elapsed": 1174,
     "status": "ok",
     "timestamp": 1622487039200,
     "user": {
      "displayName": "Jinfei Li",
      "photoUrl": "https://lh3.googleusercontent.com/a-/AOh14Ggnb-qJjCzbIWJNSpwIjCwPzmOPJB1bG-PKgr6qCg=s64",
      "userId": "03112626207949006140"
     },
     "user_tz": 240
    },
    "id": "sdMvSapEbOSl",
    "outputId": "9d9bfc49-eb65-4880-dc83-fc1a4056c2f6"
   },
   "outputs": [
    {
     "data": {
      "text/html": [
       "<div>\n",
       "<style scoped>\n",
       "    .dataframe tbody tr th:only-of-type {\n",
       "        vertical-align: middle;\n",
       "    }\n",
       "\n",
       "    .dataframe tbody tr th {\n",
       "        vertical-align: top;\n",
       "    }\n",
       "\n",
       "    .dataframe thead th {\n",
       "        text-align: right;\n",
       "    }\n",
       "</style>\n",
       "<table border=\"1\" class=\"dataframe\">\n",
       "  <thead>\n",
       "    <tr style=\"text-align: right;\">\n",
       "      <th></th>\n",
       "      <th>text</th>\n",
       "      <th>label</th>\n",
       "      <th>orig_text</th>\n",
       "    </tr>\n",
       "  </thead>\n",
       "  <tbody>\n",
       "    <tr>\n",
       "      <th>0</th>\n",
       "      <td>Layin n bed with a headache  ughhhh...waitin on your call...</td>\n",
       "      <td>negative</td>\n",
       "      <td>Layin n bed with a headache  ughhhh...waitin on your call...</td>\n",
       "    </tr>\n",
       "    <tr>\n",
       "      <th>1</th>\n",
       "      <td>Funeral ceremony...gloomy friday...</td>\n",
       "      <td>negative</td>\n",
       "      <td>Funeral ceremony...gloomy friday...</td>\n",
       "    </tr>\n",
       "    <tr>\n",
       "      <th>2</th>\n",
       "      <td>wants to hang out with friends SOON!</td>\n",
       "      <td>positive</td>\n",
       "      <td>wants to hang out with friends SOON!</td>\n",
       "    </tr>\n",
       "  </tbody>\n",
       "</table>\n",
       "</div>"
      ],
      "text/plain": [
       "                                                           text  ...                                                     orig_text\n",
       "0  Layin n bed with a headache  ughhhh...waitin on your call...  ...  Layin n bed with a headache  ughhhh...waitin on your call...\n",
       "1                           Funeral ceremony...gloomy friday...  ...                           Funeral ceremony...gloomy friday...\n",
       "2                          wants to hang out with friends SOON!  ...                          wants to hang out with friends SOON!\n",
       "\n",
       "[3 rows x 3 columns]"
      ]
     },
     "execution_count": 4,
     "metadata": {
      "tags": []
     },
     "output_type": "execute_result"
    }
   ],
   "source": [
    "basic_tweet = pd.read_csv(os.path.join(path, \"tweet_dataset.csv\"))\n",
    "basic_tweet = basic_tweet[basic_tweet.new_sentiment.isnull()==False].drop_duplicates().reset_index(drop=True)\n",
    "basic_tweet = basic_tweet[['old_text', 'new_sentiment']].rename(columns={'old_text':'text', 'new_sentiment':'label'})\n",
    "basic_tweet = tweet_proc(basic_tweet,'text')\n",
    "# basic_tweet = basic_tweet[['id', 'text', 'label']]\n",
    "basic_tweet.head(3)"
   ]
  },
  {
   "cell_type": "markdown",
   "metadata": {
    "id": "RrKN7RFqvQ0a"
   },
   "source": [
    "# Predict next word"
   ]
  },
  {
   "cell_type": "code",
   "execution_count": 5,
   "metadata": {
    "executionInfo": {
     "elapsed": 9095,
     "status": "ok",
     "timestamp": 1622487050058,
     "user": {
      "displayName": "Jinfei Li",
      "photoUrl": "https://lh3.googleusercontent.com/a-/AOh14Ggnb-qJjCzbIWJNSpwIjCwPzmOPJB1bG-PKgr6qCg=s64",
      "userId": "03112626207949006140"
     },
     "user_tz": 240
    },
    "id": "lWcxymPBwaQl"
   },
   "outputs": [],
   "source": [
    "dls_lm= torch.load(os.path.join(path, 'dls_lm.pkl'))"
   ]
  },
  {
   "cell_type": "code",
   "execution_count": 10,
   "metadata": {
    "executionInfo": {
     "elapsed": 1086,
     "status": "ok",
     "timestamp": 1622487302471,
     "user": {
      "displayName": "Jinfei Li",
      "photoUrl": "https://lh3.googleusercontent.com/a-/AOh14Ggnb-qJjCzbIWJNSpwIjCwPzmOPJB1bG-PKgr6qCg=s64",
      "userId": "03112626207949006140"
     },
     "user_tz": 240
    },
    "id": "kFx-lRLIx2Xm"
   },
   "outputs": [],
   "source": [
    "learn = language_model_learner(dls_lm, AWD_LSTM, drop_mult = 0.3, metrics=[accuracy, Perplexity()]).to_fp16()"
   ]
  },
  {
   "cell_type": "code",
   "execution_count": 12,
   "metadata": {
    "colab": {
     "base_uri": "https://localhost:8080/",
     "height": 173
    },
    "executionInfo": {
     "elapsed": 1673833,
     "status": "ok",
     "timestamp": 1622489030009,
     "user": {
      "displayName": "Jinfei Li",
      "photoUrl": "https://lh3.googleusercontent.com/a-/AOh14Ggnb-qJjCzbIWJNSpwIjCwPzmOPJB1bG-PKgr6qCg=s64",
      "userId": "03112626207949006140"
     },
     "user_tz": 240
    },
    "id": "izIZuxL0x4pY",
    "outputId": "d805b5e3-b3aa-47c5-ddc1-66c0a781c006"
   },
   "outputs": [
    {
     "data": {
      "text/html": [
       "<table border=\"1\" class=\"dataframe\">\n",
       "  <thead>\n",
       "    <tr style=\"text-align: left;\">\n",
       "      <th>epoch</th>\n",
       "      <th>train_loss</th>\n",
       "      <th>valid_loss</th>\n",
       "      <th>accuracy</th>\n",
       "      <th>perplexity</th>\n",
       "      <th>time</th>\n",
       "    </tr>\n",
       "  </thead>\n",
       "  <tbody>\n",
       "    <tr>\n",
       "      <td>0</td>\n",
       "      <td>3.042632</td>\n",
       "      <td>2.875448</td>\n",
       "      <td>0.510282</td>\n",
       "      <td>17.733362</td>\n",
       "      <td>06:58</td>\n",
       "    </tr>\n",
       "    <tr>\n",
       "      <td>1</td>\n",
       "      <td>2.578475</td>\n",
       "      <td>2.475565</td>\n",
       "      <td>0.570969</td>\n",
       "      <td>11.888422</td>\n",
       "      <td>06:58</td>\n",
       "    </tr>\n",
       "    <tr>\n",
       "      <td>2</td>\n",
       "      <td>2.329119</td>\n",
       "      <td>2.328097</td>\n",
       "      <td>0.596777</td>\n",
       "      <td>10.258400</td>\n",
       "      <td>06:57</td>\n",
       "    </tr>\n",
       "    <tr>\n",
       "      <td>3</td>\n",
       "      <td>2.215444</td>\n",
       "      <td>2.303997</td>\n",
       "      <td>0.601899</td>\n",
       "      <td>10.014127</td>\n",
       "      <td>06:58</td>\n",
       "    </tr>\n",
       "  </tbody>\n",
       "</table>"
      ],
      "text/plain": [
       "<IPython.core.display.HTML object>"
      ]
     },
     "metadata": {
      "tags": []
     },
     "output_type": "display_data"
    }
   ],
   "source": [
    "learn.unfreeze()\n",
    "learn.fit_one_cycle(4, 1e-3)"
   ]
  },
  {
   "cell_type": "code",
   "execution_count": 18,
   "metadata": {
    "colab": {
     "base_uri": "https://localhost:8080/"
    },
    "executionInfo": {
     "elapsed": 2193,
     "status": "ok",
     "timestamp": 1622489622152,
     "user": {
      "displayName": "Jinfei Li",
      "photoUrl": "https://lh3.googleusercontent.com/a-/AOh14Ggnb-qJjCzbIWJNSpwIjCwPzmOPJB1bG-PKgr6qCg=s64",
      "userId": "03112626207949006140"
     },
     "user_tz": 240
    },
    "id": "EdeJ8txZ3lGk",
    "outputId": "8e443154-a7fb-4a52-e249-f026656059c5"
   },
   "outputs": [
    {
     "data": {
      "text/plain": [
       "Path('/content/drive/MyDrive/colab_data/finetuned_lm_0531.pth')"
      ]
     },
     "execution_count": 18,
     "metadata": {
      "tags": []
     },
     "output_type": "execute_result"
    }
   ],
   "source": [
    "learn.save(os.path.join(path, 'finetuned_lm_0531'))"
   ]
  },
  {
   "cell_type": "code",
   "execution_count": 20,
   "metadata": {
    "executionInfo": {
     "elapsed": 1349,
     "status": "ok",
     "timestamp": 1622489864181,
     "user": {
      "displayName": "Jinfei Li",
      "photoUrl": "https://lh3.googleusercontent.com/a-/AOh14Ggnb-qJjCzbIWJNSpwIjCwPzmOPJB1bG-PKgr6qCg=s64",
      "userId": "03112626207949006140"
     },
     "user_tz": 240
    },
    "id": "EdQIs8-byzNw"
   },
   "outputs": [],
   "source": [
    "learn = language_model_learner(dls_lm, AWD_LSTM, drop_mult = 0.3, metrics=[accuracy, Perplexity()]).load_encoder(os.path.join(path, 'finetuned_lm'))"
   ]
  },
  {
   "cell_type": "markdown",
   "metadata": {
    "id": "6ylU7d8x7uvT"
   },
   "source": [
    "be careful here, `lean.save` -> `load`, `lean.save_encoder` -> `load_encoder`"
   ]
  },
  {
   "cell_type": "code",
   "execution_count": 23,
   "metadata": {
    "colab": {
     "base_uri": "https://localhost:8080/",
     "height": 85
    },
    "executionInfo": {
     "elapsed": 2696,
     "status": "ok",
     "timestamp": 1622490536264,
     "user": {
      "displayName": "Jinfei Li",
      "photoUrl": "https://lh3.googleusercontent.com/a-/AOh14Ggnb-qJjCzbIWJNSpwIjCwPzmOPJB1bG-PKgr6qCg=s64",
      "userId": "03112626207949006140"
     },
     "user_tz": 240
    },
    "id": "7aJ9UsA3zMvH",
    "outputId": "b2c3a414-cc80-42c6-c0c2-149504356e0b"
   },
   "outputs": [
    {
     "data": {
      "text/html": [],
      "text/plain": [
       "<IPython.core.display.HTML object>"
      ]
     },
     "metadata": {
      "tags": []
     },
     "output_type": "display_data"
    },
    {
     "data": {
      "text/html": [],
      "text/plain": [
       "<IPython.core.display.HTML object>"
      ]
     },
     "metadata": {
      "tags": []
     },
     "output_type": "display_data"
    },
    {
     "name": "stdout",
     "output_type": "stream",
     "text": [
      "Today is the last day of October ( National Day of Mourning ) for people living in poverty , the Covid-19 pandemic has shown RT He s getting better !!! RT My mother died of COVID-19 one month ago . \n",
      "\n",
      " i am going to share the\n",
      "Today 's is the game of National COVID-19 Day today . Today , September 21 , 2020 , more than 6 million people have been RT Listen to the latest on COVID-19 at the CC Bees & & Earrings Hub Baltimore Tacoma . From\n"
     ]
    }
   ],
   "source": [
    "TEXT = \"Today\"\n",
    "N_WORDS = 60\n",
    "N_SENTENCES = 2\n",
    "print(\"\\n\".join(learn.predict(TEXT, N_WORDS, temperature=0.75) for _ in range(N_SENTENCES)))"
   ]
  },
  {
   "cell_type": "markdown",
   "metadata": {
    "id": "1MdJMxaIwB5G"
   },
   "source": [
    "# Classification"
   ]
  },
  {
   "cell_type": "code",
   "execution_count": 7,
   "metadata": {
    "executionInfo": {
     "elapsed": 1510,
     "status": "ok",
     "timestamp": 1622487086549,
     "user": {
      "displayName": "Jinfei Li",
      "photoUrl": "https://lh3.googleusercontent.com/a-/AOh14Ggnb-qJjCzbIWJNSpwIjCwPzmOPJB1bG-PKgr6qCg=s64",
      "userId": "03112626207949006140"
     },
     "user_tz": 240
    },
    "id": "GvyhHiurcUCX"
   },
   "outputs": [],
   "source": [
    "dls_clas = torch.load(os.path.join(path, 'dls_clas.pkl'))"
   ]
  },
  {
   "cell_type": "code",
   "execution_count": 8,
   "metadata": {
    "executionInfo": {
     "elapsed": 7142,
     "status": "ok",
     "timestamp": 1622487096630,
     "user": {
      "displayName": "Jinfei Li",
      "photoUrl": "https://lh3.googleusercontent.com/a-/AOh14Ggnb-qJjCzbIWJNSpwIjCwPzmOPJB1bG-PKgr6qCg=s64",
      "userId": "03112626207949006140"
     },
     "user_tz": 240
    },
    "id": "ADBpmVwycozs"
   },
   "outputs": [],
   "source": [
    "learn = text_classifier_learner(dls_clas, AWD_LSTM, drop_mult=0.5, metrics=accuracy).load(os.path.join(path, 'twitter_classifier'))"
   ]
  },
  {
   "cell_type": "code",
   "execution_count": 9,
   "metadata": {
    "colab": {
     "base_uri": "https://localhost:8080/",
     "height": 34
    },
    "executionInfo": {
     "elapsed": 436,
     "status": "ok",
     "timestamp": 1622487156931,
     "user": {
      "displayName": "Jinfei Li",
      "photoUrl": "https://lh3.googleusercontent.com/a-/AOh14Ggnb-qJjCzbIWJNSpwIjCwPzmOPJB1bG-PKgr6qCg=s64",
      "userId": "03112626207949006140"
     },
     "user_tz": 240
    },
    "id": "Q82nWBY8xN9B",
    "outputId": "9d631520-8efb-454c-d247-24dfe8f9217b"
   },
   "outputs": [
    {
     "data": {
      "text/html": [],
      "text/plain": [
       "<IPython.core.display.HTML object>"
      ]
     },
     "metadata": {
      "tags": []
     },
     "output_type": "display_data"
    },
    {
     "data": {
      "text/plain": [
       "('positive', tensor(2), tensor([2.1948e-04, 9.5255e-04, 9.9883e-01]))"
      ]
     },
     "execution_count": 9,
     "metadata": {
      "tags": []
     },
     "output_type": "execute_result"
    }
   ],
   "source": [
    "TEXT = 'I like this movie'\n",
    "learn.predict(TEXT)"
   ]
  },
  {
   "cell_type": "code",
   "execution_count": null,
   "metadata": {
    "id": "aoxjevjvcpK8"
   },
   "outputs": [],
   "source": [
    "pred_dl = dls_clas.test_dl(covid_tweet['text'])\n",
    "preds = learn.get_preds(dl=pred_dl)"
   ]
  },
  {
   "cell_type": "code",
   "execution_count": null,
   "metadata": {
    "id": "gEZg4e6ncrr8"
   },
   "outputs": [],
   "source": [
    "covid_tweet['label'] = preds[0].argmax(dim=-1)\n",
    "covid_tweet['label'] = covid_tweet['label'].map({0:'negative', 1:'positive'})\n",
    "\n",
    "# Save to csv\n",
    "covid_tweet.to_csv(os.path.join(path, 'covid_tweet_sentiment.csv'))"
   ]
  }
 ],
 "metadata": {
  "accelerator": "GPU",
  "colab": {
   "authorship_tag": "ABX9TyOuGau6e1bIcuYwBn+V1/Tf",
   "collapsed_sections": [],
   "name": "Load_model_and_do_prediction.ipynb",
   "provenance": []
  },
  "kernelspec": {
   "display_name": "Python 3",
   "language": "python",
   "name": "python3"
  },
  "language_info": {
   "codemirror_mode": {
    "name": "ipython",
    "version": 3
   },
   "file_extension": ".py",
   "mimetype": "text/x-python",
   "name": "python",
   "nbconvert_exporter": "python",
   "pygments_lexer": "ipython3",
   "version": "3.8.8"
  }
 },
 "nbformat": 4,
 "nbformat_minor": 1
}
