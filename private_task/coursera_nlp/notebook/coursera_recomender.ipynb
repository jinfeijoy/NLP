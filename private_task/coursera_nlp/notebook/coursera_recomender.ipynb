{
 "cells": [
  {
   "cell_type": "markdown",
   "id": "2b61ba24",
   "metadata": {},
   "source": [
    "# Load Data"
   ]
  },
  {
   "cell_type": "code",
   "execution_count": 1,
   "id": "2ce59edc",
   "metadata": {},
   "outputs": [],
   "source": [
    "import os\n",
    "import pandas as pd\n",
    "import re\n",
    "import string\n",
    "import warnings\n",
    "warnings.filterwarnings('ignore')\n",
    "pd.options.mode.chained_assignment = None\n",
    "os.getcwd()\n",
    "root_path = 'C:\\\\Users\\\\luoyan011\\\\Desktop\\\\PersonalLearning\\\\GitHub\\\\private_task\\\\coursera_nlp\\\\data'"
   ]
  },
  {
   "cell_type": "code",
   "execution_count": 2,
   "id": "c23d8410",
   "metadata": {},
   "outputs": [],
   "source": [
    "raw_data = pd.read_csv(os.path.join(root_path, \"Course_Courseoverviews.csv\"))"
   ]
  },
  {
   "cell_type": "code",
   "execution_count": 3,
   "id": "547cbc54",
   "metadata": {},
   "outputs": [],
   "source": [
    "data = raw_data[raw_data.short_description.isnull()==False]\n",
    "data['doc'] = data[['display_name', 'short_description']].agg('. '.join, axis=1)\n",
    "data['base_course_id'] = data['course_id'].apply(lambda x: x.split('+')[1])\n",
    "data = data.drop(columns = ['course_id', 'last_modified'])\n",
    "data = data.drop_duplicates()\n",
    "data['index'] = data.index"
   ]
  },
  {
   "cell_type": "code",
   "execution_count": 4,
   "id": "7afcde07",
   "metadata": {},
   "outputs": [
    {
     "data": {
      "text/html": [
       "<div>\n",
       "<style scoped>\n",
       "    .dataframe tbody tr th:only-of-type {\n",
       "        vertical-align: middle;\n",
       "    }\n",
       "\n",
       "    .dataframe tbody tr th {\n",
       "        vertical-align: top;\n",
       "    }\n",
       "\n",
       "    .dataframe thead th {\n",
       "        text-align: right;\n",
       "    }\n",
       "</style>\n",
       "<table border=\"1\" class=\"dataframe\">\n",
       "  <thead>\n",
       "    <tr style=\"text-align: right;\">\n",
       "      <th></th>\n",
       "      <th>display_name</th>\n",
       "      <th>short_description</th>\n",
       "      <th>doc</th>\n",
       "      <th>base_course_id</th>\n",
       "      <th>index</th>\n",
       "    </tr>\n",
       "  </thead>\n",
       "  <tbody>\n",
       "    <tr>\n",
       "      <th>0</th>\n",
       "      <td>Mathematical Optimization for Business Problems</td>\n",
       "      <td>This course provides the necessary fundamental...</td>\n",
       "      <td>Mathematical Optimization for Business Problem...</td>\n",
       "      <td>CP0101EN</td>\n",
       "      <td>0</td>\n",
       "    </tr>\n",
       "    <tr>\n",
       "      <th>1</th>\n",
       "      <td>Accelerating Deep Learning with GPU</td>\n",
       "      <td>Majority of data in the world are unlabeled an...</td>\n",
       "      <td>Accelerating Deep Learning with GPU. Majority ...</td>\n",
       "      <td>ML0122ENv1</td>\n",
       "      <td>1</td>\n",
       "    </tr>\n",
       "    <tr>\n",
       "      <th>2</th>\n",
       "      <td>Controlling Hadoop Jobs Using Oozie</td>\n",
       "      <td>This short description is not used. The descri...</td>\n",
       "      <td>Controlling Hadoop Jobs Using Oozie. This shor...</td>\n",
       "      <td>BD0133EN</td>\n",
       "      <td>2</td>\n",
       "    </tr>\n",
       "    <tr>\n",
       "      <th>3</th>\n",
       "      <td>Robots Are Coming! Build IoT Apps with Watson,...</td>\n",
       "      <td>Have fun with IoT and learn along the way. If ...</td>\n",
       "      <td>Robots Are Coming! Build IoT Apps with Watson,...</td>\n",
       "      <td>ML0201EN</td>\n",
       "      <td>3</td>\n",
       "    </tr>\n",
       "    <tr>\n",
       "      <th>4</th>\n",
       "      <td>Deep Learning with TensorFlow - Beta</td>\n",
       "      <td>Majority of data in the world are unlabeled an...</td>\n",
       "      <td>Deep Learning with TensorFlow - Beta. Majority...</td>\n",
       "      <td>ML0121EN</td>\n",
       "      <td>4</td>\n",
       "    </tr>\n",
       "  </tbody>\n",
       "</table>\n",
       "</div>"
      ],
      "text/plain": [
       "                                        display_name  \\\n",
       "0    Mathematical Optimization for Business Problems   \n",
       "1                Accelerating Deep Learning with GPU   \n",
       "2                Controlling Hadoop Jobs Using Oozie   \n",
       "3  Robots Are Coming! Build IoT Apps with Watson,...   \n",
       "4               Deep Learning with TensorFlow - Beta   \n",
       "\n",
       "                                   short_description  \\\n",
       "0  This course provides the necessary fundamental...   \n",
       "1  Majority of data in the world are unlabeled an...   \n",
       "2  This short description is not used. The descri...   \n",
       "3  Have fun with IoT and learn along the way. If ...   \n",
       "4  Majority of data in the world are unlabeled an...   \n",
       "\n",
       "                                                 doc base_course_id  index  \n",
       "0  Mathematical Optimization for Business Problem...       CP0101EN      0  \n",
       "1  Accelerating Deep Learning with GPU. Majority ...     ML0122ENv1      1  \n",
       "2  Controlling Hadoop Jobs Using Oozie. This shor...       BD0133EN      2  \n",
       "3  Robots Are Coming! Build IoT Apps with Watson,...       ML0201EN      3  \n",
       "4  Deep Learning with TensorFlow - Beta. Majority...       ML0121EN      4  "
      ]
     },
     "execution_count": 4,
     "metadata": {},
     "output_type": "execute_result"
    }
   ],
   "source": [
    "data.head(5)"
   ]
  },
  {
   "cell_type": "markdown",
   "id": "5a40cd2b",
   "metadata": {},
   "source": [
    "# Generate tokens manually\n",
    "\n",
    "```python\n",
    "\n",
    "```"
   ]
  },
  {
   "cell_type": "code",
   "execution_count": 29,
   "id": "327b4fec",
   "metadata": {},
   "outputs": [],
   "source": [
    "from nltk.corpus import stopwords\n",
    "from nltk.tokenize import word_tokenize\n",
    "from nltk import ngrams\n",
    "from nltk import pos_tag\n",
    "from nltk.stem.porter import PorterStemmer\n",
    "from nltk.stem.wordnet import WordNetLemmatizer\n",
    "porter = PorterStemmer()\n",
    "\n",
    "def find_tokens(example, ngram, stem, tag_drop): #lemmatization to be done\n",
    "    # tag_drp: J--objective, N--noun, V--verb, R--adv\n",
    "    example = example.lower()\n",
    "    example = example.translate(str.maketrans('', '',string.punctuation))\n",
    "    stop_words = set(stopwords.words('english'))\n",
    "    filtered_sentence = [] \n",
    "    tmp_sentence = []\n",
    "    word_tokens = [t[0] for t in pos_tag(word_tokenize(example)) if t[1][0] not in tag_drop]\n",
    "    if stem == True:\n",
    "        if ngram == 1:        \n",
    "            for w in word_tokens: \n",
    "                if w not in stop_words:\n",
    "                    filtered_sentence.append(porter.stem(w))\n",
    "        else:\n",
    "            for w in word_tokens: \n",
    "                if w not in stop_words: \n",
    "                    tmp_sentence.append(porter.stem(w))\n",
    "            n_grams = ngrams(tmp_sentence,ngram)\n",
    "            for grams in n_grams:\n",
    "                filtered_sentence.append(\" \".join(grams))\n",
    "    if stem == False:\n",
    "        if ngram == 1:        \n",
    "            for w in word_tokens: \n",
    "                if w not in stop_words: \n",
    "                    filtered_sentence.append(w)\n",
    "        else:\n",
    "            for w in word_tokens: \n",
    "                if w not in stop_words: \n",
    "                    tmp_sentence.append(w)\n",
    "            n_grams = ngrams(tmp_sentence,ngram)\n",
    "            for grams in n_grams:\n",
    "                filtered_sentence.append(\" \".join(grams))        \n",
    "    return filtered_sentence\n",
    "\n",
    "\n",
    "def find_multiple_gram_tokens(examples, multi_gram, stem, tag_drop):\n",
    "    multi_tokens = []\n",
    "    for i in multi_gram:\n",
    "        multi_tmp_tokens = find_tokens(examples, i, stem, tag_drop)\n",
    "        multi_tokens.extend(multi_tmp_tokens)\n",
    "    return multi_tokens\n",
    "\n",
    "def get_vocab(tokens):\n",
    "    vocab = []\n",
    "    total_words = 0\n",
    "    for token in tokens:\n",
    "        total_words = total_words + len(token)\n",
    "        for i in range(len(token)):\n",
    "            if token[i] not in vocab:\n",
    "                vocab.append(token[i])\n",
    "    return vocab\n",
    "\n"
   ]
  },
  {
   "cell_type": "code",
   "execution_count": 41,
   "id": "9c6a00cf",
   "metadata": {},
   "outputs": [
    {
     "data": {
      "text/plain": [
       "['optimization',\n",
       " 'business',\n",
       " 'problems',\n",
       " 'course',\n",
       " 'provides',\n",
       " 'fundamentals',\n",
       " 'programming']"
      ]
     },
     "execution_count": 41,
     "metadata": {},
     "output_type": "execute_result"
    }
   ],
   "source": [
    "data['doc_tokens'] = data['doc'].apply(lambda x: find_tokens(x.lower(), 1, stem = False, tag_drop=['J']))\n",
    "data.doc_tokens[0]\n",
    "#get_vocab(data.doc_tokens)"
   ]
  },
  {
   "cell_type": "code",
   "execution_count": 5,
   "id": "8a79db53",
   "metadata": {},
   "outputs": [],
   "source": [
    "data['doc_tokens'] = data['doc'].apply(lambda x: find_tokens(x.lower(), 1, stem = False, tag_drop=['J']))\n",
    "data['title_tokens'] = data['display_name'].apply(lambda x: find_tokens(x.lower(), 1, stem = False, tag_drop=['J']))\n",
    "data['description_tokens'] = data['short_description'].apply(lambda x: find_tokens(x.lower(), 1, stem = False, tag_drop=['J']))\n",
    "testtoken = get_vocab(data.doc_tokens.to_list())"
   ]
  },
  {
   "cell_type": "code",
   "execution_count": 6,
   "id": "52ec3592",
   "metadata": {},
   "outputs": [],
   "source": [
    "data['tokens'] = data['doc'].apply(lambda x: find_tokens(x.lower(),2, stem = False, tag_drop=['J']))"
   ]
  },
  {
   "cell_type": "code",
   "execution_count": 7,
   "id": "09a21143",
   "metadata": {
    "scrolled": false
   },
   "outputs": [
    {
     "data": {
      "text/plain": [
       "['optimization business',\n",
       " 'business problems',\n",
       " 'problems course',\n",
       " 'course provides',\n",
       " 'provides fundamentals',\n",
       " 'fundamentals programming']"
      ]
     },
     "execution_count": 7,
     "metadata": {},
     "output_type": "execute_result"
    }
   ],
   "source": [
    "data['tokens'][0]"
   ]
  },
  {
   "cell_type": "markdown",
   "id": "cabbae43",
   "metadata": {},
   "source": [
    "# Generate tokens using function from sklearn"
   ]
  },
  {
   "cell_type": "code",
   "execution_count": 8,
   "id": "52040cf9",
   "metadata": {},
   "outputs": [],
   "source": [
    "from sklearn.feature_extraction.text import CountVectorizer\n",
    "def generate_bw_data(data, ngram_range):\n",
    "    cv = CountVectorizer(stop_words = 'english', lowercase = True, ngram_range = ngram_range)\n",
    "    word_count = cv.fit_transform(data)\n",
    "    out = pd.DataFrame(word_count.toarray(), columns = cv.get_feature_names())\n",
    "    return out"
   ]
  },
  {
   "cell_type": "code",
   "execution_count": 9,
   "id": "ff1d714f",
   "metadata": {},
   "outputs": [],
   "source": [
    "bw1_df = generate_bw_data(data.doc, (1,1))\n",
    "bw2_df = generate_bw_data(data.doc, (2,2))"
   ]
  },
  {
   "cell_type": "markdown",
   "id": "2727e471",
   "metadata": {},
   "source": [
    "# Fit Model using gensim"
   ]
  },
  {
   "cell_type": "code",
   "execution_count": 46,
   "id": "55300a03",
   "metadata": {},
   "outputs": [],
   "source": [
    "# https://towardsdatascience.com/topic-modeling-and-latent-dirichlet-allocation-in-python-9bf156893c24\n",
    "import gensim\n",
    "from gensim.utils import simple_preprocess\n",
    "from gensim.parsing.preprocessing import STOPWORDS\n",
    "from gensim.models import TfidfModel\n",
    "from nltk.stem import WordNetLemmatizer, SnowballStemmer\n",
    "from nltk.stem.porter import *\n",
    "from functools import partial"
   ]
  },
  {
   "cell_type": "markdown",
   "id": "5415dd7a",
   "metadata": {},
   "source": [
    "### LDA"
   ]
  },
  {
   "cell_type": "code",
   "execution_count": 11,
   "id": "02b14a60",
   "metadata": {},
   "outputs": [],
   "source": [
    "processed_docs = data['doc'].map(partial(find_multiple_gram_tokens, multi_gram = [1,2], stem = False, tag_drop=['J']))\n",
    "dictionary = gensim.corpora.Dictionary(processed_docs)\n",
    "dictionary.filter_extremes(no_below=3, no_above=0.5, keep_n=100000) #filter out tokens that appears in less than 3 docs and more than 0.5 documents, keep only the first 100000 most frequent tokens\n",
    "bow_corpus = [dictionary.doc2bow(doc) for doc in processed_docs]\n",
    "lda_model = gensim.models.LdaMulticore(corpus = bow_corpus, \n",
    "                                       num_topics = 3, \n",
    "                                       id2word = dictionary, \n",
    "                                       passes = 2, \n",
    "                                       workers = 2, \n",
    "                                       random_state = 100)"
   ]
  },
  {
   "cell_type": "code",
   "execution_count": 12,
   "id": "dd01d0e4",
   "metadata": {},
   "outputs": [
    {
     "name": "stdout",
     "output_type": "stream",
     "text": [
      "Word 0 (\"business\") appears 1 time.\n",
      "Word 1 (\"business problems\") appears 1 time.\n",
      "Word 2 (\"fundamentals\") appears 1 time.\n",
      "Word 3 (\"problems\") appears 1 time.\n",
      "Word 4 (\"programming\") appears 1 time.\n",
      "Word 5 (\"provides\") appears 1 time.\n"
     ]
    }
   ],
   "source": [
    "def print_bow_example(text, dictionary):\n",
    "    for i in range(len(text)):\n",
    "        print(\"Word {} (\\\"{}\\\") appears {} time.\".format(text[i][0], dictionary[text[i][0]], text[i][1]))\n",
    "print_bow_example(bow_corpus[0], dictionary)"
   ]
  },
  {
   "cell_type": "code",
   "execution_count": 13,
   "id": "d220f694",
   "metadata": {},
   "outputs": [
    {
     "name": "stdout",
     "output_type": "stream",
     "text": [
      "Topic: 0 \n",
      "Words: 0.019*\"learn\" + 0.016*\"presents\" + 0.016*\"answers\" + 0.016*\"approach\" + 0.016*\"presents approach\" + 0.016*\"course presents\" + 0.016*\"answers questions\" + 0.016*\"questions\" + 0.015*\"use\" + 0.015*\"matters\"\n",
      "Topic: 1 \n",
      "Words: 0.033*\"learning\" + 0.030*\"analytics\" + 0.026*\"learn\" + 0.024*\"machine\" + 0.022*\"machine learning\" + 0.021*\"using\" + 0.016*\"watson\" + 0.012*\"text\" + 0.012*\"apache\" + 0.011*\"analysis\"\n",
      "Topic: 2 \n",
      "Words: 0.025*\"used\" + 0.022*\"description\" + 0.020*\"science\" + 0.018*\"data science\" + 0.015*\"learning\" + 0.013*\"taken\" + 0.012*\"spark\" + 0.012*\"provide\" + 0.011*\"one\" + 0.011*\"course image\"\n"
     ]
    }
   ],
   "source": [
    "for idx, topic in lda_model.print_topics(-1):\n",
    "    print('Topic: {} \\nWords: {}'.format(idx, topic))"
   ]
  },
  {
   "cell_type": "code",
   "execution_count": 14,
   "id": "d6705fb8",
   "metadata": {
    "scrolled": true
   },
   "outputs": [],
   "source": [
    "import pyLDAvis\n",
    "import pyLDAvis.gensim_models as gensimvis\n",
    "pyLDAvis.enable_notebook()\n",
    "vis = gensimvis.prepare(lda_model, bow_corpus, dictionary)\n"
   ]
  },
  {
   "cell_type": "code",
   "execution_count": 15,
   "id": "3e43e522",
   "metadata": {},
   "outputs": [
    {
     "name": "stderr",
     "output_type": "stream",
     "text": [
      "C:\\Users\\luoyan011\\.conda\\envs\\nlp\\lib\\site-packages\\ipykernel\\ipkernel.py:287: DeprecationWarning: `should_run_async` will not call `transform_cell` automatically in the future. Please pass the result to `transformed_cell` argument and any exception that happen during thetransform in `preprocessing_exc_tuple` in IPython 7.17 and above.\n",
      "  and should_run_async(code)\n"
     ]
    },
    {
     "data": {
      "text/html": [
       "\n",
       "<link rel=\"stylesheet\" type=\"text/css\" href=\"https://cdn.jsdelivr.net/gh/bmabey/pyLDAvis@3.3.1/pyLDAvis/js/ldavis.v1.0.0.css\">\n",
       "\n",
       "\n",
       "<div id=\"ldavis_el1201626258567472169086178861\"></div>\n",
       "<script type=\"text/javascript\">\n",
       "\n",
       "var ldavis_el1201626258567472169086178861_data = {\"mdsDat\": {\"x\": [0.12648435054347335, -0.10338664582732257, -0.023097704716150736], \"y\": [-0.033888187151415554, -0.06313527881894294, 0.09702346597035853], \"topics\": [1, 2, 3], \"cluster\": [1, 1, 1], \"Freq\": [47.27296216695406, 31.062456793083214, 21.664581039962727]}, \"tinfo\": {\"Term\": [\"analytics\", \"learn\", \"presents\", \"answers\", \"presents approach\", \"course presents\", \"answers questions\", \"matters\", \"approach\", \"questions\", \"machine\", \"approach data\", \"questions data\", \"data answers\", \"data matters\", \"machine learning\", \"science\", \"description\", \"data course\", \"learning\", \"watson\", \"data science\", \"statistics\", \"analysis\", \"kubernetes\", \"python\", \"service\", \"solr\", \"r\", \"text analytics\", \"sql\", \"scala\", \"world\", \"science\", \"data science\", \"science bootcamp\", \"data networks\", \"bootcamp\", \"students\", \"description\", \"taken\", \"course image\", \"press frontend\", \"data types\", \"frontend course\", \"easily capture\", \"majority\", \"types solve\", \"discovering structures\", \"within data\", \"images sound\", \"image provide\", \"world data\", \"frontend\", \"times\", \"used description\", \"press\", \"instance images\", \"word press\", \"images\", \"networks\", \"description used\", \"description taken\", \"provide one\", \"taken word\", \"one used\", \"provide\", \"one\", \"image\", \"used\", \"word\", \"processing\", \"spark\", \"databases\", \"hadoop\", \"learning\", \"use\", \"using\", \"media\", \"text analytics\", \"analytics\", \"learn topic\", \"control\", \"scale\", \"course learn\", \"kubernetes service\", \"analyzing\", \"service\", \"analytics 101\", \"cloud kubernetes\", \"teaches basics\", \"analyzing data\", \"focus\", \"watson\", \"teaches\", \"topic\", \"complete\", \"services\", \"projects\", \"like\", \"istio\", \"algorithms\", \"learning course\", \"recognize\", \"uses\", \"distributed\", \"machine\", \"apps\", \"machine learning\", \"provides\", \"analysis using\", \"learning\", \"learn\", \"analysis\", \"basics\", \"using\", \"apache\", \"text\", \"using r\", \"analyze\", \"kubernetes\", \"r\", \"cloud\", \"build\", \"101\", \"applications\", \"spark\", \"computing\", \"application\", \"use\", \"used\", \"hadoop\", \"data answers\", \"data matters\", \"approach data\", \"questions data\", \"matters\", \"presents\", \"answers\", \"presents approach\", \"course presents\", \"answers questions\", \"use data\", \"docker\", \"approach\", \"questions\", \"visualization\", \"data visualization\", \"journey\", \"containers\", \"solr\", \"patterns\", \"including\", \"statistics\", \"providing\", \"solr 101\", \"create\", \"functions\", \"container\", \"analysis data\", \"business problems\", \"way\", \"python\", \"search\", \"data course\", \"kubernetes\", \"use\", \"r\", \"learn\", \"101\", \"applications\", \"analysis\", \"data analysis\", \"using\", \"learning\"], \"Freq\": [32.0, 43.0, 11.0, 11.0, 11.0, 11.0, 11.0, 11.0, 12.0, 12.0, 32.0, 10.0, 10.0, 9.0, 9.0, 30.0, 32.0, 35.0, 18.0, 56.0, 18.0, 28.0, 11.0, 17.0, 14.0, 13.0, 11.0, 8.0, 24.0, 9.0, 14.005798245394216, 7.175534510170151, 13.303754671625459, 28.730648250759806, 25.041120380884188, 6.1226995575971825, 11.456592129494119, 6.100757618885924, 5.380024405075953, 30.826062042388582, 17.86748099358424, 15.606576434267419, 15.5841999367269, 6.7125357091913145, 15.508569633170419, 5.965928849558522, 5.954493781876176, 5.938773517762694, 5.9289460551753, 5.93352992874739, 5.933284422701857, 15.384767630027177, 5.927860970968703, 15.372164111112076, 3.726305528859833, 15.356950613488307, 15.332159754355613, 5.910719528810888, 15.308901010491036, 5.899871968911302, 13.281493706341662, 15.209228181737446, 15.12526642703146, 15.109311159804875, 15.027477561782366, 14.99351895550549, 16.305844608141747, 16.159676610390417, 15.555638524852107, 34.6145117813491, 15.20428523916293, 9.771222009969176, 16.32836945960283, 8.770629956165854, 11.899093801403996, 21.302467670303855, 13.37230074725841, 14.600736852849133, 6.466107682114871, 7.941731518148849, 27.661940493492658, 3.338305347011564, 3.3161889178638715, 4.1282267113485105, 4.134480189974012, 5.6573812388446045, 4.04535021920451, 9.628505798248407, 4.862692988107485, 4.78003949558063, 3.9671705217048103, 3.182901140894505, 3.964906018822766, 14.556231427123263, 7.415515396430909, 4.3778094356603825, 2.946421261592024, 4.3729206974384605, 4.203757587477042, 4.787558939150664, 3.4267978063030347, 3.498169976805426, 2.781761061694815, 2.7418956746246006, 2.699715318608113, 4.751282034314196, 22.529617676225918, 6.726830897938637, 20.65831013460327, 9.698189512268558, 4.591128195152255, 30.596071974443415, 23.968787329197802, 10.594680754570865, 7.710115575370057, 19.495097547510014, 11.327646420753336, 11.356675191031734, 5.738653600280354, 7.560033813693568, 7.564104742874661, 10.09342851262458, 8.981561048211859, 9.108213616069893, 9.576211741026826, 7.740358119193231, 8.966914674904677, 5.98766739520148, 5.395909227401177, 6.283013781756998, 6.3809783331036485, 5.67263191092088, 8.529110494777274, 8.519234690098797, 9.068006694653159, 9.041725165217276, 9.601289317238304, 10.200087741665744, 10.145259998450747, 10.100145609124464, 10.08089458886782, 10.064357098469827, 3.2581629780861765, 3.2506189439104065, 10.136747577067105, 10.063732565433623, 4.356072802306667, 4.337225201511269, 2.419061328743668, 5.452235979702396, 5.920715778911433, 2.298946267713831, 3.899280735751569, 7.830211698705932, 2.15600972865269, 2.1486562733200967, 5.878086284998949, 3.213952296486655, 2.6350228069865556, 2.069960899071194, 1.9523975187798375, 1.9596402669075543, 7.52931432920883, 5.1904862421905, 9.344510573893192, 6.2469849534217365, 9.725075615699414, 8.684906818857025, 12.524519078693421, 8.742105741932987, 6.596967129880876, 5.7816350394288225, 4.354324049638334, 5.052567928359092, 4.8031325623809105], \"Total\": [32.0, 43.0, 11.0, 11.0, 11.0, 11.0, 11.0, 11.0, 12.0, 12.0, 32.0, 10.0, 10.0, 9.0, 9.0, 30.0, 32.0, 35.0, 18.0, 56.0, 18.0, 28.0, 11.0, 17.0, 14.0, 13.0, 11.0, 8.0, 24.0, 9.0, 14.9108077870266, 7.896903121150772, 14.818071031029232, 32.009018987206844, 28.494135098268497, 6.97635760872859, 13.068141560650185, 6.973277039605346, 6.157790281149886, 35.37099659815104, 20.72500543926133, 18.146310533467243, 18.15332493492442, 7.848396414596099, 18.14200374758703, 6.990126834643857, 6.9818749871920485, 6.984422091181086, 6.977732630915721, 6.985373833323357, 6.986080242237356, 18.124860208706323, 6.984822120205796, 18.120633025591804, 4.394161468248831, 18.11947507414494, 18.116015680730975, 6.9878577260516135, 18.11211118218287, 6.982666750316299, 15.755198234047478, 18.11529964050081, 18.092327211761877, 18.090822223456886, 18.07602000320902, 18.07422292601294, 19.788443102685708, 19.755881451640796, 19.02579741381025, 45.01579909525699, 18.89351018814549, 12.399537141879883, 25.83020220785599, 11.648258978352256, 19.05417475642229, 56.70167220712818, 29.380390144714823, 39.148402328718234, 7.121450344624586, 9.097944676573423, 32.35945415528713, 3.994027747203283, 3.990365108688061, 4.97161755990318, 4.980034137926977, 6.914887230552247, 4.951912668004284, 11.81576898082055, 5.98453051542334, 5.916376378472851, 4.920340806145392, 3.948582939687087, 4.938427064807465, 18.79924692246982, 9.811899362980679, 5.805056226490757, 3.9211200872361696, 5.8767535058002505, 5.7615705249308, 6.681397449261288, 4.788135414287086, 4.88834378525149, 3.892554273296357, 3.865162467252688, 3.830809377005804, 6.750299779683524, 32.19114647092489, 9.676322805090717, 30.172555639455542, 14.462458683709489, 6.69036472501649, 56.70167220712818, 43.222852929018266, 17.52220254313368, 12.204743442461835, 39.148402328718234, 19.879747198977512, 19.958329480963183, 8.687710576470906, 13.32859098760122, 14.34714742860514, 24.90286568148786, 22.768219160733945, 23.775021155924193, 26.557096008173602, 17.820253217300316, 25.83020220785599, 11.099501742195788, 9.330440637944971, 29.380390144714823, 45.01579909525699, 19.05417475642229, 9.408016815643668, 9.411204735742446, 10.256275417430707, 10.264261416483974, 11.078238235224644, 11.908601785469813, 11.918913927384194, 11.933325242937414, 11.94431437808238, 11.94916127222833, 3.978716649446634, 3.9901486940281803, 12.940615258095871, 12.996836413101725, 5.6701367548792785, 5.675175055358372, 3.2287346908947696, 7.347603043027944, 8.20737639299642, 3.2848834484791167, 5.731200227867028, 11.512568328577192, 3.28429726626464, 3.280553130105145, 9.119598439661, 5.0194223236727495, 4.215087195956894, 3.36036956813064, 3.2904022610337984, 3.4008493525748316, 13.161185849319125, 9.239412235345991, 18.11754345162187, 14.34714742860514, 29.380390144714823, 24.90286568148786, 43.222852929018266, 26.557096008173602, 17.820253217300316, 17.52220254313368, 9.752284628317055, 39.148402328718234, 56.70167220712818], \"Category\": [\"Default\", \"Default\", \"Default\", \"Default\", \"Default\", \"Default\", \"Default\", \"Default\", \"Default\", \"Default\", \"Default\", \"Default\", \"Default\", \"Default\", \"Default\", \"Default\", \"Default\", \"Default\", \"Default\", \"Default\", \"Default\", \"Default\", \"Default\", \"Default\", \"Default\", \"Default\", \"Default\", \"Default\", \"Default\", \"Default\", \"Topic1\", \"Topic1\", \"Topic1\", \"Topic1\", \"Topic1\", \"Topic1\", \"Topic1\", \"Topic1\", \"Topic1\", \"Topic1\", \"Topic1\", \"Topic1\", \"Topic1\", \"Topic1\", \"Topic1\", \"Topic1\", \"Topic1\", \"Topic1\", \"Topic1\", \"Topic1\", \"Topic1\", \"Topic1\", \"Topic1\", \"Topic1\", \"Topic1\", \"Topic1\", \"Topic1\", \"Topic1\", \"Topic1\", \"Topic1\", \"Topic1\", \"Topic1\", \"Topic1\", \"Topic1\", \"Topic1\", \"Topic1\", \"Topic1\", \"Topic1\", \"Topic1\", \"Topic1\", \"Topic1\", \"Topic1\", \"Topic1\", \"Topic1\", \"Topic1\", \"Topic1\", \"Topic1\", \"Topic1\", \"Topic2\", \"Topic2\", \"Topic2\", \"Topic2\", \"Topic2\", \"Topic2\", \"Topic2\", \"Topic2\", \"Topic2\", \"Topic2\", \"Topic2\", \"Topic2\", \"Topic2\", \"Topic2\", \"Topic2\", \"Topic2\", \"Topic2\", \"Topic2\", \"Topic2\", \"Topic2\", \"Topic2\", \"Topic2\", \"Topic2\", \"Topic2\", \"Topic2\", \"Topic2\", \"Topic2\", \"Topic2\", \"Topic2\", \"Topic2\", \"Topic2\", \"Topic2\", \"Topic2\", \"Topic2\", \"Topic2\", \"Topic2\", \"Topic2\", \"Topic2\", \"Topic2\", \"Topic2\", \"Topic2\", \"Topic2\", \"Topic2\", \"Topic2\", \"Topic2\", \"Topic2\", \"Topic2\", \"Topic2\", \"Topic2\", \"Topic2\", \"Topic2\", \"Topic2\", \"Topic2\", \"Topic2\", \"Topic3\", \"Topic3\", \"Topic3\", \"Topic3\", \"Topic3\", \"Topic3\", \"Topic3\", \"Topic3\", \"Topic3\", \"Topic3\", \"Topic3\", \"Topic3\", \"Topic3\", \"Topic3\", \"Topic3\", \"Topic3\", \"Topic3\", \"Topic3\", \"Topic3\", \"Topic3\", \"Topic3\", \"Topic3\", \"Topic3\", \"Topic3\", \"Topic3\", \"Topic3\", \"Topic3\", \"Topic3\", \"Topic3\", \"Topic3\", \"Topic3\", \"Topic3\", \"Topic3\", \"Topic3\", \"Topic3\", \"Topic3\", \"Topic3\", \"Topic3\", \"Topic3\", \"Topic3\", \"Topic3\", \"Topic3\", \"Topic3\"], \"logprob\": [30.0, 29.0, 28.0, 27.0, 26.0, 25.0, 24.0, 23.0, 22.0, 21.0, 20.0, 19.0, 18.0, 17.0, 16.0, 15.0, 14.0, 13.0, 12.0, 11.0, 10.0, 9.0, 8.0, 7.0, 6.0, 5.0, 4.0, 3.0, 2.0, 1.0, -4.6116, -5.2804, -4.6631, -3.8932, -4.0306, -5.4391, -4.8126, -5.4427, -5.5684, -3.8228, -4.3681, -4.5034, -4.5049, -5.3471, -4.5097, -5.4651, -5.467, -5.4696, -5.4713, -5.4705, -5.4705, -4.5177, -5.4715, -4.5186, -5.9357, -4.5195, -4.5212, -5.4744, -4.5227, -5.4762, -4.6647, -4.5292, -4.5348, -4.5358, -4.5412, -4.5435, -4.4596, -4.4686, -4.5067, -3.7068, -4.5295, -4.9717, -4.4582, -5.0797, -4.7747, -4.1923, -4.6579, -4.57, -4.9646, -4.759, -3.5111, -5.6257, -5.6324, -5.4133, -5.4118, -5.0982, -5.4336, -4.5665, -5.2496, -5.2667, -5.4531, -5.6734, -5.4537, -4.1532, -4.8276, -5.3546, -5.7506, -5.3557, -5.3952, -5.2652, -5.5996, -5.5789, -5.8081, -5.8225, -5.838, -5.2728, -3.7163, -4.9251, -3.8031, -4.5592, -5.3071, -3.4103, -3.6544, -4.4708, -4.7886, -3.861, -4.4039, -4.4014, -5.084, -4.8083, -4.8078, -4.5193, -4.636, -4.622, -4.5719, -4.7847, -4.6376, -5.0415, -5.1455, -4.9933, -4.9779, -5.0955, -4.3274, -4.3285, -4.2661, -4.269, -4.209, -4.1485, -4.1539, -4.1583, -4.1602, -4.1619, -5.2897, -5.292, -4.1547, -4.1619, -4.9993, -5.0036, -5.5875, -4.7748, -4.6924, -5.6384, -5.1101, -4.4129, -5.7026, -5.706, -4.6996, -5.3034, -5.502, -5.7433, -5.8018, -5.7981, -4.4521, -4.824, -4.2361, -4.6388, -4.1962, -4.3093, -3.9432, -4.3027, -4.5842, -4.7162, -4.9997, -4.851, -4.9016], \"loglift\": [30.0, 29.0, 28.0, 27.0, 26.0, 25.0, 24.0, 23.0, 22.0, 21.0, 20.0, 19.0, 18.0, 17.0, 16.0, 15.0, 14.0, 13.0, 12.0, 11.0, 10.0, 9.0, 8.0, 7.0, 6.0, 5.0, 4.0, 3.0, 2.0, 1.0, 0.6866, 0.6534, 0.6414, 0.6412, 0.6201, 0.6187, 0.6176, 0.6156, 0.6142, 0.6117, 0.6009, 0.5985, 0.5966, 0.5929, 0.5924, 0.5908, 0.5901, 0.5871, 0.5864, 0.586, 0.5859, 0.5853, 0.5852, 0.5847, 0.5844, 0.5838, 0.5824, 0.5818, 0.5811, 0.5807, 0.5784, 0.5744, 0.5701, 0.5691, 0.5645, 0.5624, 0.5557, 0.5483, 0.5479, 0.4865, 0.532, 0.511, 0.2906, 0.4655, 0.2784, -0.2297, -0.0379, -0.2371, 1.0726, 1.0333, 1.0123, 0.9898, 0.9841, 0.9833, 0.9831, 0.9685, 0.967, 0.9645, 0.9616, 0.9559, 0.9538, 0.9536, 0.9496, 0.9134, 0.8891, 0.887, 0.8834, 0.8736, 0.8539, 0.8359, 0.8347, 0.8346, 0.8332, 0.8258, 0.8192, 0.818, 0.8123, 0.8056, 0.7904, 0.7696, 0.7926, 0.5522, 0.5796, 0.6661, 0.7099, 0.472, 0.6067, 0.6053, 0.7545, 0.6021, 0.529, 0.2661, 0.239, 0.2097, 0.1492, 0.3353, 0.1112, 0.552, 0.6215, -0.3733, -0.7845, -0.0425, 1.4314, 1.4299, 1.4064, 1.4027, 1.3864, 1.3746, 1.3684, 1.3627, 1.3599, 1.3578, 1.3297, 1.3245, 1.2853, 1.2737, 1.2658, 1.2606, 1.2408, 1.2311, 1.2029, 1.1726, 1.1444, 1.144, 1.1086, 1.1063, 1.0903, 1.0837, 1.0597, 1.045, 1.0075, 0.9782, 0.971, 0.9528, 0.8674, 0.698, 0.4239, 0.4761, 0.2908, 0.4183, 0.5358, 0.4207, 0.7232, -0.518, -0.939]}, \"token.table\": {\"Topic\": [1, 2, 3, 1, 2, 1, 2, 3, 2, 3, 1, 2, 3, 1, 2, 3, 1, 2, 1, 2, 3, 2, 3, 2, 1, 2, 3, 1, 2, 3, 1, 2, 3, 1, 2, 3, 1, 2, 3, 1, 2, 3, 2, 3, 1, 2, 3, 1, 2, 3, 1, 3, 1, 2, 3, 1, 3, 1, 2, 3, 2, 3, 1, 2, 1, 2, 3, 2, 3, 2, 3, 2, 1, 2, 3, 2, 2, 3, 1, 2, 3, 1, 2, 3, 2, 3, 1, 2, 3, 2, 3, 1, 2, 3, 1, 2, 3, 1, 3, 2, 3, 1, 2, 3, 1, 2, 3, 1, 2, 3, 1, 2, 3, 1, 3, 1, 2, 3, 3, 1, 3, 2, 3, 1, 2, 3, 1, 2, 3, 2, 3, 1, 2, 3, 1, 2, 3, 1, 2, 3, 1, 3, 1, 3, 1, 2, 3, 1, 2, 3, 2, 3, 3, 1, 2, 3, 2, 3, 1, 2, 3, 2, 1, 2, 3, 1, 2, 2, 3, 1, 2, 3, 1, 2, 3, 1, 3, 2, 3, 2, 1, 2, 3, 1, 2, 3, 1, 2, 3, 2, 3, 2, 3, 1, 2, 3, 1, 2, 3, 1, 2, 3, 1, 2, 3, 2, 3, 1, 2, 3, 1, 2, 3, 1, 2, 3, 1, 2, 3, 1, 2, 3, 2, 3, 2, 3, 1, 2, 3, 1, 2, 3, 1, 2, 1, 2, 3, 1, 1, 2, 3, 1, 2, 3, 1, 2, 3, 1, 2, 3, 1, 3, 1, 2, 3, 1, 2, 1, 2, 3, 1, 2, 1, 2, 3, 1, 2, 3, 1, 2, 3, 2, 3, 1, 2, 3, 1, 2, 1, 2, 3, 1, 3, 1, 2, 3, 3, 1, 2, 3, 1, 2, 3, 2, 3, 1, 2, 3, 1, 2, 3, 2, 3, 1, 2, 3, 2, 3, 1, 3, 1, 2, 3, 1, 2, 3, 1, 2, 3, 1, 3], \"Freq\": [0.30123775572215433, 0.37654719465269293, 0.33889247518742366, 0.20456826359411892, 0.6137047907823568, 0.05707045090583455, 0.6277749599641801, 0.3424227054350073, 0.29758631594687845, 0.5951726318937569, 0.14946868236657088, 0.7473434118328544, 0.14946868236657088, 0.12361147937801199, 0.865280355646084, 0.030902869844502998, 0.1670974853286818, 0.8354874266434089, 0.37513342593010746, 0.6002134814881719, 0.07502668518602149, 0.807768688217209, 0.20194217205430226, 0.7597662366027801, 0.0839002618940354, 0.0839002618940354, 0.8390026189403541, 0.08368788212141318, 0.08368788212141318, 0.8368788212141317, 0.30181470317231207, 0.5533269558159054, 0.10060490105743736, 0.21435214880060582, 0.5358803720015146, 0.21435214880060582, 0.16834777617455685, 0.44892740313215157, 0.39281147774063263, 0.07727607845959124, 0.15455215691918248, 0.7727607845959124, 0.0975012818299013, 0.8775115364691117, 0.20669008674946224, 0.7234153036231178, 0.10334504337473112, 0.16387071218897964, 0.6554828487559186, 0.24580606828346946, 0.8604275960817944, 0.14340459934696573, 0.5047314120690014, 0.37854855905175105, 0.12618285301725035, 0.30391420886205384, 0.6078284177241077, 0.4392087026835192, 0.39528783241516724, 0.17568348107340767, 0.8451118860850113, 0.16902237721700228, 0.2550291696638287, 0.7650875089914861, 0.2702824027312164, 0.5405648054624328, 0.2702824027312164, 0.2372430162202098, 0.7117290486606294, 0.13609880584783204, 0.6804940292391601, 0.7518109040870022, 0.8817219329786734, 0.05510762081116709, 0.11021524162233418, 0.8032073454149186, 0.08372184190287084, 0.8372184190287083, 0.10965395095150403, 0.21930790190300806, 0.6579237057090241, 0.10254007528619162, 0.5127003764309581, 0.4101603011447665, 0.1062923270223325, 0.9566309432009925, 0.4415609666598507, 0.055195120832481334, 0.49675608749233197, 0.10625632191404137, 0.9563068972263723, 0.841741723484415, 0.07652197486221955, 0.07652197486221955, 0.8773735336686592, 0.03509494134674637, 0.1052848240402391, 0.8919019415203991, 0.12741456307434273, 0.17620601835987817, 0.7048240734395127, 0.7726476563343997, 0.17169947918542217, 0.08584973959271108, 0.8764242735987958, 0.028271750761251477, 0.11308700304500591, 0.8290807381732769, 0.05527204921155179, 0.11054409842310357, 0.8280293617922907, 0.05520195745281938, 0.11040391490563876, 0.8598781749556075, 0.1433130291592679, 0.14814156891368213, 0.7407078445684105, 0.14814156891368213, 0.75185168023686, 0.8583535237534351, 0.14305892062557252, 0.8099745014976643, 0.20249362537441606, 0.8277856506897674, 0.05518571004598449, 0.11037142009196899, 0.8819312476510801, 0.05512070297819251, 0.11024140595638501, 0.19922611318911543, 0.5976783395673463, 0.6297832445330831, 0.31489162226654155, 0.052481937044423596, 0.8409634377997784, 0.05256021486248615, 0.1051204297249723, 0.8275925898062768, 0.05517283932041845, 0.1103456786408369, 0.8592705644628127, 0.14321176074380212, 0.8588507134121387, 0.14314178556868978, 0.17448352181758767, 0.17448352181758767, 0.6979340872703507, 0.8586322497138493, 0.1431053749523082, 0.1431053749523082, 0.6265486959805784, 0.20884956532685944, 0.6194377028376233, 0.069700266549587, 0.557602132396696, 0.418201599297522, 0.8676931090777629, 0.14461551817962714, 0.1619513642816588, 0.5552618203942588, 0.3007668193802235, 0.7511214718276993, 0.37035944765946444, 0.5467210894020665, 0.08818082087130105, 0.25690072116917806, 0.7707021635075342, 0.7483464406915071, 0.2993385762766029, 0.24851553538876336, 0.7144821642426947, 0.06212888384719084, 0.2651416106608714, 0.6959967279847873, 0.06628540266521785, 0.859368008021734, 0.14322800133695565, 0.09026706040861036, 0.9026706040861037, 0.8425250067956902, 0.8251244958572842, 0.06347111506594494, 0.06347111506594494, 0.8098854024390364, 0.050617837652439775, 0.1518535129573193, 0.8299111979199709, 0.05532741319466473, 0.16598223958399416, 0.30442480401032024, 0.6088496080206405, 0.08397291453814017, 0.8397291453814016, 0.08379893949440767, 0.08379893949440767, 0.8379893949440766, 0.8279966337164683, 0.055199775581097885, 0.11039955116219577, 0.8813812377267743, 0.0550863273579234, 0.1101726547158468, 0.8064817166622003, 0.16129634333244006, 0.08064817166622003, 0.6942551484342097, 0.17356378710855241, 0.8085527455077284, 0.050534546594233024, 0.15160363978269906, 0.8291497099866876, 0.05527664733244584, 0.11055329466489168, 0.2074336090155403, 0.6914453633851344, 0.1382890726770269, 0.30447913782705155, 0.30447913782705155, 0.6089582756541031, 0.3039239811515111, 0.07598099528787777, 0.6078479623030222, 0.15388360185743813, 0.7694180092871906, 0.09742542199812272, 0.8768287979831044, 0.24093612665871797, 0.4015602110978633, 0.36140418998807694, 0.25872133667664127, 0.7761640100299237, 0.25872133667664127, 0.8864234362013964, 0.8045671155924347, 0.9059946514321645, 0.03124119487697119, 0.09372358463091357, 0.8600476547379102, 0.216463985917726, 0.216463985917726, 0.541159964794315, 0.08463266348751469, 0.8463266348751468, 0.16926532697502938, 0.17016197786975715, 0.6806479114790286, 0.17016197786975715, 0.12184161565361223, 0.24368323130722447, 0.7310496939216734, 0.3048266436605308, 0.6096532873210616, 0.6194299166242595, 0.34842932810114596, 0.03871436978901622, 0.9389162679825392, 0.06706544771303852, 0.08686159086828085, 0.1737231817365617, 0.6948927269462468, 0.8119795854863566, 0.16239591709727133, 0.8685160567389238, 0.048250892041051326, 0.09650178408210265, 0.8298286900178835, 0.0553219126678589, 0.1659657380035767, 0.1019170665134317, 0.7134194655940219, 0.1019170665134317, 0.8129518172814559, 0.20323795432036398, 0.3507307566335548, 0.5511483318527289, 0.10020878760958708, 0.10991493524630136, 0.8793194819704109, 0.910298820128266, 0.6890544800834874, 0.17226362002087184, 0.8590546106278326, 0.14317576843797208, 0.4424720004046149, 0.20421784634059148, 0.34036307723431913, 0.7540119752979254, 0.7775048028346055, 0.13328653762878953, 0.08885769175252635, 0.827838551537501, 0.05518923676916673, 0.11037847353833347, 0.7831243230235664, 0.2610414410078554, 0.3831573987119366, 0.4853327050351197, 0.12771913290397888, 0.23021024726774839, 0.6906307418032451, 0.11510512363387419, 0.1763625893395742, 0.7054503573582968, 0.15958086046597147, 0.7979043023298574, 0.05319362015532383, 0.29404419200247306, 0.5880883840049461, 0.8589375662870492, 0.14315626104784154, 0.7939234081241067, 0.052928227208273775, 0.15878468162482134, 0.8281751281847091, 0.05521167521231394, 0.11042335042462788, 0.8773071726257643, 0.0674851671250588, 0.0674851671250588, 0.8590054115541629, 0.14316756859236046], \"Term\": [\"101\", \"101\", \"101\", \"algorithms\", \"algorithms\", \"analysis\", \"analysis\", \"analysis\", \"analysis data\", \"analysis data\", \"analysis using\", \"analysis using\", \"analysis using\", \"analytics\", \"analytics\", \"analytics\", \"analytics 101\", \"analytics 101\", \"analyze\", \"analyze\", \"analyze\", \"analyzing\", \"analyzing\", \"analyzing data\", \"answers\", \"answers\", \"answers\", \"answers questions\", \"answers questions\", \"answers questions\", \"apache\", \"apache\", \"apache\", \"application\", \"application\", \"application\", \"applications\", \"applications\", \"applications\", \"approach\", \"approach\", \"approach\", \"approach data\", \"approach data\", \"apps\", \"apps\", \"apps\", \"basics\", \"basics\", \"basics\", \"bootcamp\", \"bootcamp\", \"build\", \"build\", \"build\", \"business problems\", \"business problems\", \"cloud\", \"cloud\", \"cloud\", \"cloud kubernetes\", \"cloud kubernetes\", \"complete\", \"complete\", \"computing\", \"computing\", \"computing\", \"container\", \"container\", \"containers\", \"containers\", \"control\", \"course image\", \"course image\", \"course image\", \"course learn\", \"course presents\", \"course presents\", \"create\", \"create\", \"create\", \"data analysis\", \"data analysis\", \"data analysis\", \"data answers\", \"data answers\", \"data course\", \"data course\", \"data course\", \"data matters\", \"data matters\", \"data networks\", \"data networks\", \"data networks\", \"data science\", \"data science\", \"data science\", \"data types\", \"data types\", \"data visualization\", \"data visualization\", \"databases\", \"databases\", \"databases\", \"description\", \"description\", \"description\", \"description taken\", \"description taken\", \"description taken\", \"description used\", \"description used\", \"description used\", \"discovering structures\", \"discovering structures\", \"distributed\", \"distributed\", \"distributed\", \"docker\", \"easily capture\", \"easily capture\", \"focus\", \"focus\", \"frontend\", \"frontend\", \"frontend\", \"frontend course\", \"frontend course\", \"frontend course\", \"functions\", \"functions\", \"hadoop\", \"hadoop\", \"hadoop\", \"image\", \"image\", \"image\", \"image provide\", \"image provide\", \"image provide\", \"images\", \"images\", \"images sound\", \"images sound\", \"including\", \"including\", \"including\", \"instance images\", \"instance images\", \"instance images\", \"istio\", \"istio\", \"journey\", \"kubernetes\", \"kubernetes\", \"kubernetes\", \"kubernetes service\", \"kubernetes service\", \"learn\", \"learn\", \"learn\", \"learn topic\", \"learning\", \"learning\", \"learning\", \"learning course\", \"learning course\", \"like\", \"like\", \"machine\", \"machine\", \"machine\", \"machine learning\", \"machine learning\", \"machine learning\", \"majority\", \"majority\", \"matters\", \"matters\", \"media\", \"networks\", \"networks\", \"networks\", \"one\", \"one\", \"one\", \"one used\", \"one used\", \"one used\", \"patterns\", \"patterns\", \"presents\", \"presents\", \"presents approach\", \"presents approach\", \"presents approach\", \"press\", \"press\", \"press\", \"press frontend\", \"press frontend\", \"press frontend\", \"processing\", \"processing\", \"processing\", \"projects\", \"projects\", \"provide\", \"provide\", \"provide\", \"provide one\", \"provide one\", \"provide one\", \"provides\", \"provides\", \"provides\", \"providing\", \"providing\", \"providing\", \"python\", \"python\", \"python\", \"questions\", \"questions\", \"questions data\", \"questions data\", \"r\", \"r\", \"r\", \"recognize\", \"recognize\", \"recognize\", \"scala\", \"scale\", \"science\", \"science\", \"science\", \"science bootcamp\", \"search\", \"search\", \"search\", \"service\", \"service\", \"service\", \"services\", \"services\", \"services\", \"solr\", \"solr\", \"solr\", \"solr 101\", \"solr 101\", \"spark\", \"spark\", \"spark\", \"sql\", \"sql\", \"statistics\", \"statistics\", \"statistics\", \"students\", \"students\", \"taken\", \"taken\", \"taken\", \"taken word\", \"taken word\", \"taken word\", \"teaches\", \"teaches\", \"teaches\", \"teaches basics\", \"teaches basics\", \"text\", \"text\", \"text\", \"text analytics\", \"text analytics\", \"times\", \"topic\", \"topic\", \"types solve\", \"types solve\", \"use\", \"use\", \"use\", \"use data\", \"used\", \"used\", \"used\", \"used description\", \"used description\", \"used description\", \"uses\", \"uses\", \"using\", \"using\", \"using\", \"using r\", \"using r\", \"using r\", \"visualization\", \"visualization\", \"watson\", \"watson\", \"watson\", \"way\", \"way\", \"within data\", \"within data\", \"word\", \"word\", \"word\", \"word press\", \"word press\", \"word press\", \"world\", \"world\", \"world\", \"world data\", \"world data\"]}, \"R\": 30, \"lambda.step\": 0.01, \"plot.opts\": {\"xlab\": \"PC1\", \"ylab\": \"PC2\"}, \"topic.order\": [3, 2, 1]};\n",
       "\n",
       "function LDAvis_load_lib(url, callback){\n",
       "  var s = document.createElement('script');\n",
       "  s.src = url;\n",
       "  s.async = true;\n",
       "  s.onreadystatechange = s.onload = callback;\n",
       "  s.onerror = function(){console.warn(\"failed to load library \" + url);};\n",
       "  document.getElementsByTagName(\"head\")[0].appendChild(s);\n",
       "}\n",
       "\n",
       "if(typeof(LDAvis) !== \"undefined\"){\n",
       "   // already loaded: just create the visualization\n",
       "   !function(LDAvis){\n",
       "       new LDAvis(\"#\" + \"ldavis_el1201626258567472169086178861\", ldavis_el1201626258567472169086178861_data);\n",
       "   }(LDAvis);\n",
       "}else if(typeof define === \"function\" && define.amd){\n",
       "   // require.js is available: use it to load d3/LDAvis\n",
       "   require.config({paths: {d3: \"https://d3js.org/d3.v5\"}});\n",
       "   require([\"d3\"], function(d3){\n",
       "      window.d3 = d3;\n",
       "      LDAvis_load_lib(\"https://cdn.jsdelivr.net/gh/bmabey/pyLDAvis@3.3.1/pyLDAvis/js/ldavis.v3.0.0.js\", function(){\n",
       "        new LDAvis(\"#\" + \"ldavis_el1201626258567472169086178861\", ldavis_el1201626258567472169086178861_data);\n",
       "      });\n",
       "    });\n",
       "}else{\n",
       "    // require.js not available: dynamically load d3 & LDAvis\n",
       "    LDAvis_load_lib(\"https://d3js.org/d3.v5.js\", function(){\n",
       "         LDAvis_load_lib(\"https://cdn.jsdelivr.net/gh/bmabey/pyLDAvis@3.3.1/pyLDAvis/js/ldavis.v3.0.0.js\", function(){\n",
       "                 new LDAvis(\"#\" + \"ldavis_el1201626258567472169086178861\", ldavis_el1201626258567472169086178861_data);\n",
       "            })\n",
       "         });\n",
       "}\n",
       "</script>"
      ],
      "text/plain": [
       "PreparedData(topic_coordinates=              x         y  topics  cluster       Freq\n",
       "topic                                                \n",
       "2      0.126484 -0.033888       1        1  47.272962\n",
       "1     -0.103387 -0.063135       2        1  31.062457\n",
       "0     -0.023098  0.097023       3        1  21.664581, topic_info=                  Term       Freq      Total Category  logprob  loglift\n",
       "214          analytics  32.000000  32.000000  Default  30.0000  30.0000\n",
       "85               learn  43.000000  43.000000  Default  29.0000  29.0000\n",
       "180           presents  11.000000  11.000000  Default  28.0000  28.0000\n",
       "172            answers  11.000000  11.000000  Default  27.0000  27.0000\n",
       "181  presents approach  11.000000  11.000000  Default  26.0000  26.0000\n",
       "..                 ...        ...        ...      ...      ...      ...\n",
       "145       applications   6.596967  17.820253   Topic3  -4.5842   0.5358\n",
       "213           analysis   5.781635  17.522203   Topic3  -4.7162   0.4207\n",
       "281      data analysis   4.354324   9.752285   Topic3  -4.9997   0.7232\n",
       "76               using   5.052568  39.148402   Topic3  -4.8510  -0.5180\n",
       "28            learning   4.803133  56.701672   Topic3  -4.9016  -0.9390\n",
       "\n",
       "[175 rows x 6 columns], token_table=      Topic      Freq        Term\n",
       "term                             \n",
       "225       1  0.301238         101\n",
       "225       2  0.376547         101\n",
       "225       3  0.338892         101\n",
       "227       1  0.204568  algorithms\n",
       "227       2  0.613705  algorithms\n",
       "...     ...       ...         ...\n",
       "54        1  0.877307       world\n",
       "54        2  0.067485       world\n",
       "54        3  0.067485       world\n",
       "55        1  0.859005  world data\n",
       "55        3  0.143168  world data\n",
       "\n",
       "[321 rows x 3 columns], R=30, lambda_step=0.01, plot_opts={'xlab': 'PC1', 'ylab': 'PC2'}, topic_order=[3, 2, 1])"
      ]
     },
     "execution_count": 15,
     "metadata": {},
     "output_type": "execute_result"
    }
   ],
   "source": [
    "warnings.filterwarnings('ignore')\n",
    "vis"
   ]
  },
  {
   "cell_type": "markdown",
   "id": "57bf377f",
   "metadata": {},
   "source": [
    "### TFIDF"
   ]
  },
  {
   "cell_type": "code",
   "execution_count": 44,
   "id": "c07d028d",
   "metadata": {},
   "outputs": [],
   "source": [
    "def get_tfidf_dataframe(data, multi_gram, stem, tag_drop):\n",
    "#     data: the document column in dataset to be calculate tfidf, eg data['doc']\n",
    "#     multi_gram: n-gram, eg[1,2]\n",
    "#     stem: whether we treat words stem: True or False\n",
    "    processed_docs = data.map(partial(find_multiple_gram_tokens, multi_gram = multi_gram, stem = stem, tag_drop=tag_drop))\n",
    "    dictionary = gensim.corpora.Dictionary(processed_docs)\n",
    "    dictionary.filter_extremes(no_below=3, no_above=0.5, keep_n=100000) #filter out tokens that appears in less than 3 docs and more than 0.5 documents, keep only the first 100000 most frequent tokens\n",
    "    bow_corpus = [dictionary.doc2bow(doc) for doc in processed_docs]\n",
    "    tfidf = TfidfModel(bow_corpus)\n",
    "    vector = tfidf[bow_corpus]\n",
    "    doc_id = []\n",
    "    bow = []\n",
    "    tfidf_value = []\n",
    "    for index, doc in enumerate(vector):\n",
    "        for id, value in doc:\n",
    "            doc_id.append(index)\n",
    "            bow.append(dictionary.get(id))\n",
    "            tfidf_value.append(value)\n",
    "    data = {\"doc_id\": doc_id, \"bow\": bow, \"tfidf_value\": tfidf_value}\n",
    "    data = pd.DataFrame(data)\n",
    "    return(data)\n",
    "def get_top_n_tfidf_bow(data, multi_gram, stem, tag_drop, n):\n",
    "#     data: the document column in dataset to be calculate tfidf, e.g. data['doc']\n",
    "#     multi_gram: n-gram, e.g.[1,2]\n",
    "#     stem: whether we treat words stem: True or False\n",
    "#     n: top n bag of word we want: e.g. 30\n",
    "    tmp_data = get_tfidf_dataframe(data, multi_gram, stem, tag_drop)\n",
    "    tfidf_max_value = tmp_data.groupby('bow')['tfidf_value'].nlargest(1).reset_index(drop = False).sort_values(by = 'tfidf_value', ascending = False)\n",
    "    output_list = tfidf_max_value.head(n).bow.tolist()\n",
    "    return output_list"
   ]
  },
  {
   "cell_type": "code",
   "execution_count": 17,
   "id": "feb0ea97",
   "metadata": {},
   "outputs": [],
   "source": [
    "tfidf_value_data = get_tfidf_dataframe(data = data['doc'], multi_gram = [1,2], stem = False, tag_drop = ['J'])\n",
    "to30_tfidf_bow = get_top_n_tfidf_bow(data = data['doc'], multi_gram = [1,2], stem = False, tag_drop = ['J'], n = 30)\n",
    "to50_tfidf_bow = get_top_n_tfidf_bow(data = data['doc'], multi_gram = [1,2], stem = False, tag_drop = ['J'], n = 50)"
   ]
  },
  {
   "cell_type": "code",
   "execution_count": 18,
   "id": "f31e30f2",
   "metadata": {},
   "outputs": [
    {
     "data": {
      "text/plain": [
       "['sql',\n",
       " 'statistics',\n",
       " 'computing',\n",
       " 'scala',\n",
       " 'welcome',\n",
       " 'r',\n",
       " 'hadoop',\n",
       " 'microservices',\n",
       " 'python',\n",
       " 'cloud',\n",
       " 'containers',\n",
       " 'pipelines',\n",
       " 'blockchain',\n",
       " 'kubernetes',\n",
       " 'projects',\n",
       " 'spark',\n",
       " 'search',\n",
       " 'analytics 101',\n",
       " 'tools',\n",
       " 'server',\n",
       " 'swift',\n",
       " 'ai',\n",
       " 'analytics',\n",
       " 'functions',\n",
       " 'end',\n",
       " 'science bootcamp',\n",
       " 'bootcamp',\n",
       " 'web',\n",
       " 'apache',\n",
       " 'science']"
      ]
     },
     "execution_count": 18,
     "metadata": {},
     "output_type": "execute_result"
    }
   ],
   "source": [
    "to30_tfidf_bow"
   ]
  },
  {
   "cell_type": "markdown",
   "id": "8c673f58",
   "metadata": {},
   "source": [
    "### Customized LDA"
   ]
  },
  {
   "cell_type": "code",
   "execution_count": 103,
   "id": "ce66c503",
   "metadata": {},
   "outputs": [],
   "source": [
    "def keep_specific_tokens(examples, multi_gram, stem, tag_drop, selected_tokens):\n",
    "    tmp_tokens = find_multiple_gram_tokens(examples, multi_gram, stem, tag_drop)\n",
    "    tmp_tokens = [i for i in tmp_tokens if i in selected_tokens]\n",
    "    return tmp_tokens\n",
    "\n",
    "def fit_lda(data, multi_gram, stem, tag_drop, top_n_tokens, num_topics):\n",
    "    if top_n_tokens == '':\n",
    "        processed_docs = data.map(partial(find_multiple_gram_tokens, multi_gram = multi_gram, stem = stem, tag_drop = tag_drop))\n",
    "    else:\n",
    "        selected_tokens = get_top_n_tfidf_bow(data = data, multi_gram = multi_gram, stem = stem, tag_drop = tag_drop, n = top_n_tokens)\n",
    "        processed_docs = data.map(partial(keep_specific_tokens, multi_gram = multi_gram, stem = stem, tag_drop = tag_drop, selected_tokens = selected_tokens))\n",
    "    dictionary = gensim.corpora.Dictionary(processed_docs)\n",
    "    dictionary.filter_extremes(no_below=3, no_above=0.5, keep_n=100000) #filter out tokens that appears in less than 3 docs and more than 0.5 documents, keep only the first 100000 most frequent tokens\n",
    "    bow_corpus = [dictionary.doc2bow(doc) for doc in processed_docs]\n",
    "    lda_model = gensim.models.LdaMulticore(corpus = bow_corpus, \n",
    "                                       num_topics = num_topics, \n",
    "                                       id2word = dictionary, \n",
    "                                       passes = 2, \n",
    "                                       workers = 2, \n",
    "                                       random_state = 100)\n",
    "    return lda_model"
   ]
  },
  {
   "cell_type": "code",
   "execution_count": 47,
   "id": "24a41ff1",
   "metadata": {
    "scrolled": true
   },
   "outputs": [],
   "source": [
    "lda_allbow = fit_lda(data['doc'], [1,2], False, ['J'], '', 5)\n",
    "lda_top30bow = fit_lda(data['doc'], [1,2], False, ['J'], 30, 5)\n",
    "lda_top50bow = fit_lda(data['doc'], [1,2], False, ['J'], 30, 5)"
   ]
  },
  {
   "cell_type": "code",
   "execution_count": 48,
   "id": "5eefab90",
   "metadata": {},
   "outputs": [
    {
     "name": "stdout",
     "output_type": "stream",
     "text": [
      "Topic: 0 \n",
      "Words: 0.290*\"analytics\" + 0.147*\"cloud\" + 0.112*\"blockchain\" + 0.068*\"business\" + 0.063*\"analytics 101\" + 0.051*\"computing\" + 0.051*\"ai\" + 0.050*\"microservices\" + 0.043*\"functions\" + 0.018*\"statistics\"\n",
      "Topic: 1 \n",
      "Words: 0.208*\"python\" + 0.195*\"hadoop\" + 0.145*\"statistics\" + 0.088*\"bootcamp\" + 0.088*\"science bootcamp\" + 0.087*\"containers\" + 0.025*\"kubernetes\" + 0.025*\"projects\" + 0.018*\"welcome\" + 0.018*\"computing\"\n",
      "Topic: 2 \n",
      "Words: 0.219*\"kubernetes\" + 0.170*\"cloud\" + 0.108*\"swift\" + 0.101*\"web\" + 0.073*\"microservices\" + 0.073*\"ai\" + 0.055*\"projects\" + 0.041*\"server\" + 0.037*\"containers\" + 0.021*\"apache\"\n",
      "Topic: 3 \n",
      "Words: 0.290*\"sql\" + 0.144*\"tools\" + 0.098*\"scala\" + 0.096*\"end\" + 0.080*\"computing\" + 0.042*\"hadoop\" + 0.040*\"welcome\" + 0.022*\"server\" + 0.018*\"r\" + 0.015*\"business\"\n",
      "Topic: 4 \n",
      "Words: 0.232*\"spark\" + 0.214*\"r\" + 0.151*\"apache\" + 0.087*\"search\" + 0.060*\"analytics\" + 0.039*\"pipelines\" + 0.035*\"hadoop\" + 0.026*\"scala\" + 0.023*\"tools\" + 0.019*\"statistics\"\n"
     ]
    }
   ],
   "source": [
    "for idx, topic in lda_top30bow.print_topics(-1):\n",
    "    print('Topic: {} \\nWords: {}'.format(idx, topic))"
   ]
  },
  {
   "cell_type": "code",
   "execution_count": 102,
   "id": "a9859b8b",
   "metadata": {},
   "outputs": [
    {
     "data": {
      "text/html": [
       "<div>\n",
       "<style scoped>\n",
       "    .dataframe tbody tr th:only-of-type {\n",
       "        vertical-align: middle;\n",
       "    }\n",
       "\n",
       "    .dataframe tbody tr th {\n",
       "        vertical-align: top;\n",
       "    }\n",
       "\n",
       "    .dataframe thead th {\n",
       "        text-align: right;\n",
       "    }\n",
       "</style>\n",
       "<table border=\"1\" class=\"dataframe\">\n",
       "  <thead>\n",
       "    <tr style=\"text-align: right;\">\n",
       "      <th></th>\n",
       "      <th>Topics</th>\n",
       "      <th>var1</th>\n",
       "      <th>var2</th>\n",
       "      <th>var3</th>\n",
       "      <th>var4</th>\n",
       "      <th>var5</th>\n",
       "      <th>var6</th>\n",
       "      <th>var7</th>\n",
       "      <th>var8</th>\n",
       "      <th>var9</th>\n",
       "      <th>var10</th>\n",
       "    </tr>\n",
       "  </thead>\n",
       "  <tbody>\n",
       "    <tr>\n",
       "      <th>0</th>\n",
       "      <td>1</td>\n",
       "      <td>analytics</td>\n",
       "      <td>cloud</td>\n",
       "      <td>blockchain</td>\n",
       "      <td>business</td>\n",
       "      <td>analytics 101</td>\n",
       "      <td>computing</td>\n",
       "      <td>ai</td>\n",
       "      <td>microservices</td>\n",
       "      <td>functions</td>\n",
       "      <td>statistics</td>\n",
       "    </tr>\n",
       "    <tr>\n",
       "      <th>1</th>\n",
       "      <td>2</td>\n",
       "      <td>python</td>\n",
       "      <td>hadoop</td>\n",
       "      <td>statistics</td>\n",
       "      <td>bootcamp</td>\n",
       "      <td>science bootcamp</td>\n",
       "      <td>containers</td>\n",
       "      <td>kubernetes</td>\n",
       "      <td>projects</td>\n",
       "      <td>welcome</td>\n",
       "      <td>computing</td>\n",
       "    </tr>\n",
       "    <tr>\n",
       "      <th>2</th>\n",
       "      <td>3</td>\n",
       "      <td>kubernetes</td>\n",
       "      <td>cloud</td>\n",
       "      <td>swift</td>\n",
       "      <td>web</td>\n",
       "      <td>microservices</td>\n",
       "      <td>ai</td>\n",
       "      <td>projects</td>\n",
       "      <td>server</td>\n",
       "      <td>containers</td>\n",
       "      <td>apache</td>\n",
       "    </tr>\n",
       "    <tr>\n",
       "      <th>3</th>\n",
       "      <td>4</td>\n",
       "      <td>sql</td>\n",
       "      <td>tools</td>\n",
       "      <td>scala</td>\n",
       "      <td>end</td>\n",
       "      <td>computing</td>\n",
       "      <td>hadoop</td>\n",
       "      <td>welcome</td>\n",
       "      <td>server</td>\n",
       "      <td>r</td>\n",
       "      <td>business</td>\n",
       "    </tr>\n",
       "    <tr>\n",
       "      <th>4</th>\n",
       "      <td>5</td>\n",
       "      <td>spark</td>\n",
       "      <td>r</td>\n",
       "      <td>apache</td>\n",
       "      <td>search</td>\n",
       "      <td>analytics</td>\n",
       "      <td>pipelines</td>\n",
       "      <td>hadoop</td>\n",
       "      <td>scala</td>\n",
       "      <td>tools</td>\n",
       "      <td>statistics</td>\n",
       "    </tr>\n",
       "  </tbody>\n",
       "</table>\n",
       "</div>"
      ],
      "text/plain": [
       "   Topics        var1    var2        var3      var4              var5  \\\n",
       "0       1   analytics   cloud  blockchain  business     analytics 101   \n",
       "1       2      python  hadoop  statistics  bootcamp  science bootcamp   \n",
       "2       3  kubernetes   cloud       swift       web     microservices   \n",
       "3       4         sql   tools       scala       end         computing   \n",
       "4       5       spark       r      apache    search         analytics   \n",
       "\n",
       "         var6        var7           var8        var9       var10  \n",
       "0   computing          ai  microservices   functions  statistics  \n",
       "1  containers  kubernetes       projects     welcome   computing  \n",
       "2          ai    projects         server  containers      apache  \n",
       "3      hadoop     welcome         server           r    business  \n",
       "4   pipelines      hadoop          scala       tools  statistics  "
      ]
     },
     "execution_count": 102,
     "metadata": {},
     "output_type": "execute_result"
    }
   ],
   "source": [
    "topics=[]\n",
    "for idx, topic in lda_top30bow.print_topics(-1):\n",
    "    topics.append(topic)\n",
    "toptopic = pd.DataFrame({'topics':topics}) #\n",
    "toptopic[['var1','var2','var3','var4','var5', 'var6', 'var7', 'var8', 'var9', 'var10']] = toptopic.topics.str.split(\"+\", expand=True)\n",
    "toptopic = toptopic.drop(columns=['topics'])\n",
    "toptopic = toptopic.applymap(lambda x: re.search('\"(.*)\"', x).group(1))\n",
    "toptopic.insert(0, 'Topics', toptopic.index+1)\n",
    "toptopic\n"
   ]
  },
  {
   "cell_type": "code",
   "execution_count": 22,
   "id": "71d78c64",
   "metadata": {},
   "outputs": [
    {
     "name": "stdout",
     "output_type": "stream",
     "text": [
      "Topic: 0 \n",
      "Words: 0.165*\"analytics\" + 0.163*\"r\" + 0.132*\"cloud\" + 0.063*\"computing\" + 0.058*\"blockchain\" + 0.056*\"kubernetes\" + 0.054*\"ai\" + 0.050*\"microservices\" + 0.048*\"containers\" + 0.046*\"swift\"\n",
      "Topic: 1 \n",
      "Words: 0.244*\"science\" + 0.150*\"spark\" + 0.111*\"python\" + 0.086*\"statistics\" + 0.080*\"tools\" + 0.060*\"scala\" + 0.054*\"science bootcamp\" + 0.053*\"bootcamp\" + 0.033*\"analytics\" + 0.023*\"apache\"\n",
      "Topic: 2 \n",
      "Words: 0.168*\"hadoop\" + 0.148*\"apache\" + 0.137*\"sql\" + 0.088*\"search\" + 0.057*\"spark\" + 0.056*\"kubernetes\" + 0.052*\"web\" + 0.045*\"projects\" + 0.037*\"server\" + 0.036*\"end\"\n"
     ]
    }
   ],
   "source": [
    "for idx, topic in lda_top50bow.print_topics(-1):\n",
    "    print('Topic: {} \\nWords: {}'.format(idx, topic))"
   ]
  },
  {
   "cell_type": "code",
   "execution_count": 23,
   "id": "c1e29609",
   "metadata": {},
   "outputs": [
    {
     "name": "stdout",
     "output_type": "stream",
     "text": [
      "Topic: 0 \n",
      "Words: 0.019*\"learn\" + 0.016*\"presents\" + 0.016*\"answers\" + 0.016*\"approach\" + 0.016*\"presents approach\" + 0.016*\"course presents\" + 0.016*\"answers questions\" + 0.016*\"questions\" + 0.015*\"use\" + 0.015*\"matters\"\n",
      "Topic: 1 \n",
      "Words: 0.033*\"learning\" + 0.030*\"analytics\" + 0.026*\"learn\" + 0.024*\"machine\" + 0.022*\"machine learning\" + 0.021*\"using\" + 0.016*\"watson\" + 0.012*\"text\" + 0.012*\"apache\" + 0.011*\"analysis\"\n",
      "Topic: 2 \n",
      "Words: 0.025*\"used\" + 0.022*\"description\" + 0.020*\"science\" + 0.018*\"data science\" + 0.015*\"learning\" + 0.013*\"taken\" + 0.012*\"spark\" + 0.012*\"provide\" + 0.011*\"one\" + 0.011*\"course image\"\n"
     ]
    }
   ],
   "source": [
    "for idx, topic in lda_allbow.print_topics(-1):\n",
    "    print('Topic: {} \\nWords: {}'.format(idx, topic))"
   ]
  },
  {
   "cell_type": "code",
   "execution_count": 24,
   "id": "99e8651d",
   "metadata": {},
   "outputs": [
    {
     "data": {
      "text/html": [
       "\n",
       "<link rel=\"stylesheet\" type=\"text/css\" href=\"https://cdn.jsdelivr.net/gh/bmabey/pyLDAvis@3.3.1/pyLDAvis/js/ldavis.v1.0.0.css\">\n",
       "\n",
       "\n",
       "<div id=\"ldavis_el1201626258572894563960187825\"></div>\n",
       "<script type=\"text/javascript\">\n",
       "\n",
       "var ldavis_el1201626258572894563960187825_data = {\"mdsDat\": {\"x\": [0.12648435054347335, -0.10338664582732257, -0.023097704716150736], \"y\": [-0.033888187151415554, -0.06313527881894294, 0.09702346597035853], \"topics\": [1, 2, 3], \"cluster\": [1, 1, 1], \"Freq\": [47.27296216695406, 31.062456793083214, 21.664581039962727]}, \"tinfo\": {\"Term\": [\"analytics\", \"learn\", \"presents\", \"answers\", \"presents approach\", \"course presents\", \"answers questions\", \"matters\", \"approach\", \"questions\", \"machine\", \"approach data\", \"questions data\", \"data answers\", \"data matters\", \"machine learning\", \"science\", \"description\", \"data course\", \"learning\", \"watson\", \"data science\", \"statistics\", \"analysis\", \"kubernetes\", \"python\", \"service\", \"solr\", \"r\", \"text analytics\", \"sql\", \"scala\", \"world\", \"science\", \"data science\", \"science bootcamp\", \"data networks\", \"bootcamp\", \"students\", \"description\", \"taken\", \"course image\", \"press frontend\", \"data types\", \"frontend course\", \"easily capture\", \"majority\", \"types solve\", \"discovering structures\", \"within data\", \"images sound\", \"image provide\", \"world data\", \"frontend\", \"times\", \"used description\", \"press\", \"instance images\", \"word press\", \"images\", \"networks\", \"description used\", \"description taken\", \"provide one\", \"taken word\", \"one used\", \"provide\", \"one\", \"image\", \"used\", \"word\", \"processing\", \"spark\", \"databases\", \"hadoop\", \"learning\", \"use\", \"using\", \"media\", \"text analytics\", \"analytics\", \"learn topic\", \"control\", \"scale\", \"course learn\", \"kubernetes service\", \"analyzing\", \"service\", \"analytics 101\", \"cloud kubernetes\", \"teaches basics\", \"analyzing data\", \"focus\", \"watson\", \"teaches\", \"topic\", \"complete\", \"services\", \"projects\", \"like\", \"istio\", \"algorithms\", \"learning course\", \"recognize\", \"uses\", \"distributed\", \"machine\", \"apps\", \"machine learning\", \"provides\", \"analysis using\", \"learning\", \"learn\", \"analysis\", \"basics\", \"using\", \"apache\", \"text\", \"using r\", \"analyze\", \"kubernetes\", \"r\", \"cloud\", \"build\", \"101\", \"applications\", \"spark\", \"computing\", \"application\", \"use\", \"used\", \"hadoop\", \"data answers\", \"data matters\", \"approach data\", \"questions data\", \"matters\", \"presents\", \"answers\", \"presents approach\", \"course presents\", \"answers questions\", \"use data\", \"docker\", \"approach\", \"questions\", \"visualization\", \"data visualization\", \"journey\", \"containers\", \"solr\", \"patterns\", \"including\", \"statistics\", \"providing\", \"solr 101\", \"create\", \"functions\", \"container\", \"analysis data\", \"business problems\", \"way\", \"python\", \"search\", \"data course\", \"kubernetes\", \"use\", \"r\", \"learn\", \"101\", \"applications\", \"analysis\", \"data analysis\", \"using\", \"learning\"], \"Freq\": [32.0, 43.0, 11.0, 11.0, 11.0, 11.0, 11.0, 11.0, 12.0, 12.0, 32.0, 10.0, 10.0, 9.0, 9.0, 30.0, 32.0, 35.0, 18.0, 56.0, 18.0, 28.0, 11.0, 17.0, 14.0, 13.0, 11.0, 8.0, 24.0, 9.0, 14.005798245394216, 7.175534510170151, 13.303754671625459, 28.730648250759806, 25.041120380884188, 6.1226995575971825, 11.456592129494119, 6.100757618885924, 5.380024405075953, 30.826062042388582, 17.86748099358424, 15.606576434267419, 15.5841999367269, 6.7125357091913145, 15.508569633170419, 5.965928849558522, 5.954493781876176, 5.938773517762694, 5.9289460551753, 5.93352992874739, 5.933284422701857, 15.384767630027177, 5.927860970968703, 15.372164111112076, 3.726305528859833, 15.356950613488307, 15.332159754355613, 5.910719528810888, 15.308901010491036, 5.899871968911302, 13.281493706341662, 15.209228181737446, 15.12526642703146, 15.109311159804875, 15.027477561782366, 14.99351895550549, 16.305844608141747, 16.159676610390417, 15.555638524852107, 34.6145117813491, 15.20428523916293, 9.771222009969176, 16.32836945960283, 8.770629956165854, 11.899093801403996, 21.302467670303855, 13.37230074725841, 14.600736852849133, 6.466107682114871, 7.941731518148849, 27.661940493492658, 3.338305347011564, 3.3161889178638715, 4.1282267113485105, 4.134480189974012, 5.6573812388446045, 4.04535021920451, 9.628505798248407, 4.862692988107485, 4.78003949558063, 3.9671705217048103, 3.182901140894505, 3.964906018822766, 14.556231427123263, 7.415515396430909, 4.3778094356603825, 2.946421261592024, 4.3729206974384605, 4.203757587477042, 4.787558939150664, 3.4267978063030347, 3.498169976805426, 2.781761061694815, 2.7418956746246006, 2.699715318608113, 4.751282034314196, 22.529617676225918, 6.726830897938637, 20.65831013460327, 9.698189512268558, 4.591128195152255, 30.596071974443415, 23.968787329197802, 10.594680754570865, 7.710115575370057, 19.495097547510014, 11.327646420753336, 11.356675191031734, 5.738653600280354, 7.560033813693568, 7.564104742874661, 10.09342851262458, 8.981561048211859, 9.108213616069893, 9.576211741026826, 7.740358119193231, 8.966914674904677, 5.98766739520148, 5.395909227401177, 6.283013781756998, 6.3809783331036485, 5.67263191092088, 8.529110494777274, 8.519234690098797, 9.068006694653159, 9.041725165217276, 9.601289317238304, 10.200087741665744, 10.145259998450747, 10.100145609124464, 10.08089458886782, 10.064357098469827, 3.2581629780861765, 3.2506189439104065, 10.136747577067105, 10.063732565433623, 4.356072802306667, 4.337225201511269, 2.419061328743668, 5.452235979702396, 5.920715778911433, 2.298946267713831, 3.899280735751569, 7.830211698705932, 2.15600972865269, 2.1486562733200967, 5.878086284998949, 3.213952296486655, 2.6350228069865556, 2.069960899071194, 1.9523975187798375, 1.9596402669075543, 7.52931432920883, 5.1904862421905, 9.344510573893192, 6.2469849534217365, 9.725075615699414, 8.684906818857025, 12.524519078693421, 8.742105741932987, 6.596967129880876, 5.7816350394288225, 4.354324049638334, 5.052567928359092, 4.8031325623809105], \"Total\": [32.0, 43.0, 11.0, 11.0, 11.0, 11.0, 11.0, 11.0, 12.0, 12.0, 32.0, 10.0, 10.0, 9.0, 9.0, 30.0, 32.0, 35.0, 18.0, 56.0, 18.0, 28.0, 11.0, 17.0, 14.0, 13.0, 11.0, 8.0, 24.0, 9.0, 14.9108077870266, 7.896903121150772, 14.818071031029232, 32.009018987206844, 28.494135098268497, 6.97635760872859, 13.068141560650185, 6.973277039605346, 6.157790281149886, 35.37099659815104, 20.72500543926133, 18.146310533467243, 18.15332493492442, 7.848396414596099, 18.14200374758703, 6.990126834643857, 6.9818749871920485, 6.984422091181086, 6.977732630915721, 6.985373833323357, 6.986080242237356, 18.124860208706323, 6.984822120205796, 18.120633025591804, 4.394161468248831, 18.11947507414494, 18.116015680730975, 6.9878577260516135, 18.11211118218287, 6.982666750316299, 15.755198234047478, 18.11529964050081, 18.092327211761877, 18.090822223456886, 18.07602000320902, 18.07422292601294, 19.788443102685708, 19.755881451640796, 19.02579741381025, 45.01579909525699, 18.89351018814549, 12.399537141879883, 25.83020220785599, 11.648258978352256, 19.05417475642229, 56.70167220712818, 29.380390144714823, 39.148402328718234, 7.121450344624586, 9.097944676573423, 32.35945415528713, 3.994027747203283, 3.990365108688061, 4.97161755990318, 4.980034137926977, 6.914887230552247, 4.951912668004284, 11.81576898082055, 5.98453051542334, 5.916376378472851, 4.920340806145392, 3.948582939687087, 4.938427064807465, 18.79924692246982, 9.811899362980679, 5.805056226490757, 3.9211200872361696, 5.8767535058002505, 5.7615705249308, 6.681397449261288, 4.788135414287086, 4.88834378525149, 3.892554273296357, 3.865162467252688, 3.830809377005804, 6.750299779683524, 32.19114647092489, 9.676322805090717, 30.172555639455542, 14.462458683709489, 6.69036472501649, 56.70167220712818, 43.222852929018266, 17.52220254313368, 12.204743442461835, 39.148402328718234, 19.879747198977512, 19.958329480963183, 8.687710576470906, 13.32859098760122, 14.34714742860514, 24.90286568148786, 22.768219160733945, 23.775021155924193, 26.557096008173602, 17.820253217300316, 25.83020220785599, 11.099501742195788, 9.330440637944971, 29.380390144714823, 45.01579909525699, 19.05417475642229, 9.408016815643668, 9.411204735742446, 10.256275417430707, 10.264261416483974, 11.078238235224644, 11.908601785469813, 11.918913927384194, 11.933325242937414, 11.94431437808238, 11.94916127222833, 3.978716649446634, 3.9901486940281803, 12.940615258095871, 12.996836413101725, 5.6701367548792785, 5.675175055358372, 3.2287346908947696, 7.347603043027944, 8.20737639299642, 3.2848834484791167, 5.731200227867028, 11.512568328577192, 3.28429726626464, 3.280553130105145, 9.119598439661, 5.0194223236727495, 4.215087195956894, 3.36036956813064, 3.2904022610337984, 3.4008493525748316, 13.161185849319125, 9.239412235345991, 18.11754345162187, 14.34714742860514, 29.380390144714823, 24.90286568148786, 43.222852929018266, 26.557096008173602, 17.820253217300316, 17.52220254313368, 9.752284628317055, 39.148402328718234, 56.70167220712818], \"Category\": [\"Default\", \"Default\", \"Default\", \"Default\", \"Default\", \"Default\", \"Default\", \"Default\", \"Default\", \"Default\", \"Default\", \"Default\", \"Default\", \"Default\", \"Default\", \"Default\", \"Default\", \"Default\", \"Default\", \"Default\", \"Default\", \"Default\", \"Default\", \"Default\", \"Default\", \"Default\", \"Default\", \"Default\", \"Default\", \"Default\", \"Topic1\", \"Topic1\", \"Topic1\", \"Topic1\", \"Topic1\", \"Topic1\", \"Topic1\", \"Topic1\", \"Topic1\", \"Topic1\", \"Topic1\", \"Topic1\", \"Topic1\", \"Topic1\", \"Topic1\", \"Topic1\", \"Topic1\", \"Topic1\", \"Topic1\", \"Topic1\", \"Topic1\", \"Topic1\", \"Topic1\", \"Topic1\", \"Topic1\", \"Topic1\", \"Topic1\", \"Topic1\", \"Topic1\", \"Topic1\", \"Topic1\", \"Topic1\", \"Topic1\", \"Topic1\", \"Topic1\", \"Topic1\", \"Topic1\", \"Topic1\", \"Topic1\", \"Topic1\", \"Topic1\", \"Topic1\", \"Topic1\", \"Topic1\", \"Topic1\", \"Topic1\", \"Topic1\", \"Topic1\", \"Topic2\", \"Topic2\", \"Topic2\", \"Topic2\", \"Topic2\", \"Topic2\", \"Topic2\", \"Topic2\", \"Topic2\", \"Topic2\", \"Topic2\", \"Topic2\", \"Topic2\", \"Topic2\", \"Topic2\", \"Topic2\", \"Topic2\", \"Topic2\", \"Topic2\", \"Topic2\", \"Topic2\", \"Topic2\", \"Topic2\", \"Topic2\", \"Topic2\", \"Topic2\", \"Topic2\", \"Topic2\", \"Topic2\", \"Topic2\", \"Topic2\", \"Topic2\", \"Topic2\", \"Topic2\", \"Topic2\", \"Topic2\", \"Topic2\", \"Topic2\", \"Topic2\", \"Topic2\", \"Topic2\", \"Topic2\", \"Topic2\", \"Topic2\", \"Topic2\", \"Topic2\", \"Topic2\", \"Topic2\", \"Topic2\", \"Topic2\", \"Topic2\", \"Topic2\", \"Topic2\", \"Topic2\", \"Topic3\", \"Topic3\", \"Topic3\", \"Topic3\", \"Topic3\", \"Topic3\", \"Topic3\", \"Topic3\", \"Topic3\", \"Topic3\", \"Topic3\", \"Topic3\", \"Topic3\", \"Topic3\", \"Topic3\", \"Topic3\", \"Topic3\", \"Topic3\", \"Topic3\", \"Topic3\", \"Topic3\", \"Topic3\", \"Topic3\", \"Topic3\", \"Topic3\", \"Topic3\", \"Topic3\", \"Topic3\", \"Topic3\", \"Topic3\", \"Topic3\", \"Topic3\", \"Topic3\", \"Topic3\", \"Topic3\", \"Topic3\", \"Topic3\", \"Topic3\", \"Topic3\", \"Topic3\", \"Topic3\", \"Topic3\", \"Topic3\"], \"logprob\": [30.0, 29.0, 28.0, 27.0, 26.0, 25.0, 24.0, 23.0, 22.0, 21.0, 20.0, 19.0, 18.0, 17.0, 16.0, 15.0, 14.0, 13.0, 12.0, 11.0, 10.0, 9.0, 8.0, 7.0, 6.0, 5.0, 4.0, 3.0, 2.0, 1.0, -4.6116, -5.2804, -4.6631, -3.8932, -4.0306, -5.4391, -4.8126, -5.4427, -5.5684, -3.8228, -4.3681, -4.5034, -4.5049, -5.3471, -4.5097, -5.4651, -5.467, -5.4696, -5.4713, -5.4705, -5.4705, -4.5177, -5.4715, -4.5186, -5.9357, -4.5195, -4.5212, -5.4744, -4.5227, -5.4762, -4.6647, -4.5292, -4.5348, -4.5358, -4.5412, -4.5435, -4.4596, -4.4686, -4.5067, -3.7068, -4.5295, -4.9717, -4.4582, -5.0797, -4.7747, -4.1923, -4.6579, -4.57, -4.9646, -4.759, -3.5111, -5.6257, -5.6324, -5.4133, -5.4118, -5.0982, -5.4336, -4.5665, -5.2496, -5.2667, -5.4531, -5.6734, -5.4537, -4.1532, -4.8276, -5.3546, -5.7506, -5.3557, -5.3952, -5.2652, -5.5996, -5.5789, -5.8081, -5.8225, -5.838, -5.2728, -3.7163, -4.9251, -3.8031, -4.5592, -5.3071, -3.4103, -3.6544, -4.4708, -4.7886, -3.861, -4.4039, -4.4014, -5.084, -4.8083, -4.8078, -4.5193, -4.636, -4.622, -4.5719, -4.7847, -4.6376, -5.0415, -5.1455, -4.9933, -4.9779, -5.0955, -4.3274, -4.3285, -4.2661, -4.269, -4.209, -4.1485, -4.1539, -4.1583, -4.1602, -4.1619, -5.2897, -5.292, -4.1547, -4.1619, -4.9993, -5.0036, -5.5875, -4.7748, -4.6924, -5.6384, -5.1101, -4.4129, -5.7026, -5.706, -4.6996, -5.3034, -5.502, -5.7433, -5.8018, -5.7981, -4.4521, -4.824, -4.2361, -4.6388, -4.1962, -4.3093, -3.9432, -4.3027, -4.5842, -4.7162, -4.9997, -4.851, -4.9016], \"loglift\": [30.0, 29.0, 28.0, 27.0, 26.0, 25.0, 24.0, 23.0, 22.0, 21.0, 20.0, 19.0, 18.0, 17.0, 16.0, 15.0, 14.0, 13.0, 12.0, 11.0, 10.0, 9.0, 8.0, 7.0, 6.0, 5.0, 4.0, 3.0, 2.0, 1.0, 0.6866, 0.6534, 0.6414, 0.6412, 0.6201, 0.6187, 0.6176, 0.6156, 0.6142, 0.6117, 0.6009, 0.5985, 0.5966, 0.5929, 0.5924, 0.5908, 0.5901, 0.5871, 0.5864, 0.586, 0.5859, 0.5853, 0.5852, 0.5847, 0.5844, 0.5838, 0.5824, 0.5818, 0.5811, 0.5807, 0.5784, 0.5744, 0.5701, 0.5691, 0.5645, 0.5624, 0.5557, 0.5483, 0.5479, 0.4865, 0.532, 0.511, 0.2906, 0.4655, 0.2784, -0.2297, -0.0379, -0.2371, 1.0726, 1.0333, 1.0123, 0.9898, 0.9841, 0.9833, 0.9831, 0.9685, 0.967, 0.9645, 0.9616, 0.9559, 0.9538, 0.9536, 0.9496, 0.9134, 0.8891, 0.887, 0.8834, 0.8736, 0.8539, 0.8359, 0.8347, 0.8346, 0.8332, 0.8258, 0.8192, 0.818, 0.8123, 0.8056, 0.7904, 0.7696, 0.7926, 0.5522, 0.5796, 0.6661, 0.7099, 0.472, 0.6067, 0.6053, 0.7545, 0.6021, 0.529, 0.2661, 0.239, 0.2097, 0.1492, 0.3353, 0.1112, 0.552, 0.6215, -0.3733, -0.7845, -0.0425, 1.4314, 1.4299, 1.4064, 1.4027, 1.3864, 1.3746, 1.3684, 1.3627, 1.3599, 1.3578, 1.3297, 1.3245, 1.2853, 1.2737, 1.2658, 1.2606, 1.2408, 1.2311, 1.2029, 1.1726, 1.1444, 1.144, 1.1086, 1.1063, 1.0903, 1.0837, 1.0597, 1.045, 1.0075, 0.9782, 0.971, 0.9528, 0.8674, 0.698, 0.4239, 0.4761, 0.2908, 0.4183, 0.5358, 0.4207, 0.7232, -0.518, -0.939]}, \"token.table\": {\"Topic\": [1, 2, 3, 1, 2, 1, 2, 3, 2, 3, 1, 2, 3, 1, 2, 3, 1, 2, 1, 2, 3, 2, 3, 2, 1, 2, 3, 1, 2, 3, 1, 2, 3, 1, 2, 3, 1, 2, 3, 1, 2, 3, 2, 3, 1, 2, 3, 1, 2, 3, 1, 3, 1, 2, 3, 1, 3, 1, 2, 3, 2, 3, 1, 2, 1, 2, 3, 2, 3, 2, 3, 2, 1, 2, 3, 2, 2, 3, 1, 2, 3, 1, 2, 3, 2, 3, 1, 2, 3, 2, 3, 1, 2, 3, 1, 2, 3, 1, 3, 2, 3, 1, 2, 3, 1, 2, 3, 1, 2, 3, 1, 2, 3, 1, 3, 1, 2, 3, 3, 1, 3, 2, 3, 1, 2, 3, 1, 2, 3, 2, 3, 1, 2, 3, 1, 2, 3, 1, 2, 3, 1, 3, 1, 3, 1, 2, 3, 1, 2, 3, 2, 3, 3, 1, 2, 3, 2, 3, 1, 2, 3, 2, 1, 2, 3, 1, 2, 2, 3, 1, 2, 3, 1, 2, 3, 1, 3, 2, 3, 2, 1, 2, 3, 1, 2, 3, 1, 2, 3, 2, 3, 2, 3, 1, 2, 3, 1, 2, 3, 1, 2, 3, 1, 2, 3, 2, 3, 1, 2, 3, 1, 2, 3, 1, 2, 3, 1, 2, 3, 1, 2, 3, 2, 3, 2, 3, 1, 2, 3, 1, 2, 3, 1, 2, 1, 2, 3, 1, 1, 2, 3, 1, 2, 3, 1, 2, 3, 1, 2, 3, 1, 3, 1, 2, 3, 1, 2, 1, 2, 3, 1, 2, 1, 2, 3, 1, 2, 3, 1, 2, 3, 2, 3, 1, 2, 3, 1, 2, 1, 2, 3, 1, 3, 1, 2, 3, 3, 1, 2, 3, 1, 2, 3, 2, 3, 1, 2, 3, 1, 2, 3, 2, 3, 1, 2, 3, 2, 3, 1, 3, 1, 2, 3, 1, 2, 3, 1, 2, 3, 1, 3], \"Freq\": [0.30123775572215433, 0.37654719465269293, 0.33889247518742366, 0.20456826359411892, 0.6137047907823568, 0.05707045090583455, 0.6277749599641801, 0.3424227054350073, 0.29758631594687845, 0.5951726318937569, 0.14946868236657088, 0.7473434118328544, 0.14946868236657088, 0.12361147937801199, 0.865280355646084, 0.030902869844502998, 0.1670974853286818, 0.8354874266434089, 0.37513342593010746, 0.6002134814881719, 0.07502668518602149, 0.807768688217209, 0.20194217205430226, 0.7597662366027801, 0.0839002618940354, 0.0839002618940354, 0.8390026189403541, 0.08368788212141318, 0.08368788212141318, 0.8368788212141317, 0.30181470317231207, 0.5533269558159054, 0.10060490105743736, 0.21435214880060582, 0.5358803720015146, 0.21435214880060582, 0.16834777617455685, 0.44892740313215157, 0.39281147774063263, 0.07727607845959124, 0.15455215691918248, 0.7727607845959124, 0.0975012818299013, 0.8775115364691117, 0.20669008674946224, 0.7234153036231178, 0.10334504337473112, 0.16387071218897964, 0.6554828487559186, 0.24580606828346946, 0.8604275960817944, 0.14340459934696573, 0.5047314120690014, 0.37854855905175105, 0.12618285301725035, 0.30391420886205384, 0.6078284177241077, 0.4392087026835192, 0.39528783241516724, 0.17568348107340767, 0.8451118860850113, 0.16902237721700228, 0.2550291696638287, 0.7650875089914861, 0.2702824027312164, 0.5405648054624328, 0.2702824027312164, 0.2372430162202098, 0.7117290486606294, 0.13609880584783204, 0.6804940292391601, 0.7518109040870022, 0.8817219329786734, 0.05510762081116709, 0.11021524162233418, 0.8032073454149186, 0.08372184190287084, 0.8372184190287083, 0.10965395095150403, 0.21930790190300806, 0.6579237057090241, 0.10254007528619162, 0.5127003764309581, 0.4101603011447665, 0.1062923270223325, 0.9566309432009925, 0.4415609666598507, 0.055195120832481334, 0.49675608749233197, 0.10625632191404137, 0.9563068972263723, 0.841741723484415, 0.07652197486221955, 0.07652197486221955, 0.8773735336686592, 0.03509494134674637, 0.1052848240402391, 0.8919019415203991, 0.12741456307434273, 0.17620601835987817, 0.7048240734395127, 0.7726476563343997, 0.17169947918542217, 0.08584973959271108, 0.8764242735987958, 0.028271750761251477, 0.11308700304500591, 0.8290807381732769, 0.05527204921155179, 0.11054409842310357, 0.8280293617922907, 0.05520195745281938, 0.11040391490563876, 0.8598781749556075, 0.1433130291592679, 0.14814156891368213, 0.7407078445684105, 0.14814156891368213, 0.75185168023686, 0.8583535237534351, 0.14305892062557252, 0.8099745014976643, 0.20249362537441606, 0.8277856506897674, 0.05518571004598449, 0.11037142009196899, 0.8819312476510801, 0.05512070297819251, 0.11024140595638501, 0.19922611318911543, 0.5976783395673463, 0.6297832445330831, 0.31489162226654155, 0.052481937044423596, 0.8409634377997784, 0.05256021486248615, 0.1051204297249723, 0.8275925898062768, 0.05517283932041845, 0.1103456786408369, 0.8592705644628127, 0.14321176074380212, 0.8588507134121387, 0.14314178556868978, 0.17448352181758767, 0.17448352181758767, 0.6979340872703507, 0.8586322497138493, 0.1431053749523082, 0.1431053749523082, 0.6265486959805784, 0.20884956532685944, 0.6194377028376233, 0.069700266549587, 0.557602132396696, 0.418201599297522, 0.8676931090777629, 0.14461551817962714, 0.1619513642816588, 0.5552618203942588, 0.3007668193802235, 0.7511214718276993, 0.37035944765946444, 0.5467210894020665, 0.08818082087130105, 0.25690072116917806, 0.7707021635075342, 0.7483464406915071, 0.2993385762766029, 0.24851553538876336, 0.7144821642426947, 0.06212888384719084, 0.2651416106608714, 0.6959967279847873, 0.06628540266521785, 0.859368008021734, 0.14322800133695565, 0.09026706040861036, 0.9026706040861037, 0.8425250067956902, 0.8251244958572842, 0.06347111506594494, 0.06347111506594494, 0.8098854024390364, 0.050617837652439775, 0.1518535129573193, 0.8299111979199709, 0.05532741319466473, 0.16598223958399416, 0.30442480401032024, 0.6088496080206405, 0.08397291453814017, 0.8397291453814016, 0.08379893949440767, 0.08379893949440767, 0.8379893949440766, 0.8279966337164683, 0.055199775581097885, 0.11039955116219577, 0.8813812377267743, 0.0550863273579234, 0.1101726547158468, 0.8064817166622003, 0.16129634333244006, 0.08064817166622003, 0.6942551484342097, 0.17356378710855241, 0.8085527455077284, 0.050534546594233024, 0.15160363978269906, 0.8291497099866876, 0.05527664733244584, 0.11055329466489168, 0.2074336090155403, 0.6914453633851344, 0.1382890726770269, 0.30447913782705155, 0.30447913782705155, 0.6089582756541031, 0.3039239811515111, 0.07598099528787777, 0.6078479623030222, 0.15388360185743813, 0.7694180092871906, 0.09742542199812272, 0.8768287979831044, 0.24093612665871797, 0.4015602110978633, 0.36140418998807694, 0.25872133667664127, 0.7761640100299237, 0.25872133667664127, 0.8864234362013964, 0.8045671155924347, 0.9059946514321645, 0.03124119487697119, 0.09372358463091357, 0.8600476547379102, 0.216463985917726, 0.216463985917726, 0.541159964794315, 0.08463266348751469, 0.8463266348751468, 0.16926532697502938, 0.17016197786975715, 0.6806479114790286, 0.17016197786975715, 0.12184161565361223, 0.24368323130722447, 0.7310496939216734, 0.3048266436605308, 0.6096532873210616, 0.6194299166242595, 0.34842932810114596, 0.03871436978901622, 0.9389162679825392, 0.06706544771303852, 0.08686159086828085, 0.1737231817365617, 0.6948927269462468, 0.8119795854863566, 0.16239591709727133, 0.8685160567389238, 0.048250892041051326, 0.09650178408210265, 0.8298286900178835, 0.0553219126678589, 0.1659657380035767, 0.1019170665134317, 0.7134194655940219, 0.1019170665134317, 0.8129518172814559, 0.20323795432036398, 0.3507307566335548, 0.5511483318527289, 0.10020878760958708, 0.10991493524630136, 0.8793194819704109, 0.910298820128266, 0.6890544800834874, 0.17226362002087184, 0.8590546106278326, 0.14317576843797208, 0.4424720004046149, 0.20421784634059148, 0.34036307723431913, 0.7540119752979254, 0.7775048028346055, 0.13328653762878953, 0.08885769175252635, 0.827838551537501, 0.05518923676916673, 0.11037847353833347, 0.7831243230235664, 0.2610414410078554, 0.3831573987119366, 0.4853327050351197, 0.12771913290397888, 0.23021024726774839, 0.6906307418032451, 0.11510512363387419, 0.1763625893395742, 0.7054503573582968, 0.15958086046597147, 0.7979043023298574, 0.05319362015532383, 0.29404419200247306, 0.5880883840049461, 0.8589375662870492, 0.14315626104784154, 0.7939234081241067, 0.052928227208273775, 0.15878468162482134, 0.8281751281847091, 0.05521167521231394, 0.11042335042462788, 0.8773071726257643, 0.0674851671250588, 0.0674851671250588, 0.8590054115541629, 0.14316756859236046], \"Term\": [\"101\", \"101\", \"101\", \"algorithms\", \"algorithms\", \"analysis\", \"analysis\", \"analysis\", \"analysis data\", \"analysis data\", \"analysis using\", \"analysis using\", \"analysis using\", \"analytics\", \"analytics\", \"analytics\", \"analytics 101\", \"analytics 101\", \"analyze\", \"analyze\", \"analyze\", \"analyzing\", \"analyzing\", \"analyzing data\", \"answers\", \"answers\", \"answers\", \"answers questions\", \"answers questions\", \"answers questions\", \"apache\", \"apache\", \"apache\", \"application\", \"application\", \"application\", \"applications\", \"applications\", \"applications\", \"approach\", \"approach\", \"approach\", \"approach data\", \"approach data\", \"apps\", \"apps\", \"apps\", \"basics\", \"basics\", \"basics\", \"bootcamp\", \"bootcamp\", \"build\", \"build\", \"build\", \"business problems\", \"business problems\", \"cloud\", \"cloud\", \"cloud\", \"cloud kubernetes\", \"cloud kubernetes\", \"complete\", \"complete\", \"computing\", \"computing\", \"computing\", \"container\", \"container\", \"containers\", \"containers\", \"control\", \"course image\", \"course image\", \"course image\", \"course learn\", \"course presents\", \"course presents\", \"create\", \"create\", \"create\", \"data analysis\", \"data analysis\", \"data analysis\", \"data answers\", \"data answers\", \"data course\", \"data course\", \"data course\", \"data matters\", \"data matters\", \"data networks\", \"data networks\", \"data networks\", \"data science\", \"data science\", \"data science\", \"data types\", \"data types\", \"data visualization\", \"data visualization\", \"databases\", \"databases\", \"databases\", \"description\", \"description\", \"description\", \"description taken\", \"description taken\", \"description taken\", \"description used\", \"description used\", \"description used\", \"discovering structures\", \"discovering structures\", \"distributed\", \"distributed\", \"distributed\", \"docker\", \"easily capture\", \"easily capture\", \"focus\", \"focus\", \"frontend\", \"frontend\", \"frontend\", \"frontend course\", \"frontend course\", \"frontend course\", \"functions\", \"functions\", \"hadoop\", \"hadoop\", \"hadoop\", \"image\", \"image\", \"image\", \"image provide\", \"image provide\", \"image provide\", \"images\", \"images\", \"images sound\", \"images sound\", \"including\", \"including\", \"including\", \"instance images\", \"instance images\", \"instance images\", \"istio\", \"istio\", \"journey\", \"kubernetes\", \"kubernetes\", \"kubernetes\", \"kubernetes service\", \"kubernetes service\", \"learn\", \"learn\", \"learn\", \"learn topic\", \"learning\", \"learning\", \"learning\", \"learning course\", \"learning course\", \"like\", \"like\", \"machine\", \"machine\", \"machine\", \"machine learning\", \"machine learning\", \"machine learning\", \"majority\", \"majority\", \"matters\", \"matters\", \"media\", \"networks\", \"networks\", \"networks\", \"one\", \"one\", \"one\", \"one used\", \"one used\", \"one used\", \"patterns\", \"patterns\", \"presents\", \"presents\", \"presents approach\", \"presents approach\", \"presents approach\", \"press\", \"press\", \"press\", \"press frontend\", \"press frontend\", \"press frontend\", \"processing\", \"processing\", \"processing\", \"projects\", \"projects\", \"provide\", \"provide\", \"provide\", \"provide one\", \"provide one\", \"provide one\", \"provides\", \"provides\", \"provides\", \"providing\", \"providing\", \"providing\", \"python\", \"python\", \"python\", \"questions\", \"questions\", \"questions data\", \"questions data\", \"r\", \"r\", \"r\", \"recognize\", \"recognize\", \"recognize\", \"scala\", \"scale\", \"science\", \"science\", \"science\", \"science bootcamp\", \"search\", \"search\", \"search\", \"service\", \"service\", \"service\", \"services\", \"services\", \"services\", \"solr\", \"solr\", \"solr\", \"solr 101\", \"solr 101\", \"spark\", \"spark\", \"spark\", \"sql\", \"sql\", \"statistics\", \"statistics\", \"statistics\", \"students\", \"students\", \"taken\", \"taken\", \"taken\", \"taken word\", \"taken word\", \"taken word\", \"teaches\", \"teaches\", \"teaches\", \"teaches basics\", \"teaches basics\", \"text\", \"text\", \"text\", \"text analytics\", \"text analytics\", \"times\", \"topic\", \"topic\", \"types solve\", \"types solve\", \"use\", \"use\", \"use\", \"use data\", \"used\", \"used\", \"used\", \"used description\", \"used description\", \"used description\", \"uses\", \"uses\", \"using\", \"using\", \"using\", \"using r\", \"using r\", \"using r\", \"visualization\", \"visualization\", \"watson\", \"watson\", \"watson\", \"way\", \"way\", \"within data\", \"within data\", \"word\", \"word\", \"word\", \"word press\", \"word press\", \"word press\", \"world\", \"world\", \"world\", \"world data\", \"world data\"]}, \"R\": 30, \"lambda.step\": 0.01, \"plot.opts\": {\"xlab\": \"PC1\", \"ylab\": \"PC2\"}, \"topic.order\": [3, 2, 1]};\n",
       "\n",
       "function LDAvis_load_lib(url, callback){\n",
       "  var s = document.createElement('script');\n",
       "  s.src = url;\n",
       "  s.async = true;\n",
       "  s.onreadystatechange = s.onload = callback;\n",
       "  s.onerror = function(){console.warn(\"failed to load library \" + url);};\n",
       "  document.getElementsByTagName(\"head\")[0].appendChild(s);\n",
       "}\n",
       "\n",
       "if(typeof(LDAvis) !== \"undefined\"){\n",
       "   // already loaded: just create the visualization\n",
       "   !function(LDAvis){\n",
       "       new LDAvis(\"#\" + \"ldavis_el1201626258572894563960187825\", ldavis_el1201626258572894563960187825_data);\n",
       "   }(LDAvis);\n",
       "}else if(typeof define === \"function\" && define.amd){\n",
       "   // require.js is available: use it to load d3/LDAvis\n",
       "   require.config({paths: {d3: \"https://d3js.org/d3.v5\"}});\n",
       "   require([\"d3\"], function(d3){\n",
       "      window.d3 = d3;\n",
       "      LDAvis_load_lib(\"https://cdn.jsdelivr.net/gh/bmabey/pyLDAvis@3.3.1/pyLDAvis/js/ldavis.v3.0.0.js\", function(){\n",
       "        new LDAvis(\"#\" + \"ldavis_el1201626258572894563960187825\", ldavis_el1201626258572894563960187825_data);\n",
       "      });\n",
       "    });\n",
       "}else{\n",
       "    // require.js not available: dynamically load d3 & LDAvis\n",
       "    LDAvis_load_lib(\"https://d3js.org/d3.v5.js\", function(){\n",
       "         LDAvis_load_lib(\"https://cdn.jsdelivr.net/gh/bmabey/pyLDAvis@3.3.1/pyLDAvis/js/ldavis.v3.0.0.js\", function(){\n",
       "                 new LDAvis(\"#\" + \"ldavis_el1201626258572894563960187825\", ldavis_el1201626258572894563960187825_data);\n",
       "            })\n",
       "         });\n",
       "}\n",
       "</script>"
      ],
      "text/plain": [
       "PreparedData(topic_coordinates=              x         y  topics  cluster       Freq\n",
       "topic                                                \n",
       "2      0.126484 -0.033888       1        1  47.272962\n",
       "1     -0.103387 -0.063135       2        1  31.062457\n",
       "0     -0.023098  0.097023       3        1  21.664581, topic_info=                  Term       Freq      Total Category  logprob  loglift\n",
       "214          analytics  32.000000  32.000000  Default  30.0000  30.0000\n",
       "85               learn  43.000000  43.000000  Default  29.0000  29.0000\n",
       "180           presents  11.000000  11.000000  Default  28.0000  28.0000\n",
       "172            answers  11.000000  11.000000  Default  27.0000  27.0000\n",
       "181  presents approach  11.000000  11.000000  Default  26.0000  26.0000\n",
       "..                 ...        ...        ...      ...      ...      ...\n",
       "145       applications   6.596967  17.820253   Topic3  -4.5842   0.5358\n",
       "213           analysis   5.781635  17.522203   Topic3  -4.7162   0.4207\n",
       "281      data analysis   4.354324   9.752285   Topic3  -4.9997   0.7232\n",
       "76               using   5.052568  39.148402   Topic3  -4.8510  -0.5180\n",
       "28            learning   4.803133  56.701672   Topic3  -4.9016  -0.9390\n",
       "\n",
       "[175 rows x 6 columns], token_table=      Topic      Freq        Term\n",
       "term                             \n",
       "225       1  0.301238         101\n",
       "225       2  0.376547         101\n",
       "225       3  0.338892         101\n",
       "227       1  0.204568  algorithms\n",
       "227       2  0.613705  algorithms\n",
       "...     ...       ...         ...\n",
       "54        1  0.877307       world\n",
       "54        2  0.067485       world\n",
       "54        3  0.067485       world\n",
       "55        1  0.859005  world data\n",
       "55        3  0.143168  world data\n",
       "\n",
       "[321 rows x 3 columns], R=30, lambda_step=0.01, plot_opts={'xlab': 'PC1', 'ylab': 'PC2'}, topic_order=[3, 2, 1])"
      ]
     },
     "execution_count": 24,
     "metadata": {},
     "output_type": "execute_result"
    }
   ],
   "source": [
    "pyLDAvis.enable_notebook()\n",
    "vis = gensimvis.prepare(lda_allbow, bow_corpus, dictionary)\n",
    "vis"
   ]
  }
 ],
 "metadata": {
  "kernelspec": {
   "display_name": "Python 3",
   "language": "python",
   "name": "python3"
  },
  "language_info": {
   "codemirror_mode": {
    "name": "ipython",
    "version": 3
   },
   "file_extension": ".py",
   "mimetype": "text/x-python",
   "name": "python",
   "nbconvert_exporter": "python",
   "pygments_lexer": "ipython3",
   "version": "3.8.8"
  }
 },
 "nbformat": 4,
 "nbformat_minor": 5
}
