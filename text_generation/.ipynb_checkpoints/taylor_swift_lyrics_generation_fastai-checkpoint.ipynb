{
 "cells": [
  {
   "cell_type": "code",
   "execution_count": 1,
   "metadata": {
    "colab": {
     "base_uri": "https://localhost:8080/"
    },
    "id": "o2KJIiA7poF1",
    "outputId": "fb0e812b-3b81-4e65-9e94-cd701f1ca82d"
   },
   "outputs": [
    {
     "name": "stdout",
     "output_type": "stream",
     "text": [
      "Mounted at /content/drive\n",
      "Collecting fastai==2.3.1\n",
      "\u001b[?25l  Downloading https://files.pythonhosted.org/packages/e8/79/e8a87e4c20238e114671314426227db8647d2b42744eab79e0917c59865e/fastai-2.3.1-py3-none-any.whl (194kB)\n",
      "\u001b[K     |████████████████████████████████| 204kB 8.3MB/s \n",
      "\u001b[?25hRequirement already satisfied: scipy in /usr/local/lib/python3.7/dist-packages (from fastai==2.3.1) (1.4.1)\n",
      "Requirement already satisfied: spacy<4 in /usr/local/lib/python3.7/dist-packages (from fastai==2.3.1) (2.2.4)\n",
      "Requirement already satisfied: matplotlib in /usr/local/lib/python3.7/dist-packages (from fastai==2.3.1) (3.2.2)\n",
      "Requirement already satisfied: pandas in /usr/local/lib/python3.7/dist-packages (from fastai==2.3.1) (1.1.5)\n",
      "Requirement already satisfied: pyyaml in /usr/local/lib/python3.7/dist-packages (from fastai==2.3.1) (3.13)\n",
      "Requirement already satisfied: fastprogress>=0.2.4 in /usr/local/lib/python3.7/dist-packages (from fastai==2.3.1) (1.0.0)\n",
      "Requirement already satisfied: requests in /usr/local/lib/python3.7/dist-packages (from fastai==2.3.1) (2.23.0)\n",
      "Requirement already satisfied: pip in /usr/local/lib/python3.7/dist-packages (from fastai==2.3.1) (19.3.1)\n",
      "Requirement already satisfied: scikit-learn in /usr/local/lib/python3.7/dist-packages (from fastai==2.3.1) (0.22.2.post1)\n",
      "Collecting torch<1.9,>=1.7.0\n",
      "\u001b[?25l  Downloading https://files.pythonhosted.org/packages/56/74/6fc9dee50f7c93d6b7d9644554bdc9692f3023fa5d1de779666e6bf8ae76/torch-1.8.1-cp37-cp37m-manylinux1_x86_64.whl (804.1MB)\n",
      "\u001b[K     |████████████████████████████████| 804.1MB 21kB/s \n",
      "\u001b[?25hRequirement already satisfied: torchvision>=0.8.2 in /usr/local/lib/python3.7/dist-packages (from fastai==2.3.1) (0.10.0+cu102)\n",
      "Requirement already satisfied: pillow>6.0.0 in /usr/local/lib/python3.7/dist-packages (from fastai==2.3.1) (7.1.2)\n",
      "Collecting fastcore<1.4,>=1.3.8\n",
      "\u001b[?25l  Downloading https://files.pythonhosted.org/packages/d8/b0/f1fbf554e0bf3c76e1bdc3b82eedfe41fcf656479586be38c64421082b1b/fastcore-1.3.20-py3-none-any.whl (53kB)\n",
      "\u001b[K     |████████████████████████████████| 61kB 9.2MB/s \n",
      "\u001b[?25hRequirement already satisfied: packaging in /usr/local/lib/python3.7/dist-packages (from fastai==2.3.1) (21.0)\n",
      "Requirement already satisfied: numpy>=1.13.3 in /usr/local/lib/python3.7/dist-packages (from scipy->fastai==2.3.1) (1.19.5)\n",
      "Requirement already satisfied: setuptools in /usr/local/lib/python3.7/dist-packages (from spacy<4->fastai==2.3.1) (57.2.0)\n",
      "Requirement already satisfied: blis<0.5.0,>=0.4.0 in /usr/local/lib/python3.7/dist-packages (from spacy<4->fastai==2.3.1) (0.4.1)\n",
      "Requirement already satisfied: cymem<2.1.0,>=2.0.2 in /usr/local/lib/python3.7/dist-packages (from spacy<4->fastai==2.3.1) (2.0.5)\n",
      "Requirement already satisfied: tqdm<5.0.0,>=4.38.0 in /usr/local/lib/python3.7/dist-packages (from spacy<4->fastai==2.3.1) (4.41.1)\n",
      "Requirement already satisfied: srsly<1.1.0,>=1.0.2 in /usr/local/lib/python3.7/dist-packages (from spacy<4->fastai==2.3.1) (1.0.5)\n",
      "Requirement already satisfied: catalogue<1.1.0,>=0.0.7 in /usr/local/lib/python3.7/dist-packages (from spacy<4->fastai==2.3.1) (1.0.0)\n",
      "Requirement already satisfied: thinc==7.4.0 in /usr/local/lib/python3.7/dist-packages (from spacy<4->fastai==2.3.1) (7.4.0)\n",
      "Requirement already satisfied: wasabi<1.1.0,>=0.4.0 in /usr/local/lib/python3.7/dist-packages (from spacy<4->fastai==2.3.1) (0.8.2)\n",
      "Requirement already satisfied: preshed<3.1.0,>=3.0.2 in /usr/local/lib/python3.7/dist-packages (from spacy<4->fastai==2.3.1) (3.0.5)\n",
      "Requirement already satisfied: murmurhash<1.1.0,>=0.28.0 in /usr/local/lib/python3.7/dist-packages (from spacy<4->fastai==2.3.1) (1.0.5)\n",
      "Requirement already satisfied: plac<1.2.0,>=0.9.6 in /usr/local/lib/python3.7/dist-packages (from spacy<4->fastai==2.3.1) (1.1.3)\n",
      "Requirement already satisfied: kiwisolver>=1.0.1 in /usr/local/lib/python3.7/dist-packages (from matplotlib->fastai==2.3.1) (1.3.1)\n",
      "Requirement already satisfied: pyparsing!=2.0.4,!=2.1.2,!=2.1.6,>=2.0.1 in /usr/local/lib/python3.7/dist-packages (from matplotlib->fastai==2.3.1) (2.4.7)\n",
      "Requirement already satisfied: cycler>=0.10 in /usr/local/lib/python3.7/dist-packages (from matplotlib->fastai==2.3.1) (0.10.0)\n",
      "Requirement already satisfied: python-dateutil>=2.1 in /usr/local/lib/python3.7/dist-packages (from matplotlib->fastai==2.3.1) (2.8.1)\n",
      "Requirement already satisfied: pytz>=2017.2 in /usr/local/lib/python3.7/dist-packages (from pandas->fastai==2.3.1) (2018.9)\n",
      "Requirement already satisfied: chardet<4,>=3.0.2 in /usr/local/lib/python3.7/dist-packages (from requests->fastai==2.3.1) (3.0.4)\n",
      "Requirement already satisfied: idna<3,>=2.5 in /usr/local/lib/python3.7/dist-packages (from requests->fastai==2.3.1) (2.10)\n",
      "Requirement already satisfied: urllib3!=1.25.0,!=1.25.1,<1.26,>=1.21.1 in /usr/local/lib/python3.7/dist-packages (from requests->fastai==2.3.1) (1.24.3)\n",
      "Requirement already satisfied: certifi>=2017.4.17 in /usr/local/lib/python3.7/dist-packages (from requests->fastai==2.3.1) (2021.5.30)\n",
      "Requirement already satisfied: joblib>=0.11 in /usr/local/lib/python3.7/dist-packages (from scikit-learn->fastai==2.3.1) (1.0.1)\n",
      "Requirement already satisfied: typing-extensions in /usr/local/lib/python3.7/dist-packages (from torch<1.9,>=1.7.0->fastai==2.3.1) (3.7.4.3)\n",
      "Requirement already satisfied: importlib-metadata>=0.20; python_version < \"3.8\" in /usr/local/lib/python3.7/dist-packages (from catalogue<1.1.0,>=0.0.7->spacy<4->fastai==2.3.1) (4.6.1)\n",
      "Requirement already satisfied: six in /usr/local/lib/python3.7/dist-packages (from cycler>=0.10->matplotlib->fastai==2.3.1) (1.15.0)\n",
      "Requirement already satisfied: zipp>=0.5 in /usr/local/lib/python3.7/dist-packages (from importlib-metadata>=0.20; python_version < \"3.8\"->catalogue<1.1.0,>=0.0.7->spacy<4->fastai==2.3.1) (3.5.0)\n",
      "\u001b[31mERROR: torchvision 0.10.0+cu102 has requirement torch==1.9.0, but you'll have torch 1.8.1 which is incompatible.\u001b[0m\n",
      "\u001b[31mERROR: torchtext 0.10.0 has requirement torch==1.9.0, but you'll have torch 1.8.1 which is incompatible.\u001b[0m\n",
      "Installing collected packages: torch, fastcore, fastai\n",
      "  Found existing installation: torch 1.9.0+cu102\n",
      "    Uninstalling torch-1.9.0+cu102:\n",
      "      Successfully uninstalled torch-1.9.0+cu102\n",
      "  Found existing installation: fastai 1.0.61\n",
      "    Uninstalling fastai-1.0.61:\n",
      "      Successfully uninstalled fastai-1.0.61\n",
      "Successfully installed fastai-2.3.1 fastcore-1.3.20 torch-1.8.1\n"
     ]
    }
   ],
   "source": [
    "#Please select GPU first (from Edit->NotebookSetting)\n",
    "import pandas as pd\n",
    "import numpy as np\n",
    "import io\n",
    "import os\n",
    "import re\n",
    "from google.colab import drive\n",
    "drive.mount('/content/drive')\n",
    "!pip install fastai==2.3.1\n",
    "from fastai.text.all import *\n",
    "path = '/content/drive/MyDrive/colab_data'"
   ]
  },
  {
   "cell_type": "code",
   "execution_count": 2,
   "metadata": {
    "id": "3xsHRXy7p2uS"
   },
   "outputs": [],
   "source": [
    "dataset = pd.read_csv(os.path.join(path, \"taylor_swift_lyrics.csv\"), encoding= 'unicode_escape')"
   ]
  },
  {
   "cell_type": "code",
   "execution_count": 3,
   "metadata": {
    "colab": {
     "base_uri": "https://localhost:8080/",
     "height": 244
    },
    "id": "0y5cTXrXp9Gy",
    "outputId": "2a09eb51-7b73-47d1-ea4a-8fa6794105a7"
   },
   "outputs": [
    {
     "data": {
      "text/html": [
       "<div>\n",
       "<style scoped>\n",
       "    .dataframe tbody tr th:only-of-type {\n",
       "        vertical-align: middle;\n",
       "    }\n",
       "\n",
       "    .dataframe tbody tr th {\n",
       "        vertical-align: top;\n",
       "    }\n",
       "\n",
       "    .dataframe thead th {\n",
       "        text-align: right;\n",
       "    }\n",
       "</style>\n",
       "<table border=\"1\" class=\"dataframe\">\n",
       "  <thead>\n",
       "    <tr style=\"text-align: right;\">\n",
       "      <th></th>\n",
       "      <th>songID</th>\n",
       "      <th>songName</th>\n",
       "      <th>lyrics</th>\n",
       "    </tr>\n",
       "  </thead>\n",
       "  <tbody>\n",
       "    <tr>\n",
       "      <th>0</th>\n",
       "      <td>200601</td>\n",
       "      <td>Tim McGraw</td>\n",
       "      <td>He said the way my blue eyes shined.\\nPut those Georgia stars to shame that night.\\nI said, \"That's a lie\".\\nJust a boy in a Chevy truck.\\nThat had a tendency of gettin' stuck.\\nOn backroads at night.\\nAnd I was right there beside him all summer long.\\nAnd then the time we woke up to find that summer gone.\\nBut when you think Tim McGraw.\\nI hope you think my favorite song.\\nThe one we danced to all night long.\\nThe moon like a spotlight on the lake.\\nWhen you think happiness.\\nI hope you think that little black dress.\\nThink of my head on your chest.\\nAnd my old faded blue jeans.\\nWhen you...</td>\n",
       "    </tr>\n",
       "    <tr>\n",
       "      <th>1</th>\n",
       "      <td>200602</td>\n",
       "      <td>Picture To Burn</td>\n",
       "      <td>State the obvious, I didn't get my perfect fantasy.\\nI realize you love yourself more than you could ever love me.\\nSo go and tell your friends that I'm obsessive and crazy.\\nThat's fine, I'll tell mine that you're gay.\\nBy the way.\\nI hate that stupid old pickup truck.\\nYou never let me drive.\\nYou're a redneck heartbreak.\\nWho's really bad at lying.\\nSo watch me strike a match.\\nOn all my wasted time.\\nAs far as I'm concerned you're.\\nJust another picture to burn.\\nThere's no time for tears.\\nI'm just sitting here planning my revenge.\\nThere's nothing stopping me.\\nFrom going out with al...</td>\n",
       "    </tr>\n",
       "    <tr>\n",
       "      <th>2</th>\n",
       "      <td>200603</td>\n",
       "      <td>Teardrops On My Guitar</td>\n",
       "      <td>Drew looks at me.\\nI fake a smile so he won't see.\\nThat I want and I'm needing.\\nEverything that we should be.\\nI'll bet she's beautiful, that girl he talks about.\\nAnd she's got everything that I have to live without.\\nDrew talks to me.\\nI laugh 'cause it's so damn funny.\\nThat I can't even see.\\nAnyone when he's with me.\\nHe says he's so in love, he's finally got it right.\\nI wonder if he knows he's all I think about at night.\\nHe's the reason for the teardrops on my guitar.\\nThe only thing that keeps me wishing on a wishing star.\\nHe's the song in the car.\\nI keep singing, don't know w...</td>\n",
       "    </tr>\n",
       "  </tbody>\n",
       "</table>\n",
       "</div>"
      ],
      "text/plain": [
       "   songID  ...                                                                                                                                                                                                                                                                                                                                                                                                                                                                                                                                                                                                                   lyrics\n",
       "0  200601  ...  He said the way my blue eyes shined.\\nPut those Georgia stars to shame that night.\\nI said, \"That's a lie\".\\nJust a boy in a Chevy truck.\\nThat had a tendency of gettin' stuck.\\nOn backroads at night.\\nAnd I was right there beside him all summer long.\\nAnd then the time we woke up to find that summer gone.\\nBut when you think Tim McGraw.\\nI hope you think my favorite song.\\nThe one we danced to all night long.\\nThe moon like a spotlight on the lake.\\nWhen you think happiness.\\nI hope you think that little black dress.\\nThink of my head on your chest.\\nAnd my old faded blue jeans.\\nWhen you...\n",
       "1  200602  ...  State the obvious, I didn't get my perfect fantasy.\\nI realize you love yourself more than you could ever love me.\\nSo go and tell your friends that I'm obsessive and crazy.\\nThat's fine, I'll tell mine that you're gay.\\nBy the way.\\nI hate that stupid old pickup truck.\\nYou never let me drive.\\nYou're a redneck heartbreak.\\nWho's really bad at lying.\\nSo watch me strike a match.\\nOn all my wasted time.\\nAs far as I'm concerned you're.\\nJust another picture to burn.\\nThere's no time for tears.\\nI'm just sitting here planning my revenge.\\nThere's nothing stopping me.\\nFrom going out with al...\n",
       "2  200603  ...  Drew looks at me.\\nI fake a smile so he won't see.\\nThat I want and I'm needing.\\nEverything that we should be.\\nI'll bet she's beautiful, that girl he talks about.\\nAnd she's got everything that I have to live without.\\nDrew talks to me.\\nI laugh 'cause it's so damn funny.\\nThat I can't even see.\\nAnyone when he's with me.\\nHe says he's so in love, he's finally got it right.\\nI wonder if he knows he's all I think about at night.\\nHe's the reason for the teardrops on my guitar.\\nThe only thing that keeps me wishing on a wishing star.\\nHe's the song in the car.\\nI keep singing, don't know w...\n",
       "\n",
       "[3 rows x 3 columns]"
      ]
     },
     "execution_count": 3,
     "metadata": {
      "tags": []
     },
     "output_type": "execute_result"
    }
   ],
   "source": [
    "def processFirstLine(lyrics, songID, songName, row):\n",
    "    lyrics.append(row['lyric'] + '.\\n')\n",
    "    songID.append( row['year']*100+ row['track_n'])\n",
    "    songName.append(row['track_title'])\n",
    "    return lyrics,songID,songName\n",
    "# define empty lists for the lyrics , songID , songName \n",
    "lyrics = []\n",
    "songID = []\n",
    "songName = []\n",
    "\n",
    "# songNumber indicates the song number in the dataset\n",
    "songNumber = 1\n",
    "\n",
    "# i indicates the song number\n",
    "i = 0\n",
    "isFirstLine = True\n",
    "\n",
    "# Iterate through every lyrics line and join them together for each song independently \n",
    "for index,row in dataset.iterrows():\n",
    "    if(songNumber == row['track_n']):\n",
    "        if (isFirstLine):\n",
    "            lyrics,songID,songName = processFirstLine(lyrics,songID,songName,row)\n",
    "            isFirstLine = False\n",
    "        else :\n",
    "            #if we still in the same song , keep joining the lyrics lines    \n",
    "            lyrics[i] +=  row['lyric'] + '.\\n'\n",
    "    #When it's done joining a song's lyrics lines , go to the next song :    \n",
    "    else :\n",
    "        lyrics,songID,songName = processFirstLine(lyrics,songID,songName,row)\n",
    "        songNumber = row['track_n']\n",
    "        i+=1\n",
    "\n",
    "# Define a new pandas DataFrame to save songID , songName , Lyrics in it to use them later\n",
    "lyrics_data = pd.DataFrame({'songID':songID, 'songName':songName, 'lyrics':lyrics })\n",
    "lyrics_data.head(3)"
   ]
  },
  {
   "cell_type": "code",
   "execution_count": 4,
   "metadata": {
    "colab": {
     "base_uri": "https://localhost:8080/",
     "height": 233
    },
    "id": "xXxmVoVoqFuz",
    "outputId": "eabd8adb-b1ed-43b9-a91e-1a73e38cc334"
   },
   "outputs": [
    {
     "data": {
      "text/html": [],
      "text/plain": [
       "<IPython.core.display.HTML object>"
      ]
     },
     "metadata": {
      "tags": []
     },
     "output_type": "display_data"
    },
    {
     "name": "stderr",
     "output_type": "stream",
     "text": [
      "/usr/local/lib/python3.7/dist-packages/numpy/core/_asarray.py:83: VisibleDeprecationWarning: Creating an ndarray from ragged nested sequences (which is a list-or-tuple of lists-or-tuples-or ndarrays with different lengths or shapes) is deprecated. If you meant to do this, you must specify 'dtype=object' when creating the ndarray\n",
      "  return array(a, dtype, copy=False, order=order)\n"
     ]
    },
    {
     "data": {
      "text/html": [
       "<table border=\"1\" class=\"dataframe\">\n",
       "  <thead>\n",
       "    <tr style=\"text-align: right;\">\n",
       "      <th></th>\n",
       "      <th>text</th>\n",
       "      <th>text_</th>\n",
       "    </tr>\n",
       "  </thead>\n",
       "  <tbody>\n",
       "    <tr>\n",
       "      <th>0</th>\n",
       "      <td>xxbos xxmaj people like you always want back . \\n xxmaj the love they gave away . \\n xxmaj and people like me wanna believe you . \\n xxmaj when you say you 've changed . \\n xxmaj the more i think about it now . \\n xxmaj the less i know . \\n xxmaj all i know is that you xxunk us . \\n xxmaj off the road . \\n (</td>\n",
       "      <td>xxmaj people like you always want back . \\n xxmaj the love they gave away . \\n xxmaj and people like me wanna believe you . \\n xxmaj when you say you 've changed . \\n xxmaj the more i think about it now . \\n xxmaj the less i know . \\n xxmaj all i know is that you xxunk us . \\n xxmaj off the road . \\n ( stay</td>\n",
       "    </tr>\n",
       "    <tr>\n",
       "      <th>1</th>\n",
       "      <td>) . xxbos xxmaj looking at it now . \\n xxmaj it all seems so simple . \\n xxmaj we were lying on your xxunk . \\n i remember . \\n xxmaj you took a xxmaj xxunk of us . \\n xxmaj then xxunk ( then xxunk ) . \\n xxmaj the rest of the world was black and white . \\n xxmaj but we were in screaming xxunk . \\n xxmaj</td>\n",
       "      <td>. xxbos xxmaj looking at it now . \\n xxmaj it all seems so simple . \\n xxmaj we were lying on your xxunk . \\n i remember . \\n xxmaj you took a xxmaj xxunk of us . \\n xxmaj then xxunk ( then xxunk ) . \\n xxmaj the rest of the world was black and white . \\n xxmaj but we were in screaming xxunk . \\n xxmaj and</td>\n",
       "    </tr>\n",
       "  </tbody>\n",
       "</table>"
      ],
      "text/plain": [
       "<IPython.core.display.HTML object>"
      ]
     },
     "metadata": {
      "tags": []
     },
     "output_type": "display_data"
    }
   ],
   "source": [
    "dls_lm = TextDataLoaders.from_df(lyrics_data, text_col='lyrics', is_lm=True, valid_pct=0.1)\n",
    "dls_lm.show_batch(max_n=2)"
   ]
  },
  {
   "cell_type": "code",
   "execution_count": 5,
   "metadata": {
    "colab": {
     "base_uri": "https://localhost:8080/",
     "height": 17
    },
    "id": "4bR2L6I0qMzo",
    "outputId": "d86f377e-33dc-407c-fc30-87d98f465dd8"
   },
   "outputs": [
    {
     "data": {
      "text/html": [],
      "text/plain": [
       "<IPython.core.display.HTML object>"
      ]
     },
     "metadata": {
      "tags": []
     },
     "output_type": "display_data"
    }
   ],
   "source": [
    "learn = language_model_learner(dls_lm, AWD_LSTM, drop_mult = 0.3, metrics=[accuracy, Perplexity()]).to_fp16()"
   ]
  },
  {
   "cell_type": "code",
   "execution_count": 7,
   "metadata": {
    "colab": {
     "base_uri": "https://localhost:8080/",
     "height": 359
    },
    "id": "Hwks-VJ5qOmg",
    "outputId": "bdeb4db6-90f5-4c48-cd0c-de51f1e6d251"
   },
   "outputs": [
    {
     "data": {
      "text/html": [
       "<table border=\"1\" class=\"dataframe\">\n",
       "  <thead>\n",
       "    <tr style=\"text-align: left;\">\n",
       "      <th>epoch</th>\n",
       "      <th>train_loss</th>\n",
       "      <th>valid_loss</th>\n",
       "      <th>accuracy</th>\n",
       "      <th>perplexity</th>\n",
       "      <th>time</th>\n",
       "    </tr>\n",
       "  </thead>\n",
       "  <tbody>\n",
       "    <tr>\n",
       "      <td>0</td>\n",
       "      <td>2.488584</td>\n",
       "      <td>3.203055</td>\n",
       "      <td>0.384006</td>\n",
       "      <td>24.607601</td>\n",
       "      <td>00:01</td>\n",
       "    </tr>\n",
       "    <tr>\n",
       "      <td>1</td>\n",
       "      <td>2.424997</td>\n",
       "      <td>3.137845</td>\n",
       "      <td>0.376194</td>\n",
       "      <td>23.054121</td>\n",
       "      <td>00:01</td>\n",
       "    </tr>\n",
       "    <tr>\n",
       "      <td>2</td>\n",
       "      <td>2.296205</td>\n",
       "      <td>3.152558</td>\n",
       "      <td>0.389974</td>\n",
       "      <td>23.395842</td>\n",
       "      <td>00:01</td>\n",
       "    </tr>\n",
       "    <tr>\n",
       "      <td>3</td>\n",
       "      <td>2.139428</td>\n",
       "      <td>3.222800</td>\n",
       "      <td>0.390842</td>\n",
       "      <td>25.098297</td>\n",
       "      <td>00:01</td>\n",
       "    </tr>\n",
       "    <tr>\n",
       "      <td>4</td>\n",
       "      <td>1.967173</td>\n",
       "      <td>3.319697</td>\n",
       "      <td>0.378472</td>\n",
       "      <td>27.651968</td>\n",
       "      <td>00:01</td>\n",
       "    </tr>\n",
       "    <tr>\n",
       "      <td>5</td>\n",
       "      <td>1.802038</td>\n",
       "      <td>3.374911</td>\n",
       "      <td>0.373047</td>\n",
       "      <td>29.221691</td>\n",
       "      <td>00:01</td>\n",
       "    </tr>\n",
       "    <tr>\n",
       "      <td>6</td>\n",
       "      <td>1.645468</td>\n",
       "      <td>3.490023</td>\n",
       "      <td>0.378364</td>\n",
       "      <td>32.786705</td>\n",
       "      <td>00:01</td>\n",
       "    </tr>\n",
       "    <tr>\n",
       "      <td>7</td>\n",
       "      <td>1.512336</td>\n",
       "      <td>3.530241</td>\n",
       "      <td>0.372721</td>\n",
       "      <td>34.132175</td>\n",
       "      <td>00:01</td>\n",
       "    </tr>\n",
       "    <tr>\n",
       "      <td>8</td>\n",
       "      <td>1.399507</td>\n",
       "      <td>3.569285</td>\n",
       "      <td>0.371962</td>\n",
       "      <td>35.491203</td>\n",
       "      <td>00:01</td>\n",
       "    </tr>\n",
       "    <tr>\n",
       "      <td>9</td>\n",
       "      <td>1.317827</td>\n",
       "      <td>3.559861</td>\n",
       "      <td>0.373047</td>\n",
       "      <td>35.158298</td>\n",
       "      <td>00:01</td>\n",
       "    </tr>\n",
       "  </tbody>\n",
       "</table>"
      ],
      "text/plain": [
       "<IPython.core.display.HTML object>"
      ]
     },
     "metadata": {
      "tags": []
     },
     "output_type": "display_data"
    }
   ],
   "source": [
    "learn.unfreeze()\n",
    "learn.fit_one_cycle(10, 1e-3) "
   ]
  },
  {
   "cell_type": "code",
   "execution_count": 9,
   "metadata": {
    "colab": {
     "base_uri": "https://localhost:8080/",
     "height": 1000
    },
    "id": "9usXfos2qQJo",
    "outputId": "549e4d70-3101-49aa-84eb-118879cf53c0"
   },
   "outputs": [
    {
     "data": {
      "text/html": [],
      "text/plain": [
       "<IPython.core.display.HTML object>"
      ]
     },
     "metadata": {
      "tags": []
     },
     "output_type": "display_data"
    },
    {
     "data": {
      "text/html": [],
      "text/plain": [
       "<IPython.core.display.HTML object>"
      ]
     },
     "metadata": {
      "tags": []
     },
     "output_type": "display_data"
    },
    {
     "data": {
      "text/html": [],
      "text/plain": [
       "<IPython.core.display.HTML object>"
      ]
     },
     "metadata": {
      "tags": []
     },
     "output_type": "display_data"
    },
    {
     "data": {
      "text/html": [],
      "text/plain": [
       "<IPython.core.display.HTML object>"
      ]
     },
     "metadata": {
      "tags": []
     },
     "output_type": "display_data"
    },
    {
     "data": {
      "text/html": [],
      "text/plain": [
       "<IPython.core.display.HTML object>"
      ]
     },
     "metadata": {
      "tags": []
     },
     "output_type": "display_data"
    },
    {
     "data": {
      "text/html": [],
      "text/plain": [
       "<IPython.core.display.HTML object>"
      ]
     },
     "metadata": {
      "tags": []
     },
     "output_type": "display_data"
    },
    {
     "data": {
      "text/html": [],
      "text/plain": [
       "<IPython.core.display.HTML object>"
      ]
     },
     "metadata": {
      "tags": []
     },
     "output_type": "display_data"
    },
    {
     "data": {
      "text/html": [],
      "text/plain": [
       "<IPython.core.display.HTML object>"
      ]
     },
     "metadata": {
      "tags": []
     },
     "output_type": "display_data"
    },
    {
     "data": {
      "text/html": [],
      "text/plain": [
       "<IPython.core.display.HTML object>"
      ]
     },
     "metadata": {
      "tags": []
     },
     "output_type": "display_data"
    },
    {
     "data": {
      "text/html": [],
      "text/plain": [
       "<IPython.core.display.HTML object>"
      ]
     },
     "metadata": {
      "tags": []
     },
     "output_type": "display_data"
    },
    {
     "name": "stdout",
     "output_type": "stream",
     "text": [
      "Love and all your long days are the days . \n",
      " When you said your name . \n",
      " You put your names in a drawer , and i gave you a list of lovers . \n",
      " Before you could get back together . \n",
      " You said you 'd talk to me . \n",
      " And you said , \" oh my , what a town , town , town \" . \n",
      " You said , \" oh my , what a marvelous tune \" . \n",
      "\n",
      "Love , kissing and fighting . \n",
      " And I 'm a world that makes me wanna run . \n",
      " I 'm the one who 's messed me up . \n",
      " i loves him , but i love you . \n",
      " And there 's a list of names that 'll be you . \n",
      " You should n't read the phone without you . \n",
      " You should ca n't be without me . \n",
      " You should n't be asking me , asking you why . \n",
      "\n",
      "Love has a reputation in the dark , dark and dark . \n",
      " Like the real ones . \n",
      " And they just think , yeah ! . \n",
      " They do n't know about me , but i bet you wanted to . \n",
      " I 'd spend forever . \n",
      " Loving him is like trying to love you . \n",
      " And i love you for quite some time . \n",
      " This love is good , this love is bad . \n",
      " You 're so\n",
      "Love 's a game , play and play . \n",
      " The players play play , play , play , play , play . \n",
      " And the game ends . Beautiful , dark , and beautiful . \n",
      " Oh , oh . \n",
      " It was marvelous to play . \n",
      " And i do n't know how it works . \n",
      " I 'm laughing with you on the way home . \n",
      " I 'm so furious . \n",
      " Oh , but never really\n",
      "Love 's a - team . \n",
      " They 're all i love , they 're all love and we 're love . \n",
      " And love 's always mine . \n",
      " But I 'm really gon na be with you . \n",
      " Baby , I 'm just a girl , trying to find a place in this world . \n",
      " I 'll be the actress starring in your bad dreams . \n",
      " I 'll be the actress starring in your bad dreams . \n",
      "\n",
      "Love 's a big game . \n",
      " And i love the game . \n",
      " The love of our game is a play on the play . \n",
      " The play of the play . \n",
      " And you play it off again . \n",
      " Play it again . \n",
      " Play it again . \n",
      " I 'd play it back . \n",
      " Play it again . \n",
      " Play it again . \n",
      " i play it again . \n",
      " i play it again . \n",
      " i\n",
      "Love at the back door is the way you think about me . \n",
      " The flight of our young girls is like trying to tell you love , with you . \n",
      " Just another girl with a smile like I 'm a ex - girlfriend . \n",
      " But i do n't know what to say since a twist of fate , when it all broke down . \n",
      " And all the girls do n't know . \n",
      " You 're a rebel , who 's gon\n",
      "Love 's all in love , all love has your heart . \n",
      " Love , it is my love . \n",
      " Love never let you go , baby , as we play . \n",
      " You love it all but nothing . \n",
      " And it 's gon na be forever . \n",
      " Or it 's gon na go down in flames . \n",
      " Or it 's gon na go down in flames . \n",
      " Or it 's gon na go down in flames . \n",
      "\n",
      "Love made a deep scar . \n",
      " It was the worst of times , the worst of us . \n",
      " The time was so cold . \n",
      " And i 'd go back and tell it , babe . \n",
      " That little time was lost and you never knew you . \n",
      " i never had a fight with you . \n",
      " And we were never fight . \n",
      " Fighting in a fight . \n",
      " Fighting in a getaway car . \n",
      " It was a\n",
      "Love 's a - joke on a football game . \n",
      " i play it all over what you 're thinking . \n",
      " I 'm breaking down and out , oh yeah . \n",
      " And I 'm in the room , there 's a joke about you . \n",
      " And it 's just too late for you and your white horse . \n",
      " And i want you for quite this moment . \n",
      " You do n't have to call anymore . \n",
      " i ca n't help\n"
     ]
    }
   ],
   "source": [
    "TEXT = \"Love\"\n",
    "N_WORDS = 90\n",
    "N_SENTENCES = 10\n",
    "print(\"\\n\".join(learn.predict(TEXT, N_WORDS, temperature=0.75) for _ in range(N_SENTENCES)))"
   ]
  }
 ],
 "metadata": {
  "accelerator": "GPU",
  "colab": {
   "collapsed_sections": [],
   "name": "taylor_swift_lyrics_generation_fastai.ipynb",
   "provenance": []
  },
  "kernelspec": {
   "display_name": "Python 3",
   "language": "python",
   "name": "python3"
  },
  "language_info": {
   "codemirror_mode": {
    "name": "ipython",
    "version": 3
   },
   "file_extension": ".py",
   "mimetype": "text/x-python",
   "name": "python",
   "nbconvert_exporter": "python",
   "pygments_lexer": "ipython3",
   "version": "3.8.8"
  }
 },
 "nbformat": 4,
 "nbformat_minor": 1
}
