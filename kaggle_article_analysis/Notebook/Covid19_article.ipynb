{
 "cells": [
  {
   "cell_type": "code",
   "execution_count": 11,
   "id": "663af243",
   "metadata": {},
   "outputs": [],
   "source": [
    "import sys\n",
    "import os\n",
    "sys.path.append('C:\\\\Users\\\\luoyan011\\\\Desktop\\\\PersonalLearning\\\\GitHub\\\\python_functions\\\\jl_nlp_pkg')\n",
    "sys.path.append('C:\\\\Users\\\\luoyan011\\\\Desktop\\\\PersonalLearning\\\\GitHub\\\\python_functions\\\\jl_model_explain_pkg')\n",
    "import nlpbasic.textClean as textClean\n",
    "import nlpbasic.docVectors as DocVector\n",
    "import nlpbasic.dataExploration as DataExploration\n",
    "import nlpbasic.lda as lda\n",
    "import nlpbasic.tfidf as tfidf\n",
    "\n",
    "import model_explain.plot as meplot\n",
    "import model_explain.shap as meshap\n",
    "\n",
    "from numpy import array,asarray,zeros\n",
    "from scipy.spatial import distance\n",
    "from sklearn.model_selection import train_test_split\n",
    "from sklearn.metrics import confusion_matrix, classification_report\n",
    "from keras.preprocessing.text import Tokenizer\n",
    "from keras.preprocessing.sequence import pad_sequences\n",
    "from keras.models import Sequential\n",
    "from keras.layers import Dense,Flatten,Embedding\n",
    "import pickle\n",
    "import pandas as pd\n",
    "import matplotlib.pyplot as plt\n",
    "import seaborn as sb\n",
    "import numpy as np\n",
    "import re\n",
    "pd.set_option('display.max_colwidth', None)\n",
    "root_path = 'C:\\\\Users\\\\luoyan011\\\\Desktop\\\\PersonalLearning\\\\GitHub\\\\NLP_data'"
   ]
  },
  {
   "cell_type": "code",
   "execution_count": 2,
   "id": "8b1fe938",
   "metadata": {},
   "outputs": [],
   "source": [
    "raw_data = pd.read_csv(os.path.join(root_path, \"covid-19_articles_data.csv\"))"
   ]
  },
  {
   "cell_type": "code",
   "execution_count": 3,
   "id": "b3f2acc9",
   "metadata": {},
   "outputs": [],
   "source": [
    "raw_data['len'] = raw_data.text.apply(lambda x: len(x.split()))"
   ]
  },
  {
   "cell_type": "code",
   "execution_count": 6,
   "id": "1ebcc916",
   "metadata": {},
   "outputs": [
    {
     "data": {
      "text/plain": [
       "count    33324.000000\n",
       "mean       210.512063\n",
       "std         54.460877\n",
       "min         30.000000\n",
       "25%        175.000000\n",
       "50%        209.000000\n",
       "75%        245.000000\n",
       "max       1104.000000\n",
       "Name: len, dtype: float64"
      ]
     },
     "execution_count": 6,
     "metadata": {},
     "output_type": "execute_result"
    }
   ],
   "source": [
    "raw_data.len.describe()"
   ]
  },
  {
   "cell_type": "code",
   "execution_count": 7,
   "id": "c921c498",
   "metadata": {},
   "outputs": [
    {
     "data": {
      "text/plain": [
       "1    20831\n",
       "0    12493\n",
       "Name: sentiment, dtype: int64"
      ]
     },
     "execution_count": 7,
     "metadata": {},
     "output_type": "execute_result"
    }
   ],
   "source": [
    "raw_data.sentiment.value_counts()"
   ]
  },
  {
   "cell_type": "code",
   "execution_count": 14,
   "id": "13ea310c",
   "metadata": {},
   "outputs": [
    {
     "name": "stdout",
     "output_type": "stream",
     "text": [
      "If you've recently heard from an old friend, you're not alone. A communication studies professor says he's not surprised that people are looking to reconnect with others they were once close to. “This is an utter reshuffling of people's social lives, in a way that's very, very dramatic and probably different than anything we've ever seen before,” said Dr. Jeffrey Hall, Professor of Communication Studies at the University of Kansas. Dr. Hall has been working with colleagues to collect data on how people are getting social needs met while in quarantine. One thing they've found so far is that taking the initiative to reach out can improve mental health. Dr. Hall has also been exploring why we don't normally keep in touch, even though it's easier than ever with technology. He says we typically get enough social interaction just through casual conversations with others, like at work or in your neighborhood. However, that's changed. “We don't have that,” said Dr. Hall. “So, what that means is we basically have a huge gap of people who we would normally make sense of the world with, and that's being replaced by either the people who are in our households, or people who we have, prior to, not seen very often.\n"
     ]
    }
   ],
   "source": [
    "print(raw_data.text[0])"
   ]
  },
  {
   "cell_type": "code",
   "execution_count": 12,
   "id": "22e79c73",
   "metadata": {},
   "outputs": [
    {
     "name": "stdout",
     "output_type": "stream",
     "text": [
      "8657    28. \"I know how the White House works, I guess I can say now, better than anybody. \" Always. Has. To. Be. The. Best. 29. \"They spied on my campaign.\n",
      "Name: text, dtype: object\n"
     ]
    }
   ],
   "source": [
    "print(raw_data[raw_data.len==30].text)"
   ]
  },
  {
   "cell_type": "code",
   "execution_count": 13,
   "id": "0dcced98",
   "metadata": {},
   "outputs": [
    {
     "name": "stdout",
     "output_type": "stream",
     "text": [
      "2575    AlabamaAttalla - 10/6/20Attalla - 10/7/20Gadsden - 10/9/20Gadsden - 10/10/20ArkansasBentonville - 9/15/20Bentonville - 9/16/20Rogers - 9/18/20Rogers - 9/19/20Springdale - 9/22/20Springdale - 9/23/20Cabot - 9/25/20Cabot - 9/26/20Bryant - 9/29/20Bryant - 9/30/20ColoradoGrand Junction - 9/11/20Grand Junction - 9/12/20Timnath - 9/15/20Timnath - 9/16/20Pueblo West - 9/18/20Pueblo West - 9/19/20Pueblo - 9/22/20Pueblo - 9/23/20FloridaPinellas Park - 8/14/20Pinellas Park - 8/15/20Wesley Chapel - 8/18/20Wesley Chapel - 8/19/20Bradenton - 8/21/20Bradenton - 8/22/20Miami - 8/25/20Miami - 8/26/20Pembroke Pines - 8/28/20Pembroke Pines - 8/29/20Avon Park - 9/1/20Avon Park - 9/2/20Winter Haven - 9/4/20Winter Haven - 9/5/20Mulberry - 9/8/20Mulberry - 9/9/20Lakeland - 9/11/20Lakeland - 9/12/20Tampa - 9/15/20Tampa - 9/16/20Spring Hill - 9/18/20Spring Hill - 9/19/20Inverness - 9/22/20Inverness - 9/23/20GeorgiaStatesboro - 9/25/20Statesboro - 9/26/20Athens - 10/13/20Athens - 10/14/20Loganville - 10/16/20Warner Robins - 10/16/20Loganville - 10/17/20Warner Robins - 10/17/20Columbus - 10/20/20Fort Oglethorpe - 10/20/20Columbus - 10/21/20Fort Oglethorpe - 10/21/20IllinoisStreamwood IL - 8/14/20Streamwood IL - 8/15/20Huntley IL - 8/21/20Huntley IL - 8/22/20DeKalb IL - 8/25/20DeKalb IL - 8/26/20Elgin IL - 8/28/20Elgin IL - 8/29/20Saint Charles IL - 9/1/20Saint Charles IL - 9/2/20Batavia IL - 9/4/20Batavia IL - 9/5/20Aurora IL - 9/8/20Aurora IL - 9/9/20New Lenox IL - 9/11/20New Lenox IL - 9/12/20Orland Hills IL - 9/15/20Orland Hills IL - 9/16/20Richton Park IL - 9/18/20Richton Park IL - 9/19/20Olympia Fields IL - 9/22/20Olympia Fields IL - 9/23/20Bourbonnais IL - 9/29/20Bourbonnais IL - 9/30/20Kankakee IL - 10/2/20Kankakee IL - 10/3/20Bloomington IL - 10/6/20Bloomington IL - 10/7/20IndianaHammond - 9/25/20Hammond - 9/26/20Muncie - 10/9/20Muncie - 10/10/20Richmond - 10/13/20Richmond - 10/14/20Evansville - 10/16/20Evansville - 10/17/20Evansville - 10/20/20Evansville - 10/21/20KansasOlathe - 8/14/20Olathe - 8/15/20Gardner - 8/18/20Gardner - 8/19/20Lawrence - 8/21/20Lawrence - 8/22/20Topeka - 8/25/20Topeka - 8/26/20KentuckyOak Grove - 9/18/20Oak Grove - 9/19/20Hopkinsville - 9/22/20Hopkinsville - 9/23/20Paducah - 9/25/20Shepherdsville - 9/25/20Paducah - 9/26/20Shepherdsville - 9/26/20LouisianaCrowley - 10/2/20Crowley - 10/3/20New Iberia - 10/6/20New Iberia - 10/7/20Bossier City - 10/9/20Bossier City - 10/10/20MissouriRaymore - 10/16/20Raymore - 10/17/20Sedalia - 10/20/20Sedalia - 10/21/20MississippiTupelo - 10/2/20Tupelo - 10/3/20NebraskaBellevue - 8/28/20Bellevue - 8/29/20New JerseyLinden - 8/14/20Linden - 8/15/20New MexicoLas Cruces - 9/25/20Las Cruces - 9/26/20Las Cruces - 9/29/20Las Cruces - 9/30/20NevadaCarson City - 8/21/20Carson City - 8/22/20OhioAmelia - 9/29/20Amelia - 9/30/20Akron - 10/2/20Akron - 10/3/20OklahomaStillwater - 9/1/20Stillwater - 9/2/20Stillwater - 9/4/20Stillwater - 9/5/20Lawton - 9/8/20Lawton - 9/9/20Yukon - 9/11/20Yukon - 9/12/20OregonGrants Pass - 8/18/20Grants Pass - 8/19/20PennsylvaniaBeaver Falls - 10/6/20Beaver Falls - 10/7/20West Mifflin - 10/9/20West Mifflin - 10/10/20North Huntingdon - 10/13/20North Huntingdon - 10/14/20South CarolinaNorth Charleston - 9/29/20North Charleston - 9/30/20Goose Creek - 10/2/20Goose Creek - 10/3/20Sumter - 10/6/20Sumter - 10/7/20North Augusta - 10/9/20North Augusta - 10/10/20Spartanburg - 10/13/20Spartanburg - 10/14/20TennesseeNashville - 8/18/20Nashville - 8/19/20Franklin - 8/21/20Franklin - 8/22/20Smyrna - 8/25/20Smyrna - 8/26/20La Vergne - 8/28/20La Vergne - 8/29/20Mount Juliet - 9/1/20Mount Juliet - 9/2/20Madison - 9/4/20Madison - 9/5/20Elizabethton - 9/8/20Gallatin - 9/8/20Elizabethton - 9/9/20Gallatin - 9/9/20Knoxville - 9/11/20White House - 9/11/20Knoxville - 9/12/20White House - 9/12/20Clarksville - 9/15/20Knoxville - 9/15/20Clarksville - 9/16/20Knoxville - 9/16/20Clinton - 9/18/20Clinton - 9/19/20Bristol - 9/22/20Bristol - 9/23/20Cleveland - 9/29/20Cleveland - 9/30/20TexasHouston - 8/14/20Prosper - 8/14/20Houston - 8/15/20Prosper - 8/15/20New Caney - 8/18/20Plano - 8/18/20New Caney - 8/19/20Plano - 8/19/20Colony - 8/21/20Spring - 8/21/20Colony - 8/22/20Spring - 8/22/20College Station - 8/25/20Frisco - 8/25/20College Station - 8/26/20Frisco - 8/26/20Hickory Creek - 8/28/20Katy - 8/28/20Hickory Creek - 8/29/20Katy - 8/29/20Richmond - 9/1/20Roanoke - 9/1/20Richmond - 9/2/20Roanoke - 9/2/20Bedford - 9/4/20Richmond - 9/4/20Bedford - 9/5/20Richmond - 9/5/20Grand Prairie - 9/8/20Pearland - 9/8/20Grand Prairie - 9/9/20Pearland - 9/9/20Harker Heights - 9/11/20Pearland - 9/11/20Harker Heights - 9/12/20Pearland - 9/12/20Killeen - 9/15/20La Marque - 9/15/20Killeen - 9/16/20La Marque - 9/16/20Boerne - 9/18/20League City - 9/18/20Boerne - 9/19/20League City - 9/19/20Pasadena - 9/22/20San Antonio - 9/22/20Pasadena - 9/23/20San Antonio - 9/23/20San Antonio - 9/25/20Vidor - 9/25/20San Antonio - 9/26/20Vidor - 9/26/20San Antonio - 9/29/20West Orange - 9/29/20San Antonio - 9/30/20West Orange - 9/30/20McKinney - 10/2/20San Angelo - 10/2/20Schertz - 10/2/20McKinney - 10/3/20San Angelo - 10/3/20Schertz - 10/3/20Corpus Christi - 10/6/20Irving - 10/6/20San Angelo - 10/6/20Corpus Christi - 10/7/20Irving - 10/7/20San Angelo - 10/7/20Irving - 10/9/20Rockwall - 10/9/20Waco - 10/9/20Irving - 10/10/20Rockwall - 10/10/20Waco - 10/10/20Bellmead - 10/13/20Denton - 10/13/20Kilgore - 10/13/20Wylie - 10/13/20Bellmead - 10/14/20Denton - 10/14/20Kilgore - 10/14/20Wylie - 10/14/20Killeen - 10/16/20Sherman - 10/16/20Tyler - 10/16/20Killeen - 10/17/20Sherman - 10/17/20Tyler - 10/17/20Denison - 10/20/20Murphy - 10/20/20Tyler - 10/20/20Denison - 10/21/20Murphy - 10/21/20Tyler - 10/21/20UtahSyracuse - 8/25/20Syracuse - 8/26/20American Fork - 8/28/20American Fork - 8/29/20Lindon - 9/1/20Lindon - 9/2/20Springville - 9/4/20Springville - 9/5/20Payson - 9/8/20Payson - 9/9/20VirginiaVirginia Beach - 8/18/20Virginia Beach - 8/19/20Richmond - 8/21/20Richmond - 8/22/20Roanoke - 8/25/20Roanoke - 8/26/20West VirginiaBeckley - 8/28/20Beckley - 8/29/20Hurricane - 9/1/20Hurricane - 9/2/20Huntington - 9/4/20Huntington - 9/5/20Morgantown - 10/16/20Morgantown - 10/17/20Morgantown - 10/20/20Morgantown - 10/21/20 CARLSBAD, Calif. (KGTV) — Joining Oceanside and California state beaches, Carlsbad city officials announced Friday that they will close beach parking lots for the July 4 weekend. The city says that beach parking lots will be closed July 4 and 5 in Carlsbad, over concerns of crowds from counties where beaches are closed traveling to the region. PLAY Top Videos San Diego businesses trying to survive the purple tier Video Settings Auto Full Screen About Connatix V78152 Watch More Watch More Watch More Watch More Watch More Watch More 1 min. story Skip 1/1 SPONSORED Visit Advertiser website GO TO PAGE / Coming Next Skip Ad Carlsbad's decision comes after a letter from the Governor's Office of Emergency Services and days after Oceanside instituted a similar beach parking closure. RELATED: Crowds flock to San Diego beaches for Fourth of July weekendEarlier this week, San Diego County Supervisors said they did not plan to mandate county beaches to close and would leave it up to cities to decide themselves. \"At the time of writing, beaches under the jurisdiction of local governments within San Diego County are the only beaches without visitation restrictions throughout all of Southern California, and therefore are attracting thousands of residents from outside your coastal communities and creating significant potential for disease transmission, particularly in crowded restaurants, bars, retail, and hotels,\" Cal OES wrote in a letter to the cities of San Diego, Imperial Beach, Coronado, Del Mar, Solana Beach, Encinitas, Carlsbad, and Oceanside. \"To protect the public health of San Diegans and reduce the high potential transmission of this deadly disease in San Diego coastal businesses, we write to request that municipal governments do not open beach parking lots for the July 4th holiday weekend. \"Beaches in Los Angeles, Orange, Santa Barbara, and Venture Counties are closed this weekend amid surging coronavirus cases in the state. California closed state beach parking lots, including those in San Diego County, ahead of Saturday. The global pandemic has changed what “work” looks like for millions of people, and those changes could become permanent, according to workplace and hiring experts.\n",
      "Name: text, dtype: object\n"
     ]
    }
   ],
   "source": [
    "print(raw_data[raw_data.len==1104].text)"
   ]
  }
 ],
 "metadata": {
  "kernelspec": {
   "display_name": "Python 3",
   "language": "python",
   "name": "python3"
  },
  "language_info": {
   "codemirror_mode": {
    "name": "ipython",
    "version": 3
   },
   "file_extension": ".py",
   "mimetype": "text/x-python",
   "name": "python",
   "nbconvert_exporter": "python",
   "pygments_lexer": "ipython3",
   "version": "3.8.8"
  }
 },
 "nbformat": 4,
 "nbformat_minor": 5
}
