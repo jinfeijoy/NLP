{
  "nbformat": 4,
  "nbformat_minor": 0,
  "metadata": {
    "colab": {
      "name": "document_similarity_gcolab.ipynb",
      "provenance": [],
      "collapsed_sections": []
    },
    "kernelspec": {
      "name": "python3",
      "display_name": "Python 3"
    },
    "language_info": {
      "name": "python"
    },
    "widgets": {
      "application/vnd.jupyter.widget-state+json": {
        "feed89c5c6ff41c9b81af5a354bbbee8": {
          "model_module": "@jupyter-widgets/controls",
          "model_name": "HBoxModel",
          "state": {
            "_view_name": "HBoxView",
            "_dom_classes": [],
            "_model_name": "HBoxModel",
            "_view_module": "@jupyter-widgets/controls",
            "_model_module_version": "1.5.0",
            "_view_count": null,
            "_view_module_version": "1.5.0",
            "box_style": "",
            "layout": "IPY_MODEL_8cc26a20a4c54e1d88150fec65016f41",
            "_model_module": "@jupyter-widgets/controls",
            "children": [
              "IPY_MODEL_b36d7148d0734e0e8b8d6d30c39af5ed",
              "IPY_MODEL_150fac3fd0534592bf88cba191971dcd"
            ]
          }
        },
        "8cc26a20a4c54e1d88150fec65016f41": {
          "model_module": "@jupyter-widgets/base",
          "model_name": "LayoutModel",
          "state": {
            "_view_name": "LayoutView",
            "grid_template_rows": null,
            "right": null,
            "justify_content": null,
            "_view_module": "@jupyter-widgets/base",
            "overflow": null,
            "_model_module_version": "1.2.0",
            "_view_count": null,
            "flex_flow": null,
            "width": null,
            "min_width": null,
            "border": null,
            "align_items": null,
            "bottom": null,
            "_model_module": "@jupyter-widgets/base",
            "top": null,
            "grid_column": null,
            "overflow_y": null,
            "overflow_x": null,
            "grid_auto_flow": null,
            "grid_area": null,
            "grid_template_columns": null,
            "flex": null,
            "_model_name": "LayoutModel",
            "justify_items": null,
            "grid_row": null,
            "max_height": null,
            "align_content": null,
            "visibility": null,
            "align_self": null,
            "height": null,
            "min_height": null,
            "padding": null,
            "grid_auto_rows": null,
            "grid_gap": null,
            "max_width": null,
            "order": null,
            "_view_module_version": "1.2.0",
            "grid_template_areas": null,
            "object_position": null,
            "object_fit": null,
            "grid_auto_columns": null,
            "margin": null,
            "display": null,
            "left": null
          }
        },
        "b36d7148d0734e0e8b8d6d30c39af5ed": {
          "model_module": "@jupyter-widgets/controls",
          "model_name": "FloatProgressModel",
          "state": {
            "_view_name": "ProgressView",
            "style": "IPY_MODEL_ab2e34bb4150403f9311b54cf0847c40",
            "_dom_classes": [],
            "description": "Downloading: 100%",
            "_model_name": "FloatProgressModel",
            "bar_style": "success",
            "max": 629,
            "_view_module": "@jupyter-widgets/controls",
            "_model_module_version": "1.5.0",
            "value": 629,
            "_view_count": null,
            "_view_module_version": "1.5.0",
            "orientation": "horizontal",
            "min": 0,
            "description_tooltip": null,
            "_model_module": "@jupyter-widgets/controls",
            "layout": "IPY_MODEL_2b0b0771c55d4a1cbcebfb07502acabc"
          }
        },
        "150fac3fd0534592bf88cba191971dcd": {
          "model_module": "@jupyter-widgets/controls",
          "model_name": "HTMLModel",
          "state": {
            "_view_name": "HTMLView",
            "style": "IPY_MODEL_727a168bd64b4606bb3ace57ffff336c",
            "_dom_classes": [],
            "description": "",
            "_model_name": "HTMLModel",
            "placeholder": "​",
            "_view_module": "@jupyter-widgets/controls",
            "_model_module_version": "1.5.0",
            "value": " 629/629 [00:09&lt;00:00, 66.3B/s]",
            "_view_count": null,
            "_view_module_version": "1.5.0",
            "description_tooltip": null,
            "_model_module": "@jupyter-widgets/controls",
            "layout": "IPY_MODEL_ece3e61615cd4c23964f2a9aa01cd5c4"
          }
        },
        "ab2e34bb4150403f9311b54cf0847c40": {
          "model_module": "@jupyter-widgets/controls",
          "model_name": "ProgressStyleModel",
          "state": {
            "_view_name": "StyleView",
            "_model_name": "ProgressStyleModel",
            "description_width": "initial",
            "_view_module": "@jupyter-widgets/base",
            "_model_module_version": "1.5.0",
            "_view_count": null,
            "_view_module_version": "1.2.0",
            "bar_color": null,
            "_model_module": "@jupyter-widgets/controls"
          }
        },
        "2b0b0771c55d4a1cbcebfb07502acabc": {
          "model_module": "@jupyter-widgets/base",
          "model_name": "LayoutModel",
          "state": {
            "_view_name": "LayoutView",
            "grid_template_rows": null,
            "right": null,
            "justify_content": null,
            "_view_module": "@jupyter-widgets/base",
            "overflow": null,
            "_model_module_version": "1.2.0",
            "_view_count": null,
            "flex_flow": null,
            "width": null,
            "min_width": null,
            "border": null,
            "align_items": null,
            "bottom": null,
            "_model_module": "@jupyter-widgets/base",
            "top": null,
            "grid_column": null,
            "overflow_y": null,
            "overflow_x": null,
            "grid_auto_flow": null,
            "grid_area": null,
            "grid_template_columns": null,
            "flex": null,
            "_model_name": "LayoutModel",
            "justify_items": null,
            "grid_row": null,
            "max_height": null,
            "align_content": null,
            "visibility": null,
            "align_self": null,
            "height": null,
            "min_height": null,
            "padding": null,
            "grid_auto_rows": null,
            "grid_gap": null,
            "max_width": null,
            "order": null,
            "_view_module_version": "1.2.0",
            "grid_template_areas": null,
            "object_position": null,
            "object_fit": null,
            "grid_auto_columns": null,
            "margin": null,
            "display": null,
            "left": null
          }
        },
        "727a168bd64b4606bb3ace57ffff336c": {
          "model_module": "@jupyter-widgets/controls",
          "model_name": "DescriptionStyleModel",
          "state": {
            "_view_name": "StyleView",
            "_model_name": "DescriptionStyleModel",
            "description_width": "",
            "_view_module": "@jupyter-widgets/base",
            "_model_module_version": "1.5.0",
            "_view_count": null,
            "_view_module_version": "1.2.0",
            "_model_module": "@jupyter-widgets/controls"
          }
        },
        "ece3e61615cd4c23964f2a9aa01cd5c4": {
          "model_module": "@jupyter-widgets/base",
          "model_name": "LayoutModel",
          "state": {
            "_view_name": "LayoutView",
            "grid_template_rows": null,
            "right": null,
            "justify_content": null,
            "_view_module": "@jupyter-widgets/base",
            "overflow": null,
            "_model_module_version": "1.2.0",
            "_view_count": null,
            "flex_flow": null,
            "width": null,
            "min_width": null,
            "border": null,
            "align_items": null,
            "bottom": null,
            "_model_module": "@jupyter-widgets/base",
            "top": null,
            "grid_column": null,
            "overflow_y": null,
            "overflow_x": null,
            "grid_auto_flow": null,
            "grid_area": null,
            "grid_template_columns": null,
            "flex": null,
            "_model_name": "LayoutModel",
            "justify_items": null,
            "grid_row": null,
            "max_height": null,
            "align_content": null,
            "visibility": null,
            "align_self": null,
            "height": null,
            "min_height": null,
            "padding": null,
            "grid_auto_rows": null,
            "grid_gap": null,
            "max_width": null,
            "order": null,
            "_view_module_version": "1.2.0",
            "grid_template_areas": null,
            "object_position": null,
            "object_fit": null,
            "grid_auto_columns": null,
            "margin": null,
            "display": null,
            "left": null
          }
        },
        "a5e99358a51844febb069e37d955fdef": {
          "model_module": "@jupyter-widgets/controls",
          "model_name": "HBoxModel",
          "state": {
            "_view_name": "HBoxView",
            "_dom_classes": [],
            "_model_name": "HBoxModel",
            "_view_module": "@jupyter-widgets/controls",
            "_model_module_version": "1.5.0",
            "_view_count": null,
            "_view_module_version": "1.5.0",
            "box_style": "",
            "layout": "IPY_MODEL_977e8733e96f401a9d0e2ff146aade7a",
            "_model_module": "@jupyter-widgets/controls",
            "children": [
              "IPY_MODEL_df6bc0922d474b62be9012bb8ece8412",
              "IPY_MODEL_51a69500766b4409ae12dfb0fc8ddf5b"
            ]
          }
        },
        "977e8733e96f401a9d0e2ff146aade7a": {
          "model_module": "@jupyter-widgets/base",
          "model_name": "LayoutModel",
          "state": {
            "_view_name": "LayoutView",
            "grid_template_rows": null,
            "right": null,
            "justify_content": null,
            "_view_module": "@jupyter-widgets/base",
            "overflow": null,
            "_model_module_version": "1.2.0",
            "_view_count": null,
            "flex_flow": null,
            "width": null,
            "min_width": null,
            "border": null,
            "align_items": null,
            "bottom": null,
            "_model_module": "@jupyter-widgets/base",
            "top": null,
            "grid_column": null,
            "overflow_y": null,
            "overflow_x": null,
            "grid_auto_flow": null,
            "grid_area": null,
            "grid_template_columns": null,
            "flex": null,
            "_model_name": "LayoutModel",
            "justify_items": null,
            "grid_row": null,
            "max_height": null,
            "align_content": null,
            "visibility": null,
            "align_self": null,
            "height": null,
            "min_height": null,
            "padding": null,
            "grid_auto_rows": null,
            "grid_gap": null,
            "max_width": null,
            "order": null,
            "_view_module_version": "1.2.0",
            "grid_template_areas": null,
            "object_position": null,
            "object_fit": null,
            "grid_auto_columns": null,
            "margin": null,
            "display": null,
            "left": null
          }
        },
        "df6bc0922d474b62be9012bb8ece8412": {
          "model_module": "@jupyter-widgets/controls",
          "model_name": "FloatProgressModel",
          "state": {
            "_view_name": "ProgressView",
            "style": "IPY_MODEL_1dad4b535ece4baa88d63e95b3b9be51",
            "_dom_classes": [],
            "description": "Downloading: 100%",
            "_model_name": "FloatProgressModel",
            "bar_style": "success",
            "max": 267844284,
            "_view_module": "@jupyter-widgets/controls",
            "_model_module_version": "1.5.0",
            "value": 267844284,
            "_view_count": null,
            "_view_module_version": "1.5.0",
            "orientation": "horizontal",
            "min": 0,
            "description_tooltip": null,
            "_model_module": "@jupyter-widgets/controls",
            "layout": "IPY_MODEL_2bfa3665aaea4875b2431fc3af14448e"
          }
        },
        "51a69500766b4409ae12dfb0fc8ddf5b": {
          "model_module": "@jupyter-widgets/controls",
          "model_name": "HTMLModel",
          "state": {
            "_view_name": "HTMLView",
            "style": "IPY_MODEL_028b1619322e480ea7dcf750aaf6f8cb",
            "_dom_classes": [],
            "description": "",
            "_model_name": "HTMLModel",
            "placeholder": "​",
            "_view_module": "@jupyter-widgets/controls",
            "_model_module_version": "1.5.0",
            "value": " 268M/268M [00:09&lt;00:00, 29.5MB/s]",
            "_view_count": null,
            "_view_module_version": "1.5.0",
            "description_tooltip": null,
            "_model_module": "@jupyter-widgets/controls",
            "layout": "IPY_MODEL_fc15eca6ab75497da12a1241e4253c6a"
          }
        },
        "1dad4b535ece4baa88d63e95b3b9be51": {
          "model_module": "@jupyter-widgets/controls",
          "model_name": "ProgressStyleModel",
          "state": {
            "_view_name": "StyleView",
            "_model_name": "ProgressStyleModel",
            "description_width": "initial",
            "_view_module": "@jupyter-widgets/base",
            "_model_module_version": "1.5.0",
            "_view_count": null,
            "_view_module_version": "1.2.0",
            "bar_color": null,
            "_model_module": "@jupyter-widgets/controls"
          }
        },
        "2bfa3665aaea4875b2431fc3af14448e": {
          "model_module": "@jupyter-widgets/base",
          "model_name": "LayoutModel",
          "state": {
            "_view_name": "LayoutView",
            "grid_template_rows": null,
            "right": null,
            "justify_content": null,
            "_view_module": "@jupyter-widgets/base",
            "overflow": null,
            "_model_module_version": "1.2.0",
            "_view_count": null,
            "flex_flow": null,
            "width": null,
            "min_width": null,
            "border": null,
            "align_items": null,
            "bottom": null,
            "_model_module": "@jupyter-widgets/base",
            "top": null,
            "grid_column": null,
            "overflow_y": null,
            "overflow_x": null,
            "grid_auto_flow": null,
            "grid_area": null,
            "grid_template_columns": null,
            "flex": null,
            "_model_name": "LayoutModel",
            "justify_items": null,
            "grid_row": null,
            "max_height": null,
            "align_content": null,
            "visibility": null,
            "align_self": null,
            "height": null,
            "min_height": null,
            "padding": null,
            "grid_auto_rows": null,
            "grid_gap": null,
            "max_width": null,
            "order": null,
            "_view_module_version": "1.2.0",
            "grid_template_areas": null,
            "object_position": null,
            "object_fit": null,
            "grid_auto_columns": null,
            "margin": null,
            "display": null,
            "left": null
          }
        },
        "028b1619322e480ea7dcf750aaf6f8cb": {
          "model_module": "@jupyter-widgets/controls",
          "model_name": "DescriptionStyleModel",
          "state": {
            "_view_name": "StyleView",
            "_model_name": "DescriptionStyleModel",
            "description_width": "",
            "_view_module": "@jupyter-widgets/base",
            "_model_module_version": "1.5.0",
            "_view_count": null,
            "_view_module_version": "1.2.0",
            "_model_module": "@jupyter-widgets/controls"
          }
        },
        "fc15eca6ab75497da12a1241e4253c6a": {
          "model_module": "@jupyter-widgets/base",
          "model_name": "LayoutModel",
          "state": {
            "_view_name": "LayoutView",
            "grid_template_rows": null,
            "right": null,
            "justify_content": null,
            "_view_module": "@jupyter-widgets/base",
            "overflow": null,
            "_model_module_version": "1.2.0",
            "_view_count": null,
            "flex_flow": null,
            "width": null,
            "min_width": null,
            "border": null,
            "align_items": null,
            "bottom": null,
            "_model_module": "@jupyter-widgets/base",
            "top": null,
            "grid_column": null,
            "overflow_y": null,
            "overflow_x": null,
            "grid_auto_flow": null,
            "grid_area": null,
            "grid_template_columns": null,
            "flex": null,
            "_model_name": "LayoutModel",
            "justify_items": null,
            "grid_row": null,
            "max_height": null,
            "align_content": null,
            "visibility": null,
            "align_self": null,
            "height": null,
            "min_height": null,
            "padding": null,
            "grid_auto_rows": null,
            "grid_gap": null,
            "max_width": null,
            "order": null,
            "_view_module_version": "1.2.0",
            "grid_template_areas": null,
            "object_position": null,
            "object_fit": null,
            "grid_auto_columns": null,
            "margin": null,
            "display": null,
            "left": null
          }
        },
        "896a964aa53a479d916de01b0f19caec": {
          "model_module": "@jupyter-widgets/controls",
          "model_name": "HBoxModel",
          "state": {
            "_view_name": "HBoxView",
            "_dom_classes": [],
            "_model_name": "HBoxModel",
            "_view_module": "@jupyter-widgets/controls",
            "_model_module_version": "1.5.0",
            "_view_count": null,
            "_view_module_version": "1.5.0",
            "box_style": "",
            "layout": "IPY_MODEL_6d3c7c1183514e078d8b1dc8303b99df",
            "_model_module": "@jupyter-widgets/controls",
            "children": [
              "IPY_MODEL_cbb944d6f8f54e2eb55ff175ef76b4e3",
              "IPY_MODEL_b2496b8645d841d69ef7a8641324531f"
            ]
          }
        },
        "6d3c7c1183514e078d8b1dc8303b99df": {
          "model_module": "@jupyter-widgets/base",
          "model_name": "LayoutModel",
          "state": {
            "_view_name": "LayoutView",
            "grid_template_rows": null,
            "right": null,
            "justify_content": null,
            "_view_module": "@jupyter-widgets/base",
            "overflow": null,
            "_model_module_version": "1.2.0",
            "_view_count": null,
            "flex_flow": null,
            "width": null,
            "min_width": null,
            "border": null,
            "align_items": null,
            "bottom": null,
            "_model_module": "@jupyter-widgets/base",
            "top": null,
            "grid_column": null,
            "overflow_y": null,
            "overflow_x": null,
            "grid_auto_flow": null,
            "grid_area": null,
            "grid_template_columns": null,
            "flex": null,
            "_model_name": "LayoutModel",
            "justify_items": null,
            "grid_row": null,
            "max_height": null,
            "align_content": null,
            "visibility": null,
            "align_self": null,
            "height": null,
            "min_height": null,
            "padding": null,
            "grid_auto_rows": null,
            "grid_gap": null,
            "max_width": null,
            "order": null,
            "_view_module_version": "1.2.0",
            "grid_template_areas": null,
            "object_position": null,
            "object_fit": null,
            "grid_auto_columns": null,
            "margin": null,
            "display": null,
            "left": null
          }
        },
        "cbb944d6f8f54e2eb55ff175ef76b4e3": {
          "model_module": "@jupyter-widgets/controls",
          "model_name": "FloatProgressModel",
          "state": {
            "_view_name": "ProgressView",
            "style": "IPY_MODEL_5e0c665d39e743bbb0877dc03e54a85c",
            "_dom_classes": [],
            "description": "Downloading: 100%",
            "_model_name": "FloatProgressModel",
            "bar_style": "success",
            "max": 231508,
            "_view_module": "@jupyter-widgets/controls",
            "_model_module_version": "1.5.0",
            "value": 231508,
            "_view_count": null,
            "_view_module_version": "1.5.0",
            "orientation": "horizontal",
            "min": 0,
            "description_tooltip": null,
            "_model_module": "@jupyter-widgets/controls",
            "layout": "IPY_MODEL_398b57d715e34c7eb76751c98bf4454e"
          }
        },
        "b2496b8645d841d69ef7a8641324531f": {
          "model_module": "@jupyter-widgets/controls",
          "model_name": "HTMLModel",
          "state": {
            "_view_name": "HTMLView",
            "style": "IPY_MODEL_4c01b9b397b840c5b936e687c2eb0a37",
            "_dom_classes": [],
            "description": "",
            "_model_name": "HTMLModel",
            "placeholder": "​",
            "_view_module": "@jupyter-widgets/controls",
            "_model_module_version": "1.5.0",
            "value": " 232k/232k [00:00&lt;00:00, 327kB/s]",
            "_view_count": null,
            "_view_module_version": "1.5.0",
            "description_tooltip": null,
            "_model_module": "@jupyter-widgets/controls",
            "layout": "IPY_MODEL_2d58f040ed1d4583a5a7a184b6a1384d"
          }
        },
        "5e0c665d39e743bbb0877dc03e54a85c": {
          "model_module": "@jupyter-widgets/controls",
          "model_name": "ProgressStyleModel",
          "state": {
            "_view_name": "StyleView",
            "_model_name": "ProgressStyleModel",
            "description_width": "initial",
            "_view_module": "@jupyter-widgets/base",
            "_model_module_version": "1.5.0",
            "_view_count": null,
            "_view_module_version": "1.2.0",
            "bar_color": null,
            "_model_module": "@jupyter-widgets/controls"
          }
        },
        "398b57d715e34c7eb76751c98bf4454e": {
          "model_module": "@jupyter-widgets/base",
          "model_name": "LayoutModel",
          "state": {
            "_view_name": "LayoutView",
            "grid_template_rows": null,
            "right": null,
            "justify_content": null,
            "_view_module": "@jupyter-widgets/base",
            "overflow": null,
            "_model_module_version": "1.2.0",
            "_view_count": null,
            "flex_flow": null,
            "width": null,
            "min_width": null,
            "border": null,
            "align_items": null,
            "bottom": null,
            "_model_module": "@jupyter-widgets/base",
            "top": null,
            "grid_column": null,
            "overflow_y": null,
            "overflow_x": null,
            "grid_auto_flow": null,
            "grid_area": null,
            "grid_template_columns": null,
            "flex": null,
            "_model_name": "LayoutModel",
            "justify_items": null,
            "grid_row": null,
            "max_height": null,
            "align_content": null,
            "visibility": null,
            "align_self": null,
            "height": null,
            "min_height": null,
            "padding": null,
            "grid_auto_rows": null,
            "grid_gap": null,
            "max_width": null,
            "order": null,
            "_view_module_version": "1.2.0",
            "grid_template_areas": null,
            "object_position": null,
            "object_fit": null,
            "grid_auto_columns": null,
            "margin": null,
            "display": null,
            "left": null
          }
        },
        "4c01b9b397b840c5b936e687c2eb0a37": {
          "model_module": "@jupyter-widgets/controls",
          "model_name": "DescriptionStyleModel",
          "state": {
            "_view_name": "StyleView",
            "_model_name": "DescriptionStyleModel",
            "description_width": "",
            "_view_module": "@jupyter-widgets/base",
            "_model_module_version": "1.5.0",
            "_view_count": null,
            "_view_module_version": "1.2.0",
            "_model_module": "@jupyter-widgets/controls"
          }
        },
        "2d58f040ed1d4583a5a7a184b6a1384d": {
          "model_module": "@jupyter-widgets/base",
          "model_name": "LayoutModel",
          "state": {
            "_view_name": "LayoutView",
            "grid_template_rows": null,
            "right": null,
            "justify_content": null,
            "_view_module": "@jupyter-widgets/base",
            "overflow": null,
            "_model_module_version": "1.2.0",
            "_view_count": null,
            "flex_flow": null,
            "width": null,
            "min_width": null,
            "border": null,
            "align_items": null,
            "bottom": null,
            "_model_module": "@jupyter-widgets/base",
            "top": null,
            "grid_column": null,
            "overflow_y": null,
            "overflow_x": null,
            "grid_auto_flow": null,
            "grid_area": null,
            "grid_template_columns": null,
            "flex": null,
            "_model_name": "LayoutModel",
            "justify_items": null,
            "grid_row": null,
            "max_height": null,
            "align_content": null,
            "visibility": null,
            "align_self": null,
            "height": null,
            "min_height": null,
            "padding": null,
            "grid_auto_rows": null,
            "grid_gap": null,
            "max_width": null,
            "order": null,
            "_view_module_version": "1.2.0",
            "grid_template_areas": null,
            "object_position": null,
            "object_fit": null,
            "grid_auto_columns": null,
            "margin": null,
            "display": null,
            "left": null
          }
        },
        "fa2b4ae3e2c349f5a7234917dd4953f7": {
          "model_module": "@jupyter-widgets/controls",
          "model_name": "HBoxModel",
          "state": {
            "_view_name": "HBoxView",
            "_dom_classes": [],
            "_model_name": "HBoxModel",
            "_view_module": "@jupyter-widgets/controls",
            "_model_module_version": "1.5.0",
            "_view_count": null,
            "_view_module_version": "1.5.0",
            "box_style": "",
            "layout": "IPY_MODEL_8ebe2238e2574e36b01c8a77e8599887",
            "_model_module": "@jupyter-widgets/controls",
            "children": [
              "IPY_MODEL_aaa13584cb714dc39be240a831590aa1",
              "IPY_MODEL_f199a180a45d411bb9552eb9e3da28b0"
            ]
          }
        },
        "8ebe2238e2574e36b01c8a77e8599887": {
          "model_module": "@jupyter-widgets/base",
          "model_name": "LayoutModel",
          "state": {
            "_view_name": "LayoutView",
            "grid_template_rows": null,
            "right": null,
            "justify_content": null,
            "_view_module": "@jupyter-widgets/base",
            "overflow": null,
            "_model_module_version": "1.2.0",
            "_view_count": null,
            "flex_flow": null,
            "width": null,
            "min_width": null,
            "border": null,
            "align_items": null,
            "bottom": null,
            "_model_module": "@jupyter-widgets/base",
            "top": null,
            "grid_column": null,
            "overflow_y": null,
            "overflow_x": null,
            "grid_auto_flow": null,
            "grid_area": null,
            "grid_template_columns": null,
            "flex": null,
            "_model_name": "LayoutModel",
            "justify_items": null,
            "grid_row": null,
            "max_height": null,
            "align_content": null,
            "visibility": null,
            "align_self": null,
            "height": null,
            "min_height": null,
            "padding": null,
            "grid_auto_rows": null,
            "grid_gap": null,
            "max_width": null,
            "order": null,
            "_view_module_version": "1.2.0",
            "grid_template_areas": null,
            "object_position": null,
            "object_fit": null,
            "grid_auto_columns": null,
            "margin": null,
            "display": null,
            "left": null
          }
        },
        "aaa13584cb714dc39be240a831590aa1": {
          "model_module": "@jupyter-widgets/controls",
          "model_name": "FloatProgressModel",
          "state": {
            "_view_name": "ProgressView",
            "style": "IPY_MODEL_26652c0d3dcc41298d6d35e03f095b2a",
            "_dom_classes": [],
            "description": "Downloading: 100%",
            "_model_name": "FloatProgressModel",
            "bar_style": "success",
            "max": 48,
            "_view_module": "@jupyter-widgets/controls",
            "_model_module_version": "1.5.0",
            "value": 48,
            "_view_count": null,
            "_view_module_version": "1.5.0",
            "orientation": "horizontal",
            "min": 0,
            "description_tooltip": null,
            "_model_module": "@jupyter-widgets/controls",
            "layout": "IPY_MODEL_7b1c8b8f6d8742d4aa171b09b74a5e9a"
          }
        },
        "f199a180a45d411bb9552eb9e3da28b0": {
          "model_module": "@jupyter-widgets/controls",
          "model_name": "HTMLModel",
          "state": {
            "_view_name": "HTMLView",
            "style": "IPY_MODEL_eddea927350f4518be3b9cba935efbf8",
            "_dom_classes": [],
            "description": "",
            "_model_name": "HTMLModel",
            "placeholder": "​",
            "_view_module": "@jupyter-widgets/controls",
            "_model_module_version": "1.5.0",
            "value": " 48.0/48.0 [00:00&lt;00:00, 526B/s]",
            "_view_count": null,
            "_view_module_version": "1.5.0",
            "description_tooltip": null,
            "_model_module": "@jupyter-widgets/controls",
            "layout": "IPY_MODEL_2a950c24ae96480895f705179864619c"
          }
        },
        "26652c0d3dcc41298d6d35e03f095b2a": {
          "model_module": "@jupyter-widgets/controls",
          "model_name": "ProgressStyleModel",
          "state": {
            "_view_name": "StyleView",
            "_model_name": "ProgressStyleModel",
            "description_width": "initial",
            "_view_module": "@jupyter-widgets/base",
            "_model_module_version": "1.5.0",
            "_view_count": null,
            "_view_module_version": "1.2.0",
            "bar_color": null,
            "_model_module": "@jupyter-widgets/controls"
          }
        },
        "7b1c8b8f6d8742d4aa171b09b74a5e9a": {
          "model_module": "@jupyter-widgets/base",
          "model_name": "LayoutModel",
          "state": {
            "_view_name": "LayoutView",
            "grid_template_rows": null,
            "right": null,
            "justify_content": null,
            "_view_module": "@jupyter-widgets/base",
            "overflow": null,
            "_model_module_version": "1.2.0",
            "_view_count": null,
            "flex_flow": null,
            "width": null,
            "min_width": null,
            "border": null,
            "align_items": null,
            "bottom": null,
            "_model_module": "@jupyter-widgets/base",
            "top": null,
            "grid_column": null,
            "overflow_y": null,
            "overflow_x": null,
            "grid_auto_flow": null,
            "grid_area": null,
            "grid_template_columns": null,
            "flex": null,
            "_model_name": "LayoutModel",
            "justify_items": null,
            "grid_row": null,
            "max_height": null,
            "align_content": null,
            "visibility": null,
            "align_self": null,
            "height": null,
            "min_height": null,
            "padding": null,
            "grid_auto_rows": null,
            "grid_gap": null,
            "max_width": null,
            "order": null,
            "_view_module_version": "1.2.0",
            "grid_template_areas": null,
            "object_position": null,
            "object_fit": null,
            "grid_auto_columns": null,
            "margin": null,
            "display": null,
            "left": null
          }
        },
        "eddea927350f4518be3b9cba935efbf8": {
          "model_module": "@jupyter-widgets/controls",
          "model_name": "DescriptionStyleModel",
          "state": {
            "_view_name": "StyleView",
            "_model_name": "DescriptionStyleModel",
            "description_width": "",
            "_view_module": "@jupyter-widgets/base",
            "_model_module_version": "1.5.0",
            "_view_count": null,
            "_view_module_version": "1.2.0",
            "_model_module": "@jupyter-widgets/controls"
          }
        },
        "2a950c24ae96480895f705179864619c": {
          "model_module": "@jupyter-widgets/base",
          "model_name": "LayoutModel",
          "state": {
            "_view_name": "LayoutView",
            "grid_template_rows": null,
            "right": null,
            "justify_content": null,
            "_view_module": "@jupyter-widgets/base",
            "overflow": null,
            "_model_module_version": "1.2.0",
            "_view_count": null,
            "flex_flow": null,
            "width": null,
            "min_width": null,
            "border": null,
            "align_items": null,
            "bottom": null,
            "_model_module": "@jupyter-widgets/base",
            "top": null,
            "grid_column": null,
            "overflow_y": null,
            "overflow_x": null,
            "grid_auto_flow": null,
            "grid_area": null,
            "grid_template_columns": null,
            "flex": null,
            "_model_name": "LayoutModel",
            "justify_items": null,
            "grid_row": null,
            "max_height": null,
            "align_content": null,
            "visibility": null,
            "align_self": null,
            "height": null,
            "min_height": null,
            "padding": null,
            "grid_auto_rows": null,
            "grid_gap": null,
            "max_width": null,
            "order": null,
            "_view_module_version": "1.2.0",
            "grid_template_areas": null,
            "object_position": null,
            "object_fit": null,
            "grid_auto_columns": null,
            "margin": null,
            "display": null,
            "left": null
          }
        }
      }
    }
  },
  "cells": [
    {
      "cell_type": "code",
      "metadata": {
        "colab": {
          "base_uri": "https://localhost:8080/"
        },
        "id": "Mo_hATWaG3pg",
        "outputId": "dd14f410-53b2-44fc-a636-1966f5328393"
      },
      "source": [
        "import pandas as pd\n",
        "import numpy as np\n",
        "import io\n",
        "import os\n",
        "import re\n",
        "from google.colab import drive\n",
        "!pip install transformers\n",
        "!pip install pickle5\n",
        "from transformers import pipeline\n",
        "drive.mount('/content/drive')"
      ],
      "execution_count": 1,
      "outputs": [
        {
          "output_type": "stream",
          "text": [
            "Collecting transformers\n",
            "\u001b[?25l  Downloading https://files.pythonhosted.org/packages/d5/43/cfe4ee779bbd6a678ac6a97c5a5cdeb03c35f9eaebbb9720b036680f9a2d/transformers-4.6.1-py3-none-any.whl (2.2MB)\n",
            "\u001b[K     |████████████████████████████████| 2.3MB 6.5MB/s \n",
            "\u001b[?25hRequirement already satisfied: requests in /usr/local/lib/python3.7/dist-packages (from transformers) (2.23.0)\n",
            "Requirement already satisfied: numpy>=1.17 in /usr/local/lib/python3.7/dist-packages (from transformers) (1.19.5)\n",
            "Requirement already satisfied: packaging in /usr/local/lib/python3.7/dist-packages (from transformers) (20.9)\n",
            "Collecting sacremoses\n",
            "\u001b[?25l  Downloading https://files.pythonhosted.org/packages/75/ee/67241dc87f266093c533a2d4d3d69438e57d7a90abb216fa076e7d475d4a/sacremoses-0.0.45-py3-none-any.whl (895kB)\n",
            "\u001b[K     |████████████████████████████████| 901kB 31.4MB/s \n",
            "\u001b[?25hCollecting tokenizers<0.11,>=0.10.1\n",
            "\u001b[?25l  Downloading https://files.pythonhosted.org/packages/d4/e2/df3543e8ffdab68f5acc73f613de9c2b155ac47f162e725dcac87c521c11/tokenizers-0.10.3-cp37-cp37m-manylinux_2_5_x86_64.manylinux1_x86_64.manylinux_2_12_x86_64.manylinux2010_x86_64.whl (3.3MB)\n",
            "\u001b[K     |████████████████████████████████| 3.3MB 42.4MB/s \n",
            "\u001b[?25hRequirement already satisfied: filelock in /usr/local/lib/python3.7/dist-packages (from transformers) (3.0.12)\n",
            "Requirement already satisfied: regex!=2019.12.17 in /usr/local/lib/python3.7/dist-packages (from transformers) (2019.12.20)\n",
            "Collecting huggingface-hub==0.0.8\n",
            "  Downloading https://files.pythonhosted.org/packages/a1/88/7b1e45720ecf59c6c6737ff332f41c955963090a18e72acbcbeac6b25e86/huggingface_hub-0.0.8-py3-none-any.whl\n",
            "Requirement already satisfied: tqdm>=4.27 in /usr/local/lib/python3.7/dist-packages (from transformers) (4.41.1)\n",
            "Requirement already satisfied: importlib-metadata; python_version < \"3.8\" in /usr/local/lib/python3.7/dist-packages (from transformers) (4.5.0)\n",
            "Requirement already satisfied: idna<3,>=2.5 in /usr/local/lib/python3.7/dist-packages (from requests->transformers) (2.10)\n",
            "Requirement already satisfied: chardet<4,>=3.0.2 in /usr/local/lib/python3.7/dist-packages (from requests->transformers) (3.0.4)\n",
            "Requirement already satisfied: certifi>=2017.4.17 in /usr/local/lib/python3.7/dist-packages (from requests->transformers) (2021.5.30)\n",
            "Requirement already satisfied: urllib3!=1.25.0,!=1.25.1,<1.26,>=1.21.1 in /usr/local/lib/python3.7/dist-packages (from requests->transformers) (1.24.3)\n",
            "Requirement already satisfied: pyparsing>=2.0.2 in /usr/local/lib/python3.7/dist-packages (from packaging->transformers) (2.4.7)\n",
            "Requirement already satisfied: click in /usr/local/lib/python3.7/dist-packages (from sacremoses->transformers) (7.1.2)\n",
            "Requirement already satisfied: joblib in /usr/local/lib/python3.7/dist-packages (from sacremoses->transformers) (1.0.1)\n",
            "Requirement already satisfied: six in /usr/local/lib/python3.7/dist-packages (from sacremoses->transformers) (1.15.0)\n",
            "Requirement already satisfied: typing-extensions>=3.6.4; python_version < \"3.8\" in /usr/local/lib/python3.7/dist-packages (from importlib-metadata; python_version < \"3.8\"->transformers) (3.7.4.3)\n",
            "Requirement already satisfied: zipp>=0.5 in /usr/local/lib/python3.7/dist-packages (from importlib-metadata; python_version < \"3.8\"->transformers) (3.4.1)\n",
            "Installing collected packages: sacremoses, tokenizers, huggingface-hub, transformers\n",
            "Successfully installed huggingface-hub-0.0.8 sacremoses-0.0.45 tokenizers-0.10.3 transformers-4.6.1\n",
            "Collecting pickle5\n",
            "\u001b[?25l  Downloading https://files.pythonhosted.org/packages/f7/4c/5c4dd0462c8d3a6bc4af500a6af240763c2ebd1efdc736fc2c946d44b70a/pickle5-0.0.11.tar.gz (132kB)\n",
            "\u001b[K     |████████████████████████████████| 133kB 6.5MB/s \n",
            "\u001b[?25hBuilding wheels for collected packages: pickle5\n",
            "  Building wheel for pickle5 (setup.py) ... \u001b[?25l\u001b[?25hdone\n",
            "  Created wheel for pickle5: filename=pickle5-0.0.11-cp37-cp37m-linux_x86_64.whl size=219282 sha256=9cbabd3d7387bc3160b84cd977ef9128aad73c265a2b4c0199be5c224fe02221\n",
            "  Stored in directory: /root/.cache/pip/wheels/a6/90/95/f889ca4aa8b0e0c7f21c8470b6f5d6032f0390a3a141a9a3bd\n",
            "Successfully built pickle5\n",
            "Installing collected packages: pickle5\n",
            "Successfully installed pickle5-0.0.11\n",
            "Mounted at /content/drive\n"
          ],
          "name": "stdout"
        }
      ]
    },
    {
      "cell_type": "code",
      "metadata": {
        "id": "S-szMWkuHPBg"
      },
      "source": [
        "data_path = '/content/drive/MyDrive/colab_data'\n",
        "processed_letter_df = pd.read_csv(os.path.join(data_path, 'processed_letter.csv'))\n",
        "processed_letter_df['tokens'] = processed_letter_df.clean_letter.apply(lambda x: x.split(' '))"
      ],
      "execution_count": 2,
      "outputs": []
    },
    {
      "cell_type": "markdown",
      "metadata": {
        "id": "AgND57aQIw2P"
      },
      "source": [
        "## Transformers sentiment analysis"
      ]
    },
    {
      "cell_type": "code",
      "metadata": {
        "colab": {
          "base_uri": "https://localhost:8080/",
          "height": 213,
          "referenced_widgets": [
            "feed89c5c6ff41c9b81af5a354bbbee8",
            "8cc26a20a4c54e1d88150fec65016f41",
            "b36d7148d0734e0e8b8d6d30c39af5ed",
            "150fac3fd0534592bf88cba191971dcd",
            "ab2e34bb4150403f9311b54cf0847c40",
            "2b0b0771c55d4a1cbcebfb07502acabc",
            "727a168bd64b4606bb3ace57ffff336c",
            "ece3e61615cd4c23964f2a9aa01cd5c4",
            "a5e99358a51844febb069e37d955fdef",
            "977e8733e96f401a9d0e2ff146aade7a",
            "df6bc0922d474b62be9012bb8ece8412",
            "51a69500766b4409ae12dfb0fc8ddf5b",
            "1dad4b535ece4baa88d63e95b3b9be51",
            "2bfa3665aaea4875b2431fc3af14448e",
            "028b1619322e480ea7dcf750aaf6f8cb",
            "fc15eca6ab75497da12a1241e4253c6a",
            "896a964aa53a479d916de01b0f19caec",
            "6d3c7c1183514e078d8b1dc8303b99df",
            "cbb944d6f8f54e2eb55ff175ef76b4e3",
            "b2496b8645d841d69ef7a8641324531f",
            "5e0c665d39e743bbb0877dc03e54a85c",
            "398b57d715e34c7eb76751c98bf4454e",
            "4c01b9b397b840c5b936e687c2eb0a37",
            "2d58f040ed1d4583a5a7a184b6a1384d",
            "fa2b4ae3e2c349f5a7234917dd4953f7",
            "8ebe2238e2574e36b01c8a77e8599887",
            "aaa13584cb714dc39be240a831590aa1",
            "f199a180a45d411bb9552eb9e3da28b0",
            "26652c0d3dcc41298d6d35e03f095b2a",
            "7b1c8b8f6d8742d4aa171b09b74a5e9a",
            "eddea927350f4518be3b9cba935efbf8",
            "2a950c24ae96480895f705179864619c"
          ]
        },
        "id": "Sf362MlHHfnH",
        "outputId": "d04efe7e-2d0e-4640-86b3-8bd5b5563419"
      },
      "source": [
        "from transformers import pipeline\n",
        "classifier = pipeline('sentiment-analysis')"
      ],
      "execution_count": 3,
      "outputs": [
        {
          "output_type": "display_data",
          "data": {
            "application/vnd.jupyter.widget-view+json": {
              "model_id": "feed89c5c6ff41c9b81af5a354bbbee8",
              "version_minor": 0,
              "version_major": 2
            },
            "text/plain": [
              "HBox(children=(FloatProgress(value=0.0, description='Downloading', max=629.0, style=ProgressStyle(description_…"
            ]
          },
          "metadata": {
            "tags": []
          }
        },
        {
          "output_type": "stream",
          "text": [
            "\n"
          ],
          "name": "stdout"
        },
        {
          "output_type": "display_data",
          "data": {
            "application/vnd.jupyter.widget-view+json": {
              "model_id": "a5e99358a51844febb069e37d955fdef",
              "version_minor": 0,
              "version_major": 2
            },
            "text/plain": [
              "HBox(children=(FloatProgress(value=0.0, description='Downloading', max=267844284.0, style=ProgressStyle(descri…"
            ]
          },
          "metadata": {
            "tags": []
          }
        },
        {
          "output_type": "stream",
          "text": [
            "\n"
          ],
          "name": "stdout"
        },
        {
          "output_type": "display_data",
          "data": {
            "application/vnd.jupyter.widget-view+json": {
              "model_id": "896a964aa53a479d916de01b0f19caec",
              "version_minor": 0,
              "version_major": 2
            },
            "text/plain": [
              "HBox(children=(FloatProgress(value=0.0, description='Downloading', max=231508.0, style=ProgressStyle(descripti…"
            ]
          },
          "metadata": {
            "tags": []
          }
        },
        {
          "output_type": "stream",
          "text": [
            "\n"
          ],
          "name": "stdout"
        },
        {
          "output_type": "display_data",
          "data": {
            "application/vnd.jupyter.widget-view+json": {
              "model_id": "fa2b4ae3e2c349f5a7234917dd4953f7",
              "version_minor": 0,
              "version_major": 2
            },
            "text/plain": [
              "HBox(children=(FloatProgress(value=0.0, description='Downloading', max=48.0, style=ProgressStyle(description_w…"
            ]
          },
          "metadata": {
            "tags": []
          }
        },
        {
          "output_type": "stream",
          "text": [
            "\n"
          ],
          "name": "stdout"
        }
      ]
    },
    {
      "cell_type": "code",
      "metadata": {
        "colab": {
          "base_uri": "https://localhost:8080/",
          "height": 142
        },
        "id": "VpvbMtrAHk0X",
        "outputId": "6827ab5f-0520-4d70-f0f9-d5ca97753605"
      },
      "source": [
        "top10freq_words = ['earnings', 'insurance', 'shareholder', 'stock', 'loss', 'gain', 'profit', 'increase', 'sell', 'rate']\n",
        "df = pd.DataFrame(columns=['text', 'sentiment', 'score'])\n",
        "for w in top10freq_words:\n",
        "  result = classifier(w)\n",
        "  new_row = {'text': w, 'sentiment':result[0]['label'], 'score':result[0]['score']}\n",
        "  df = df.append(new_row, ignore_index=True)\n",
        "df.head(3)"
      ],
      "execution_count": 8,
      "outputs": [
        {
          "output_type": "execute_result",
          "data": {
            "text/html": [
              "<div>\n",
              "<style scoped>\n",
              "    .dataframe tbody tr th:only-of-type {\n",
              "        vertical-align: middle;\n",
              "    }\n",
              "\n",
              "    .dataframe tbody tr th {\n",
              "        vertical-align: top;\n",
              "    }\n",
              "\n",
              "    .dataframe thead th {\n",
              "        text-align: right;\n",
              "    }\n",
              "</style>\n",
              "<table border=\"1\" class=\"dataframe\">\n",
              "  <thead>\n",
              "    <tr style=\"text-align: right;\">\n",
              "      <th></th>\n",
              "      <th>text</th>\n",
              "      <th>sentiment</th>\n",
              "      <th>score</th>\n",
              "    </tr>\n",
              "  </thead>\n",
              "  <tbody>\n",
              "    <tr>\n",
              "      <th>0</th>\n",
              "      <td>earnings</td>\n",
              "      <td>POSITIVE</td>\n",
              "      <td>0.999316</td>\n",
              "    </tr>\n",
              "    <tr>\n",
              "      <th>1</th>\n",
              "      <td>insurance</td>\n",
              "      <td>POSITIVE</td>\n",
              "      <td>0.993685</td>\n",
              "    </tr>\n",
              "    <tr>\n",
              "      <th>2</th>\n",
              "      <td>shareholder</td>\n",
              "      <td>POSITIVE</td>\n",
              "      <td>0.997295</td>\n",
              "    </tr>\n",
              "  </tbody>\n",
              "</table>\n",
              "</div>"
            ],
            "text/plain": [
              "          text sentiment     score\n",
              "0     earnings  POSITIVE  0.999316\n",
              "1    insurance  POSITIVE  0.993685\n",
              "2  shareholder  POSITIVE  0.997295"
            ]
          },
          "metadata": {
            "tags": []
          },
          "execution_count": 8
        }
      ]
    },
    {
      "cell_type": "markdown",
      "metadata": {
        "id": "N8vfioE_I3rl"
      },
      "source": [
        "## Transformers QA"
      ]
    },
    {
      "cell_type": "code",
      "metadata": {
        "id": "m8in3J1A7n8x"
      },
      "source": [
        "import pickle5 as pickle\n",
        "with open(os.path.join(data_path, 'letters_dict.pickle'), 'rb') as handle:\n",
        "    letters_dict = pickle.load(handle)"
      ],
      "execution_count": 14,
      "outputs": []
    },
    {
      "cell_type": "code",
      "metadata": {
        "id": "gZ8vPdoWIE_m"
      },
      "source": [
        "def get_answer_using_qa(nlp, question, context):\n",
        "    \"\"\"Get answer using a classifier trained with the QA technique\n",
        "    Parameters\n",
        "    ----------\n",
        "    nlp: Pipeline\n",
        "        Trained QA Pipeline\n",
        "    question: String\n",
        "        Question that the model will answer\n",
        "    context: String\n",
        "        The Context of the question\n",
        "    Returns\n",
        "    -------\n",
        "    Tuple\n",
        "        The answer, the score, the start position of the answer at the text and the final\n",
        "        position of the answer at the text\n",
        "    \"\"\"\n",
        "    result = nlp(question=question, context=context)\n",
        "\n",
        "    return result['answer'], round(result['score'], 4), result['start'], result['end']"
      ],
      "execution_count": 15,
      "outputs": []
    },
    {
      "cell_type": "code",
      "metadata": {
        "id": "aBwIDdGc69Fh"
      },
      "source": [
        "nlp = pipeline(\"question-answering\")\n"
      ],
      "execution_count": 17,
      "outputs": []
    },
    {
      "cell_type": "code",
      "metadata": {
        "colab": {
          "base_uri": "https://localhost:8080/"
        },
        "id": "tseB9jaL9NU9",
        "outputId": "a1b4bdb6-aa13-4f1d-d6c7-b36ca1daded5"
      },
      "source": [
        "print(sentence_after_regex_2008)"
      ],
      "execution_count": 18,
      "outputs": [
        {
          "output_type": "stream",
          "text": [
            "Berkshire sCorporatePerformancevs theS P500 AnnualPercentageChange inPer Share inS P500 BookValueof withDividends Relative Berkshire Included Results Year  1   2   1   2  1965                                                     23 8 10 0 13 8 1966                                                     20 3  11 7  32 0 1967                                                     11 0 30 9  19 9  1968                                                     19 0 11 0 8 0 1969                                                     16 2  8 4  24 6 1970                                                     12 0 3 9 8 1 1971                                                     16 4 14 6 1 8 1972                                                     21 7 18 9 2 8 1973                                                     4 7  14 8  19 5 1974                                                     5 5  26 4  31 9 1975                                                     21 9 37 2  15 3  1976                                                     59 3 23 6 35 7 1977                                                     31 9  7 4  39 3 1978                                                     24 0 6 4 17 6 1979                                                     35 7 18 2 17 5 1980                                                     19 3 32 3  13 0  1981                                                     31 4  5 0  36 4 1982                                                     40 0 21 4 18 6 1983                                                     32 3 22 4 9 9 1984                                                     13 6 6 1 7 5 1985                                                     48 2 31 6 16 6 1986                                                     26 1 18 6 7 5 1987                                                     19 5 5 1 14 4 1988                                                     20 1 16 6 3 5 1989                                                     44 4 31 7 12 7 1990                                                     7 4  3 1  10 5 1991                                                     39 6 30 5 9 1 1992                                                     20 3 7 6 12 7 1993                                                     14 3 10 1 4 2 1994                                                     13 9 1 3 12 6 1995                                                     43 1 37 6 5 5 1996                                                     31 8 23 0 8 8 1997                                                     34 1 33 4  7 1998                                                     48 3 28 6 19 7 1999                                                      5 21 0  20 5  2000                                                     6 5  9 1  15 6 2001                                                      6 2   11 9  5 7 2002                                                     10 0  22 1  32 1 2003                                                     21 0 28 7  7 7  2004                                                     10 5 10 9   4  2005                                                     6 4 4 9 1 5 2006                                                     18 4 15 8 2 6 2007                                                     11 0 5 5 5 5 2008                                                      9 6   37 0  27 4 CompoundedAnnualGain 1965 2008                         20 3  8 9  11 4 OverallGain 1964 2008                                    362,319  4,276  Notes  Data are for calendar years with these exceptions  1965 and 1966, year ended 9 30  1967, 15 months ended 12 31  Starting in 1979, accounting rules required insurance companies to value the equity securities they hold at market rather than at the lower of cost or market, which was previously the requirement  In this table, Berkshire s results through1978havebeenrestatedtoconformtothechangedrules Inallotherrespects,theresultsarecalculatedusing thenumbersoriginallyreported  The S P 500 numbers are pre tax whereas the Berkshire numbers are after tax  If a corporation such as Berkshire weresimplytohaveownedtheS P500andaccruedtheappropriatetaxes,itsresultswouldhavelaggedtheS P500 in years when that index showed a positive return, but would have exceeded the S P 500 in years when the index showedanegativereturn Overtheyears,thetaxcostswouldhavecausedtheaggregatelagtobesubstantial  2BERKSHIREHATHAWAYINC  TotheShareholdersofBerkshireHathawayInc   Our decrease in net worth during 2008 was  11 5 billion, which reduced the per share book value of bothourClassAandClassBstockby9 6  Overthelast44years thatis,sincepresentmanagementtookover  bookvaluehasgrownfrom 19to 70,530,arateof20 3 compoundedannually   The table on the preceding page, recording both the 44 year performance of Berkshire s book value and the S P 500 index, shows that 2008 was the worst year for each  The period was devastating as well for corporate and municipal bonds, real estate and commodities  By yearend, investors of all stripes were bloodied andconfused,muchasiftheyweresmallbirdsthathadstrayedintoabadmintongame  Astheyearprogressed,aseriesoflife threateningproblemswithinmanyoftheworld sgreatfinancial institutions was unveiled  This led to a dysfunctional credit market that in important respects soon turned non functional  The watchword throughout the country became the creed I saw on restaurant walls when I was young  InGodwetrust allotherspaycash   By the fourth quarter, the credit crisis, coupled with tumbling home and stock prices, had produced a paralyzingfearthatengulfedthecountry Afreefallinbusinessactivityensued,acceleratingatapacethatIhave never before witnessed  The U S    and much of the world   became trapped in a vicious negative feedback cycle Fearledtobusinesscontraction,andthatinturnledtoevengreaterfear  Thisdebilitatingspiralhasspurredourgovernmenttotakemassiveaction Inpokerterms,theTreasury and the Fed have gone  all in   Economic medicine that was previously meted out by the cupful has recently been dispensed by the barrel  These once unthinkable dosages will almost certainly bring on unwelcome aftereffects  Their precise nature is anyone s guess, though one likely consequence is an onslaught of inflation  Moreover, major industries have become dependent on Federal assistance, and they will be followed by cities and states bearing mind boggling requests  Weaning these entities from the public teat will be a political challenge Theywon tleavewillingly  Whateverthedownsidesmaybe,strongandimmediateactionbygovernmentwasessentiallastyearif the financial system was to avoid a total breakdown  Had one occurred, the consequences for every area of our economywouldhavebeencataclysmic Likeitornot,theinhabitantsofWallStreet,MainStreetandthevarious SideStreetsofAmericawereallinthesameboat  Amidthisbadnews,however,neverforgetthatourcountryhasfacedfarworsetravails inthepast In the20thCenturyalone,wedealtwithtwogreatwars oneofwhichweinitiallyappearedtobelosing  adozenor   so panics and recessions  virulent inflation that led to a 2112  prime rate in 1980  and the Great Depression of the 1930s, when unemployment ranged between 15  and 25  for many years  America has had noshortage of challenges  Without fail, however, we ve overcome them  In the face of those obstacles   and many others   the real standard of living for Americans improved nearly seven fold during the 1900s, while the Dow Jones Industrials rose from 66to 11,497 Compare the record of this periodwiththedozensofcenturies duringwhich humans secured only tiny gains, if any, in how they lived  Though the path has not been smooth, our economic systemhasworkedextraordinarilywellovertime Ithasunleashedhumanpotentialasnoothersystemhas,andit willcontinuetodoso America sbestdayslieahead   All per share figures used in this report apply to Berkshire s A shares  Figures for the B shares are 1 30thofthoseshownforA  3Take a look again at the 44 year table on page 2  In 75  of those years, the S P stocks recorded a gain Iwouldguessthataroughlysimilarpercentageofyearswillbepositiveinthenext44 ButneitherCharlie Munger, my partner in running Berkshire, nor I can predict the winning and losing years in advance   In our usualopinionatedview,wedon tthinkanyoneelsecaneither  We recertain,forexample,thattheeconomywill be in shambles throughout 2009   and, for that matter, probably well beyond   but that conclusion does not tell uswhetherthestockmarketwillriseorfall  Ingoodyearsandbad,CharlieandIsimplyfocusonfourgoals   1  maintaining Berkshire s Gibraltar like financial position, which features huge amounts of excess liquidity, near term obligations that are modest, and dozens of sources of earnings andcash   2  widening the  moats  aroundouroperating businesses thatgivethemdurable competitive advantages   3  acquiringanddevelopingnewandvariedstreamsofearnings   4  expandingandnurturingthecadreofoutstandingoperatingmanagerswho,overtheyears, havedeliveredBerkshireexceptionalresults  Berkshirein2008 MostoftheBerkshirebusinesseswhoseresultsaresignificantlyaffectedbytheeconomyearnedbelow theirpotentiallastyear,andthatwillbetruein2009aswell Ourretailerswerehitparticularlyhard,aswereour operations tied to residential construction  In aggregate, however, our manufacturing, service and retail businessesearnedsubstantialsumsandmostofthem particularlythelargerones continuetostrengthentheir competitive positions  Moreover, we are fortunate that Berkshire s two most important businesses   our insurance and utility groups   produce earnings that are not correlated to those of the general economy  Both businessesdeliveredoutstandingresultsin2008andhaveexcellentprospects  As predicted in last year s report, the exceptional underwriting profits that our insurance businesses realizedin2007werenotrepeatedin2008 Nevertheless,theinsurancegroupdeliveredanunderwritinggainfor thesixthconsecutiveyear Thismeansthatour 58 5billionofinsurance float  moneythatdoesn tbelongto us but that we hold and invest for our own benefit   cost us less than zero  In fact, wewere paid  2 8billion to holdourfloatduring2008 CharlieandIfindthisenjoyable  Over time, most insurers experience a substantial underwriting loss, which makes their economics far different from ours  Of course, we too will experience underwriting losses in some years  But we have the best groupofmanagersintheinsurancebusiness,andinmostcasestheyoverseeentrenchedandvaluablefranchises  Considering these strengths, I believe that we will earn an underwriting profit over the years and that our float will therefore cost us nothing  Our insurance operation, the core business of Berkshire, is an economic powerhouse  Charlie and I are equally enthusiastic about our utility business, which had record earnings last year and is poised for future gains  DaveSokol and Greg Abel, the managers of this operation, have achieved results unmatched elsewhere in the utility industry  I love it when they come up with new projects because in this capital intensive businesstheseventuresareoftenlarge SuchprojectsofferBerkshiretheopportunitytoputout substantialsumsatdecentreturns  4Things also went well on the capital allocation front last year  Berkshire is always a buyer of both businesses and securities, and the disarray in markets gave us a tailwind in our purchases  When investing, pessimismisyourfriend,euphoriatheenemy  In our insurance portfolios, we made three large investments on terms that would be unavailable in   normal markets  These should add about  112 billion pre tax to Berkshire s annual earnings and offer possibilities for capital gains as well  We also closed on our Marmon acquisition  we own 64  of the company nowandwillpurchaseitsremainingstockoverthenextsixyears  Additionally,certainofoursubsidiariesmade  tuck in acquisitionsthatwillstrengthentheircompetitivepositionsandearnings  That sthegoodnews Butthere sanotherlesspleasantreality During2008Ididsomedumbthingsin investments  I made at least one major mistake of commission and several lesser ones that also hurt  I will tell you more about these later  Furthermore, I made some errors of omission, sucking my thumb when new facts cameinthatshouldhavecausedmetore examinemythinkingandpromptlytakeaction  Additionally, the market value of the bonds and stocks that we continue to hold suffered a significant declinealongwiththegeneralmarket ThisdoesnotbotherCharlieandme Indeed,weenjoysuchpricedeclines if we have funds available to increase our positions  Long ago, Ben Graham taught me that  Price is what you pay  value is what you get   Whether we re talking about socks or stocks, I like buying quality merchandise whenitismarkeddown  Yardsticks Berkshire has two major areas of value  The first is our investments  stocks, bonds and cash equivalents  At yearend those totaled  122 billion  not counting the investments held by our finance and utility operations, which we assign to our second bucket of value   About  58 5 billion of that total is funded by our insurancefloat  Berkshire ssecondcomponentofvalueisearningsthatcomefromsourcesotherthaninvestmentsand insurance  These earnings are delivered by our 67 non insurance companies, itemized on page 96  We exclude our insurance earnings from this calculation because the value of our insurance operation comes from the investablefundsitgenerates,andwehavealreadyincludedthisfactorinourfirstbucket  In2008,ourinvestmentsfellfrom 90,343pershareofBerkshire afterminorityinterest to 77,793,a decrease thatwascausedbyadecline inmarket prices, notbynetsales ofstocksorbonds Oursecondsegment ofvaluefellfrompre taxearningsof 4,093perBerkshireshareto 3,921 againafterminorityinterest   Bothoftheseperformancesareunsatisfactory Overtime,weneedtomakedecentgainsineachareaif wearetoincreaseBerkshire sintrinsicvalueatanacceptablerate Goingforward,however,ourfocuswillbeon the earnings segment, just as it has been for several decades  We like buying underpriced securities, but welike buyingfairly pricedoperatingbusinessesevenmore  Now, let s take a look at the four major operating sectors of Berkshire  Each of these has vastly different balance sheet and income account characteristics  Therefore, lumping them together, as is done in standardfinancialstatements,impedesanalysis Sowe llpresentthemasfourseparatebusinesses,whichishow CharlieandIviewthem  5RegulatedUtilityBusiness Berkshire has an 87 4   diluted  interest in MidAmerican Energy Holdings, which owns a wide variety of utility operations  The largest of these are  1  Yorkshire Electricity and Northern Electric, whose 3 8 million end users make it the U K  s third largest distributor of electricity   2  MidAmerican Energy, which serves 723,000 electric customers, primarily in Iowa   3  Pacific Power and Rocky Mountain Power, serving about 1 7 million electric customers in six western states  and  4  Kern River and Northern Natural pipelines, whichcarryabout9 ofthenaturalgasconsumedintheU S  Our partners in ownership of MidAmerican are its two terrific managers, Dave Sokol and Greg Abel, and my long time friend, Walter Scott  It s unimportant how many votes each party has  we make major moves only when we are unanimous in thinking them wise  Nine years of working with Dave, Greg and Walter have reinforcedmyoriginalbelief Berkshirecouldn thavebetterpartners  Somewhat incongruously, MidAmerican alsoownsthesecondlargest real estate brokerage firm inthe U S , HomeServices of America  This company operates through 21 locally branded firms that have 16,000 agents  Last year was a terrible year for home sales, and 2009 looks no better  We will continue, however, to acquirequalitybrokerageoperationswhentheyareavailableatsensibleprices  HerearesomekeyfiguresonMidAmerican soperations  Earnings inmillions  2008 2007 U K utilities                                                                339   337 Iowautility                                                               425 412 Westernutilities                                                           703 692 Pipelines                                                                 595 473 HomeServices                                                              45  42 Other net                                                                 186 130 Operatingearningsbeforecorporateinterestandtaxes                             2,203 2,086 ConstellationEnergy                                                        1,092   Interest,otherthantoBerkshire                                                332   312  InterestonBerkshirejuniordebt                                                111   108  Incometax                                                                 1,002   477  Netearnings                                                                1,850   1,189 EarningsapplicabletoBerkshire                                                1,704   1,114 Debtowedtoothers                                                        19,145 19,002 DebtowedtoBerkshire                                                      1,087 821  Consistsofabreakupfeeof 175millionandaprofitonourinvestmentof 917million    IncludesinterestearnedbyBerkshire netofrelatedincometaxes of 72in2008and 70in2007  MidAmerican s record in operating its regulated electric utilities and natural gas pipelines is truly outstanding Here ssomebackupforthatclaim  Ourtwopipelines,KernRiverandNorthernNatural,werebothacquiredin2002 AfirmcalledMastio regularly ranks pipelines for customer satisfaction  Among the 44 rated, Kern River came in 9th when we purchaseditandNorthernNaturalranked39th Therewasworktodo  InMastio s2009report,KernRiverranked1standNorthernNatural3rd CharlieandIcouldn tbemore proudofthisperformance Itcameaboutbecausehundredsofpeopleateachoperationcommittedthemselvesto anewcultureandthendeliveredontheircommitment  Achievementsatourelectricutilitieshavebeenequallyimpressive In1995,MidAmericanbecamethe major provider of electricity in Iowa  By judicious planning and a zeal for efficiency, the company has kept electricpricesunchangedsinceourpurchaseandhaspromisedtoholdthemsteadythrough2013  6MidAmerican has maintained this extraordinary price stability while making Iowa number one among allstates inthepercentage ofitsgeneration capacity thatcomesfromwind Sinceourpurchase,MidAmerican s wind basedfacilitieshavegrownfromzerotoalmost20 oftotalcapacity  Similarly, whenwepurchased PacifiCorp in2006,wemovedaggressively toexpandwindgeneration  Wind capacity was then 33 megawatts  It s now 794, with more coming   Arriving at PacifiCorp, we found  wind  of a different sort  The company had 98 committees that met frequently  Now there are 28  Meanwhile, wegenerateanddeliverconsiderablymoreelectricity,doingsowith2 feweremployees   In2008alone,MidAmericanspent 1 8billiononwindgenerationatourtwooperations,andtodaythe company is number one in the nation among regulated utilities in ownership of wind capacity  By the way, compare that  1 8billion to the  1 1billion of pre tax earnings ofPacifiCorp  showninthetable as Western   andIowa Inourutilitybusiness,wespendallweearn,andthensome,inordertofulfilltheneedsofourservice areas  Indeed, MidAmerican has not paid a dividend since Berkshire bought into the company in early 2000 Its earnings have instead been reinvested to develop the utility systems our customers require and deserve  In exchange,wehavebeenallowedtoearnafairreturnonthehugesumswehaveinvested It sagreatpartnership forallconcerned               Ourlong avowedgoalistobethe buyerofchoice forbusinesses particularlythosebuiltandowned by families  The way to achieve this goal is to deserve it  That means we must keep our promises  avoid leveraging upacquired businesses  grant unusual autonomy to our managers  and hold the purchased companies throughthickandthin thoughwepreferthickandthicker   Our record matches our rhetoric  Most buyers competing against us, however, follow a different path  For them, acquisitions are  merchandise   Before the ink dries on their purchase contracts, these operators are contemplating  exit strategies   We have a decided advantage, therefore, when we encounter sellers who truly careaboutthefutureoftheirbusinesses  Some years back our competitors were known as  leveraged buyout operators   But LBO became a badname SoinOrwellianfashion,thebuyoutfirmsdecidedtochangetheirmoniker Whattheydidnotchange, though, were the essential ingredients of their previous operations, including their cherished fee structures and loveofleverage  Their new label became  private equity,  a name that turns the facts upside down  A purchase of a business by these firms almost invariably results in dramatic reductions in the equity portion of the acquiree s capital structure compared tothatpreviously existing  Anumberoftheseacquirees,purchasedonlytwotothree years ago, are now in mortal danger because of the debt piled on them by their private equity buyers  Much of thebankdebtissellingbelow70 onthedollar,andthepublicdebthastakenafargreaterbeating Theprivate  equityfirms,itshouldbenoted,arenotrushingintoinjecttheequitytheirwardsnowdesperatelyneed Instead, they rekeepingtheirremainingfundsveryprivate  In the regulated utility field there are no large family owned businesses  Here, Berkshire hopes to be the  buyer of choice  of regulators  It is they, rather than selling shareholders, who judge the fitness of purchaserswhentransactionsareproposed  Thereisnohidingyourhistory whenyoustandbefore theseregulators  Theycan anddo calltheir counterparts in other states where you operate and ask how you have behaved in respect to all aspects of the business,includingawillingnesstocommitadequateequitycapital  7When MidAmerican proposed its purchase of PacifiCorp in 2005, regulators in the six new states we wouldbeservingimmediatelycheckedourrecordinIowa Theyalsocarefullyevaluatedourfinancingplansand capabilities Wepassedthisexamination,justasweexpecttopassfutureones  There are two reasons for our confidence  First, Dave Sokol and Greg Abel are going to run any businesses withwhichtheyareassociated inafirst class manner  Theydon tknowofanyotherwaytooperate  Beyondthatisthefactthatwehopetobuymoreregulatedutilitiesinthefuture andweknowthatourbusiness behaviorinjurisdictionswhereweareoperatingtodaywilldeterminehowwearewelcomedbynewjurisdictions tomorrow  Insurance OurinsurancegrouphaspropelledBerkshire sgrowthsincewefirstenteredthebusinessin1967 This happyresulthasnotbeenduetogeneralprosperityintheindustry Duringthe25yearsendingin2007,returnon net worth for insurers averaged 8 5  versus 14 0  for the Fortune 500  Clearly our insurance CEOs have not hadthewindattheirback YetthesemanagershaveexcelledtoadegreeCharlieandIneverdreamedpossiblein theearlydays WhydoIlovethem Letmecounttheways  At GEICO, Tony Nicely   now in his 48th year at the company after joining it when he was 18   continues to gobble up market share while maintaining disciplined underwriting  When Tony became CEO in 1993,GEICOhad2 0 oftheautoinsurancemarket,alevelatwhichthecompanyhadlongbeenstuck Nowwe havea7 7 share,upfrom7 2 in2007  The combination of new business gains and an improvement in the renewal rate on existing business has moved GEICO into the number three position among auto insurers  In 1995, when Berkshire purchased control,GEICOwasnumberseven NowwetrailonlyStateFarmandAllstate  GEICOgrows because it saves money for motorists  No one likes to buy auto insurance  But virtually everyonelikestodrive So,sensibly,driverslookforthelowest costinsuranceconsistentwithfirst classservice  Efficiency is the key to low cost, and efficiency is Tony s specialty  Five years ago the number of policies per employeewas299 In2008,thenumberwas439,ahugeincreaseinproductivity  As we view GEICO s current opportunities, Tony and I feel like two hungry mosquitoes in a nudist camp  Juicy targets are everywhere  First, and most important, our new business in auto insurance is now exploding Americansarefocusedonsavingmoneyasneverbefore,andtheyareflockingtoGEICO InJanuary 2009,wesetamonthlyrecord byawidemargin forgrowthinpolicyholders Thatrecordwilllastexactly28 days Aswegotopress,it sclearFebruary sgainwillbeevenbetter  Beyond this, we are gaining ground in allied lines  Last year, our motorcycle policies increased by 23 4 , which raised our market share from about 6  to more than 7   Our RV and ATV businesses are also growing rapidly, albeit from a small base  And, finally, we recently began insuring commercial autos, a big marketthatoffersrealpromise  GEICO is now saving money for millions of Americans  Go to GEICO com or call 1 800 847 7536 andseeifwecansaveyoumoneyaswell  General Re, our large international reinsurer, also had an outstanding year in 2008  Some time back, thecompanyhadseriousproblems whichItotallyfailedtodetectwhenwepurchaseditinlate1998  By2001, when Joe Brandon took over as CEO, assisted by his partner, Tad Montross, General Re s culture had further deteriorated, exhibiting a loss of discipline in underwriting, reserving and expenses  After Joe and Tad took charge, these problems were decisively and successfully addressed  Today General Re has regained its luster  Last spring Joe stepped down, and Tad became CEO  Charlie and I are grateful to Joe for righting the ship and arecertainthat,withTad,GeneralRe sfutureisinthebestofhands  8Reinsurance is a business of long term promises, sometimes extending for fifty years or more  This past year has retaught clients a crucial principle  A promise is nobetter than the person or institution making it  That swhereGeneralReexcels ItistheonlyreinsurerthatisbackedbyanAAAcorporation BenFranklinonce said, It sdifficultforanemptysacktostandupright  That snoworryforGeneralReclients  Ourthird major insurance operation is Ajit Jain s reinsurance division, headquartered inStamford and staffed by only 31 employees  This may be one of the most remarkable businesses in the world, hard to characterizebuteasytoadmire  From year to year, Ajit s business is never the same  It features very large transactions, incredible speedofexecutionandawillingnesstoquoteonpoliciesthatleaveothersscratchingtheirheads Whenthereisa hugeandunusualrisktobeinsured,Ajitisalmostcertaintobecalled  Ajit came to Berkshire in 1986  Very quickly, I realized that we had acquired an extraordinary talent  SoI did the logical thing  I wrote his parents in NewDelhiandaskediftheyhadanother onelikehimathome  Ofcourse,Iknewtheanswerbeforewriting Thereisn tanyonelikeAjit  Our smaller insurers are just as outstanding in their own way as the  big three,  regularly delivering valuable float to us at a negative cost  We aggregate their results below under  Other Primary   For space reasons, we don t discuss these insurers individually  But be assured that Charlie and I appreciate the contributionofeach  Hereistherecordforthefourlegstoourinsurancestool Theunderwritingprofitssignifythatallfour provided funds to Berkshire last year without cost, just as they did in 2007  And in both years our underwriting profitabilitywasconsiderablybetterthanthatachievedbytheindustry Ofcourse,weourselveswillperiodically have a terrible year in insurance  But, overall, I expect us to average an underwriting profit  If so, we will be usingfreefundsoflargesizefortheindefinitefuture  UnderwritingProfit YearendFloat  inmillions  InsuranceOperations 2008 2007 2008 2007 GeneralRe                          342   555  21,074  23,009 BHReinsurance                   1,324 1,427 24,221 23,692 GEICO                          916 1,113 8,454 7,768 OtherPrimary                     210 279 4,739 4,229  2,792  3,374  58,488  58,698 Manufacturing,ServiceandRetailingOperations Ouractivities inthispartofBerkshirecoverthewaterfront Let slook,though,atasummarybalancesheet andearningsstatementfortheentiregroup  BalanceSheet12 31 08 inmillions  Assets LiabilitiesandEquity Cashandequivalents                     2,497 Notespayable                           2,212 Accountsandnotesreceivable            5,047 Othercurrentliabilities                 8,087 Inventory                            7,500 Totalcurrentliabilities                  10,299 Othercurrentassets                    752 Totalcurrentassets                     15,796 Goodwillandotherintangibles           16,515 Deferredtaxes                        2,786 Fixedassets                          16,338 Termdebtandotherliabilities            6,033 Otherassets                          1,248 Equity                               30,779  49,897  49,897 9EarningsStatement inmillions  2008 2007 2006 Revenues                                                            66,099  59,100  52,660 Operatingexpenses includingdepreciationof 1,280in2008, 955in2007and  823in2006                                                       61,937 55,026 49,002 Interestexpense                                                      139 127 132 Pre taxearnings                                                      4,023  3,947  3,526  Incometaxesandminorityinterests                                       1,740 1,594 1,395 Netincome                                                            2,283   2,353   2,131  Doesnotincludepurchase accountingadjustments  This motley group, which sells products ranging from lollipops to motor homes, earned an impressive 17 9  on average tangible net worth last year  It s also noteworthy that these operations used only minor financial leverage in achieving that return  Clearly we own some terrific businesses  We purchased many of them, however, at large premiums to net worth   a point reflected in the goodwill item shown on our balance sheet andthatfactreducestheearningsonouraveragecarryingvalueto8 1   Though the full year result was satisfactory, earnings of many of the businesses in this group hit the skids in last year s fourth quarter  Prospects for 2009look worse  Nevertheless, thegroupretains strongearning powerevenundertoday sconditionsandwillcontinuetodeliversignificantcashtotheparentcompany Overall, thesecompaniesimprovedtheircompetitivepositionslastyear,partlybecauseourfinancialstrengthletusmake advantageoustuck inacquisitions Incontrast,manycompetitorsweretreadingwater orsinking   Themostnoteworthyoftheseacquisitions wasIscar slate NovemberpurchaseofTungaloy,aleading Japanese producer of small tools  Charlie and I continue to look with astonishment   and appreciation    at the accomplishmentsofIscar smanagement TosecureonemanagerlikeEitanWertheimer,JacobHarpazorDanny Goldman when we acquire a company is a blessing  Getting three is like winning the Triple Crown  Iscar s growthsinceourpurchasehasexceededourexpectations whichwerehigh andtheadditionofTungaloywill moveperformancetothenextlevel  MiTek, Benjamin Moore, Acme Brick, Forest River, Marmon and CTB also made one or more acquisitions duringtheyear CTB,whichoperatesworldwideintheagriculture equipmentfield,hasnowpicked upsixsmall firms sincewepurchased itin2002 Atthattime, wepaid 140millionforthecompany Lastyear itspre taxearningswere 89million VicMancinelli,itsCEO,followedBerkshire likeoperatingprincipleslong beforeourarrival Hefocusesonblockingandtackling,daybydaydoingthelittlethingsrightandnevergetting off course  Ten years from now, Vic will be running a much larger operation and, more important, will be earningexcellentreturnsoninvestedcapital  FinanceandFinancialProducts IwillwritehereatsomelengthaboutthemortgageoperationofClaytonHomesandskipanyfinancial commentary, which is summarized in the table at the end of this section  I do this because Clayton s recent experiencemaybeusefulinthepublic policydebateabouthousingandmortgages Butfirstalittlebackground  Clayton is the largest company in the manufactured home industry, delivering 27,499 units last year  This came to about 34  of the industry s 81,889total  Ourshare will likely growin2009,partly becausemuch oftherestoftheindustryisinacutedistress Industrywide,unitssoldhavesteadilydeclinedsincetheyhitapeak of372,843in1998  10At that time, much of the industry employed sales practices that were atrocious  Writing about the period somewhat later, I described it as involving  borrowers who shouldn t have borrowed being financed by lenderswhoshouldn thavelent   Tobeginwith,theneedformeaningfuldownpaymentswasfrequentlyignored Sometimesfakerywas involved    That certainly looks like a  2,000 cat to me  says the salesman who will receive a  3,000 commissioniftheloangoesthrough  Moreover,impossible to meet monthlypaymentswerebeingagreedtoby borrowers who signed up because they had nothing to lose  The resulting mortgages were usually packaged   securitized  andsoldbyWallStreetfirmstounsuspectinginvestors Thischainoffollyhadtoendbadly,and itdid  Clayton, it should be emphasized, followed far more sensible practices in its own lending throughout that time  Indeed, no purchaser of the mortgages it originated and then securitized has ever lost a dime of principalorinterest ButClaytonwastheexception industrylosseswerestaggering Andthehangovercontinues tothisday  This 1997 2000 fiasco should have served as a canary in the coal mine warning for the far larger conventional housing market  But investors, government and rating agencies learned exactly nothing from the manufactured home debacle  Instead, in an eerie rerun of that disaster, the same mistakes were repeated with conventionalhomesinthe2004 07period Lendershappilymadeloansthatborrowerscouldn trepayoutoftheir incomes, and borrowers just as happily signed uptomeet thosepayments  Bothparties countedon house price appreciation  to make this otherwise impossible arrangement work  It was Scarlett O Hara all over again   I ll think about it tomorrow   The consequences of this behavior are now reverberating through every corner of our economy  Clayton s 198,888 borrowers, however, have continued to pay normally throughout the housing crash, handingusnounexpectedlosses Thisisnotbecausetheseborrowersareunusuallycreditworthy,apointproved by FICO scores  a standard measure of credit risk   Their median FICO score is 644, compared to a national median of 723, and about 35  are below 620, the segment usually designated  sub prime   Many disastrous pools of mortgages on conventional homes are populated by borrowers with far better credit, as measured by FICOscores  Yet at yearend, our delinquency rate on loans we have originated was 3 6 , up only modestly from 2 9 in2006and2 9 in2004  Inadditiontoouroriginatedloans,we vealsoboughtbulkportfoliosofvarious types from other financial institutions   Clayton s foreclosures during 2008 were 3 0  of originated loans comparedto3 8 in2006and5 3 in2004  Why are our borrowers   characteristically people with modest incomes and far from great credit scores  performing sowell Theansweriselementary, goingright backtoLending101 Ourborrowerssimply lookedathowfull bore mortgage payments wouldcompare withtheir actual nothoped for incomeandthen decided whether they could live with that commitment  Simply put, they took out a mortgage with the intention ofpayingitoff,whateverthecourseofhomeprices  Justasimportant iswhatourborrowersdidnotdo Theydidnotcountonmakingtheirloanpayments by means of refinancing  They did not sign up for  teaser  rates that upon reset were outsized relative to their income  And they did not assume that they could always sell their home at a profit if their mortgage payments becameonerous JimmyStewartwouldhavelovedthesefolks  Of course, a number of our borrowers will run into trouble  They generally have no more than minor savingstotidethemoverifadversityhits Themajorcauseofdelinquencyorforeclosureisthelossofajob,but death, divorce and medical expenses all cause problems  If unemployment rates rise   as they surely will in 2009 moreofClayton sborrowerswillhavetroubles,andwewillhavelarger,thoughstillmanageable,losses  Butourproblemswillnotbedriventoanyextentbythetrendofhomeprices  11Commentary about the current housing crisis often ignores the crucial fact that most foreclosures do not occur because a house is worth less than its mortgage  so called  upside down  loans   Rather, foreclosures take place because borrowers can t pay the monthly payment that they agreed to pay  Homeowners who have made a meaningful down payment   derived from savings and not from other borrowing   seldom walk away fromaprimaryresidencesimplybecauseitsvaluetodayislessthanthemortgage Instead,theywalkwhenthey can tmakethemonthlypayments  Home ownership is a wonderful thing  My family and I have enjoyed my present home for 50 years, with more to come  But enjoyment and utility should be the primary motives for purchase, not profit or refi possibilities Andthehomepurchasedoughttofittheincomeofthepurchaser  Thepresent housingdebacle shouldteachhomebuyers,lenders, brokers andgovernmentsomesimple lessons that will ensure stability in the future  Home purchases should involve an honest to God down payment of at least 10  and monthly payments that can be comfortably handled by the borrower s income  That income shouldbecarefullyverified  Putting people into homes, though a desirable goal, shouldn t be our country s primary objective  Keepingthemintheirhomesshouldbetheambition               Clayton s lending operation, though not damaged by the performance of its borrowers, is nevertheless threatened by an element of the credit crisis  Funders that have access to any sort of government guarantee   bankswithFDIC insureddeposits,largeentitieswithcommercialpapernowbackedbytheFederalReserve,and others whoare using imaginative methods  or lobbying skills  to come under the government s umbrella  have money costs that are minimal  Conversely, highly rated companies, such as Berkshire, are experiencing borrowing costs that, in relation to Treasury rates, are at record levels  Moreover, funds are abundant for the government guaranteedborrowerbutoftenscarceforothers,nomatterhowcreditworthytheymaybe  This unprecedented  spread  in the cost of money makes it unprofitable for any lender who doesn t enjoygovernment guaranteed fundstogoupagainstthosewithafavoredstatus Governmentisdeterminingthe  haves and have nots  Thatiswhycompaniesarerushingtoconverttobankholdingcompanies,notacourse feasibleforBerkshire  ThoughBerkshire screditispristine weareoneofonlysevenAAAcorporationsinthecountry our cost of borrowing is nowfar higher than competitors with shakybalance sheets butgovernment backing Atthe moment,itismuchbettertobeafinancialcripplewithagovernmentguaranteethanaGibraltarwithoutone  Today sextremeconditionsmaysoonend Atworst,webelievewewillfindatleastapartialsolution that will allow us to continue much of Clayton s lending  Clayton s earnings, however, will surely suffer if we areforcedtocompeteforlongagainstgovernment favoredlenders  Pre TaxEarnings  inmillions  2008 2007 Netinvestmentincome                                          330   272 Lifeandannuityoperation                                      23  60  Leasingoperations                                            87 111 Manufactured housingfinance Clayton                           206 526 Other                                                       141 157 Incomebeforeinvestmentandderivativesgainsorlosses              787  1,006  Includes  92 million in 2008 and  85 million in 2007 of fees that Berkshire charges Clayton for the useofBerkshire scredit  12Tax ExemptBondInsurance Early in 2008, we activated Berkshire Hathaway Assurance Company   BHAC   as an insurer of the tax exempt bonds issued by states, cities and other local entities  BHACinsures these securities for issuers both atthetimetheirbondsaresoldtothepublic primary transactions  andlater,whenthebondsarealreadyowned byinvestors secondarytransactions   By yearend 2007, the half dozen or so companies that had been the major players in this business had allfallenintobigtrouble ThecauseoftheirproblemswascapturedlongagobyMaeWest  IwasSnowWhite, butIdrifted   The monolines  as the bond insurers are called  initially insured only tax exempt bonds that were low risk  But over the years competition for this business intensified, and rates fell  Faced with the prospect of stagnating or declining earnings, the monoline managers turned to ever riskier propositions  Some of these involved the insuring of residential mortgage obligations  When housing prices plummeted, the monoline industryquicklybecameabasketcase  Early in the year, Berkshire offered to assume all of the insurance issued on tax exempts that was on the books of the three largest monolines  These companies were all in life threatening trouble  though they said   otherwise   We would have charged a 112  rate to take over the guarantees on about  822 billion of bonds  If our offer had been accepted, we would have been required to pay any losses suffered by investors who owned these bonds   a guarantee stretching for 40 years in some cases  Ours was not a frivolous proposal  For reasons wewillcometolater,itinvolvedsubstantialriskforBerkshire  The monolines summarily rejected our offer, in some cases appending an insult or two  In the end, though, the turndowns proved to be very good news for us, because it became apparent that I had severely underpricedouroffer  Thereafter, we wrote about  15 6 billion of insurance in the secondary market  And here s the punch line  About 77  of this business was on bonds that were already insured, largely by the three aforementioned monolines Intheseagreements,wehavetopayfordefaultsonlyiftheoriginalinsurerisfinanciallyunabletodo so  Wewrotethis second to pay insuranceforratesaveraging3 3  That sright wehavebeenpaidfar more for becoming the second to pay than the 1 5  wewouldhaveearlier chargedtobethefirst topay Inone extreme case, we actually agreed to be fourth to pay, nonetheless receiving about three times the 1  premium charged by the monoline that remains first to pay  In other words, three other monolines have to first go broke beforeweneedtowriteacheck  Two of the three monolines to which we made our initial bulk offer later raised substantial capital  This, of course, directly helps us, since it makes it less likely that we will have to pay, at least in the near term, any claims on our second to pay insurance because these two monolines fail  In addition to our book of secondary business, we have also written  3 7 billion of primary business for a premium of  96 million  In primarybusiness,ofcourse,wearefirsttopayiftheissuergetsintrouble  We have a great many more multiples of capital behind the insurance we write than does any other monoline  Consequently, our guarantee is far more valuable than theirs  This explains why many sophisticated investors have bought second to pay insurance from us even though they were already insured by another monoline BHAChasbecomenotonlytheinsurerofpreference,butinmanycasesthesoleinsureracceptableto bondholders  Nevertheless, we remain very cautious about the business we write and regard it as far from a sure thingthatthisinsurancewillultimatelybeprofitableforus Thereasonissimple,thoughIhaveneverseeneven apassingreferencetoitbyanyfinancialanalyst,ratingagencyormonolineCEO  13The rationale behind very low premium rates for insuring tax exempts has been that defaults have historically been few  But that record largely reflects the experience of entities that issued uninsured bonds  Insuranceoftax exemptbondsdidn texistbefore1971,andevenafterthatmostbondsremaineduninsured  A universe of tax exempts fully covered by insurance would be certain to have a somewhat different loss experience from a group of uninsured, but otherwise similar bonds, the only question being how different  To understand why, let s go back to 1975 when New York City was on the edge of bankruptcy  At the time its bonds   virtually all uninsured   were heavily held by the city s wealthier residents as well as by New York banksandotherinstitutions Theselocalbondholdersdeeplydesiredtosolvethecity sfiscalproblems Sobefore long, concessions and cooperation from a host of involved constituencies produced a solution  Without one, it was apparent to all that New York s citizens and businesses would have experienced widespread and severe financiallossesfromtheirbondholdings  Now, imagine that all of the city s bonds had instead been insured by Berkshire  Would similar belt  tightening,taxincreases,laborconcessions,etc havebeenforthcoming Ofcoursenot Ataminimum,Berkshire would have been asked to  share  in the required sacrifices  And, considering our deep pockets, the required contributionwouldmostcertainlyhavebeensubstantial  Local governments are going to face far tougher fiscal problems in the future than they have to date  The pension liabilities I talked about in last year s report will be a huge contributor to these woes  Many cities andstatesweresurelyhorrifiedwhentheyinspectedthestatusoftheirfundingatyearend2008 Thegapbetween assetsandarealisticactuarialvaluationofpresentliabilitiesissimplystaggering  When faced with large revenue shortfalls, communities that have all of their bonds insured will be more prone to develop  solutions  less favorable to bondholders than those communities that have uninsured bonds held by local banks and residents  Losses in the tax exempt arena, when they come, are also likely to be highly correlated among issuers  If a few communities stiff their creditors and get away with it, the chance that others will follow in their footsteps will grow  What mayor or city council is going to choose pain to local citizensintheformofmajortaxincreasesoverpaintoafar awaybondinsurer  Insuring tax exempts, therefore, has the look today of a dangerous business   one with similarities, in fact, to the insuring of natural catastrophes  In both cases, a string of loss free years can be followed by a devastatingexperiencethatmorethanwipesoutallearlierprofits Wewilltry,therefore,toproceedcarefullyin thisbusiness,eschewingmanyclassesofbondsthatothermonolinesregularlyembrace               Thetypeoffallacyinvolvedinprojectinglossexperiencefromauniverseofnon insuredbondsontoa deceptively similar universe in which many bonds are insured pops up in other areas of finance   Back tested  models of many kinds are susceptible to this sort of error  Nevertheless, they are frequently touted in financial marketsasguidestofutureaction  Ifmerelylookinguppastfinancialdatawouldtellyouwhatthefutureholds, theForbes400wouldconsistoflibrarians   Indeed, the stupefying losses in mortgage related securities came in large part because of flawed, history based models used by salesmen, rating agencies and investors  These parties looked at loss experience over periods when home prices rose only moderately and speculation in houses wasnegligible  Theythen made this experience a yardstick for evaluating future losses  They blissfully ignored the fact that house prices had recentlyskyrocketed,loanpracticeshaddeterioratedandmanybuyershadoptedforhousestheycouldn tafford  In short, universe  past  and universe  current  had very different characteristics  But lenders, government and medialargelyfailedtorecognizethisall importantfact  14Investors should be skeptical of history based models  Constructed by a nerdy sounding priesthood using esoteric terms such as beta, gamma, sigma and the like, these models tend to look impressive  Too often, though, investors forget to examine the assumptions behind the symbols  Our advice  Beware of geeks bearing formulas               A final post script on BHAC  Who, you may wonder, runs this operation  While I help set policy, all of the heavy lifting is done by Ajit and his crew  Sure, they were already generating  24 billion of float along with hundreds of millions of underwriting profit annually  But how busy can that keep a 31 person group  CharlieandIdecideditwashightimeforthemtostartdoingafullday swork  Investments Because of accounting rules, we divide our large holdings of common stocks this year into two categories  The table below, presenting the first category, itemizes investments that are carried on our balance sheetatmarketvalueandthathadayearendvalueofmorethan 500million  12 31 08 Percentageof Company Shares Company Owned Cost  Market  inmillions  151,610,700 AmericanExpressCompany                      13 1   1,287   2,812 200,000,000 TheCoca ColaCompany                         8 6 1,299 9,054 84,896,273 ConocoPhillips                                 5 7 7,008 4,398 30,009,591 Johnson Johnson                             1 1 1,847 1,795 130,272,500 KraftFoodsInc                                 8 9 4,330 3,498 3,947,554 POSCO                                       5 2 768 1,191 91,941,010 TheProcter GambleCompany                  3 1 643 5,684 22,111,966 Sanofi Aventis                                 1 7 1,827 1,404 11,262,000 SwissRe                                      3 2 773 530 227,307,000 Tescoplc                                     2 9 1,326 1,193 75,145,426 U S Bancorp                                  4 3 2,337 1,879 19,944,300 Wal MartStores,Inc                             0 5 942 1,118 1,727,765 TheWashingtonPostCompany                    18 4 11 674 304,392,068 WellsFargo Company                         7 2 6,702 8,973 Others                                        6,035 4,870 TotalCommonStocksCarriedatMarket             37,135  49,073  Thisisouractualpurchasepriceandalsoourtaxbasis GAAP cost differsinafewcasesbecauseof write upsorwrite downsthathavebeenrequired  In addition, we have holdings in Moody s and Burlington Northern Santa Fe that we now carry at  equity value    our cost plus retained earnings since our purchase, minus the tax that would be paid if those earnings were paid to us as dividends  This accounting treatment is usually required when ownership of an investeecompanyreaches20   We purchased 15  of Moody s some years ago and have not since bought a share  Moody s, though, has repurchased its own shares and, by late 2008, those repurchases reduced its outstanding shares to the point that our holdings rose above 20   Burlington Northern has also repurchased shares, but our increase to 20  primarilyoccurredbecausewecontinuedtobuythisstock  15Unless facts or rules change, you will see these holdings reflected in our balance sheet at  equity accounting  values, whatever their market prices  You will also see our share of their earnings  less applicable taxes regularlyincludedinourquarterlyandannualearnings  I told you in an earlier part of this report that last year I made a major mistake of commission  and maybe more  this one sticks out   Without urging from Charlie or anyone else, I bought a large amount of ConocoPhillips stock when oil and gas prices were near their peak  I in no way anticipated the dramatic fall in energypricesthatoccurredinthelasthalfoftheyear Istillbelievetheoddsaregoodthatoilsellsfarhigherin the future than the current  40  50 price  But so far I have been dead wrong  Even if prices should rise, moreover,theterribletimingofmypurchasehascostBerkshireseveralbilliondollars  I made some other already recognizable errors as well  They were smaller, but unfortunately not that small During2008,Ispent 244millionforsharesoftwoIrishbanksthatappearedcheaptome Atyearendwe wrote these holdings down to market   27 million, for an 89  loss  Since then, the two stocks have declined evenfurther Thetenniscrowdwouldcallmymistakes unforcederrors   On the plus side last year, we made purchases totaling  14 5 billion in fixed income securities issued by Wrigley, Goldman Sachs and General Electric  We very much like these commitments, which carry high current yields that, in themselves, make the investments more than satisfactory  But in each of these three purchases,wealsoacquiredasubstantial equityparticipation asabonus Tofundtheselargepurchases,Ihadto sell portions of some holdings that I would have preferred to keep  primarily Johnson   Johnson, Procter   GambleandConocoPhillips   However,Ihavepledged toyou,therating agencies andmyself  toalwaysrun Berkshire with more than ample cash  We never want to count on the kindness of strangers in order to meet tomorrow s obligations  When forced to choose, I will not trade even a night s sleep for the chance of extra profits  The investment world has gone from underpricing risk to overpricing it  This change has not been minor  the pendulum has covered an extraordinary arc  A few years ago, it wouldhave seemed unthinkable that yields like today s could have been obtained on good grade municipal or corporate bonds even while risk free governmentsofferednear zeroreturnsonshort termbondsandnobetterthanapittanceonlong terms Whenthe financial history of this decade is written, it will surely speak of the Internet bubble of the late 1990s and the housing bubble of the early 2000s  But the U S  Treasury bond bubble of late 2008 may be regarded as almost equallyextraordinary  Clinging to cash equivalents or long term government bonds at present yields is almost certainly a terriblepolicyifcontinuedforlong Holdersoftheseinstruments,ofcourse,havefeltincreasinglycomfortable  in fact, almost smug   in following this policy as financial turmoil has mounted  They regard their judgment confirmed when they hear commentators proclaim  cash is king,  even though that wonderful cash is earning closetonothingandwillsurelyfinditspurchasingpowererodedovertime  Approval, though, is not the goal of investing  In fact, approval is often counter productive because it sedates the brain and makes it less receptive to new facts or a re examination of conclusions formed earlier  Bewaretheinvestmentactivitythatproducesapplause thegreatmovesareusuallygreetedbyyawns  Derivatives Derivatives are dangerous  They have dramatically increased the leverage and risks in our financial system  They have made it almost impossible for investors to understand and analyze our largest commercial banksandinvestment banks TheyallowedFannieMaeandFreddieMactoengageinmassivemisstatements of earningsforyears Soindecipherable wereFreddieandFanniethattheirfederalregulator,OFHEO,whosemore than100employeeshadnojobexcepttheoversightofthesetwoinstitutions, totallymissedtheircookingofthe books  16Indeed, recent events demonstrate that certain big name CEOs  or former CEOs  at major financial institutions were simply incapable of managing a business with a huge, complex book of derivatives  Include Charlieandmeinthishaplessgroup WhenBerkshirepurchasedGeneralRein1998,weknewwecouldnotget ourmindsarounditsbookof23,218derivativescontracts,madewith884counterparties manyofwhichwehad never heard of   So we decided to close up shop  Though we were under no pressure and were operating in benign markets as we exited, it took us five years and more than  400 million in losses to largely complete the task Uponleaving,ourfeelingsaboutthebusinessmirroredalineinacountrysong  IlikedyoubetterbeforeI gottoknowyousowell   Improved  transparency   afavorite remedy ofpoliticians, commentators andfinancial regulators for averting future train wrecks  won t cure the problems that derivatives pose  I knowof noreporting mechanism that would come close to describing and measuring the risks in a huge and complex portfolio of derivatives  Auditorscan tauditthesecontracts,andregulatorscan tregulatethem WhenIreadthepagesof disclosure in 10 Ksofcompanies thatareentangled withtheseinstruments, allIendupknowingisthatIdon tknowwhatis goingonintheirportfolios andthenIreachforsomeaspirin   For a case study on regulatory effectiveness, let s look harder at the Freddie and Fannie example  These giant institutions were created by Congress, which retained control over them, dictating what they could and could not do  To aid its oversight, Congress created OFHEO in 1992, admonishing it to make sure the two behemoths werebehavingthemselves  Withthatmove,FannieandFreddiebecamethemostintensely regulated companiesofwhichIamaware,asmeasuredbymanpowerassignedtothetask  On June 15,2003,OFHEO whose annual reports are available onthe Internet  sent its 2002report to Congress specificallytoitsfourbossesintheSenateandHouse,amongthemnoneotherthanMessrs Sarbanes and Oxley  The report s 127 pages included a self congratulatory cover line   Celebrating 10 Years of Excellence   The transmittal letter and report were delivered nine days after the CEO and CFO of Freddie had resigned in disgrace and the COO had been fired  No mention of their departures was made in the letter, even whilethereportconcluded,asitalwaysdid,that BothEnterpriseswerefinanciallysoundandwellmanaged   In truth, both enterprises had engaged in massive accounting shenanigans for some time  Finally, in 2006,OFHEOissueda340 pagescathingchronicleofthesinsofFanniethat,moreorless,blamedthefiascoon everypartybut youguessedit CongressandOFHEO  TheBearStearns collapse highlightsthecounterparty problemembeddedinderivatives transactions, a timebombIfirstdiscussedinBerkshire s2002report OnApril3,2008,TimGeithner,thentheablepresidentof the New York Fed, explained the need for a rescue   The sudden discovery by Bear s derivative counterparties that important financial positions they had put in place to protect themselves from financial risk were no longer operativewouldhavetriggeredsubstantialfurtherdislocationinmarkets Thiswouldhaveprecipitatedarushby Bear scounterpartiestoliquidatethecollateraltheyheldagainstthosepositionsandtoattempttoreplicatethose positionsinalreadyveryfragilemarkets  ThisisFedspeakfor Westeppedintoavoidafinancialchainreaction ofunpredictablemagnitude  Inmyopinion,theFedwasrighttodoso  A normal stock or bond trade is completed in a few days with one party getting its cash, the other its securities  Counterparty risk therefore quickly disappears, which means credit problems can t accumulate  This rapid settlement process is key to maintaining the integrity of markets  That, in fact, is a reason for NYSE and NASDAQshorteningthesettlementperiodfromfivedaystothreedaysin1995  Derivatives contracts, in contrast, often go unsettled for years, or even decades, with counterparties building up huge claims against each other   Paper  assets and liabilities   often hard to quantify   become important parts of financial statements though these items will not be validated for many years  Additionally, a frightening webof mutual dependence develops among huge financial institutions  Receivables and payables by the billions become concentrated in the hands ofafewlarge dealers whoareapttobehighly leveraged inother waysaswell Participantsseekingtododgetroublesfacethesameproblemassomeoneseekingtoavoidvenereal disease It snotjustwhomyousleepwith,butalsowhomtheyaresleepingwith  17Sleepingaround,tocontinueourmetaphor,canactuallybeusefulforlargederivativesdealersbecause it assures them government aid if trouble hits  In other words, only companies having problems that can infect theentireneighborhood Iwon tmentionnames arecertaintobecomeaconcernofthestate anoutcome,I m sad to say, that is proper   From this irritating reality comes The First Law of Corporate Survival for ambitious CEOs who pile on leverage and run large and unfathomable derivatives books  Modest incompetence simply won tdo it smindbogglingscrew upsthatarerequired  Considering the ruin I ve pictured, you may wonder why Berkshire is a party to 251 derivatives contracts  other than those used for operational purposes at MidAmerican and the few left over at GenRe  The answer is simple  I believe each contract we own was mispriced at inception, sometimes dramatically so  I both initiatedthesepositionsandmonitorthem,asetofresponsibilitiesconsistentwithmybeliefthattheCEOofany largefinancialorganizationmustbetheChiefRiskOfficeraswell Ifwelosemoneyonourderivatives,itwillbe myfault  Our derivatives dealings require our counterparties to make payments to us when contracts are initiated  Berkshire therefore always holds the money, which leaves us assuming no meaningful counterparty risk  As of yearend, the payments made to us less losses we have paid   our derivatives  float,  so to speak   totaled 8 1billion Thisfloatissimilartoinsurancefloat Ifwebreakevenonanunderlyingtransaction,wewill haveenjoyedtheuseoffreemoneyforalongtime Ourexpectation,thoughitisfarfromasurething,isthatwe willdobetterthanbreakevenandthatthesubstantialinvestmentincomeweearnonthefundswillbefrostingon thecake  Only a small percentage of our contracts call for any posting of collateral when the market moves againstus Evenunderthechaoticconditionsexistinginlastyear sfourthquarter,wehadtopostlessthan1 of our securities portfolio   When we post collateral, we deposit it with third parties, meanwhile retaining the investment earnings on the deposited securities   In our 2002 annual report, we warned of the lethal threat that posting requirements create, real life illustrations of which we witnessed last year at a variety of financial institutions  and, for that matter, at Constellation Energy, which was within hours of bankruptcy when MidAmericanarrivedtoeffectarescue   Our contracts fall into four major categories  With apologies to those who are not fascinated by financialinstruments,Iwillexplaintheminexcruciatingdetail    Wehaveaddedmodestlytothe equityput portfolioIdescribedinlastyear sreport Someofour contracts come due in 15 years, others in 20  We must make a payment to our counterparty at maturityifthereferenceindextowhichtheputistiedisthenbelowwhatitwasattheinceptionof thecontract Neitherpartycanelecttosettleearly it sonlythepriceonthefinaldaythatcounts  Toillustrate, wemight sell a 1billion15 yearputcontractontheS P500whenthatindexisat, say,1300 Iftheindexisat1170 down10  onthedayofmaturity,wewouldpay 100million  Ifitisabove1300,weowenothing Forustolose 1billion,theindexwouldhavetogotozero In the meantime, the sale of the put would have delivered us a premium   perhaps  100 million to  150million thatwewouldbefreetoinvestaswewish  Our put contracts total  37 1 billion  at current exchange rates  and are spread among four major indices  the S P500in the U S ,the FTSE100in the U K ,the Euro Stoxx 50in Europe,andthe Nikkei225inJapan OurfirstcontractcomesdueonSeptember9,2019andourlastonJanuary24, 2028 We have received premiums of  4 9billion, moneywehaveinvested  We,meanwhile, have paid nothing, since all expiration dates are far in the future  Nonetheless, we have used Black  Scholes valuation methods to record a yearend liability of  10 billion, an amount that will change oneveryreportingdate Thetwofinancialitems thisestimatedlossof 10billionminusthe 4 9 billion in premiums we have received   means that we have so far reported a mark to market loss of 5 1billionfromthesecontracts  18We endorse mark to market accounting  I will explain later, however, why I believe the Black  Scholes formula, even though it is the standard for establishing the dollar liability for options, producesstrangeresultswhenthelong termvarietyarebeingvalued  Onepointaboutourcontractsthatissometimesnotunderstood Forustolosethefull 37 1billion wehave at risk, all stocks in all four indices wouldhave to gotozeroontheir various termination dates  If, however   as an example   all indices fell 25  from their value at the inception of each contract, and foreign exchange rates remained as they are today, we would owe about  9 billion, payable between 2019 and 2028  Between the inception of the contract and those dates, we would haveheldthe 4 9billionpremiumandearnedinvestmentincomeonit    The second category we described in last year s report concerns derivatives requiring us to pay whencreditlossesoccuratcompaniesthatareincludedinvarioushigh yieldindices Ourstandard contractcoversafive yearperiodandinvolves100companies Wemodestlyexpandedourposition last year in this category  But, of course, the contracts on the books at the end of 2007 moved one   yearclosertotheirmaturity Overall,ourcontractsnowhaveanaveragelifeof213years,withthe firstexpirationduetooccuronSeptember20,2009andthelastonDecember20,2013  By yearend we had received premiums of  3 4 billion on these contracts and paid losses of  542 million Usingmark to market principles,wealsosetupaliabilityforfuturelossesthatatyearend totaled  3 0 billion  Thus wehad to that point recorded a loss of about  100million, derived from our  3 5 billion total in paid and estimated future losses minus the  3 4 billion of premiums we received  In our quarterly reports, however, the amount of gain or loss has swung wildly from a profitof 327millioninthesecondquarterof2008toalossof 693millioninthefourthquarterof 2008  Surprisingly, we made payments on these contracts of only  97 million last year, far below the estimate I used when I decided to enter into them  This year, however, losses have accelerated sharplywiththemushroomingoflargebankruptcies Inlastyear sletter,ItoldyouIexpectedthese contracts to show a profit at expiration  Now, with the recession deepening at a rapid rate, the possibilityofaneventuallosshasincreased Whatevertheresult,Iwillkeepyouposted    In 2008 we began to write  credit default swaps  on individual companies  This is simply credit insurance, similar to what we write in BHAC, except that here we bear the credit risk of corporationsratherthanoftax exemptissuers  If, say, the XYZ company goes bankrupt, and we have written a  100 million contract, we are obligated to pay an amount that reflects the shrinkage in value of a comparable amount of XYZ s debt   If, for example, the company s bonds are selling for 30 after default, we would owe  70 million   For the typical contract, we receive quarterly payments for five years, after which our insuranceexpires  At yearend we had written  4 billion of contracts covering 42 corporations, for which we receive annual premiums of  93 million  This is the only derivatives business we write that has any counterpartyrisk thepartythatbuysthecontractfromusmustbegoodforthequarterlypremiums it will owe us over the five years  We are unlikely to expand this business to any extent because most buyers of this protection now insist that the seller post collateral, and we will not enter into suchanarrangement    At the request of our customers, we write a few tax exempt bond insurance contracts that are similar to those written at BHAC, but that are structured as derivatives  The only meaningful difference between the two contracts is that mark to market accounting is required for derivatives whereasstandardaccrualaccountingisrequiredatBHAC  19But this difference can produce some strange results  The bonds covered   in effect, insured   by thesederivativesarelargelygeneralobligationsofstates,andwefeelgoodaboutthem Atyearend, however, mark to market accounting required us to record a loss of  631 million on these derivativescontracts HadweinsteadinsuredthesamebondsatthesamepriceinBHAC,andused theaccrualaccountingrequiredatinsurancecompanies,wewouldhaverecordedasmallprofitfor the year  The two methods by which we insure the bonds will eventually produce the same accountingresult Intheshortterm,however,thevarianceinreportedprofitscanbesubstantial  We have told you before that our derivative contracts, subject as they are to mark to market accounting, will produce wild swings in the earnings we report  The ups and downs neither cheer nor bother Charlie and me  Indeed, the  downs  can be helpful in that they give us an opportunity to expand a position on favorableterms Ihopethisexplanationofourdealingswillleadyoutothinksimilarly               The Black Scholes formula has approached the status of holy writ in finance, and we use it when valuingourequityputoptionsforfinancialstatementpurposes Keyinputstothecalculationincludeacontract s maturityandstrikeprice,aswellastheanalyst sexpectationsforvolatility,interestratesanddividends  If the formula is applied to extended time periods, however, it can produce absurd results  In fairness, Black and Scholes almost certainly understood this point well  But their devoted followers may be ignoring whatevercaveatsthetwomenattachedwhentheyfirstunveiledtheformula  It softenusefulintestingatheorytopushittoextremes Solet spostulatethatwesella100 year 1 billion put option on the S P 500 at a strike price of 903  the index s level on 12 31 08   Using the implied volatility assumption for long dated contracts that we do, and combining that with appropriate interest and dividendassumptions,wewouldfindthe proper Black Scholespremiumforthiscontracttobe 2 5million  To judge the rationality of that premium, we need to assess whether the S Pwill be valued a century from nowat lessthantoday Certainly thedollar willthenbeworthasmall fraction ofitspresent value atonly 2  inflation it will be worth roughly 14    So that will be a factor pushing the stated value of the index higher  Far more important, however, is that one hundred years of retained earnings will hugely increase the value of most of the companies in the index  In the 20th Century, the Dow Jones Industrial Average increased by about 175 fold,mainlybecauseofthisretained earningsfactor  Considering everything, I believe the probability of a decline in the index over a one hundred year periodtobefarlessthan1  Butlet s usethatfigureandalsoassumethatthemostlikelydecline shouldone occur   is 50   Under these assumptions, the mathematical expectation of loss on our contract would be  5 million  1billionX1 X50    But if we had received our theoretical premium of  2 5 million up front, we would have only had to invest it at 0 7  compounded annually to cover this loss expectancy  Everything earned above that would have beenprofit Wouldyouliketoborrowmoneyfor100yearsata0 7 rate  Let slookatmyexamplefromaworst casestandpoint Rememberthat99 ofthetimewewouldpay nothingifmyassumptionsarecorrect Butevenintheworstcaseamongtheremaining1 ofpossibilities that is, one assuming a total loss of  1 billion   our borrowing cost would come to only 6 2   Clearly, either my assumptionsarecrazyortheformulaisinappropriate  20Theridiculous premium thatBlack Scholesdictatesinmyextremeexampleiscausedbytheinclusion of volatility in the formula andbythefact thatvolatility isdetermined byhowmuchstockshavemovedaround in some past period of days, months or years  This metric is simply irrelevant in estimating the probability  weightedrangeofvaluesofAmericanbusiness100yearsfromnow  Imagine,ifyouwill,gettingaquoteevery day on a farm from a manic depressive neighbor and then using the volatility calculated from these changing quotesasanimportantingredientinanequationthatpredictsaprobability weightedrangeofvaluesforthefarm acenturyfromnow   Thoughhistoricalvolatilityisauseful butfarfromfoolproof conceptinvaluingshort termoptions, itsutilitydiminishesrapidlyasthedurationoftheoptionlengthens Inmyopinion,thevaluationsthattheBlack  Scholes formula now place on our long term put options overstate our liability, though the overstatement will diminishasthecontractsapproachmaturity  Even so, we will continue to use Black Scholes when we are estimating our financial statement liability for long term equity puts  The formula represents conventional wisdom and any substitute that I might offer would engender extreme skepticism  That would be perfectly understandable  CEOs who have concocted their own valuations for esoteric financial instruments have seldom erred onthe side of conservatism  That club ofoptimistsisonethatCharlieandIhavenodesiretojoin  TheAnnualMeeting Our meeting this year will be held on Saturday, May 2nd  As always, the doors will open at the Qwest Center at 7 a m , and a new Berkshire movie will be shown at 8 30  At 9 30 we will go directly to the question and answerperiod,which withabreakforlunchattheQwest sstands willlastuntil3 00 Then,after a short recess, Charlie and I will convene the annual meeting at 3 15  If you decide to leave during the day s questionperiods,pleasedosowhileCharlieistalking  The best reason to exit, of course, is to shop  We will help you do that by filling the 194,300 square  foot hall that adjoins the meeting area with the products of Berkshire subsidiaries  Last year, the 31,000 people whocametothemeetingdidtheirpart,andalmosteverylocationrackeduprecordsales Butyoucandobetter   Afriendlywarning IfIfindsalesarelagging,Ilocktheexits   ThisyearClaytonwillshowcaseitsnewi housethatincludesShawflooring,JohnsManvilleinsulation and MiTek fasteners  This innovative  green  home, featuring solar panels and numerous other energy saving products, is truly a home of the future  Estimated costs for electricity and heating total only about  1 per day whenthehomeissitedinanarealikeOmaha Afterpurchasingthei house,youshouldnextconsidertheForest RiverRVandpontoonboatondisplaynearby Makeyourneighborsjealous  GEICO will have a booth staffed by a number of its top counselors from around the country, all of them ready to supply you with auto insurance quotes  In most cases, GEICO will be able to give you a shareholder discount  usually 8    This special offer is permitted by 44 of the 50 jurisdictions in which we operate   One supplemental point  The discount is not additive if you qualify for another, such as that given certain groups  Bringthedetails ofyourexisting insurance andcheckoutwhetherwecansaveyoumoney For atleast50 ofyou,Ibelievewecan  On Saturday, at the Omaha airport, we will have the usual array of NetJets aircraft available for your inspection  StopbytheNetJets boothattheQwesttolearn aboutviewingtheseplanes CometoOmahabybus  leaveinyournewplane Andtakealong withnofearofastripsearch theGinsuknivesthatyou vepurchased attheexhibitofourQuikutsubsidiary  Next, if you have any money left, visit the Bookworm, which will be selling about 30 books and DVDs Ashippingservicewillbeavailableforthosewhosethirstforknowledgeexceedstheircarryingcapacity  21Finally,wewillhavethreefascinatingcarsontheexhibitionfloor,includingonefromthepastandone of the future  Paul Andrews, CEO of our subsidiary, TTI, will bring his 1935 Duesenberg, a car that once belonged to Mrs  Forrest Mars, Sr , parent and grandparent of our new partners in the Wrigley purchase  The future will be represented by a new plug in electric car developed by BYD, an amazing Chinese company in whichwehavea10 interest  An attachment to the proxy material that is enclosed with this report explains how you can obtain the credential you will need for admission to the meeting and other events  Asfor plane, hotel and car reservations, we have again signed up American Express  800 799 6634  to give you special help  Carol Pedersen, who handlesthesematters,doesaterrificjobforuseachyear,andIthankherforit Hotelroomscanbehardtofind, butworkwithCarolandyouwillgetone  At Nebraska Furniture Mart, located on a 77 acre site on 72nd Street between Dodge and Pacific, we willagainbehaving BerkshireWeekend discountpricing WeinitiatedthisspecialeventatNFMtwelveyears ago, and sales during the  Weekend  grew from  5 3 million in 1997 to a record  33 3 million in 2008  On Saturdayofthatweekend,wealsosetasingledayrecordof 7 2million Askanyretailerwhathethinksofsuch volume  To obtain the Berkshire discount, you must make your purchases between Thursday, April 30th and Monday, May 4th inclusive, and also present your meeting credential  The period s special pricing will even apply to the products of several prestigious manufacturers that normally have ironclad rules against discounting but which, in the spirit of our shareholder weekend, have made an exception for you  We appreciate their cooperation  NFM is open from 10 a m  to 9 p m  Monday through Saturday, and 10 a m  to 6 p m  on Sunday  OnSaturdaythisyear,from5 30p m to8p m ,NFMishavingawesterncookouttowhichyouareallinvited  At Borsheims, we will again have two shareholder only events  The first will be a cocktail reception from 6 p m  to 10 p m  on Friday, May 1st  The second, the main gala, will be held on Sunday, May 3rd, from 9 a m to4p m OnSaturday,wewillbeopenuntil6p m  We will have huge crowds at Borsheims throughout the weekend  For your convenience, therefore, shareholder prices will be available from Monday, April 27th through Saturday, May 9th  During that period, please identify yourself as a shareholder by presenting your meeting credentials or a brokerage statement that showsyouareaBerkshireholder  OnSunday,inthemalloutsideofBorsheims,ablindfoldedPatrickWolff,twiceU S chesschampion, will take on all comers   who will have their eyes wide open   in groups of six  Nearby, Norman Beck, a remarkablemagicianfromDallas,willbewilderonlookers Additionally,wewillhaveBobHammanandSharon Osberg, two of the world s top bridge experts, available to play bridge with our shareholders on Sunday afternoon  Gorat s will again be open exclusively for Berkshire shareholders on Sunday, May 3rd, and will be servingfrom1p m until10p m LastyearGorat s,whichseats240,served975dinnersonShareholderSunday  Thethree daytotalwas2,448including702T bonesteaks,theentr epreferredbythecognoscenti Pleasedon t embarrassmebyorderingfoiegras Remember TocometoGorat sonthatday,youmusthaveareservation To makeone,call402 551 3733onApril1st butnotbefore   We will again have a reception at4p m onSaturdayafternoon forshareholders whohavecomefrom outside North America  Every year our meeting draws many people from around the globe, and Charlie and I wanttobesurewepersonallygreetthosewhohavecomesofar Lastyearweenjoyedmeetingmorethan700of youfrommanydozensofcountries AnyshareholderwhocomesfromoutsidetheU S orCanadawillbegivena specialcredentialandinstructionsforattendingthisfunction               22This year we will be making important changes in how we handle the meeting s question periods  In recent years, we have received only a handful of questions directly related to Berkshire and its operations  Last yeartherewerepracticallynone SoweneedtosteerthediscussionbacktoBerkshire sbusinesses  Inarelatedproblem,therehasbeenamadrushwhenthedoorsopenat7a m ,ledbypeoplewhowish to be first in line at the 12microphones available for questioners  This is notdesirable from asafety standpoint, nordowebelievethatsprintingabilityshouldbethedeterminantofwhogetstoposequestions  Atage78,I ve concludedthatspeedafootisaridiculouslyoverratedtalent  Again,anewprocedureisdesirable  In our first change, several financial journalists from organizations representing newspapers, magazinesandtelevisionwillparticipateinthequestion and answerperiod,askingCharlieandmequestionsthat shareholdershavesubmittedbye mail Thejournalistsandtheire mailaddressesare CarolLoomis,ofFortune, who may be emailed at cloomis fortunemail com  Becky Quick, of CNBC, at BerkshireQuestions cnbc com, and Andrew Ross Sorkin, of The New York Times, at arsorkin nytimes com  From the questions submitted, each journalist will choose the dozen or so he or she decides are the most interesting and important   In your e mail,letthejournalistknowifyouwouldlikeyournamementionedifyourquestionisselected   Neither Charlie nor I will get so much as a clue about the questions to be asked  We know the journalistswillpicksometoughonesandthat sthewaywelikeit  In our second change, we will have a drawing at 8 15 at each microphone for those shareholders hoping to ask questions themselves  At the meeting, I will alternate the questions asked by the journalists with those from the winning shareholders  At least half the questions   those selected by the panel from your submissions arethereforecertaintobeBerkshire related  Wewillmeanwhilecontinuetogetsomegood and perhapsentertaining questionsfromtheaudienceaswell  SojoinusatourWoodstockforCapitalistsandletusknowhowyoulikethenewformat CharlieandI lookforwardtoseeingyou  February27,2009 WarrenE Buffett ChairmanoftheBoard 23\n"
          ],
          "name": "stdout"
        }
      ]
    },
    {
      "cell_type": "code",
      "metadata": {
        "colab": {
          "base_uri": "https://localhost:8080/"
        },
        "id": "Byv_YMPD69hn",
        "outputId": "e1aa3d26-4a1a-42fe-8401-26d80663adfe"
      },
      "source": [
        "year = 2020\n",
        "sentence_after_regex = re.sub(\"[^a-z0-9A-Z\\,]\", \" \", letters_dict[year])\n",
        "answer, result, start, end = get_answer_using_qa(nlp, \"what's the biggest profit this year?\", sentence_after_regex)\n",
        "print(f\"Answer: '{answer}', score: {result}, start: {start}, end: {end}\")"
      ],
      "execution_count": 26,
      "outputs": [
        {
          "output_type": "stream",
          "text": [
            "Answer: '0 93  at yearend   had fallen 94', score: 0.0794, start: 13656, end: 13688\n"
          ],
          "name": "stdout"
        }
      ]
    },
    {
      "cell_type": "markdown",
      "metadata": {
        "id": "MqIK1FO1Hc6T"
      },
      "source": [
        "## Transformer embedding"
      ]
    },
    {
      "cell_type": "code",
      "metadata": {
        "colab": {
          "base_uri": "https://localhost:8080/"
        },
        "id": "fJZLnUCaHi0K",
        "outputId": "01210390-0280-4e36-a0e3-f4e741a4e750"
      },
      "source": [
        "!pip install sentence_transformers\n",
        "from sentence_transformers import SentenceTransformer"
      ],
      "execution_count": 4,
      "outputs": [
        {
          "output_type": "stream",
          "text": [
            "Collecting sentence_transformers\n",
            "\u001b[?25l  Downloading https://files.pythonhosted.org/packages/cc/75/df441011cd1726822b70fbff50042adb4860e9327b99b346154ead704c44/sentence-transformers-1.2.0.tar.gz (81kB)\n",
            "\r\u001b[K     |████                            | 10kB 14.0MB/s eta 0:00:01\r\u001b[K     |████████                        | 20kB 19.6MB/s eta 0:00:01\r\u001b[K     |████████████                    | 30kB 10.5MB/s eta 0:00:01\r\u001b[K     |████████████████                | 40kB 8.4MB/s eta 0:00:01\r\u001b[K     |████████████████████▏           | 51kB 5.2MB/s eta 0:00:01\r\u001b[K     |████████████████████████▏       | 61kB 6.0MB/s eta 0:00:01\r\u001b[K     |████████████████████████████▏   | 71kB 6.1MB/s eta 0:00:01\r\u001b[K     |████████████████████████████████| 81kB 3.8MB/s \n",
            "\u001b[?25hRequirement already satisfied: transformers<5.0.0,>=3.1.0 in /usr/local/lib/python3.7/dist-packages (from sentence_transformers) (4.6.1)\n",
            "Requirement already satisfied: tqdm in /usr/local/lib/python3.7/dist-packages (from sentence_transformers) (4.41.1)\n",
            "Requirement already satisfied: torch>=1.6.0 in /usr/local/lib/python3.7/dist-packages (from sentence_transformers) (1.8.1+cu101)\n",
            "Requirement already satisfied: torchvision in /usr/local/lib/python3.7/dist-packages (from sentence_transformers) (0.9.1+cu101)\n",
            "Requirement already satisfied: numpy in /usr/local/lib/python3.7/dist-packages (from sentence_transformers) (1.19.5)\n",
            "Requirement already satisfied: scikit-learn in /usr/local/lib/python3.7/dist-packages (from sentence_transformers) (0.22.2.post1)\n",
            "Requirement already satisfied: scipy in /usr/local/lib/python3.7/dist-packages (from sentence_transformers) (1.4.1)\n",
            "Requirement already satisfied: nltk in /usr/local/lib/python3.7/dist-packages (from sentence_transformers) (3.2.5)\n",
            "Collecting sentencepiece\n",
            "\u001b[?25l  Downloading https://files.pythonhosted.org/packages/f5/99/e0808cb947ba10f575839c43e8fafc9cc44e4a7a2c8f79c60db48220a577/sentencepiece-0.1.95-cp37-cp37m-manylinux2014_x86_64.whl (1.2MB)\n",
            "\u001b[K     |████████████████████████████████| 1.2MB 8.9MB/s \n",
            "\u001b[?25hRequirement already satisfied: requests in /usr/local/lib/python3.7/dist-packages (from transformers<5.0.0,>=3.1.0->sentence_transformers) (2.23.0)\n",
            "Requirement already satisfied: importlib-metadata; python_version < \"3.8\" in /usr/local/lib/python3.7/dist-packages (from transformers<5.0.0,>=3.1.0->sentence_transformers) (4.5.0)\n",
            "Requirement already satisfied: sacremoses in /usr/local/lib/python3.7/dist-packages (from transformers<5.0.0,>=3.1.0->sentence_transformers) (0.0.45)\n",
            "Requirement already satisfied: filelock in /usr/local/lib/python3.7/dist-packages (from transformers<5.0.0,>=3.1.0->sentence_transformers) (3.0.12)\n",
            "Requirement already satisfied: tokenizers<0.11,>=0.10.1 in /usr/local/lib/python3.7/dist-packages (from transformers<5.0.0,>=3.1.0->sentence_transformers) (0.10.3)\n",
            "Requirement already satisfied: regex!=2019.12.17 in /usr/local/lib/python3.7/dist-packages (from transformers<5.0.0,>=3.1.0->sentence_transformers) (2019.12.20)\n",
            "Requirement already satisfied: huggingface-hub==0.0.8 in /usr/local/lib/python3.7/dist-packages (from transformers<5.0.0,>=3.1.0->sentence_transformers) (0.0.8)\n",
            "Requirement already satisfied: packaging in /usr/local/lib/python3.7/dist-packages (from transformers<5.0.0,>=3.1.0->sentence_transformers) (20.9)\n",
            "Requirement already satisfied: typing-extensions in /usr/local/lib/python3.7/dist-packages (from torch>=1.6.0->sentence_transformers) (3.7.4.3)\n",
            "Requirement already satisfied: pillow>=4.1.1 in /usr/local/lib/python3.7/dist-packages (from torchvision->sentence_transformers) (7.1.2)\n",
            "Requirement already satisfied: joblib>=0.11 in /usr/local/lib/python3.7/dist-packages (from scikit-learn->sentence_transformers) (1.0.1)\n",
            "Requirement already satisfied: six in /usr/local/lib/python3.7/dist-packages (from nltk->sentence_transformers) (1.15.0)\n",
            "Requirement already satisfied: chardet<4,>=3.0.2 in /usr/local/lib/python3.7/dist-packages (from requests->transformers<5.0.0,>=3.1.0->sentence_transformers) (3.0.4)\n",
            "Requirement already satisfied: urllib3!=1.25.0,!=1.25.1,<1.26,>=1.21.1 in /usr/local/lib/python3.7/dist-packages (from requests->transformers<5.0.0,>=3.1.0->sentence_transformers) (1.24.3)\n",
            "Requirement already satisfied: idna<3,>=2.5 in /usr/local/lib/python3.7/dist-packages (from requests->transformers<5.0.0,>=3.1.0->sentence_transformers) (2.10)\n",
            "Requirement already satisfied: certifi>=2017.4.17 in /usr/local/lib/python3.7/dist-packages (from requests->transformers<5.0.0,>=3.1.0->sentence_transformers) (2021.5.30)\n",
            "Requirement already satisfied: zipp>=0.5 in /usr/local/lib/python3.7/dist-packages (from importlib-metadata; python_version < \"3.8\"->transformers<5.0.0,>=3.1.0->sentence_transformers) (3.4.1)\n",
            "Requirement already satisfied: click in /usr/local/lib/python3.7/dist-packages (from sacremoses->transformers<5.0.0,>=3.1.0->sentence_transformers) (7.1.2)\n",
            "Requirement already satisfied: pyparsing>=2.0.2 in /usr/local/lib/python3.7/dist-packages (from packaging->transformers<5.0.0,>=3.1.0->sentence_transformers) (2.4.7)\n",
            "Building wheels for collected packages: sentence-transformers\n",
            "  Building wheel for sentence-transformers (setup.py) ... \u001b[?25l\u001b[?25hdone\n",
            "  Created wheel for sentence-transformers: filename=sentence_transformers-1.2.0-cp37-none-any.whl size=123339 sha256=17639dd31e137ba1c8ef8285f8ead5f2672644d2d1929ad77c3fabab7863b97b\n",
            "  Stored in directory: /root/.cache/pip/wheels/0f/06/f7/faaa96fdda87462b4fd5c47b343340e9d5531ef70d0eef8242\n",
            "Successfully built sentence-transformers\n",
            "Installing collected packages: sentencepiece, sentence-transformers\n",
            "Successfully installed sentence-transformers-1.2.0 sentencepiece-0.1.95\n"
          ],
          "name": "stdout"
        }
      ]
    },
    {
      "cell_type": "code",
      "metadata": {
        "id": "LPVJQd2IISM5"
      },
      "source": [
        "model = SentenceTransformer()"
      ],
      "execution_count": null,
      "outputs": []
    }
  ]
}