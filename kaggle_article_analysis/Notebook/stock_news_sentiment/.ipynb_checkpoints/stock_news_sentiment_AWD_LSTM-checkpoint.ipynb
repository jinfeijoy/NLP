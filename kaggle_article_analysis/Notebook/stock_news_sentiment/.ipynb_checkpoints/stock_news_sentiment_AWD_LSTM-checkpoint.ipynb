{
 "cells": [
  {
   "cell_type": "code",
   "execution_count": 1,
   "metadata": {
    "colab": {
     "base_uri": "https://localhost:8080/"
    },
    "id": "O42bYfuP0Co5",
    "outputId": "c4788373-5972-4db9-be68-ab3f9d0c87c7"
   },
   "outputs": [
    {
     "name": "stdout",
     "output_type": "stream",
     "text": [
      "Mounted at /content/drive\n",
      "Collecting fastai==2.3.1\n",
      "\u001b[?25l  Downloading https://files.pythonhosted.org/packages/e8/79/e8a87e4c20238e114671314426227db8647d2b42744eab79e0917c59865e/fastai-2.3.1-py3-none-any.whl (194kB)\n",
      "\u001b[K     |████████████████████████████████| 204kB 7.6MB/s \n",
      "\u001b[?25hCollecting fastcore<1.4,>=1.3.8\n",
      "\u001b[?25l  Downloading https://files.pythonhosted.org/packages/d8/b0/f1fbf554e0bf3c76e1bdc3b82eedfe41fcf656479586be38c64421082b1b/fastcore-1.3.20-py3-none-any.whl (53kB)\n",
      "\u001b[K     |████████████████████████████████| 61kB 7.9MB/s \n",
      "\u001b[?25hRequirement already satisfied: scipy in /usr/local/lib/python3.7/dist-packages (from fastai==2.3.1) (1.4.1)\n",
      "Requirement already satisfied: pandas in /usr/local/lib/python3.7/dist-packages (from fastai==2.3.1) (1.1.5)\n",
      "Requirement already satisfied: requests in /usr/local/lib/python3.7/dist-packages (from fastai==2.3.1) (2.23.0)\n",
      "Requirement already satisfied: packaging in /usr/local/lib/python3.7/dist-packages (from fastai==2.3.1) (20.9)\n",
      "Requirement already satisfied: pip in /usr/local/lib/python3.7/dist-packages (from fastai==2.3.1) (19.3.1)\n",
      "Requirement already satisfied: fastprogress>=0.2.4 in /usr/local/lib/python3.7/dist-packages (from fastai==2.3.1) (1.0.0)\n",
      "Requirement already satisfied: pillow>6.0.0 in /usr/local/lib/python3.7/dist-packages (from fastai==2.3.1) (7.1.2)\n",
      "Requirement already satisfied: torchvision>=0.8.2 in /usr/local/lib/python3.7/dist-packages (from fastai==2.3.1) (0.10.0+cu102)\n",
      "Requirement already satisfied: scikit-learn in /usr/local/lib/python3.7/dist-packages (from fastai==2.3.1) (0.22.2.post1)\n",
      "Collecting torch<1.9,>=1.7.0\n",
      "\u001b[?25l  Downloading https://files.pythonhosted.org/packages/56/74/6fc9dee50f7c93d6b7d9644554bdc9692f3023fa5d1de779666e6bf8ae76/torch-1.8.1-cp37-cp37m-manylinux1_x86_64.whl (804.1MB)\n",
      "\u001b[K     |████████████████████████████████| 804.1MB 22kB/s \n",
      "\u001b[?25hRequirement already satisfied: matplotlib in /usr/local/lib/python3.7/dist-packages (from fastai==2.3.1) (3.2.2)\n",
      "Requirement already satisfied: spacy<4 in /usr/local/lib/python3.7/dist-packages (from fastai==2.3.1) (2.2.4)\n",
      "Requirement already satisfied: pyyaml in /usr/local/lib/python3.7/dist-packages (from fastai==2.3.1) (3.13)\n",
      "Requirement already satisfied: numpy>=1.13.3 in /usr/local/lib/python3.7/dist-packages (from scipy->fastai==2.3.1) (1.19.5)\n",
      "Requirement already satisfied: python-dateutil>=2.7.3 in /usr/local/lib/python3.7/dist-packages (from pandas->fastai==2.3.1) (2.8.1)\n",
      "Requirement already satisfied: pytz>=2017.2 in /usr/local/lib/python3.7/dist-packages (from pandas->fastai==2.3.1) (2018.9)\n",
      "Requirement already satisfied: idna<3,>=2.5 in /usr/local/lib/python3.7/dist-packages (from requests->fastai==2.3.1) (2.10)\n",
      "Requirement already satisfied: certifi>=2017.4.17 in /usr/local/lib/python3.7/dist-packages (from requests->fastai==2.3.1) (2021.5.30)\n",
      "Requirement already satisfied: urllib3!=1.25.0,!=1.25.1,<1.26,>=1.21.1 in /usr/local/lib/python3.7/dist-packages (from requests->fastai==2.3.1) (1.24.3)\n",
      "Requirement already satisfied: chardet<4,>=3.0.2 in /usr/local/lib/python3.7/dist-packages (from requests->fastai==2.3.1) (3.0.4)\n",
      "Requirement already satisfied: pyparsing>=2.0.2 in /usr/local/lib/python3.7/dist-packages (from packaging->fastai==2.3.1) (2.4.7)\n",
      "Requirement already satisfied: joblib>=0.11 in /usr/local/lib/python3.7/dist-packages (from scikit-learn->fastai==2.3.1) (1.0.1)\n",
      "Requirement already satisfied: typing-extensions in /usr/local/lib/python3.7/dist-packages (from torch<1.9,>=1.7.0->fastai==2.3.1) (3.7.4.3)\n",
      "Requirement already satisfied: cycler>=0.10 in /usr/local/lib/python3.7/dist-packages (from matplotlib->fastai==2.3.1) (0.10.0)\n",
      "Requirement already satisfied: kiwisolver>=1.0.1 in /usr/local/lib/python3.7/dist-packages (from matplotlib->fastai==2.3.1) (1.3.1)\n",
      "Requirement already satisfied: blis<0.5.0,>=0.4.0 in /usr/local/lib/python3.7/dist-packages (from spacy<4->fastai==2.3.1) (0.4.1)\n",
      "Requirement already satisfied: murmurhash<1.1.0,>=0.28.0 in /usr/local/lib/python3.7/dist-packages (from spacy<4->fastai==2.3.1) (1.0.5)\n",
      "Requirement already satisfied: thinc==7.4.0 in /usr/local/lib/python3.7/dist-packages (from spacy<4->fastai==2.3.1) (7.4.0)\n",
      "Requirement already satisfied: wasabi<1.1.0,>=0.4.0 in /usr/local/lib/python3.7/dist-packages (from spacy<4->fastai==2.3.1) (0.8.2)\n",
      "Requirement already satisfied: preshed<3.1.0,>=3.0.2 in /usr/local/lib/python3.7/dist-packages (from spacy<4->fastai==2.3.1) (3.0.5)\n",
      "Requirement already satisfied: tqdm<5.0.0,>=4.38.0 in /usr/local/lib/python3.7/dist-packages (from spacy<4->fastai==2.3.1) (4.41.1)\n",
      "Requirement already satisfied: srsly<1.1.0,>=1.0.2 in /usr/local/lib/python3.7/dist-packages (from spacy<4->fastai==2.3.1) (1.0.5)\n",
      "Requirement already satisfied: setuptools in /usr/local/lib/python3.7/dist-packages (from spacy<4->fastai==2.3.1) (57.0.0)\n",
      "Requirement already satisfied: catalogue<1.1.0,>=0.0.7 in /usr/local/lib/python3.7/dist-packages (from spacy<4->fastai==2.3.1) (1.0.0)\n",
      "Requirement already satisfied: plac<1.2.0,>=0.9.6 in /usr/local/lib/python3.7/dist-packages (from spacy<4->fastai==2.3.1) (1.1.3)\n",
      "Requirement already satisfied: cymem<2.1.0,>=2.0.2 in /usr/local/lib/python3.7/dist-packages (from spacy<4->fastai==2.3.1) (2.0.5)\n",
      "Requirement already satisfied: six>=1.5 in /usr/local/lib/python3.7/dist-packages (from python-dateutil>=2.7.3->pandas->fastai==2.3.1) (1.15.0)\n",
      "Requirement already satisfied: importlib-metadata>=0.20; python_version < \"3.8\" in /usr/local/lib/python3.7/dist-packages (from catalogue<1.1.0,>=0.0.7->spacy<4->fastai==2.3.1) (4.5.0)\n",
      "Requirement already satisfied: zipp>=0.5 in /usr/local/lib/python3.7/dist-packages (from importlib-metadata>=0.20; python_version < \"3.8\"->catalogue<1.1.0,>=0.0.7->spacy<4->fastai==2.3.1) (3.4.1)\n",
      "\u001b[31mERROR: torchvision 0.10.0+cu102 has requirement torch==1.9.0, but you'll have torch 1.8.1 which is incompatible.\u001b[0m\n",
      "\u001b[31mERROR: torchtext 0.10.0 has requirement torch==1.9.0, but you'll have torch 1.8.1 which is incompatible.\u001b[0m\n",
      "Installing collected packages: fastcore, torch, fastai\n",
      "  Found existing installation: torch 1.9.0+cu102\n",
      "    Uninstalling torch-1.9.0+cu102:\n",
      "      Successfully uninstalled torch-1.9.0+cu102\n",
      "  Found existing installation: fastai 1.0.61\n",
      "    Uninstalling fastai-1.0.61:\n",
      "      Successfully uninstalled fastai-1.0.61\n",
      "Successfully installed fastai-2.3.1 fastcore-1.3.20 torch-1.8.1\n"
     ]
    }
   ],
   "source": [
    "#Please select GPU first (from Edit->NotebookSetting)\n",
    "import pandas as pd\n",
    "import numpy as np\n",
    "import io\n",
    "import os\n",
    "import re\n",
    "from google.colab import drive\n",
    "drive.mount('/content/drive')\n",
    "!pip install fastai==2.3.1\n",
    "from fastai.text.all import *"
   ]
  },
  {
   "cell_type": "code",
   "execution_count": 2,
   "metadata": {
    "colab": {
     "base_uri": "https://localhost:8080/",
     "height": 227
    },
    "id": "20bxs9f60aVr",
    "outputId": "88c3bbcd-4ae8-4d5f-b849-d478a5712f10"
   },
   "outputs": [
    {
     "name": "stdout",
     "output_type": "stream",
     "text": [
      "13181\n",
      "52.0\n"
     ]
    },
    {
     "data": {
      "text/html": [
       "<div>\n",
       "<style scoped>\n",
       "    .dataframe tbody tr th:only-of-type {\n",
       "        vertical-align: middle;\n",
       "    }\n",
       "\n",
       "    .dataframe tbody tr th {\n",
       "        vertical-align: top;\n",
       "    }\n",
       "\n",
       "    .dataframe thead th {\n",
       "        text-align: right;\n",
       "    }\n",
       "</style>\n",
       "<table border=\"1\" class=\"dataframe\">\n",
       "  <thead>\n",
       "    <tr style=\"text-align: right;\">\n",
       "      <th></th>\n",
       "      <th>Label</th>\n",
       "      <th>Ticker</th>\n",
       "      <th>Headline</th>\n",
       "      <th>orig_text</th>\n",
       "      <th>len</th>\n",
       "    </tr>\n",
       "  </thead>\n",
       "  <tbody>\n",
       "    <tr>\n",
       "      <th>0</th>\n",
       "      <td>0</td>\n",
       "      <td>A</td>\n",
       "      <td>Airline shares tumble as New York imposes quarantine Florida cases spike An American Airlines Group Inc. plane prepares for landing at LaGuardia Airport LGA in New York U.S. on Tuesday April 18... TravelNewsInsights</td>\n",
       "      <td>@TotesTravel : Airline shares tumble as New York imposes quarantine Florida cases spike - An American Airlines Group Inc. plane prepares for landing at LaGuardia Airport (LGA) in New York U.S. on Tuesday April 18... #TravelNewsInsights - https://t.co/6fnJSf3bRh</td>\n",
       "      <td>35</td>\n",
       "    </tr>\n",
       "    <tr>\n",
       "      <th>1</th>\n",
       "      <td>1</td>\n",
       "      <td>A</td>\n",
       "      <td>American United call off Hong Kong flights after crew testing rules An American Airlines Group Inc. Boeing Co. 777 300ER aircraft sits at Hong Kong International Airport in Hong Kong China. Brent... TravelNewsInsights</td>\n",
       "      <td>@TotesTravel : American United call off Hong Kong flights after crew testing rules - An American Airlines Group Inc. Boeing Co. 777-300ER aircraft sits at Hong Kong International Airport in Hong Kong China. Brent... #TravelNewsInsights - https://t.co/mM34IZz6lM</td>\n",
       "      <td>35</td>\n",
       "    </tr>\n",
       "    <tr>\n",
       "      <th>2</th>\n",
       "      <td>0</td>\n",
       "      <td>A</td>\n",
       "      <td>U.S. airline stocks hit highest prices since June on travel uptick stimulus hopes A JetBlue Airways Corp. plane taxis next to American Airlines Group Inc. Delta Air Lines Inc. and Alaska Airlines Inc. aircraft... TravelNewsInsights</td>\n",
       "      <td>@TotesTravel : U.S. airline stocks hit highest prices since June on travel uptick stimulus hopes - A JetBlue Airways Corp. plane taxis next to American Airlines Group Inc. Delta Air Lines Inc. and Alaska Airlines Inc. aircraft... #TravelNewsInsights - https://t.co/bwxoJDizzN</td>\n",
       "      <td>37</td>\n",
       "    </tr>\n",
       "  </tbody>\n",
       "</table>\n",
       "</div>"
      ],
      "text/plain": [
       "   Label  ... len\n",
       "0      0  ...  35\n",
       "1      1  ...  35\n",
       "2      0  ...  37\n",
       "\n",
       "[3 rows x 5 columns]"
      ]
     },
     "execution_count": 2,
     "metadata": {
      "tags": []
     },
     "output_type": "execute_result"
    }
   ],
   "source": [
    "path = '/content/drive/MyDrive/colab_data'\n",
    "def de_emojify(inputString):\n",
    "    return inputString.encode('ascii', 'ignore').decode('ascii')\n",
    "def clean_text(text):\n",
    "    text = re.sub(r\"@[A-Za-z0-9]+\", ' ', text)\n",
    "    text = re.sub(r\"https?://[A-Za-z0-9./]+\", ' ', text)\n",
    "    text = re.sub(r\"[^a-zA-z.!?'0-9]\", ' ', text)\n",
    "    text = re.sub('\\t', ' ',  text)\n",
    "    text = re.sub(r\" +\", ' ', text)\n",
    "    return text\n",
    "def text_proc(df, text_col='text'):\n",
    "    df['orig_text'] = df[text_col]\n",
    "    # Remove twitter handles\n",
    "    df[text_col] = df[text_col].apply(lambda x: clean_text(x))\n",
    "    # Remove URLs\n",
    "    df[text_col] = df[text_col].apply(lambda x:x.replace('<br />', ' '))\n",
    "    return df[df[text_col]!='']\n",
    "data = pd.read_csv(os.path.join(path, \"nasdaq.csv\"))\n",
    "data = text_proc(data,'Headline').dropna(subset=['Label'])#.sample(2000, random_state = 10).reset_index(drop=True)\n",
    "data['len'] = data.Headline.apply(lambda x: len(x.split(' ')))\n",
    "print(len(data))\n",
    "print(data['len'].quantile(0.99))\n",
    "data.head(3)"
   ]
  },
  {
   "cell_type": "code",
   "execution_count": 3,
   "metadata": {
    "id": "1upS_5Gc35_u"
   },
   "outputs": [],
   "source": [
    "df_clas = data[['Headline', 'Label']].dropna(subset=['Label'])\n",
    "df_clas.columns = df_clas.columns.str.strip()"
   ]
  },
  {
   "cell_type": "code",
   "execution_count": 4,
   "metadata": {
    "colab": {
     "base_uri": "https://localhost:8080/",
     "height": 267
    },
    "id": "0zaeh0sd0e-x",
    "outputId": "12e16123-eede-4efc-f987-3c60ef0c31c3"
   },
   "outputs": [
    {
     "data": {
      "text/html": [],
      "text/plain": [
       "<IPython.core.display.HTML object>"
      ]
     },
     "metadata": {
      "tags": []
     },
     "output_type": "display_data"
    },
    {
     "name": "stderr",
     "output_type": "stream",
     "text": [
      "/usr/local/lib/python3.7/dist-packages/numpy/core/_asarray.py:83: VisibleDeprecationWarning: Creating an ndarray from ragged nested sequences (which is a list-or-tuple of lists-or-tuples-or ndarrays with different lengths or shapes) is deprecated. If you meant to do this, you must specify 'dtype=object' when creating the ndarray\n",
      "  return array(a, dtype, copy=False, order=order)\n"
     ]
    },
    {
     "data": {
      "text/html": [
       "<table border=\"1\" class=\"dataframe\">\n",
       "  <thead>\n",
       "    <tr style=\"text-align: right;\">\n",
       "      <th></th>\n",
       "      <th>text</th>\n",
       "      <th>text_</th>\n",
       "    </tr>\n",
       "  </thead>\n",
       "  <tbody>\n",
       "    <tr>\n",
       "      <th>0</th>\n",
       "      <td>xxbos xxmaj zimbabwe ' xxunk xxmaj needs an xxmaj independent xxmaj central xxmaj bank ' xxbos xxmaj free xxmaj groupon xxmaj script xxmaj groupon xxmaj clone and xxup xxunk script at the web press xxbos tripadvisor trades as independent company on xxup nasdaq xxbos xxmaj xxunk xxmaj xxunk reminds xxmaj trump of xxmaj soviet xxmaj afghan xxmaj war calls it the root cause of modern conflict xxbos xxmaj novavax xxup covid 19</td>\n",
       "      <td>xxmaj zimbabwe ' xxunk xxmaj needs an xxmaj independent xxmaj central xxmaj bank ' xxbos xxmaj free xxmaj groupon xxmaj script xxmaj groupon xxmaj clone and xxup xxunk script at the web press xxbos tripadvisor trades as independent company on xxup nasdaq xxbos xxmaj xxunk xxmaj xxunk reminds xxmaj trump of xxmaj soviet xxmaj afghan xxmaj war calls it the root cause of modern conflict xxbos xxmaj novavax xxup covid 19 xxmaj</td>\n",
       "    </tr>\n",
       "    <tr>\n",
       "      <th>1</th>\n",
       "      <td>investigative committee amid new allegations by short seller xxup cbc xxmaj news xxbos xxmaj paris opera xxunk woman in xxmaj muslim veil after cast refuses to sing xxbos xxmaj xxunk xxmaj xxunk xxmaj corp . xxmaj product xxmaj pipeline xxmaj review 2015 xxmaj now xxmaj available at idata xxmaj insights idata xxmaj insights xxbos xxmaj popular 25 year old xxmaj ugandan gorilla killed [ by poachers ] at xxup unesco park xxbos</td>\n",
       "      <td>committee amid new allegations by short seller xxup cbc xxmaj news xxbos xxmaj paris opera xxunk woman in xxmaj muslim veil after cast refuses to sing xxbos xxmaj xxunk xxmaj xxunk xxmaj corp . xxmaj product xxmaj pipeline xxmaj review 2015 xxmaj now xxmaj available at idata xxmaj insights idata xxmaj insights xxbos xxmaj popular 25 year old xxmaj ugandan gorilla killed [ by poachers ] at xxup unesco park xxbos xxmaj</td>\n",
       "    </tr>\n",
       "  </tbody>\n",
       "</table>"
      ],
      "text/plain": [
       "<IPython.core.display.HTML object>"
      ]
     },
     "metadata": {
      "tags": []
     },
     "output_type": "display_data"
    }
   ],
   "source": [
    "dls_lm = TextDataLoaders.from_df(data, text_col='Headline', is_lm=True, valid_pct=0.1)\n",
    "dls_lm.show_batch(max_n=2)\n",
    "torch.save(dls_lm, os.path.join(path, 'dls_lm.pkl'))"
   ]
  },
  {
   "cell_type": "code",
   "execution_count": 5,
   "metadata": {
    "colab": {
     "base_uri": "https://localhost:8080/",
     "height": 17
    },
    "id": "udUleJAm0I8G",
    "outputId": "9a4b3334-4b19-42a9-81f4-a63db0b09d73"
   },
   "outputs": [
    {
     "data": {
      "text/html": [],
      "text/plain": [
       "<IPython.core.display.HTML object>"
      ]
     },
     "metadata": {
      "tags": []
     },
     "output_type": "display_data"
    }
   ],
   "source": [
    "learn = language_model_learner(dls_lm, AWD_LSTM, drop_mult = 0.3, metrics=[accuracy, Perplexity()]).to_fp16()"
   ]
  },
  {
   "cell_type": "code",
   "execution_count": 6,
   "metadata": {
    "colab": {
     "base_uri": "https://localhost:8080/",
     "height": 173
    },
    "id": "gY01BNcJ1D3n",
    "outputId": "167615cd-0798-4bb1-a9c5-452fb1a60a84"
   },
   "outputs": [
    {
     "data": {
      "text/html": [
       "<table border=\"1\" class=\"dataframe\">\n",
       "  <thead>\n",
       "    <tr style=\"text-align: left;\">\n",
       "      <th>epoch</th>\n",
       "      <th>train_loss</th>\n",
       "      <th>valid_loss</th>\n",
       "      <th>accuracy</th>\n",
       "      <th>perplexity</th>\n",
       "      <th>time</th>\n",
       "    </tr>\n",
       "  </thead>\n",
       "  <tbody>\n",
       "    <tr>\n",
       "      <td>0</td>\n",
       "      <td>4.593308</td>\n",
       "      <td>4.181658</td>\n",
       "      <td>0.335359</td>\n",
       "      <td>65.474335</td>\n",
       "      <td>00:19</td>\n",
       "    </tr>\n",
       "    <tr>\n",
       "      <td>1</td>\n",
       "      <td>4.016610</td>\n",
       "      <td>3.709640</td>\n",
       "      <td>0.383682</td>\n",
       "      <td>40.839085</td>\n",
       "      <td>00:19</td>\n",
       "    </tr>\n",
       "    <tr>\n",
       "      <td>2</td>\n",
       "      <td>3.493185</td>\n",
       "      <td>3.491858</td>\n",
       "      <td>0.412244</td>\n",
       "      <td>32.846905</td>\n",
       "      <td>00:19</td>\n",
       "    </tr>\n",
       "    <tr>\n",
       "      <td>3</td>\n",
       "      <td>3.165977</td>\n",
       "      <td>3.461923</td>\n",
       "      <td>0.418407</td>\n",
       "      <td>31.878216</td>\n",
       "      <td>00:19</td>\n",
       "    </tr>\n",
       "  </tbody>\n",
       "</table>"
      ],
      "text/plain": [
       "<IPython.core.display.HTML object>"
      ]
     },
     "metadata": {
      "tags": []
     },
     "output_type": "display_data"
    }
   ],
   "source": [
    "learn.unfreeze()\n",
    "learn.fit_one_cycle(4, 1e-3) "
   ]
  },
  {
   "cell_type": "code",
   "execution_count": 9,
   "metadata": {
    "colab": {
     "base_uri": "https://localhost:8080/",
     "height": 51
    },
    "id": "GZ7PppTj1I89",
    "outputId": "8bb221af-5afa-4ef2-8af8-3ce7a789f380"
   },
   "outputs": [
    {
     "data": {
      "text/html": [],
      "text/plain": [
       "<IPython.core.display.HTML object>"
      ]
     },
     "metadata": {
      "tags": []
     },
     "output_type": "display_data"
    },
    {
     "data": {
      "text/html": [],
      "text/plain": [
       "<IPython.core.display.HTML object>"
      ]
     },
     "metadata": {
      "tags": []
     },
     "output_type": "display_data"
    },
    {
     "name": "stdout",
     "output_type": "stream",
     "text": [
      "Apple Inc . 's NASDAQ earnings from Date of Action Hit g amp p p NASDAQ Stock News China s most profitable bank . Tesla delivers banking netgear to Texas Tech Depot\n",
      "Apple Inc . To Limit Its Size Of Its Kind To Make Global Classified Into Its Debt With Amp Amp Over It Again\n"
     ]
    }
   ],
   "source": [
    "TEXT = \"Apple\"\n",
    "N_WORDS = 45\n",
    "N_SENTENCES = 2\n",
    "print(\"\\n\".join(learn.predict(TEXT, N_WORDS, temperature=0.75) for _ in range(N_SENTENCES)))"
   ]
  },
  {
   "cell_type": "code",
   "execution_count": 18,
   "metadata": {
    "colab": {
     "base_uri": "https://localhost:8080/",
     "height": 71
    },
    "id": "bmYavzRa2xdG",
    "outputId": "cf804112-3ee4-403f-d9e3-142b676af032"
   },
   "outputs": [
    {
     "data": {
      "text/html": [],
      "text/plain": [
       "<IPython.core.display.HTML object>"
      ]
     },
     "metadata": {
      "tags": []
     },
     "output_type": "display_data"
    },
    {
     "name": "stderr",
     "output_type": "stream",
     "text": [
      "/usr/local/lib/python3.7/dist-packages/numpy/core/_asarray.py:83: VisibleDeprecationWarning: Creating an ndarray from ragged nested sequences (which is a list-or-tuple of lists-or-tuples-or ndarrays with different lengths or shapes) is deprecated. If you meant to do this, you must specify 'dtype=object' when creating the ndarray\n",
      "  return array(a, dtype, copy=False, order=order)\n"
     ]
    }
   ],
   "source": [
    "dls_clas = DataBlock(\n",
    "    blocks = (TextBlock.from_df('Headline', seq_len = dls_lm.seq_len, vocab = dls_lm.vocab), CategoryBlock),\n",
    "    get_x = ColReader('text'),\n",
    "    get_y = ColReader('Label'),\n",
    "    splitter = RandomSplitter()\n",
    ").dataloaders(df_train, bs = 64)"
   ]
  },
  {
   "cell_type": "code",
   "execution_count": 10,
   "metadata": {
    "colab": {
     "base_uri": "https://localhost:8080/",
     "height": 241
    },
    "id": "DYREO5ul5DbE",
    "outputId": "3311d3be-a3e1-4dd0-bc04-cbc6d0cc0a96"
   },
   "outputs": [
    {
     "data": {
      "text/html": [
       "<table border=\"1\" class=\"dataframe\">\n",
       "  <thead>\n",
       "    <tr style=\"text-align: right;\">\n",
       "      <th></th>\n",
       "      <th>text</th>\n",
       "      <th>category</th>\n",
       "    </tr>\n",
       "  </thead>\n",
       "  <tbody>\n",
       "    <tr>\n",
       "      <th>0</th>\n",
       "      <td>xxbos xxmaj xxunk xxmaj xxunk xxmaj xxunk xxmaj xxunk xxmaj xxunk xxup pi xxup xxunk xxup xxunk xxup ce xxup tak e w xxup xxunk xxup xxunk i xxup xxunk w xxup ci xxup xxunk xxup roku xxup xxunk xxup xxunk xxup xxunk i a xxup xxunk xxup xxunk w xxup ci xxup xxunk xxup roku xxup xxunk i xxup xxunk xxup tak e xxup na xxup xxunk i xxup xxunk xxup xxunk xxup xxunk i xxup xxunk xxup xxunk xxup xxunk xxup xxunk i xxup xxunk xxup xxunk xxup xxunk xxup xxunk . xxup xxunk .</td>\n",
       "      <td>0</td>\n",
       "    </tr>\n",
       "    <tr>\n",
       "      <th>1</th>\n",
       "      <td>xxbos xxup free xxup xxunk xxup riot xxmaj campaign gets a big dose of xxunk power with the help of xxmaj xxunk xxmaj xxunk xxmaj jones xxmaj kate xxmaj nash xxmaj the xxmaj knife xxmaj xxunk xxmaj li xxmaj xxunk xxmaj snow xxmaj peter xxmaj xxunk and xxmaj john the xxmaj yeah xxmaj yeah xxmaj xxunk xxmaj margaret xxmaj cho xxmaj dave xxmaj hill xxmaj motor xxmaj city 5 xxmaj the xxmaj xxunk xxmaj xxunk of xxmaj death xxunk xxmaj sisters xxup you and many more !</td>\n",
       "      <td>0</td>\n",
       "    </tr>\n",
       "    <tr>\n",
       "      <th>2</th>\n",
       "      <td>xxbos xxmaj extinct xxmaj cave xxmaj bear xxup dna xxmaj found in xxmaj living xxmaj bears xxmaj discovery is 1st of its kind outside human lineage . xxmaj after roaming for over 1 xxrep 5 0 yrs cave bears died out some 24 xxrep 3 0 yrs ago . xxmaj but its xxup dna lives on in brown bears . xxmaj it forces us to think on a philosophical level what we mean by species extinction .</td>\n",
       "      <td>0</td>\n",
       "    </tr>\n",
       "    <tr>\n",
       "      <th>3</th>\n",
       "      <td>xxbos xxmaj wi xxmaj fi xxmaj analytics xxmaj market xxmaj industry xxmaj analysis xxmaj size xxmaj share xxmaj growth xxmaj trends and xxmaj forecast 2021 2026 xxmaj cisco xxmaj systems xxmaj inc xxmaj zebra xxmaj technologies xxmaj ruckus xxmaj wireless xxmaj aruba xxmaj networks xxmaj inc . xxmaj purple xxmaj wi xxmaj fi xxmaj ltd xxmaj cloud4wi xxmaj fortinet xxmaj inc xxmaj yelp xxmaj inc xxmaj euclid and xxmaj hughes xxmaj network xxmaj systems</td>\n",
       "      <td>0</td>\n",
       "    </tr>\n",
       "  </tbody>\n",
       "</table>"
      ],
      "text/plain": [
       "<IPython.core.display.HTML object>"
      ]
     },
     "metadata": {
      "tags": []
     },
     "output_type": "display_data"
    }
   ],
   "source": [
    "dls_clas.show_batch(max_n=4)"
   ]
  },
  {
   "cell_type": "code",
   "execution_count": 42,
   "metadata": {
    "id": "FmPEPaCx5GG5"
   },
   "outputs": [],
   "source": [
    "learn = text_classifier_learner(dls_clas, AWD_LSTM, drop_mult=0.5, metrics=accuracy).to_fp16()"
   ]
  },
  {
   "cell_type": "code",
   "execution_count": 43,
   "metadata": {
    "colab": {
     "base_uri": "https://localhost:8080/",
     "height": 359
    },
    "id": "L2thpsmD4S8D",
    "outputId": "34898d7c-08d9-4197-ee8e-b381e617203d"
   },
   "outputs": [
    {
     "data": {
      "text/html": [
       "<table border=\"1\" class=\"dataframe\">\n",
       "  <thead>\n",
       "    <tr style=\"text-align: left;\">\n",
       "      <th>epoch</th>\n",
       "      <th>train_loss</th>\n",
       "      <th>valid_loss</th>\n",
       "      <th>accuracy</th>\n",
       "      <th>time</th>\n",
       "    </tr>\n",
       "  </thead>\n",
       "  <tbody>\n",
       "    <tr>\n",
       "      <td>0</td>\n",
       "      <td>1.198580</td>\n",
       "      <td>1.091079</td>\n",
       "      <td>0.403737</td>\n",
       "      <td>00:11</td>\n",
       "    </tr>\n",
       "    <tr>\n",
       "      <td>1</td>\n",
       "      <td>1.104958</td>\n",
       "      <td>1.001245</td>\n",
       "      <td>0.520951</td>\n",
       "      <td>00:11</td>\n",
       "    </tr>\n",
       "    <tr>\n",
       "      <td>2</td>\n",
       "      <td>0.966983</td>\n",
       "      <td>0.898475</td>\n",
       "      <td>0.610419</td>\n",
       "      <td>00:11</td>\n",
       "    </tr>\n",
       "    <tr>\n",
       "      <td>3</td>\n",
       "      <td>0.852598</td>\n",
       "      <td>0.817235</td>\n",
       "      <td>0.654587</td>\n",
       "      <td>00:11</td>\n",
       "    </tr>\n",
       "    <tr>\n",
       "      <td>4</td>\n",
       "      <td>0.777840</td>\n",
       "      <td>0.782826</td>\n",
       "      <td>0.668743</td>\n",
       "      <td>00:11</td>\n",
       "    </tr>\n",
       "    <tr>\n",
       "      <td>5</td>\n",
       "      <td>0.734319</td>\n",
       "      <td>0.768828</td>\n",
       "      <td>0.663080</td>\n",
       "      <td>00:11</td>\n",
       "    </tr>\n",
       "    <tr>\n",
       "      <td>6</td>\n",
       "      <td>0.682769</td>\n",
       "      <td>0.750301</td>\n",
       "      <td>0.673273</td>\n",
       "      <td>00:11</td>\n",
       "    </tr>\n",
       "    <tr>\n",
       "      <td>7</td>\n",
       "      <td>0.664202</td>\n",
       "      <td>0.743626</td>\n",
       "      <td>0.672707</td>\n",
       "      <td>00:11</td>\n",
       "    </tr>\n",
       "    <tr>\n",
       "      <td>8</td>\n",
       "      <td>0.641250</td>\n",
       "      <td>0.737249</td>\n",
       "      <td>0.673839</td>\n",
       "      <td>00:11</td>\n",
       "    </tr>\n",
       "    <tr>\n",
       "      <td>9</td>\n",
       "      <td>0.638157</td>\n",
       "      <td>0.740391</td>\n",
       "      <td>0.678935</td>\n",
       "      <td>00:11</td>\n",
       "    </tr>\n",
       "  </tbody>\n",
       "</table>"
      ],
      "text/plain": [
       "<IPython.core.display.HTML object>"
      ]
     },
     "metadata": {
      "tags": []
     },
     "output_type": "display_data"
    }
   ],
   "source": [
    "learn.unfreeze()\n",
    "learn.fit_one_cycle(10, slice(1e-3/(2.6**4),1e-3))"
   ]
  },
  {
   "cell_type": "code",
   "execution_count": 21,
   "metadata": {
    "id": "UhqxgWqX22UO"
   },
   "outputs": [],
   "source": [
    "from sklearn.model_selection import train_test_split\n",
    "df_train, df_val = train_test_split(df_clas, test_size=0.33, random_state=42)"
   ]
  },
  {
   "cell_type": "code",
   "execution_count": 44,
   "metadata": {
    "colab": {
     "base_uri": "https://localhost:8080/",
     "height": 17
    },
    "id": "9_v-NRU753LN",
    "outputId": "472627da-c47f-40aa-b482-ab58805b957f"
   },
   "outputs": [
    {
     "data": {
      "text/html": [],
      "text/plain": [
       "<IPython.core.display.HTML object>"
      ]
     },
     "metadata": {
      "tags": []
     },
     "output_type": "display_data"
    }
   ],
   "source": [
    "pred_dl = dls_clas.test_dl(df_val['Headline'])\n",
    "preds = learn.get_preds(dl=pred_dl)"
   ]
  },
  {
   "cell_type": "code",
   "execution_count": 45,
   "metadata": {
    "id": "YVClJKRc6eGF"
   },
   "outputs": [],
   "source": [
    "target_map = {'neg':0,'pos':1,'neu':2}\n",
    "predsTest = pd.DataFrame(np.asarray(preds[0]), columns = ['neg','pos','neu'])\n",
    "predsTest['pred'] = predsTest.idxmax(axis = 1)\n",
    "predsTest['pred_convert'] = predsTest['pred'].apply(lambda x: target_map[x])"
   ]
  },
  {
   "cell_type": "code",
   "execution_count": 46,
   "metadata": {
    "colab": {
     "base_uri": "https://localhost:8080/"
    },
    "id": "G9jxPMl27KLW",
    "outputId": "28b863c9-ed87-40f4-81c0-6a3f23ffd92b"
   },
   "outputs": [
    {
     "data": {
      "text/plain": [
       "array([[2504, 1098,   91],\n",
       "       [ 303,  338,    9],\n",
       "       [   0,    2,    5]])"
      ]
     },
     "execution_count": 46,
     "metadata": {
      "tags": []
     },
     "output_type": "execute_result"
    }
   ],
   "source": [
    "from sklearn.metrics import confusion_matrix, classification_report\n",
    "confusion_matrix(predsTest.pred_convert, df_val.Label)"
   ]
  },
  {
   "cell_type": "code",
   "execution_count": 47,
   "metadata": {
    "colab": {
     "base_uri": "https://localhost:8080/"
    },
    "id": "PwtWS1Sa77aY",
    "outputId": "81549f74-1afe-4993-c881-ec2e1f7e991e"
   },
   "outputs": [
    {
     "name": "stdout",
     "output_type": "stream",
     "text": [
      "              precision    recall  f1-score   support\n",
      "\n",
      "           0       0.89      0.68      0.77      3693\n",
      "           1       0.24      0.52      0.32       650\n",
      "           2       0.05      0.71      0.09         7\n",
      "\n",
      "    accuracy                           0.65      4350\n",
      "   macro avg       0.39      0.64      0.39      4350\n",
      "weighted avg       0.79      0.65      0.70      4350\n",
      "\n"
     ]
    }
   ],
   "source": [
    "print(classification_report(predsTest.pred_convert, df_val.Label))"
   ]
  }
 ],
 "metadata": {
  "accelerator": "GPU",
  "colab": {
   "collapsed_sections": [],
   "name": "stock_news_sentiment_AWD_LSTM.ipynb",
   "provenance": []
  },
  "kernelspec": {
   "display_name": "Python 3",
   "language": "python",
   "name": "python3"
  },
  "language_info": {
   "codemirror_mode": {
    "name": "ipython",
    "version": 3
   },
   "file_extension": ".py",
   "mimetype": "text/x-python",
   "name": "python",
   "nbconvert_exporter": "python",
   "pygments_lexer": "ipython3",
   "version": "3.8.8"
  }
 },
 "nbformat": 4,
 "nbformat_minor": 1
}
