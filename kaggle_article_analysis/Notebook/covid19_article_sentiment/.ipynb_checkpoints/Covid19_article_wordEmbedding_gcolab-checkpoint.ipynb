{
 "cells": [
  {
   "cell_type": "code",
   "execution_count": 1,
   "metadata": {
    "colab": {
     "base_uri": "https://localhost:8080/"
    },
    "id": "8epfTTFhbirZ",
    "outputId": "eec040c6-6868-40cd-ef2f-f6c687707cad"
   },
   "outputs": [
    {
     "name": "stdout",
     "output_type": "stream",
     "text": [
      "Drive already mounted at /content/drive; to attempt to forcibly remount, call drive.mount(\"/content/drive\", force_remount=True).\n",
      "Requirement already satisfied: fastai==2.3.1 in /usr/local/lib/python3.7/dist-packages (2.3.1)\n",
      "Requirement already satisfied: requests in /usr/local/lib/python3.7/dist-packages (from fastai==2.3.1) (2.23.0)\n",
      "Requirement already satisfied: pip in /usr/local/lib/python3.7/dist-packages (from fastai==2.3.1) (19.3.1)\n",
      "Requirement already satisfied: fastprogress>=0.2.4 in /usr/local/lib/python3.7/dist-packages (from fastai==2.3.1) (1.0.0)\n",
      "Requirement already satisfied: matplotlib in /usr/local/lib/python3.7/dist-packages (from fastai==2.3.1) (3.2.2)\n",
      "Requirement already satisfied: scikit-learn in /usr/local/lib/python3.7/dist-packages (from fastai==2.3.1) (0.22.2.post1)\n",
      "Requirement already satisfied: packaging in /usr/local/lib/python3.7/dist-packages (from fastai==2.3.1) (20.9)\n",
      "Requirement already satisfied: spacy<4 in /usr/local/lib/python3.7/dist-packages (from fastai==2.3.1) (2.2.4)\n",
      "Requirement already satisfied: pillow>6.0.0 in /usr/local/lib/python3.7/dist-packages (from fastai==2.3.1) (7.1.2)\n",
      "Requirement already satisfied: scipy in /usr/local/lib/python3.7/dist-packages (from fastai==2.3.1) (1.4.1)\n",
      "Requirement already satisfied: pandas in /usr/local/lib/python3.7/dist-packages (from fastai==2.3.1) (1.1.5)\n",
      "Requirement already satisfied: fastcore<1.4,>=1.3.8 in /usr/local/lib/python3.7/dist-packages (from fastai==2.3.1) (1.3.20)\n",
      "Requirement already satisfied: pyyaml in /usr/local/lib/python3.7/dist-packages (from fastai==2.3.1) (3.13)\n",
      "Requirement already satisfied: torch<1.9,>=1.7.0 in /usr/local/lib/python3.7/dist-packages (from fastai==2.3.1) (1.8.1+cu101)\n",
      "Requirement already satisfied: torchvision>=0.8.2 in /usr/local/lib/python3.7/dist-packages (from fastai==2.3.1) (0.9.1+cu101)\n",
      "Requirement already satisfied: urllib3!=1.25.0,!=1.25.1,<1.26,>=1.21.1 in /usr/local/lib/python3.7/dist-packages (from requests->fastai==2.3.1) (1.24.3)\n",
      "Requirement already satisfied: certifi>=2017.4.17 in /usr/local/lib/python3.7/dist-packages (from requests->fastai==2.3.1) (2021.5.30)\n",
      "Requirement already satisfied: chardet<4,>=3.0.2 in /usr/local/lib/python3.7/dist-packages (from requests->fastai==2.3.1) (3.0.4)\n",
      "Requirement already satisfied: idna<3,>=2.5 in /usr/local/lib/python3.7/dist-packages (from requests->fastai==2.3.1) (2.10)\n",
      "Requirement already satisfied: numpy in /usr/local/lib/python3.7/dist-packages (from fastprogress>=0.2.4->fastai==2.3.1) (1.19.5)\n",
      "Requirement already satisfied: cycler>=0.10 in /usr/local/lib/python3.7/dist-packages (from matplotlib->fastai==2.3.1) (0.10.0)\n",
      "Requirement already satisfied: pyparsing!=2.0.4,!=2.1.2,!=2.1.6,>=2.0.1 in /usr/local/lib/python3.7/dist-packages (from matplotlib->fastai==2.3.1) (2.4.7)\n",
      "Requirement already satisfied: python-dateutil>=2.1 in /usr/local/lib/python3.7/dist-packages (from matplotlib->fastai==2.3.1) (2.8.1)\n",
      "Requirement already satisfied: kiwisolver>=1.0.1 in /usr/local/lib/python3.7/dist-packages (from matplotlib->fastai==2.3.1) (1.3.1)\n",
      "Requirement already satisfied: joblib>=0.11 in /usr/local/lib/python3.7/dist-packages (from scikit-learn->fastai==2.3.1) (1.0.1)\n",
      "Requirement already satisfied: murmurhash<1.1.0,>=0.28.0 in /usr/local/lib/python3.7/dist-packages (from spacy<4->fastai==2.3.1) (1.0.5)\n",
      "Requirement already satisfied: blis<0.5.0,>=0.4.0 in /usr/local/lib/python3.7/dist-packages (from spacy<4->fastai==2.3.1) (0.4.1)\n",
      "Requirement already satisfied: plac<1.2.0,>=0.9.6 in /usr/local/lib/python3.7/dist-packages (from spacy<4->fastai==2.3.1) (1.1.3)\n",
      "Requirement already satisfied: catalogue<1.1.0,>=0.0.7 in /usr/local/lib/python3.7/dist-packages (from spacy<4->fastai==2.3.1) (1.0.0)\n",
      "Requirement already satisfied: preshed<3.1.0,>=3.0.2 in /usr/local/lib/python3.7/dist-packages (from spacy<4->fastai==2.3.1) (3.0.5)\n",
      "Requirement already satisfied: setuptools in /usr/local/lib/python3.7/dist-packages (from spacy<4->fastai==2.3.1) (57.0.0)\n",
      "Requirement already satisfied: cymem<2.1.0,>=2.0.2 in /usr/local/lib/python3.7/dist-packages (from spacy<4->fastai==2.3.1) (2.0.5)\n",
      "Requirement already satisfied: thinc==7.4.0 in /usr/local/lib/python3.7/dist-packages (from spacy<4->fastai==2.3.1) (7.4.0)\n",
      "Requirement already satisfied: wasabi<1.1.0,>=0.4.0 in /usr/local/lib/python3.7/dist-packages (from spacy<4->fastai==2.3.1) (0.8.2)\n",
      "Requirement already satisfied: srsly<1.1.0,>=1.0.2 in /usr/local/lib/python3.7/dist-packages (from spacy<4->fastai==2.3.1) (1.0.5)\n",
      "Requirement already satisfied: tqdm<5.0.0,>=4.38.0 in /usr/local/lib/python3.7/dist-packages (from spacy<4->fastai==2.3.1) (4.41.1)\n",
      "Requirement already satisfied: pytz>=2017.2 in /usr/local/lib/python3.7/dist-packages (from pandas->fastai==2.3.1) (2018.9)\n",
      "Requirement already satisfied: typing-extensions in /usr/local/lib/python3.7/dist-packages (from torch<1.9,>=1.7.0->fastai==2.3.1) (3.7.4.3)\n",
      "Requirement already satisfied: six in /usr/local/lib/python3.7/dist-packages (from cycler>=0.10->matplotlib->fastai==2.3.1) (1.15.0)\n",
      "Requirement already satisfied: importlib-metadata>=0.20; python_version < \"3.8\" in /usr/local/lib/python3.7/dist-packages (from catalogue<1.1.0,>=0.0.7->spacy<4->fastai==2.3.1) (4.5.0)\n",
      "Requirement already satisfied: zipp>=0.5 in /usr/local/lib/python3.7/dist-packages (from importlib-metadata>=0.20; python_version < \"3.8\"->catalogue<1.1.0,>=0.0.7->spacy<4->fastai==2.3.1) (3.4.1)\n"
     ]
    }
   ],
   "source": [
    "#Please select GPU first (from Edit->NotebookSetting)\n",
    "import pandas as pd\n",
    "import numpy as np\n",
    "import io\n",
    "import os\n",
    "import re\n",
    "from google.colab import drive\n",
    "drive.mount('/content/drive')\n",
    "import torch\n",
    "import torch.optim as optim\n",
    "import random \n",
    "!pip install fastai==2.3.1\n",
    "from fastai.text.all import *"
   ]
  },
  {
   "cell_type": "code",
   "execution_count": 2,
   "metadata": {
    "id": "R1LFeiQOcNxh"
   },
   "outputs": [],
   "source": [
    "path = '/content/drive/MyDrive/colab_data'\n",
    "def de_emojify(inputString):\n",
    "    return inputString.encode('ascii', 'ignore').decode('ascii')\n",
    "def text_proc(df, text_col='text'):\n",
    "    df['orig_text'] = df[text_col]\n",
    "    # Remove twitter handles\n",
    "    df[text_col] = df[text_col].apply(lambda x:re.sub('@[^\\s]+','',x))\n",
    "    # Remove URLs\n",
    "    df[text_col] = df[text_col].apply(lambda x:x.replace('<br />', ' '))\n",
    "    return df[df[text_col]!='']\n"
   ]
  },
  {
   "cell_type": "code",
   "execution_count": 3,
   "metadata": {
    "colab": {
     "base_uri": "https://localhost:8080/",
     "height": 380
    },
    "id": "QwdN_KU1cdnP",
    "outputId": "8e5b5224-ecf7-4b55-f020-a1069a3956d4"
   },
   "outputs": [
    {
     "name": "stdout",
     "output_type": "stream",
     "text": [
      "33324\n"
     ]
    },
    {
     "data": {
      "text/html": [
       "<div>\n",
       "<style scoped>\n",
       "    .dataframe tbody tr th:only-of-type {\n",
       "        vertical-align: middle;\n",
       "    }\n",
       "\n",
       "    .dataframe tbody tr th {\n",
       "        vertical-align: top;\n",
       "    }\n",
       "\n",
       "    .dataframe thead th {\n",
       "        text-align: right;\n",
       "    }\n",
       "</style>\n",
       "<table border=\"1\" class=\"dataframe\">\n",
       "  <thead>\n",
       "    <tr style=\"text-align: right;\">\n",
       "      <th></th>\n",
       "      <th>Unnamed: 0</th>\n",
       "      <th>text</th>\n",
       "      <th>sentiment</th>\n",
       "      <th>orig_text</th>\n",
       "    </tr>\n",
       "  </thead>\n",
       "  <tbody>\n",
       "    <tr>\n",
       "      <th>0</th>\n",
       "      <td>0</td>\n",
       "      <td>If you've recently heard from an old friend, you're not alone. A communication studies professor says he's not surprised that people are looking to reconnect with others they were once close to. “This is an utter reshuffling of people's social lives, in a way that's very, very dramatic and probably different than anything we've ever seen before,” said Dr. Jeffrey Hall, Professor of Communication Studies at the University of Kansas. Dr. Hall has been working with colleagues to collect data on how people are getting social needs met while in quarantine. One thing they've found so far is that...</td>\n",
       "      <td>1</td>\n",
       "      <td>If you've recently heard from an old friend, you're not alone. A communication studies professor says he's not surprised that people are looking to reconnect with others they were once close to. “This is an utter reshuffling of people's social lives, in a way that's very, very dramatic and probably different than anything we've ever seen before,” said Dr. Jeffrey Hall, Professor of Communication Studies at the University of Kansas. Dr. Hall has been working with colleagues to collect data on how people are getting social needs met while in quarantine. One thing they've found so far is that...</td>\n",
       "    </tr>\n",
       "    <tr>\n",
       "      <th>1</th>\n",
       "      <td>1</td>\n",
       "      <td>Dr. Hall says it makes sense that we would reach out to people we've had strong ties to. That's because if it has to be through phone calls or texts, we'd rather connect with someone we really want to talk to. Maintaining a rekindled friendship comes down to making a habit of it, in whatever your new normal routine may be. That could be as simple as making plans to talk once a month. Oklahoma State linebacker Amen Ogbongbemiga announced he has tested positive for COVID-19 after attending a protest rally in Tulsa. After attending a protest in Tulsa AND being well protective of myself, I hav...</td>\n",
       "      <td>1</td>\n",
       "      <td>Dr. Hall says it makes sense that we would reach out to people we've had strong ties to. That's because if it has to be through phone calls or texts, we'd rather connect with someone we really want to talk to. Maintaining a rekindled friendship comes down to making a habit of it, in whatever your new normal routine may be. That could be as simple as making plans to talk once a month. Oklahoma State linebacker Amen Ogbongbemiga announced he has tested positive for COVID-19 after attending a protest rally in Tulsa. After attending a protest in Tulsa AND being well protective of myself, I hav...</td>\n",
       "    </tr>\n",
       "    <tr>\n",
       "      <th>2</th>\n",
       "      <td>2</td>\n",
       "      <td>\"Please, if you are going to protest, take care of yourself and stay safe,\" Ogbongbemiga said. Before the news, the Cowboys released a safe return plan for it's football student-athletes and indicted what would happen if a player tested positive for COVID-19: If a student-athlete, coach or support staff member tests positive for COVID-19, they will enter the quarantine protocol per medical, local/state health department and university guidelines and will begin to receive the appropriate monitoring and treatment from the team physician, athletic training staff and any other medical consulta...</td>\n",
       "      <td>1</td>\n",
       "      <td>\"Please, if you are going to protest, take care of yourself and stay safe,\" Ogbongbemiga said. Before the news, the Cowboys released a safe return plan for it's football student-athletes and indicted what would happen if a player tested positive for COVID-19: If a student-athlete, coach or support staff member tests positive for COVID-19, they will enter the quarantine protocol per medical, local/state health department and university guidelines and will begin to receive the appropriate monitoring and treatment from the team physician, athletic training staff and any other medical consulta...</td>\n",
       "    </tr>\n",
       "  </tbody>\n",
       "</table>\n",
       "</div>"
      ],
      "text/plain": [
       "   Unnamed: 0  ...                                                                                                                                                                                                                                                                                                                                                                                                                                                                                                                                                                                                                orig_text\n",
       "0           0  ...  If you've recently heard from an old friend, you're not alone. A communication studies professor says he's not surprised that people are looking to reconnect with others they were once close to. “This is an utter reshuffling of people's social lives, in a way that's very, very dramatic and probably different than anything we've ever seen before,” said Dr. Jeffrey Hall, Professor of Communication Studies at the University of Kansas. Dr. Hall has been working with colleagues to collect data on how people are getting social needs met while in quarantine. One thing they've found so far is that...\n",
       "1           1  ...  Dr. Hall says it makes sense that we would reach out to people we've had strong ties to. That's because if it has to be through phone calls or texts, we'd rather connect with someone we really want to talk to. Maintaining a rekindled friendship comes down to making a habit of it, in whatever your new normal routine may be. That could be as simple as making plans to talk once a month. Oklahoma State linebacker Amen Ogbongbemiga announced he has tested positive for COVID-19 after attending a protest rally in Tulsa. After attending a protest in Tulsa AND being well protective of myself, I hav...\n",
       "2           2  ...  \"Please, if you are going to protest, take care of yourself and stay safe,\" Ogbongbemiga said. Before the news, the Cowboys released a safe return plan for it's football student-athletes and indicted what would happen if a player tested positive for COVID-19: If a student-athlete, coach or support staff member tests positive for COVID-19, they will enter the quarantine protocol per medical, local/state health department and university guidelines and will begin to receive the appropriate monitoring and treatment from the team physician, athletic training staff and any other medical consulta...\n",
       "\n",
       "[3 rows x 4 columns]"
      ]
     },
     "execution_count": 3,
     "metadata": {
      "tags": []
     },
     "output_type": "execute_result"
    }
   ],
   "source": [
    "data = pd.read_csv(os.path.join(path, \"covid-19_articles_data.csv\"))\n",
    "# data = data[data.sentiment!='empty'].drop_duplicates().sample(1000, random_state = 10).reset_index(drop=True)\n",
    "data = text_proc(data,'text').dropna(subset=['sentiment'])\n",
    "print(len(data))\n",
    "data.head(3)"
   ]
  },
  {
   "cell_type": "markdown",
   "metadata": {
    "id": "DTIEFBeakKYo"
   },
   "source": [
    "# AWD-LSTM"
   ]
  },
  {
   "cell_type": "code",
   "execution_count": 4,
   "metadata": {
    "colab": {
     "base_uri": "https://localhost:8080/",
     "height": 71
    },
    "id": "KrtVyfEhdT_Y",
    "outputId": "ffa1e04c-537a-4d93-edb6-d801e6a1ba29"
   },
   "outputs": [
    {
     "data": {
      "text/html": [],
      "text/plain": [
       "<IPython.core.display.HTML object>"
      ]
     },
     "metadata": {
      "tags": []
     },
     "output_type": "display_data"
    },
    {
     "name": "stderr",
     "output_type": "stream",
     "text": [
      "/usr/local/lib/python3.7/dist-packages/numpy/core/_asarray.py:83: VisibleDeprecationWarning: Creating an ndarray from ragged nested sequences (which is a list-or-tuple of lists-or-tuples-or ndarrays with different lengths or shapes) is deprecated. If you meant to do this, you must specify 'dtype=object' when creating the ndarray\n",
      "  return array(a, dtype, copy=False, order=order)\n"
     ]
    }
   ],
   "source": [
    "dls_lm = TextDataLoaders.from_df(data, text_col='text', is_lm=True, valid_pct=0.1)"
   ]
  },
  {
   "cell_type": "code",
   "execution_count": 5,
   "metadata": {
    "colab": {
     "base_uri": "https://localhost:8080/",
     "height": 17
    },
    "id": "XyOoPjDreJnD",
    "outputId": "568be794-92d5-4fd4-cb10-332649292e4b"
   },
   "outputs": [
    {
     "data": {
      "text/html": [],
      "text/plain": [
       "<IPython.core.display.HTML object>"
      ]
     },
     "metadata": {
      "tags": []
     },
     "output_type": "display_data"
    }
   ],
   "source": [
    "learn = language_model_learner(dls_lm, AWD_LSTM, drop_mult = 0.3, metrics=[accuracy, Perplexity()]).to_fp16()"
   ]
  },
  {
   "cell_type": "code",
   "execution_count": 6,
   "metadata": {
    "colab": {
     "base_uri": "https://localhost:8080/",
     "height": 173
    },
    "id": "NPrzLUbUeLvq",
    "outputId": "79464a9b-8849-4936-c0d6-374eba1ad081"
   },
   "outputs": [
    {
     "data": {
      "text/html": [
       "<table border=\"1\" class=\"dataframe\">\n",
       "  <thead>\n",
       "    <tr style=\"text-align: left;\">\n",
       "      <th>epoch</th>\n",
       "      <th>train_loss</th>\n",
       "      <th>valid_loss</th>\n",
       "      <th>accuracy</th>\n",
       "      <th>perplexity</th>\n",
       "      <th>time</th>\n",
       "    </tr>\n",
       "  </thead>\n",
       "  <tbody>\n",
       "    <tr>\n",
       "      <td>0</td>\n",
       "      <td>3.584302</td>\n",
       "      <td>3.477292</td>\n",
       "      <td>0.358452</td>\n",
       "      <td>32.371925</td>\n",
       "      <td>06:41</td>\n",
       "    </tr>\n",
       "    <tr>\n",
       "      <td>1</td>\n",
       "      <td>3.348060</td>\n",
       "      <td>3.310398</td>\n",
       "      <td>0.376466</td>\n",
       "      <td>27.396023</td>\n",
       "      <td>06:39</td>\n",
       "    </tr>\n",
       "    <tr>\n",
       "      <td>2</td>\n",
       "      <td>3.169706</td>\n",
       "      <td>3.240592</td>\n",
       "      <td>0.384822</td>\n",
       "      <td>25.548836</td>\n",
       "      <td>06:37</td>\n",
       "    </tr>\n",
       "    <tr>\n",
       "      <td>3</td>\n",
       "      <td>3.062933</td>\n",
       "      <td>3.234658</td>\n",
       "      <td>0.386216</td>\n",
       "      <td>25.397696</td>\n",
       "      <td>06:36</td>\n",
       "    </tr>\n",
       "  </tbody>\n",
       "</table>"
      ],
      "text/plain": [
       "<IPython.core.display.HTML object>"
      ]
     },
     "metadata": {
      "tags": []
     },
     "output_type": "display_data"
    }
   ],
   "source": [
    "learn.unfreeze()\n",
    "learn.fit_one_cycle(4, 1e-3) #4 means 4 epoch"
   ]
  },
  {
   "cell_type": "code",
   "execution_count": 13,
   "metadata": {
    "colab": {
     "base_uri": "https://localhost:8080/",
     "height": 69
    },
    "id": "XJUAXs58qmDd",
    "outputId": "77219a78-5df8-4b40-a806-0ffa01acec10"
   },
   "outputs": [
    {
     "data": {
      "text/html": [],
      "text/plain": [
       "<IPython.core.display.HTML object>"
      ]
     },
     "metadata": {
      "tags": []
     },
     "output_type": "display_data"
    },
    {
     "data": {
      "application/vnd.google.colaboratory.intrinsic+json": {
       "type": "string"
      },
      "text/plain": [
       "\"If you 've recently heard from an old friend , you 're not alone . When you 've got a message message , you can express your gratitude for your helpful advice . Give yourself a hug when you do n't talk . Ask yourself : If you try to talk to your child , to be in a situation where you are feeling better or meaning heal a day and have a job for their birthdays , you may have to spend a lot of time alone . Just be sure to tell your child how bad you have to go through your child . Ask about offering\""
      ]
     },
     "execution_count": 13,
     "metadata": {
      "tags": []
     },
     "output_type": "execute_result"
    }
   ],
   "source": [
    "learn.predict(\"If you've recently heard from an old friend, you're not alone. \", 100, temperature=0.75)"
   ]
  },
  {
   "cell_type": "code",
   "execution_count": 8,
   "metadata": {
    "colab": {
     "base_uri": "https://localhost:8080/",
     "height": 71
    },
    "id": "8SyCs5FmeXJ7",
    "outputId": "9e154a83-0aa4-4c54-b3dd-7960eb754526"
   },
   "outputs": [
    {
     "data": {
      "text/html": [],
      "text/plain": [
       "<IPython.core.display.HTML object>"
      ]
     },
     "metadata": {
      "tags": []
     },
     "output_type": "display_data"
    },
    {
     "name": "stderr",
     "output_type": "stream",
     "text": [
      "/usr/local/lib/python3.7/dist-packages/numpy/core/_asarray.py:83: VisibleDeprecationWarning: Creating an ndarray from ragged nested sequences (which is a list-or-tuple of lists-or-tuples-or ndarrays with different lengths or shapes) is deprecated. If you meant to do this, you must specify 'dtype=object' when creating the ndarray\n",
      "  return array(a, dtype, copy=False, order=order)\n"
     ]
    }
   ],
   "source": [
    "dls_clas = DataBlock(\n",
    "    blocks = (TextBlock.from_df('text', seq_len = dls_lm.seq_len, vocab = dls_lm.vocab), CategoryBlock),\n",
    "    # blocks = (TextBlock.from_df('text', seq_len = 72, vocab = vocab_list), CategoryBlock),\n",
    "    get_x = ColReader('text'),\n",
    "    get_y = ColReader('sentiment'),\n",
    "    splitter = RandomSplitter()\n",
    ").dataloaders(data, bs = 64)"
   ]
  },
  {
   "cell_type": "code",
   "execution_count": 15,
   "metadata": {
    "colab": {
     "base_uri": "https://localhost:8080/",
     "height": 204
    },
    "id": "jGMKOmublPnu",
    "outputId": "7f9c7b6d-d6d0-418d-b16e-76b7a7757546"
   },
   "outputs": [
    {
     "data": {
      "text/html": [
       "<table border=\"1\" class=\"dataframe\">\n",
       "  <thead>\n",
       "    <tr style=\"text-align: left;\">\n",
       "      <th>epoch</th>\n",
       "      <th>train_loss</th>\n",
       "      <th>valid_loss</th>\n",
       "      <th>accuracy</th>\n",
       "      <th>time</th>\n",
       "    </tr>\n",
       "  </thead>\n",
       "  <tbody>\n",
       "    <tr>\n",
       "      <td>0</td>\n",
       "      <td>0.442328</td>\n",
       "      <td>0.400909</td>\n",
       "      <td>0.821729</td>\n",
       "      <td>01:53</td>\n",
       "    </tr>\n",
       "    <tr>\n",
       "      <td>1</td>\n",
       "      <td>0.361012</td>\n",
       "      <td>0.330917</td>\n",
       "      <td>0.852941</td>\n",
       "      <td>01:53</td>\n",
       "    </tr>\n",
       "    <tr>\n",
       "      <td>2</td>\n",
       "      <td>0.313890</td>\n",
       "      <td>0.286405</td>\n",
       "      <td>0.873950</td>\n",
       "      <td>01:53</td>\n",
       "    </tr>\n",
       "    <tr>\n",
       "      <td>3</td>\n",
       "      <td>0.273310</td>\n",
       "      <td>0.275277</td>\n",
       "      <td>0.878601</td>\n",
       "      <td>01:53</td>\n",
       "    </tr>\n",
       "    <tr>\n",
       "      <td>4</td>\n",
       "      <td>0.255969</td>\n",
       "      <td>0.273236</td>\n",
       "      <td>0.883103</td>\n",
       "      <td>01:53</td>\n",
       "    </tr>\n",
       "  </tbody>\n",
       "</table>"
      ],
      "text/plain": [
       "<IPython.core.display.HTML object>"
      ]
     },
     "metadata": {
      "tags": []
     },
     "output_type": "display_data"
    }
   ],
   "source": [
    "classlearn = text_classifier_learner(dls_clas, AWD_LSTM, drop_mult=0.5, metrics=accuracy).to_fp16()\n",
    "classlearn.unfreeze()\n",
    "classlearn.fit_one_cycle(5, slice(1e-3/(2.6**4),1e-3))"
   ]
  },
  {
   "cell_type": "code",
   "execution_count": 17,
   "metadata": {
    "colab": {
     "base_uri": "https://localhost:8080/",
     "height": 17
    },
    "id": "vQjV52XvuRgU",
    "outputId": "52650d5c-dd5a-44fa-93eb-0bd9e1cc7439"
   },
   "outputs": [
    {
     "data": {
      "text/html": [],
      "text/plain": [
       "<IPython.core.display.HTML object>"
      ]
     },
     "metadata": {
      "tags": []
     },
     "output_type": "display_data"
    }
   ],
   "source": [
    "pred_dl = dls_clas.test_dl(data['text'])\n",
    "preds = classlearn.get_preds(dl=pred_dl)\n"
   ]
  },
  {
   "cell_type": "markdown",
   "metadata": {
    "id": "SaXS8J0PeEt8"
   },
   "source": []
  }
 ],
 "metadata": {
  "accelerator": "GPU",
  "colab": {
   "name": "Covid19_article_wordEmbedding_gcolab.ipynb",
   "provenance": []
  },
  "kernelspec": {
   "display_name": "Python 3",
   "language": "python",
   "name": "python3"
  },
  "language_info": {
   "codemirror_mode": {
    "name": "ipython",
    "version": 3
   },
   "file_extension": ".py",
   "mimetype": "text/x-python",
   "name": "python",
   "nbconvert_exporter": "python",
   "pygments_lexer": "ipython3",
   "version": "3.8.8"
  }
 },
 "nbformat": 4,
 "nbformat_minor": 1
}
