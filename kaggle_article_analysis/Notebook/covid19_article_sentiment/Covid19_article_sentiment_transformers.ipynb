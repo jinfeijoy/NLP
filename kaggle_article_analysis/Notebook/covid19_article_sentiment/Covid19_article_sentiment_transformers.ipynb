{
  "nbformat": 4,
  "nbformat_minor": 0,
  "metadata": {
    "colab": {
      "name": "Covid19_article_sentiment_transformers.ipynb",
      "provenance": [],
      "collapsed_sections": []
    },
    "kernelspec": {
      "name": "python3",
      "display_name": "Python 3"
    },
    "language_info": {
      "name": "python"
    },
    "accelerator": "GPU",
    "widgets": {
      "application/vnd.jupyter.widget-state+json": {
        "2ce99ecf7b46490b94c5b65f0d8f27a2": {
          "model_module": "@jupyter-widgets/controls",
          "model_name": "HBoxModel",
          "state": {
            "_view_name": "HBoxView",
            "_dom_classes": [],
            "_model_name": "HBoxModel",
            "_view_module": "@jupyter-widgets/controls",
            "_model_module_version": "1.5.0",
            "_view_count": null,
            "_view_module_version": "1.5.0",
            "box_style": "",
            "layout": "IPY_MODEL_648eeceb6c0b43138fdf0130e7b36a04",
            "_model_module": "@jupyter-widgets/controls",
            "children": [
              "IPY_MODEL_537f341f5f9f42e3979bf96e0466c750",
              "IPY_MODEL_5390d5d51a1e45d98805a32938590789"
            ]
          }
        },
        "648eeceb6c0b43138fdf0130e7b36a04": {
          "model_module": "@jupyter-widgets/base",
          "model_name": "LayoutModel",
          "state": {
            "_view_name": "LayoutView",
            "grid_template_rows": null,
            "right": null,
            "justify_content": null,
            "_view_module": "@jupyter-widgets/base",
            "overflow": null,
            "_model_module_version": "1.2.0",
            "_view_count": null,
            "flex_flow": null,
            "width": null,
            "min_width": null,
            "border": null,
            "align_items": null,
            "bottom": null,
            "_model_module": "@jupyter-widgets/base",
            "top": null,
            "grid_column": null,
            "overflow_y": null,
            "overflow_x": null,
            "grid_auto_flow": null,
            "grid_area": null,
            "grid_template_columns": null,
            "flex": null,
            "_model_name": "LayoutModel",
            "justify_items": null,
            "grid_row": null,
            "max_height": null,
            "align_content": null,
            "visibility": null,
            "align_self": null,
            "height": null,
            "min_height": null,
            "padding": null,
            "grid_auto_rows": null,
            "grid_gap": null,
            "max_width": null,
            "order": null,
            "_view_module_version": "1.2.0",
            "grid_template_areas": null,
            "object_position": null,
            "object_fit": null,
            "grid_auto_columns": null,
            "margin": null,
            "display": null,
            "left": null
          }
        },
        "537f341f5f9f42e3979bf96e0466c750": {
          "model_module": "@jupyter-widgets/controls",
          "model_name": "FloatProgressModel",
          "state": {
            "_view_name": "ProgressView",
            "style": "IPY_MODEL_90e794ec0dc343f7b1ddcee52a77dc88",
            "_dom_classes": [],
            "description": "Downloading: 100%",
            "_model_name": "FloatProgressModel",
            "bar_style": "success",
            "max": 760,
            "_view_module": "@jupyter-widgets/controls",
            "_model_module_version": "1.5.0",
            "value": 760,
            "_view_count": null,
            "_view_module_version": "1.5.0",
            "orientation": "horizontal",
            "min": 0,
            "description_tooltip": null,
            "_model_module": "@jupyter-widgets/controls",
            "layout": "IPY_MODEL_5e9e535ab7444ec69b1aa94f6e99b060"
          }
        },
        "5390d5d51a1e45d98805a32938590789": {
          "model_module": "@jupyter-widgets/controls",
          "model_name": "HTMLModel",
          "state": {
            "_view_name": "HTMLView",
            "style": "IPY_MODEL_de48b24715f04f3f8b88ae74a1280ebb",
            "_dom_classes": [],
            "description": "",
            "_model_name": "HTMLModel",
            "placeholder": "​",
            "_view_module": "@jupyter-widgets/controls",
            "_model_module_version": "1.5.0",
            "value": " 760/760 [00:00&lt;00:00, 5.55kB/s]",
            "_view_count": null,
            "_view_module_version": "1.5.0",
            "description_tooltip": null,
            "_model_module": "@jupyter-widgets/controls",
            "layout": "IPY_MODEL_a21ddca01a11450a9af36a0107f6bd55"
          }
        },
        "90e794ec0dc343f7b1ddcee52a77dc88": {
          "model_module": "@jupyter-widgets/controls",
          "model_name": "ProgressStyleModel",
          "state": {
            "_view_name": "StyleView",
            "_model_name": "ProgressStyleModel",
            "description_width": "initial",
            "_view_module": "@jupyter-widgets/base",
            "_model_module_version": "1.5.0",
            "_view_count": null,
            "_view_module_version": "1.2.0",
            "bar_color": null,
            "_model_module": "@jupyter-widgets/controls"
          }
        },
        "5e9e535ab7444ec69b1aa94f6e99b060": {
          "model_module": "@jupyter-widgets/base",
          "model_name": "LayoutModel",
          "state": {
            "_view_name": "LayoutView",
            "grid_template_rows": null,
            "right": null,
            "justify_content": null,
            "_view_module": "@jupyter-widgets/base",
            "overflow": null,
            "_model_module_version": "1.2.0",
            "_view_count": null,
            "flex_flow": null,
            "width": null,
            "min_width": null,
            "border": null,
            "align_items": null,
            "bottom": null,
            "_model_module": "@jupyter-widgets/base",
            "top": null,
            "grid_column": null,
            "overflow_y": null,
            "overflow_x": null,
            "grid_auto_flow": null,
            "grid_area": null,
            "grid_template_columns": null,
            "flex": null,
            "_model_name": "LayoutModel",
            "justify_items": null,
            "grid_row": null,
            "max_height": null,
            "align_content": null,
            "visibility": null,
            "align_self": null,
            "height": null,
            "min_height": null,
            "padding": null,
            "grid_auto_rows": null,
            "grid_gap": null,
            "max_width": null,
            "order": null,
            "_view_module_version": "1.2.0",
            "grid_template_areas": null,
            "object_position": null,
            "object_fit": null,
            "grid_auto_columns": null,
            "margin": null,
            "display": null,
            "left": null
          }
        },
        "de48b24715f04f3f8b88ae74a1280ebb": {
          "model_module": "@jupyter-widgets/controls",
          "model_name": "DescriptionStyleModel",
          "state": {
            "_view_name": "StyleView",
            "_model_name": "DescriptionStyleModel",
            "description_width": "",
            "_view_module": "@jupyter-widgets/base",
            "_model_module_version": "1.5.0",
            "_view_count": null,
            "_view_module_version": "1.2.0",
            "_model_module": "@jupyter-widgets/controls"
          }
        },
        "a21ddca01a11450a9af36a0107f6bd55": {
          "model_module": "@jupyter-widgets/base",
          "model_name": "LayoutModel",
          "state": {
            "_view_name": "LayoutView",
            "grid_template_rows": null,
            "right": null,
            "justify_content": null,
            "_view_module": "@jupyter-widgets/base",
            "overflow": null,
            "_model_module_version": "1.2.0",
            "_view_count": null,
            "flex_flow": null,
            "width": null,
            "min_width": null,
            "border": null,
            "align_items": null,
            "bottom": null,
            "_model_module": "@jupyter-widgets/base",
            "top": null,
            "grid_column": null,
            "overflow_y": null,
            "overflow_x": null,
            "grid_auto_flow": null,
            "grid_area": null,
            "grid_template_columns": null,
            "flex": null,
            "_model_name": "LayoutModel",
            "justify_items": null,
            "grid_row": null,
            "max_height": null,
            "align_content": null,
            "visibility": null,
            "align_self": null,
            "height": null,
            "min_height": null,
            "padding": null,
            "grid_auto_rows": null,
            "grid_gap": null,
            "max_width": null,
            "order": null,
            "_view_module_version": "1.2.0",
            "grid_template_areas": null,
            "object_position": null,
            "object_fit": null,
            "grid_auto_columns": null,
            "margin": null,
            "display": null,
            "left": null
          }
        },
        "0c5709c2ff354a0c823df81320c96cf7": {
          "model_module": "@jupyter-widgets/controls",
          "model_name": "HBoxModel",
          "state": {
            "_view_name": "HBoxView",
            "_dom_classes": [],
            "_model_name": "HBoxModel",
            "_view_module": "@jupyter-widgets/controls",
            "_model_module_version": "1.5.0",
            "_view_count": null,
            "_view_module_version": "1.5.0",
            "box_style": "",
            "layout": "IPY_MODEL_15b70bc9cc4647ad94af9ab8ac583bab",
            "_model_module": "@jupyter-widgets/controls",
            "children": [
              "IPY_MODEL_2a83593a3f224b71be1028cea7bda9ef",
              "IPY_MODEL_e15f4259e42c402981c4bca8c10cc246"
            ]
          }
        },
        "15b70bc9cc4647ad94af9ab8ac583bab": {
          "model_module": "@jupyter-widgets/base",
          "model_name": "LayoutModel",
          "state": {
            "_view_name": "LayoutView",
            "grid_template_rows": null,
            "right": null,
            "justify_content": null,
            "_view_module": "@jupyter-widgets/base",
            "overflow": null,
            "_model_module_version": "1.2.0",
            "_view_count": null,
            "flex_flow": null,
            "width": null,
            "min_width": null,
            "border": null,
            "align_items": null,
            "bottom": null,
            "_model_module": "@jupyter-widgets/base",
            "top": null,
            "grid_column": null,
            "overflow_y": null,
            "overflow_x": null,
            "grid_auto_flow": null,
            "grid_area": null,
            "grid_template_columns": null,
            "flex": null,
            "_model_name": "LayoutModel",
            "justify_items": null,
            "grid_row": null,
            "max_height": null,
            "align_content": null,
            "visibility": null,
            "align_self": null,
            "height": null,
            "min_height": null,
            "padding": null,
            "grid_auto_rows": null,
            "grid_gap": null,
            "max_width": null,
            "order": null,
            "_view_module_version": "1.2.0",
            "grid_template_areas": null,
            "object_position": null,
            "object_fit": null,
            "grid_auto_columns": null,
            "margin": null,
            "display": null,
            "left": null
          }
        },
        "2a83593a3f224b71be1028cea7bda9ef": {
          "model_module": "@jupyter-widgets/controls",
          "model_name": "FloatProgressModel",
          "state": {
            "_view_name": "ProgressView",
            "style": "IPY_MODEL_46c663f2719b4a82803e049e6b23a787",
            "_dom_classes": [],
            "description": "Downloading: 100%",
            "_model_name": "FloatProgressModel",
            "bar_style": "success",
            "max": 798011,
            "_view_module": "@jupyter-widgets/controls",
            "_model_module_version": "1.5.0",
            "value": 798011,
            "_view_count": null,
            "_view_module_version": "1.5.0",
            "orientation": "horizontal",
            "min": 0,
            "description_tooltip": null,
            "_model_module": "@jupyter-widgets/controls",
            "layout": "IPY_MODEL_b707873de7dc48129c3406c487a1b3c7"
          }
        },
        "e15f4259e42c402981c4bca8c10cc246": {
          "model_module": "@jupyter-widgets/controls",
          "model_name": "HTMLModel",
          "state": {
            "_view_name": "HTMLView",
            "style": "IPY_MODEL_8da4fdb9c6934584bce734f4e2b5bcab",
            "_dom_classes": [],
            "description": "",
            "_model_name": "HTMLModel",
            "placeholder": "​",
            "_view_module": "@jupyter-widgets/controls",
            "_model_module_version": "1.5.0",
            "value": " 798k/798k [00:11&lt;00:00, 72.5kB/s]",
            "_view_count": null,
            "_view_module_version": "1.5.0",
            "description_tooltip": null,
            "_model_module": "@jupyter-widgets/controls",
            "layout": "IPY_MODEL_2da2caf020474e9d949e484e90dfdb10"
          }
        },
        "46c663f2719b4a82803e049e6b23a787": {
          "model_module": "@jupyter-widgets/controls",
          "model_name": "ProgressStyleModel",
          "state": {
            "_view_name": "StyleView",
            "_model_name": "ProgressStyleModel",
            "description_width": "initial",
            "_view_module": "@jupyter-widgets/base",
            "_model_module_version": "1.5.0",
            "_view_count": null,
            "_view_module_version": "1.2.0",
            "bar_color": null,
            "_model_module": "@jupyter-widgets/controls"
          }
        },
        "b707873de7dc48129c3406c487a1b3c7": {
          "model_module": "@jupyter-widgets/base",
          "model_name": "LayoutModel",
          "state": {
            "_view_name": "LayoutView",
            "grid_template_rows": null,
            "right": null,
            "justify_content": null,
            "_view_module": "@jupyter-widgets/base",
            "overflow": null,
            "_model_module_version": "1.2.0",
            "_view_count": null,
            "flex_flow": null,
            "width": null,
            "min_width": null,
            "border": null,
            "align_items": null,
            "bottom": null,
            "_model_module": "@jupyter-widgets/base",
            "top": null,
            "grid_column": null,
            "overflow_y": null,
            "overflow_x": null,
            "grid_auto_flow": null,
            "grid_area": null,
            "grid_template_columns": null,
            "flex": null,
            "_model_name": "LayoutModel",
            "justify_items": null,
            "grid_row": null,
            "max_height": null,
            "align_content": null,
            "visibility": null,
            "align_self": null,
            "height": null,
            "min_height": null,
            "padding": null,
            "grid_auto_rows": null,
            "grid_gap": null,
            "max_width": null,
            "order": null,
            "_view_module_version": "1.2.0",
            "grid_template_areas": null,
            "object_position": null,
            "object_fit": null,
            "grid_auto_columns": null,
            "margin": null,
            "display": null,
            "left": null
          }
        },
        "8da4fdb9c6934584bce734f4e2b5bcab": {
          "model_module": "@jupyter-widgets/controls",
          "model_name": "DescriptionStyleModel",
          "state": {
            "_view_name": "StyleView",
            "_model_name": "DescriptionStyleModel",
            "description_width": "",
            "_view_module": "@jupyter-widgets/base",
            "_model_module_version": "1.5.0",
            "_view_count": null,
            "_view_module_version": "1.2.0",
            "_model_module": "@jupyter-widgets/controls"
          }
        },
        "2da2caf020474e9d949e484e90dfdb10": {
          "model_module": "@jupyter-widgets/base",
          "model_name": "LayoutModel",
          "state": {
            "_view_name": "LayoutView",
            "grid_template_rows": null,
            "right": null,
            "justify_content": null,
            "_view_module": "@jupyter-widgets/base",
            "overflow": null,
            "_model_module_version": "1.2.0",
            "_view_count": null,
            "flex_flow": null,
            "width": null,
            "min_width": null,
            "border": null,
            "align_items": null,
            "bottom": null,
            "_model_module": "@jupyter-widgets/base",
            "top": null,
            "grid_column": null,
            "overflow_y": null,
            "overflow_x": null,
            "grid_auto_flow": null,
            "grid_area": null,
            "grid_template_columns": null,
            "flex": null,
            "_model_name": "LayoutModel",
            "justify_items": null,
            "grid_row": null,
            "max_height": null,
            "align_content": null,
            "visibility": null,
            "align_self": null,
            "height": null,
            "min_height": null,
            "padding": null,
            "grid_auto_rows": null,
            "grid_gap": null,
            "max_width": null,
            "order": null,
            "_view_module_version": "1.2.0",
            "grid_template_areas": null,
            "object_position": null,
            "object_fit": null,
            "grid_auto_columns": null,
            "margin": null,
            "display": null,
            "left": null
          }
        },
        "2d1d59c65492424da92e2b966097b85d": {
          "model_module": "@jupyter-widgets/controls",
          "model_name": "HBoxModel",
          "state": {
            "_view_name": "HBoxView",
            "_dom_classes": [],
            "_model_name": "HBoxModel",
            "_view_module": "@jupyter-widgets/controls",
            "_model_module_version": "1.5.0",
            "_view_count": null,
            "_view_module_version": "1.5.0",
            "box_style": "",
            "layout": "IPY_MODEL_1acd83b52d164e3fbca9ae659767de1b",
            "_model_module": "@jupyter-widgets/controls",
            "children": [
              "IPY_MODEL_468bbf7940bd405aa93da4bbb07b0b61",
              "IPY_MODEL_e649e2d91f784b80a8ecc12adfe9e4df"
            ]
          }
        },
        "1acd83b52d164e3fbca9ae659767de1b": {
          "model_module": "@jupyter-widgets/base",
          "model_name": "LayoutModel",
          "state": {
            "_view_name": "LayoutView",
            "grid_template_rows": null,
            "right": null,
            "justify_content": null,
            "_view_module": "@jupyter-widgets/base",
            "overflow": null,
            "_model_module_version": "1.2.0",
            "_view_count": null,
            "flex_flow": null,
            "width": null,
            "min_width": null,
            "border": null,
            "align_items": null,
            "bottom": null,
            "_model_module": "@jupyter-widgets/base",
            "top": null,
            "grid_column": null,
            "overflow_y": null,
            "overflow_x": null,
            "grid_auto_flow": null,
            "grid_area": null,
            "grid_template_columns": null,
            "flex": null,
            "_model_name": "LayoutModel",
            "justify_items": null,
            "grid_row": null,
            "max_height": null,
            "align_content": null,
            "visibility": null,
            "align_self": null,
            "height": null,
            "min_height": null,
            "padding": null,
            "grid_auto_rows": null,
            "grid_gap": null,
            "max_width": null,
            "order": null,
            "_view_module_version": "1.2.0",
            "grid_template_areas": null,
            "object_position": null,
            "object_fit": null,
            "grid_auto_columns": null,
            "margin": null,
            "display": null,
            "left": null
          }
        },
        "468bbf7940bd405aa93da4bbb07b0b61": {
          "model_module": "@jupyter-widgets/controls",
          "model_name": "FloatProgressModel",
          "state": {
            "_view_name": "ProgressView",
            "style": "IPY_MODEL_8d0c2f86babb45cb850507e4d2c550d4",
            "_dom_classes": [],
            "description": "Downloading: 100%",
            "_model_name": "FloatProgressModel",
            "bar_style": "success",
            "max": 1382015,
            "_view_module": "@jupyter-widgets/controls",
            "_model_module_version": "1.5.0",
            "value": 1382015,
            "_view_count": null,
            "_view_module_version": "1.5.0",
            "orientation": "horizontal",
            "min": 0,
            "description_tooltip": null,
            "_model_module": "@jupyter-widgets/controls",
            "layout": "IPY_MODEL_d8301b48d27d4522b5d6ace1f4fb5e3c"
          }
        },
        "e649e2d91f784b80a8ecc12adfe9e4df": {
          "model_module": "@jupyter-widgets/controls",
          "model_name": "HTMLModel",
          "state": {
            "_view_name": "HTMLView",
            "style": "IPY_MODEL_277bc939df954ab999ad7d745fea8632",
            "_dom_classes": [],
            "description": "",
            "_model_name": "HTMLModel",
            "placeholder": "​",
            "_view_module": "@jupyter-widgets/controls",
            "_model_module_version": "1.5.0",
            "value": " 1.38M/1.38M [00:00&lt;00:00, 2.82MB/s]",
            "_view_count": null,
            "_view_module_version": "1.5.0",
            "description_tooltip": null,
            "_model_module": "@jupyter-widgets/controls",
            "layout": "IPY_MODEL_7f4689b0cd6d4f389ca3442306d79461"
          }
        },
        "8d0c2f86babb45cb850507e4d2c550d4": {
          "model_module": "@jupyter-widgets/controls",
          "model_name": "ProgressStyleModel",
          "state": {
            "_view_name": "StyleView",
            "_model_name": "ProgressStyleModel",
            "description_width": "initial",
            "_view_module": "@jupyter-widgets/base",
            "_model_module_version": "1.5.0",
            "_view_count": null,
            "_view_module_version": "1.2.0",
            "bar_color": null,
            "_model_module": "@jupyter-widgets/controls"
          }
        },
        "d8301b48d27d4522b5d6ace1f4fb5e3c": {
          "model_module": "@jupyter-widgets/base",
          "model_name": "LayoutModel",
          "state": {
            "_view_name": "LayoutView",
            "grid_template_rows": null,
            "right": null,
            "justify_content": null,
            "_view_module": "@jupyter-widgets/base",
            "overflow": null,
            "_model_module_version": "1.2.0",
            "_view_count": null,
            "flex_flow": null,
            "width": null,
            "min_width": null,
            "border": null,
            "align_items": null,
            "bottom": null,
            "_model_module": "@jupyter-widgets/base",
            "top": null,
            "grid_column": null,
            "overflow_y": null,
            "overflow_x": null,
            "grid_auto_flow": null,
            "grid_area": null,
            "grid_template_columns": null,
            "flex": null,
            "_model_name": "LayoutModel",
            "justify_items": null,
            "grid_row": null,
            "max_height": null,
            "align_content": null,
            "visibility": null,
            "align_self": null,
            "height": null,
            "min_height": null,
            "padding": null,
            "grid_auto_rows": null,
            "grid_gap": null,
            "max_width": null,
            "order": null,
            "_view_module_version": "1.2.0",
            "grid_template_areas": null,
            "object_position": null,
            "object_fit": null,
            "grid_auto_columns": null,
            "margin": null,
            "display": null,
            "left": null
          }
        },
        "277bc939df954ab999ad7d745fea8632": {
          "model_module": "@jupyter-widgets/controls",
          "model_name": "DescriptionStyleModel",
          "state": {
            "_view_name": "StyleView",
            "_model_name": "DescriptionStyleModel",
            "description_width": "",
            "_view_module": "@jupyter-widgets/base",
            "_model_module_version": "1.5.0",
            "_view_count": null,
            "_view_module_version": "1.2.0",
            "_model_module": "@jupyter-widgets/controls"
          }
        },
        "7f4689b0cd6d4f389ca3442306d79461": {
          "model_module": "@jupyter-widgets/base",
          "model_name": "LayoutModel",
          "state": {
            "_view_name": "LayoutView",
            "grid_template_rows": null,
            "right": null,
            "justify_content": null,
            "_view_module": "@jupyter-widgets/base",
            "overflow": null,
            "_model_module_version": "1.2.0",
            "_view_count": null,
            "flex_flow": null,
            "width": null,
            "min_width": null,
            "border": null,
            "align_items": null,
            "bottom": null,
            "_model_module": "@jupyter-widgets/base",
            "top": null,
            "grid_column": null,
            "overflow_y": null,
            "overflow_x": null,
            "grid_auto_flow": null,
            "grid_area": null,
            "grid_template_columns": null,
            "flex": null,
            "_model_name": "LayoutModel",
            "justify_items": null,
            "grid_row": null,
            "max_height": null,
            "align_content": null,
            "visibility": null,
            "align_self": null,
            "height": null,
            "min_height": null,
            "padding": null,
            "grid_auto_rows": null,
            "grid_gap": null,
            "max_width": null,
            "order": null,
            "_view_module_version": "1.2.0",
            "grid_template_areas": null,
            "object_position": null,
            "object_fit": null,
            "grid_auto_columns": null,
            "margin": null,
            "display": null,
            "left": null
          }
        },
        "0d71a32d0c7b40ee8957f9c3dec1440b": {
          "model_module": "@jupyter-widgets/controls",
          "model_name": "HBoxModel",
          "state": {
            "_view_name": "HBoxView",
            "_dom_classes": [],
            "_model_name": "HBoxModel",
            "_view_module": "@jupyter-widgets/controls",
            "_model_module_version": "1.5.0",
            "_view_count": null,
            "_view_module_version": "1.5.0",
            "box_style": "",
            "layout": "IPY_MODEL_19cc1861b75c440b8fb53a9401d8d770",
            "_model_module": "@jupyter-widgets/controls",
            "children": [
              "IPY_MODEL_663812944407409c9012d8adbf94dc9d",
              "IPY_MODEL_f0dabf29ed4347f1849ae7e10e623657"
            ]
          }
        },
        "19cc1861b75c440b8fb53a9401d8d770": {
          "model_module": "@jupyter-widgets/base",
          "model_name": "LayoutModel",
          "state": {
            "_view_name": "LayoutView",
            "grid_template_rows": null,
            "right": null,
            "justify_content": null,
            "_view_module": "@jupyter-widgets/base",
            "overflow": null,
            "_model_module_version": "1.2.0",
            "_view_count": null,
            "flex_flow": null,
            "width": null,
            "min_width": null,
            "border": null,
            "align_items": null,
            "bottom": null,
            "_model_module": "@jupyter-widgets/base",
            "top": null,
            "grid_column": null,
            "overflow_y": null,
            "overflow_x": null,
            "grid_auto_flow": null,
            "grid_area": null,
            "grid_template_columns": null,
            "flex": null,
            "_model_name": "LayoutModel",
            "justify_items": null,
            "grid_row": null,
            "max_height": null,
            "align_content": null,
            "visibility": null,
            "align_self": null,
            "height": null,
            "min_height": null,
            "padding": null,
            "grid_auto_rows": null,
            "grid_gap": null,
            "max_width": null,
            "order": null,
            "_view_module_version": "1.2.0",
            "grid_template_areas": null,
            "object_position": null,
            "object_fit": null,
            "grid_auto_columns": null,
            "margin": null,
            "display": null,
            "left": null
          }
        },
        "663812944407409c9012d8adbf94dc9d": {
          "model_module": "@jupyter-widgets/controls",
          "model_name": "FloatProgressModel",
          "state": {
            "_view_name": "ProgressView",
            "style": "IPY_MODEL_928b240863884036905fa8ae87312e9e",
            "_dom_classes": [],
            "description": "Downloading: 100%",
            "_model_name": "FloatProgressModel",
            "bar_style": "success",
            "max": 467042463,
            "_view_module": "@jupyter-widgets/controls",
            "_model_module_version": "1.5.0",
            "value": 467042463,
            "_view_count": null,
            "_view_module_version": "1.5.0",
            "orientation": "horizontal",
            "min": 0,
            "description_tooltip": null,
            "_model_module": "@jupyter-widgets/controls",
            "layout": "IPY_MODEL_e82274a3ba0d423b8ed53a6a26704459"
          }
        },
        "f0dabf29ed4347f1849ae7e10e623657": {
          "model_module": "@jupyter-widgets/controls",
          "model_name": "HTMLModel",
          "state": {
            "_view_name": "HTMLView",
            "style": "IPY_MODEL_8a6993b19df544ccaf43598f94ab4fbf",
            "_dom_classes": [],
            "description": "",
            "_model_name": "HTMLModel",
            "placeholder": "​",
            "_view_module": "@jupyter-widgets/controls",
            "_model_module_version": "1.5.0",
            "value": " 467M/467M [00:10&lt;00:00, 45.0MB/s]",
            "_view_count": null,
            "_view_module_version": "1.5.0",
            "description_tooltip": null,
            "_model_module": "@jupyter-widgets/controls",
            "layout": "IPY_MODEL_c043996826b14f009e7ca4b3c67a4df3"
          }
        },
        "928b240863884036905fa8ae87312e9e": {
          "model_module": "@jupyter-widgets/controls",
          "model_name": "ProgressStyleModel",
          "state": {
            "_view_name": "StyleView",
            "_model_name": "ProgressStyleModel",
            "description_width": "initial",
            "_view_module": "@jupyter-widgets/base",
            "_model_module_version": "1.5.0",
            "_view_count": null,
            "_view_module_version": "1.2.0",
            "bar_color": null,
            "_model_module": "@jupyter-widgets/controls"
          }
        },
        "e82274a3ba0d423b8ed53a6a26704459": {
          "model_module": "@jupyter-widgets/base",
          "model_name": "LayoutModel",
          "state": {
            "_view_name": "LayoutView",
            "grid_template_rows": null,
            "right": null,
            "justify_content": null,
            "_view_module": "@jupyter-widgets/base",
            "overflow": null,
            "_model_module_version": "1.2.0",
            "_view_count": null,
            "flex_flow": null,
            "width": null,
            "min_width": null,
            "border": null,
            "align_items": null,
            "bottom": null,
            "_model_module": "@jupyter-widgets/base",
            "top": null,
            "grid_column": null,
            "overflow_y": null,
            "overflow_x": null,
            "grid_auto_flow": null,
            "grid_area": null,
            "grid_template_columns": null,
            "flex": null,
            "_model_name": "LayoutModel",
            "justify_items": null,
            "grid_row": null,
            "max_height": null,
            "align_content": null,
            "visibility": null,
            "align_self": null,
            "height": null,
            "min_height": null,
            "padding": null,
            "grid_auto_rows": null,
            "grid_gap": null,
            "max_width": null,
            "order": null,
            "_view_module_version": "1.2.0",
            "grid_template_areas": null,
            "object_position": null,
            "object_fit": null,
            "grid_auto_columns": null,
            "margin": null,
            "display": null,
            "left": null
          }
        },
        "8a6993b19df544ccaf43598f94ab4fbf": {
          "model_module": "@jupyter-widgets/controls",
          "model_name": "DescriptionStyleModel",
          "state": {
            "_view_name": "StyleView",
            "_model_name": "DescriptionStyleModel",
            "description_width": "",
            "_view_module": "@jupyter-widgets/base",
            "_model_module_version": "1.5.0",
            "_view_count": null,
            "_view_module_version": "1.2.0",
            "_model_module": "@jupyter-widgets/controls"
          }
        },
        "c043996826b14f009e7ca4b3c67a4df3": {
          "model_module": "@jupyter-widgets/base",
          "model_name": "LayoutModel",
          "state": {
            "_view_name": "LayoutView",
            "grid_template_rows": null,
            "right": null,
            "justify_content": null,
            "_view_module": "@jupyter-widgets/base",
            "overflow": null,
            "_model_module_version": "1.2.0",
            "_view_count": null,
            "flex_flow": null,
            "width": null,
            "min_width": null,
            "border": null,
            "align_items": null,
            "bottom": null,
            "_model_module": "@jupyter-widgets/base",
            "top": null,
            "grid_column": null,
            "overflow_y": null,
            "overflow_x": null,
            "grid_auto_flow": null,
            "grid_area": null,
            "grid_template_columns": null,
            "flex": null,
            "_model_name": "LayoutModel",
            "justify_items": null,
            "grid_row": null,
            "max_height": null,
            "align_content": null,
            "visibility": null,
            "align_self": null,
            "height": null,
            "min_height": null,
            "padding": null,
            "grid_auto_rows": null,
            "grid_gap": null,
            "max_width": null,
            "order": null,
            "_view_module_version": "1.2.0",
            "grid_template_areas": null,
            "object_position": null,
            "object_fit": null,
            "grid_auto_columns": null,
            "margin": null,
            "display": null,
            "left": null
          }
        },
        "f402fd2d0970404ca01ec6768a3db19b": {
          "model_module": "@jupyter-widgets/controls",
          "model_name": "HBoxModel",
          "state": {
            "_view_name": "HBoxView",
            "_dom_classes": [],
            "_model_name": "HBoxModel",
            "_view_module": "@jupyter-widgets/controls",
            "_model_module_version": "1.5.0",
            "_view_count": null,
            "_view_module_version": "1.5.0",
            "box_style": "",
            "layout": "IPY_MODEL_25b041f9c405469a97e058abbfa507b7",
            "_model_module": "@jupyter-widgets/controls",
            "children": [
              "IPY_MODEL_81ebd551e22248248e3d79efd94ae96b",
              "IPY_MODEL_35d6689b13be41688dccd37cb55aeefc"
            ]
          }
        },
        "25b041f9c405469a97e058abbfa507b7": {
          "model_module": "@jupyter-widgets/base",
          "model_name": "LayoutModel",
          "state": {
            "_view_name": "LayoutView",
            "grid_template_rows": null,
            "right": null,
            "justify_content": null,
            "_view_module": "@jupyter-widgets/base",
            "overflow": null,
            "_model_module_version": "1.2.0",
            "_view_count": null,
            "flex_flow": null,
            "width": null,
            "min_width": null,
            "border": null,
            "align_items": null,
            "bottom": null,
            "_model_module": "@jupyter-widgets/base",
            "top": null,
            "grid_column": null,
            "overflow_y": null,
            "overflow_x": null,
            "grid_auto_flow": null,
            "grid_area": null,
            "grid_template_columns": null,
            "flex": null,
            "_model_name": "LayoutModel",
            "justify_items": null,
            "grid_row": null,
            "max_height": null,
            "align_content": null,
            "visibility": null,
            "align_self": null,
            "height": null,
            "min_height": null,
            "padding": null,
            "grid_auto_rows": null,
            "grid_gap": null,
            "max_width": null,
            "order": null,
            "_view_module_version": "1.2.0",
            "grid_template_areas": null,
            "object_position": null,
            "object_fit": null,
            "grid_auto_columns": null,
            "margin": null,
            "display": null,
            "left": null
          }
        },
        "81ebd551e22248248e3d79efd94ae96b": {
          "model_module": "@jupyter-widgets/controls",
          "model_name": "FloatProgressModel",
          "state": {
            "_view_name": "ProgressView",
            "style": "IPY_MODEL_1d7ab54682a14509b6f0a23b3b7d8aa9",
            "_dom_classes": [],
            "description": "100%",
            "_model_name": "FloatProgressModel",
            "bar_style": "success",
            "max": 2,
            "_view_module": "@jupyter-widgets/controls",
            "_model_module_version": "1.5.0",
            "value": 2,
            "_view_count": null,
            "_view_module_version": "1.5.0",
            "orientation": "horizontal",
            "min": 0,
            "description_tooltip": null,
            "_model_module": "@jupyter-widgets/controls",
            "layout": "IPY_MODEL_7fc55f0cf2484d7babcc73ab602a8d12"
          }
        },
        "35d6689b13be41688dccd37cb55aeefc": {
          "model_module": "@jupyter-widgets/controls",
          "model_name": "HTMLModel",
          "state": {
            "_view_name": "HTMLView",
            "style": "IPY_MODEL_6a1d20005d7e40418a3cebb6391e4951",
            "_dom_classes": [],
            "description": "",
            "_model_name": "HTMLModel",
            "placeholder": "​",
            "_view_module": "@jupyter-widgets/controls",
            "_model_module_version": "1.5.0",
            "value": " 2/2 [05:11&lt;00:00, 155.94s/it]",
            "_view_count": null,
            "_view_module_version": "1.5.0",
            "description_tooltip": null,
            "_model_module": "@jupyter-widgets/controls",
            "layout": "IPY_MODEL_1462c7bda81a48868873660998ab1803"
          }
        },
        "1d7ab54682a14509b6f0a23b3b7d8aa9": {
          "model_module": "@jupyter-widgets/controls",
          "model_name": "ProgressStyleModel",
          "state": {
            "_view_name": "StyleView",
            "_model_name": "ProgressStyleModel",
            "description_width": "initial",
            "_view_module": "@jupyter-widgets/base",
            "_model_module_version": "1.5.0",
            "_view_count": null,
            "_view_module_version": "1.2.0",
            "bar_color": null,
            "_model_module": "@jupyter-widgets/controls"
          }
        },
        "7fc55f0cf2484d7babcc73ab602a8d12": {
          "model_module": "@jupyter-widgets/base",
          "model_name": "LayoutModel",
          "state": {
            "_view_name": "LayoutView",
            "grid_template_rows": null,
            "right": null,
            "justify_content": null,
            "_view_module": "@jupyter-widgets/base",
            "overflow": null,
            "_model_module_version": "1.2.0",
            "_view_count": null,
            "flex_flow": null,
            "width": null,
            "min_width": null,
            "border": null,
            "align_items": null,
            "bottom": null,
            "_model_module": "@jupyter-widgets/base",
            "top": null,
            "grid_column": null,
            "overflow_y": null,
            "overflow_x": null,
            "grid_auto_flow": null,
            "grid_area": null,
            "grid_template_columns": null,
            "flex": null,
            "_model_name": "LayoutModel",
            "justify_items": null,
            "grid_row": null,
            "max_height": null,
            "align_content": null,
            "visibility": null,
            "align_self": null,
            "height": null,
            "min_height": null,
            "padding": null,
            "grid_auto_rows": null,
            "grid_gap": null,
            "max_width": null,
            "order": null,
            "_view_module_version": "1.2.0",
            "grid_template_areas": null,
            "object_position": null,
            "object_fit": null,
            "grid_auto_columns": null,
            "margin": null,
            "display": null,
            "left": null
          }
        },
        "6a1d20005d7e40418a3cebb6391e4951": {
          "model_module": "@jupyter-widgets/controls",
          "model_name": "DescriptionStyleModel",
          "state": {
            "_view_name": "StyleView",
            "_model_name": "DescriptionStyleModel",
            "description_width": "",
            "_view_module": "@jupyter-widgets/base",
            "_model_module_version": "1.5.0",
            "_view_count": null,
            "_view_module_version": "1.2.0",
            "_model_module": "@jupyter-widgets/controls"
          }
        },
        "1462c7bda81a48868873660998ab1803": {
          "model_module": "@jupyter-widgets/base",
          "model_name": "LayoutModel",
          "state": {
            "_view_name": "LayoutView",
            "grid_template_rows": null,
            "right": null,
            "justify_content": null,
            "_view_module": "@jupyter-widgets/base",
            "overflow": null,
            "_model_module_version": "1.2.0",
            "_view_count": null,
            "flex_flow": null,
            "width": null,
            "min_width": null,
            "border": null,
            "align_items": null,
            "bottom": null,
            "_model_module": "@jupyter-widgets/base",
            "top": null,
            "grid_column": null,
            "overflow_y": null,
            "overflow_x": null,
            "grid_auto_flow": null,
            "grid_area": null,
            "grid_template_columns": null,
            "flex": null,
            "_model_name": "LayoutModel",
            "justify_items": null,
            "grid_row": null,
            "max_height": null,
            "align_content": null,
            "visibility": null,
            "align_self": null,
            "height": null,
            "min_height": null,
            "padding": null,
            "grid_auto_rows": null,
            "grid_gap": null,
            "max_width": null,
            "order": null,
            "_view_module_version": "1.2.0",
            "grid_template_areas": null,
            "object_position": null,
            "object_fit": null,
            "grid_auto_columns": null,
            "margin": null,
            "display": null,
            "left": null
          }
        }
      }
    }
  },
  "cells": [
    {
      "cell_type": "code",
      "metadata": {
        "colab": {
          "base_uri": "https://localhost:8080/"
        },
        "id": "euovrLK2fpS-",
        "outputId": "fe80b957-9e86-4122-f589-0e5f478d9539"
      },
      "source": [
        "import pandas as pd\n",
        "import numpy as np\n",
        "import io\n",
        "import os\n",
        "import re\n",
        "from google.colab import drive\n",
        "!pip install transformers\n",
        "!pip install SentencePiece\n",
        "import torch\n",
        "import transformers\n",
        "from transformers import XLNetTokenizer, XLNetModel, AdamW, get_linear_schedule_with_warmup\n",
        "import numpy as np\n",
        "import pandas as pd\n",
        "import seaborn as sns\n",
        "import matplotlib.pyplot as plt\n",
        "from matplotlib import rc\n",
        "from sklearn.model_selection import train_test_split\n",
        "from sklearn.metrics import confusion_matrix, classification_report, accuracy_score\n",
        "from collections import defaultdict\n",
        "from textwrap import wrap\n",
        "from pylab import rcParams\n",
        "\n",
        "from torch import nn, optim\n",
        "from tqdm.notebook import tqdm\n",
        "from keras.preprocessing.sequence import pad_sequences\n",
        "from torch.utils.data import TensorDataset,RandomSampler,SequentialSampler\n",
        "from torch.utils.data import Dataset, DataLoader\n",
        "import torch.nn.functional as F\n",
        "\n",
        "from transformers import (AutoConfig, \n",
        "                          AutoModelForSequenceClassification, \n",
        "                          AutoTokenizer, AdamW, \n",
        "                          get_linear_schedule_with_warmup,\n",
        "                          set_seed,\n",
        "                          )\n",
        "from keras.preprocessing.sequence import pad_sequences\n",
        "drive.mount('/content/drive')\n"
      ],
      "execution_count": 1,
      "outputs": [
        {
          "output_type": "stream",
          "text": [
            "Collecting transformers\n",
            "\u001b[?25l  Downloading https://files.pythonhosted.org/packages/00/92/6153f4912b84ee1ab53ab45663d23e7cf3704161cb5ef18b0c07e207cef2/transformers-4.7.0-py3-none-any.whl (2.5MB)\n",
            "\r\u001b[K     |▏                               | 10kB 24.8MB/s eta 0:00:01\r\u001b[K     |▎                               | 20kB 32.3MB/s eta 0:00:01\r\u001b[K     |▍                               | 30kB 24.3MB/s eta 0:00:01\r\u001b[K     |▌                               | 40kB 27.7MB/s eta 0:00:01\r\u001b[K     |▋                               | 51kB 26.5MB/s eta 0:00:01\r\u001b[K     |▉                               | 61kB 28.6MB/s eta 0:00:01\r\u001b[K     |█                               | 71kB 25.6MB/s eta 0:00:01\r\u001b[K     |█                               | 81kB 27.0MB/s eta 0:00:01\r\u001b[K     |█▏                              | 92kB 24.5MB/s eta 0:00:01\r\u001b[K     |█▎                              | 102kB 25.8MB/s eta 0:00:01\r\u001b[K     |█▌                              | 112kB 25.8MB/s eta 0:00:01\r\u001b[K     |█▋                              | 122kB 25.8MB/s eta 0:00:01\r\u001b[K     |█▊                              | 133kB 25.8MB/s eta 0:00:01\r\u001b[K     |█▉                              | 143kB 25.8MB/s eta 0:00:01\r\u001b[K     |██                              | 153kB 25.8MB/s eta 0:00:01\r\u001b[K     |██▏                             | 163kB 25.8MB/s eta 0:00:01\r\u001b[K     |██▎                             | 174kB 25.8MB/s eta 0:00:01\r\u001b[K     |██▍                             | 184kB 25.8MB/s eta 0:00:01\r\u001b[K     |██▌                             | 194kB 25.8MB/s eta 0:00:01\r\u001b[K     |██▋                             | 204kB 25.8MB/s eta 0:00:01\r\u001b[K     |██▉                             | 215kB 25.8MB/s eta 0:00:01\r\u001b[K     |███                             | 225kB 25.8MB/s eta 0:00:01\r\u001b[K     |███                             | 235kB 25.8MB/s eta 0:00:01\r\u001b[K     |███▏                            | 245kB 25.8MB/s eta 0:00:01\r\u001b[K     |███▎                            | 256kB 25.8MB/s eta 0:00:01\r\u001b[K     |███▌                            | 266kB 25.8MB/s eta 0:00:01\r\u001b[K     |███▋                            | 276kB 25.8MB/s eta 0:00:01\r\u001b[K     |███▊                            | 286kB 25.8MB/s eta 0:00:01\r\u001b[K     |███▉                            | 296kB 25.8MB/s eta 0:00:01\r\u001b[K     |████                            | 307kB 25.8MB/s eta 0:00:01\r\u001b[K     |████                            | 317kB 25.8MB/s eta 0:00:01\r\u001b[K     |████▎                           | 327kB 25.8MB/s eta 0:00:01\r\u001b[K     |████▍                           | 337kB 25.8MB/s eta 0:00:01\r\u001b[K     |████▌                           | 348kB 25.8MB/s eta 0:00:01\r\u001b[K     |████▋                           | 358kB 25.8MB/s eta 0:00:01\r\u001b[K     |████▊                           | 368kB 25.8MB/s eta 0:00:01\r\u001b[K     |█████                           | 378kB 25.8MB/s eta 0:00:01\r\u001b[K     |█████                           | 389kB 25.8MB/s eta 0:00:01\r\u001b[K     |█████▏                          | 399kB 25.8MB/s eta 0:00:01\r\u001b[K     |█████▎                          | 409kB 25.8MB/s eta 0:00:01\r\u001b[K     |█████▍                          | 419kB 25.8MB/s eta 0:00:01\r\u001b[K     |█████▋                          | 430kB 25.8MB/s eta 0:00:01\r\u001b[K     |█████▊                          | 440kB 25.8MB/s eta 0:00:01\r\u001b[K     |█████▉                          | 450kB 25.8MB/s eta 0:00:01\r\u001b[K     |██████                          | 460kB 25.8MB/s eta 0:00:01\r\u001b[K     |██████                          | 471kB 25.8MB/s eta 0:00:01\r\u001b[K     |██████▎                         | 481kB 25.8MB/s eta 0:00:01\r\u001b[K     |██████▍                         | 491kB 25.8MB/s eta 0:00:01\r\u001b[K     |██████▌                         | 501kB 25.8MB/s eta 0:00:01\r\u001b[K     |██████▋                         | 512kB 25.8MB/s eta 0:00:01\r\u001b[K     |██████▊                         | 522kB 25.8MB/s eta 0:00:01\r\u001b[K     |███████                         | 532kB 25.8MB/s eta 0:00:01\r\u001b[K     |███████                         | 542kB 25.8MB/s eta 0:00:01\r\u001b[K     |███████▏                        | 552kB 25.8MB/s eta 0:00:01\r\u001b[K     |███████▎                        | 563kB 25.8MB/s eta 0:00:01\r\u001b[K     |███████▍                        | 573kB 25.8MB/s eta 0:00:01\r\u001b[K     |███████▌                        | 583kB 25.8MB/s eta 0:00:01\r\u001b[K     |███████▊                        | 593kB 25.8MB/s eta 0:00:01\r\u001b[K     |███████▉                        | 604kB 25.8MB/s eta 0:00:01\r\u001b[K     |████████                        | 614kB 25.8MB/s eta 0:00:01\r\u001b[K     |████████                        | 624kB 25.8MB/s eta 0:00:01\r\u001b[K     |████████▏                       | 634kB 25.8MB/s eta 0:00:01\r\u001b[K     |████████▍                       | 645kB 25.8MB/s eta 0:00:01\r\u001b[K     |████████▌                       | 655kB 25.8MB/s eta 0:00:01\r\u001b[K     |████████▋                       | 665kB 25.8MB/s eta 0:00:01\r\u001b[K     |████████▊                       | 675kB 25.8MB/s eta 0:00:01\r\u001b[K     |████████▉                       | 686kB 25.8MB/s eta 0:00:01\r\u001b[K     |█████████                       | 696kB 25.8MB/s eta 0:00:01\r\u001b[K     |█████████▏                      | 706kB 25.8MB/s eta 0:00:01\r\u001b[K     |█████████▎                      | 716kB 25.8MB/s eta 0:00:01\r\u001b[K     |█████████▍                      | 727kB 25.8MB/s eta 0:00:01\r\u001b[K     |█████████▌                      | 737kB 25.8MB/s eta 0:00:01\r\u001b[K     |█████████▊                      | 747kB 25.8MB/s eta 0:00:01\r\u001b[K     |█████████▉                      | 757kB 25.8MB/s eta 0:00:01\r\u001b[K     |██████████                      | 768kB 25.8MB/s eta 0:00:01\r\u001b[K     |██████████                      | 778kB 25.8MB/s eta 0:00:01\r\u001b[K     |██████████▏                     | 788kB 25.8MB/s eta 0:00:01\r\u001b[K     |██████████▍                     | 798kB 25.8MB/s eta 0:00:01\r\u001b[K     |██████████▌                     | 808kB 25.8MB/s eta 0:00:01\r\u001b[K     |██████████▋                     | 819kB 25.8MB/s eta 0:00:01\r\u001b[K     |██████████▊                     | 829kB 25.8MB/s eta 0:00:01\r\u001b[K     |██████████▉                     | 839kB 25.8MB/s eta 0:00:01\r\u001b[K     |███████████                     | 849kB 25.8MB/s eta 0:00:01\r\u001b[K     |███████████▏                    | 860kB 25.8MB/s eta 0:00:01\r\u001b[K     |███████████▎                    | 870kB 25.8MB/s eta 0:00:01\r\u001b[K     |███████████▍                    | 880kB 25.8MB/s eta 0:00:01\r\u001b[K     |███████████▌                    | 890kB 25.8MB/s eta 0:00:01\r\u001b[K     |███████████▋                    | 901kB 25.8MB/s eta 0:00:01\r\u001b[K     |███████████▉                    | 911kB 25.8MB/s eta 0:00:01\r\u001b[K     |████████████                    | 921kB 25.8MB/s eta 0:00:01\r\u001b[K     |████████████                    | 931kB 25.8MB/s eta 0:00:01\r\u001b[K     |████████████▏                   | 942kB 25.8MB/s eta 0:00:01\r\u001b[K     |████████████▎                   | 952kB 25.8MB/s eta 0:00:01\r\u001b[K     |████████████▌                   | 962kB 25.8MB/s eta 0:00:01\r\u001b[K     |████████████▋                   | 972kB 25.8MB/s eta 0:00:01\r\u001b[K     |████████████▊                   | 983kB 25.8MB/s eta 0:00:01\r\u001b[K     |████████████▉                   | 993kB 25.8MB/s eta 0:00:01\r\u001b[K     |█████████████                   | 1.0MB 25.8MB/s eta 0:00:01\r\u001b[K     |█████████████▏                  | 1.0MB 25.8MB/s eta 0:00:01\r\u001b[K     |█████████████▎                  | 1.0MB 25.8MB/s eta 0:00:01\r\u001b[K     |█████████████▍                  | 1.0MB 25.8MB/s eta 0:00:01\r\u001b[K     |█████████████▌                  | 1.0MB 25.8MB/s eta 0:00:01\r\u001b[K     |█████████████▋                  | 1.1MB 25.8MB/s eta 0:00:01\r\u001b[K     |█████████████▉                  | 1.1MB 25.8MB/s eta 0:00:01\r\u001b[K     |██████████████                  | 1.1MB 25.8MB/s eta 0:00:01\r\u001b[K     |██████████████                  | 1.1MB 25.8MB/s eta 0:00:01\r\u001b[K     |██████████████▏                 | 1.1MB 25.8MB/s eta 0:00:01\r\u001b[K     |██████████████▎                 | 1.1MB 25.8MB/s eta 0:00:01\r\u001b[K     |██████████████▍                 | 1.1MB 25.8MB/s eta 0:00:01\r\u001b[K     |██████████████▋                 | 1.1MB 25.8MB/s eta 0:00:01\r\u001b[K     |██████████████▊                 | 1.1MB 25.8MB/s eta 0:00:01\r\u001b[K     |██████████████▉                 | 1.1MB 25.8MB/s eta 0:00:01\r\u001b[K     |███████████████                 | 1.2MB 25.8MB/s eta 0:00:01\r\u001b[K     |███████████████                 | 1.2MB 25.8MB/s eta 0:00:01\r\u001b[K     |███████████████▎                | 1.2MB 25.8MB/s eta 0:00:01\r\u001b[K     |███████████████▍                | 1.2MB 25.8MB/s eta 0:00:01\r\u001b[K     |███████████████▌                | 1.2MB 25.8MB/s eta 0:00:01\r\u001b[K     |███████████████▋                | 1.2MB 25.8MB/s eta 0:00:01\r\u001b[K     |███████████████▊                | 1.2MB 25.8MB/s eta 0:00:01\r\u001b[K     |████████████████                | 1.2MB 25.8MB/s eta 0:00:01\r\u001b[K     |████████████████                | 1.2MB 25.8MB/s eta 0:00:01\r\u001b[K     |████████████████▏               | 1.2MB 25.8MB/s eta 0:00:01\r\u001b[K     |████████████████▎               | 1.3MB 25.8MB/s eta 0:00:01\r\u001b[K     |████████████████▍               | 1.3MB 25.8MB/s eta 0:00:01\r\u001b[K     |████████████████▋               | 1.3MB 25.8MB/s eta 0:00:01\r\u001b[K     |████████████████▊               | 1.3MB 25.8MB/s eta 0:00:01\r\u001b[K     |████████████████▉               | 1.3MB 25.8MB/s eta 0:00:01\r\u001b[K     |█████████████████               | 1.3MB 25.8MB/s eta 0:00:01\r\u001b[K     |█████████████████               | 1.3MB 25.8MB/s eta 0:00:01\r\u001b[K     |█████████████████▎              | 1.3MB 25.8MB/s eta 0:00:01\r\u001b[K     |█████████████████▍              | 1.3MB 25.8MB/s eta 0:00:01\r\u001b[K     |█████████████████▌              | 1.4MB 25.8MB/s eta 0:00:01\r\u001b[K     |█████████████████▋              | 1.4MB 25.8MB/s eta 0:00:01\r\u001b[K     |█████████████████▊              | 1.4MB 25.8MB/s eta 0:00:01\r\u001b[K     |█████████████████▉              | 1.4MB 25.8MB/s eta 0:00:01\r\u001b[K     |██████████████████              | 1.4MB 25.8MB/s eta 0:00:01\r\u001b[K     |██████████████████▏             | 1.4MB 25.8MB/s eta 0:00:01\r\u001b[K     |██████████████████▎             | 1.4MB 25.8MB/s eta 0:00:01\r\u001b[K     |██████████████████▍             | 1.4MB 25.8MB/s eta 0:00:01\r\u001b[K     |██████████████████▌             | 1.4MB 25.8MB/s eta 0:00:01\r\u001b[K     |██████████████████▊             | 1.4MB 25.8MB/s eta 0:00:01\r\u001b[K     |██████████████████▉             | 1.5MB 25.8MB/s eta 0:00:01\r\u001b[K     |███████████████████             | 1.5MB 25.8MB/s eta 0:00:01\r\u001b[K     |███████████████████             | 1.5MB 25.8MB/s eta 0:00:01\r\u001b[K     |███████████████████▏            | 1.5MB 25.8MB/s eta 0:00:01\r\u001b[K     |███████████████████▍            | 1.5MB 25.8MB/s eta 0:00:01\r\u001b[K     |███████████████████▌            | 1.5MB 25.8MB/s eta 0:00:01\r\u001b[K     |███████████████████▋            | 1.5MB 25.8MB/s eta 0:00:01\r\u001b[K     |███████████████████▊            | 1.5MB 25.8MB/s eta 0:00:01\r\u001b[K     |███████████████████▉            | 1.5MB 25.8MB/s eta 0:00:01\r\u001b[K     |████████████████████            | 1.5MB 25.8MB/s eta 0:00:01\r\u001b[K     |████████████████████▏           | 1.6MB 25.8MB/s eta 0:00:01\r\u001b[K     |████████████████████▎           | 1.6MB 25.8MB/s eta 0:00:01\r\u001b[K     |████████████████████▍           | 1.6MB 25.8MB/s eta 0:00:01\r\u001b[K     |████████████████████▌           | 1.6MB 25.8MB/s eta 0:00:01\r\u001b[K     |████████████████████▊           | 1.6MB 25.8MB/s eta 0:00:01\r\u001b[K     |████████████████████▉           | 1.6MB 25.8MB/s eta 0:00:01\r\u001b[K     |█████████████████████           | 1.6MB 25.8MB/s eta 0:00:01\r\u001b[K     |█████████████████████           | 1.6MB 25.8MB/s eta 0:00:01\r\u001b[K     |█████████████████████▏          | 1.6MB 25.8MB/s eta 0:00:01\r\u001b[K     |█████████████████████▎          | 1.6MB 25.8MB/s eta 0:00:01\r\u001b[K     |█████████████████████▌          | 1.7MB 25.8MB/s eta 0:00:01\r\u001b[K     |█████████████████████▋          | 1.7MB 25.8MB/s eta 0:00:01\r\u001b[K     |█████████████████████▊          | 1.7MB 25.8MB/s eta 0:00:01\r\u001b[K     |█████████████████████▉          | 1.7MB 25.8MB/s eta 0:00:01\r\u001b[K     |██████████████████████          | 1.7MB 25.8MB/s eta 0:00:01\r\u001b[K     |██████████████████████▏         | 1.7MB 25.8MB/s eta 0:00:01\r\u001b[K     |██████████████████████▎         | 1.7MB 25.8MB/s eta 0:00:01\r\u001b[K     |██████████████████████▍         | 1.7MB 25.8MB/s eta 0:00:01\r\u001b[K     |██████████████████████▌         | 1.7MB 25.8MB/s eta 0:00:01\r\u001b[K     |██████████████████████▋         | 1.8MB 25.8MB/s eta 0:00:01\r\u001b[K     |██████████████████████▉         | 1.8MB 25.8MB/s eta 0:00:01\r\u001b[K     |███████████████████████         | 1.8MB 25.8MB/s eta 0:00:01\r\u001b[K     |███████████████████████         | 1.8MB 25.8MB/s eta 0:00:01\r\u001b[K     |███████████████████████▏        | 1.8MB 25.8MB/s eta 0:00:01\r\u001b[K     |███████████████████████▎        | 1.8MB 25.8MB/s eta 0:00:01\r\u001b[K     |███████████████████████▌        | 1.8MB 25.8MB/s eta 0:00:01\r\u001b[K     |███████████████████████▋        | 1.8MB 25.8MB/s eta 0:00:01\r\u001b[K     |███████████████████████▊        | 1.8MB 25.8MB/s eta 0:00:01\r\u001b[K     |███████████████████████▉        | 1.8MB 25.8MB/s eta 0:00:01\r\u001b[K     |████████████████████████        | 1.9MB 25.8MB/s eta 0:00:01\r\u001b[K     |████████████████████████▏       | 1.9MB 25.8MB/s eta 0:00:01\r\u001b[K     |████████████████████████▎       | 1.9MB 25.8MB/s eta 0:00:01\r\u001b[K     |████████████████████████▍       | 1.9MB 25.8MB/s eta 0:00:01\r\u001b[K     |████████████████████████▌       | 1.9MB 25.8MB/s eta 0:00:01\r\u001b[K     |████████████████████████▋       | 1.9MB 25.8MB/s eta 0:00:01\r\u001b[K     |████████████████████████▊       | 1.9MB 25.8MB/s eta 0:00:01\r\u001b[K     |█████████████████████████       | 1.9MB 25.8MB/s eta 0:00:01\r\u001b[K     |█████████████████████████       | 1.9MB 25.8MB/s eta 0:00:01\r\u001b[K     |█████████████████████████▏      | 1.9MB 25.8MB/s eta 0:00:01\r\u001b[K     |█████████████████████████▎      | 2.0MB 25.8MB/s eta 0:00:01\r\u001b[K     |█████████████████████████▍      | 2.0MB 25.8MB/s eta 0:00:01\r\u001b[K     |█████████████████████████▋      | 2.0MB 25.8MB/s eta 0:00:01\r\u001b[K     |█████████████████████████▊      | 2.0MB 25.8MB/s eta 0:00:01\r\u001b[K     |█████████████████████████▉      | 2.0MB 25.8MB/s eta 0:00:01\r\u001b[K     |██████████████████████████      | 2.0MB 25.8MB/s eta 0:00:01\r\u001b[K     |██████████████████████████      | 2.0MB 25.8MB/s eta 0:00:01\r\u001b[K     |██████████████████████████▎     | 2.0MB 25.8MB/s eta 0:00:01\r\u001b[K     |██████████████████████████▍     | 2.0MB 25.8MB/s eta 0:00:01\r\u001b[K     |██████████████████████████▌     | 2.0MB 25.8MB/s eta 0:00:01\r\u001b[K     |██████████████████████████▋     | 2.1MB 25.8MB/s eta 0:00:01\r\u001b[K     |██████████████████████████▊     | 2.1MB 25.8MB/s eta 0:00:01\r\u001b[K     |███████████████████████████     | 2.1MB 25.8MB/s eta 0:00:01\r\u001b[K     |███████████████████████████     | 2.1MB 25.8MB/s eta 0:00:01\r\u001b[K     |███████████████████████████▏    | 2.1MB 25.8MB/s eta 0:00:01\r\u001b[K     |███████████████████████████▎    | 2.1MB 25.8MB/s eta 0:00:01\r\u001b[K     |███████████████████████████▍    | 2.1MB 25.8MB/s eta 0:00:01\r\u001b[K     |███████████████████████████▋    | 2.1MB 25.8MB/s eta 0:00:01\r\u001b[K     |███████████████████████████▊    | 2.1MB 25.8MB/s eta 0:00:01\r\u001b[K     |███████████████████████████▉    | 2.2MB 25.8MB/s eta 0:00:01\r\u001b[K     |████████████████████████████    | 2.2MB 25.8MB/s eta 0:00:01\r\u001b[K     |████████████████████████████    | 2.2MB 25.8MB/s eta 0:00:01\r\u001b[K     |████████████████████████████▏   | 2.2MB 25.8MB/s eta 0:00:01\r\u001b[K     |████████████████████████████▍   | 2.2MB 25.8MB/s eta 0:00:01\r\u001b[K     |████████████████████████████▌   | 2.2MB 25.8MB/s eta 0:00:01\r\u001b[K     |████████████████████████████▋   | 2.2MB 25.8MB/s eta 0:00:01\r\u001b[K     |████████████████████████████▊   | 2.2MB 25.8MB/s eta 0:00:01\r\u001b[K     |████████████████████████████▉   | 2.2MB 25.8MB/s eta 0:00:01\r\u001b[K     |█████████████████████████████   | 2.2MB 25.8MB/s eta 0:00:01\r\u001b[K     |█████████████████████████████▏  | 2.3MB 25.8MB/s eta 0:00:01\r\u001b[K     |█████████████████████████████▎  | 2.3MB 25.8MB/s eta 0:00:01\r\u001b[K     |█████████████████████████████▍  | 2.3MB 25.8MB/s eta 0:00:01\r\u001b[K     |█████████████████████████████▌  | 2.3MB 25.8MB/s eta 0:00:01\r\u001b[K     |█████████████████████████████▊  | 2.3MB 25.8MB/s eta 0:00:01\r\u001b[K     |█████████████████████████████▉  | 2.3MB 25.8MB/s eta 0:00:01\r\u001b[K     |██████████████████████████████  | 2.3MB 25.8MB/s eta 0:00:01\r\u001b[K     |██████████████████████████████  | 2.3MB 25.8MB/s eta 0:00:01\r\u001b[K     |██████████████████████████████▏ | 2.3MB 25.8MB/s eta 0:00:01\r\u001b[K     |██████████████████████████████▍ | 2.3MB 25.8MB/s eta 0:00:01\r\u001b[K     |██████████████████████████████▌ | 2.4MB 25.8MB/s eta 0:00:01\r\u001b[K     |██████████████████████████████▋ | 2.4MB 25.8MB/s eta 0:00:01\r\u001b[K     |██████████████████████████████▊ | 2.4MB 25.8MB/s eta 0:00:01\r\u001b[K     |██████████████████████████████▉ | 2.4MB 25.8MB/s eta 0:00:01\r\u001b[K     |███████████████████████████████ | 2.4MB 25.8MB/s eta 0:00:01\r\u001b[K     |███████████████████████████████▏| 2.4MB 25.8MB/s eta 0:00:01\r\u001b[K     |███████████████████████████████▎| 2.4MB 25.8MB/s eta 0:00:01\r\u001b[K     |███████████████████████████████▍| 2.4MB 25.8MB/s eta 0:00:01\r\u001b[K     |███████████████████████████████▌| 2.4MB 25.8MB/s eta 0:00:01\r\u001b[K     |███████████████████████████████▋| 2.4MB 25.8MB/s eta 0:00:01\r\u001b[K     |███████████████████████████████▉| 2.5MB 25.8MB/s eta 0:00:01\r\u001b[K     |████████████████████████████████| 2.5MB 25.8MB/s eta 0:00:01\r\u001b[K     |████████████████████████████████| 2.5MB 25.8MB/s \n",
            "\u001b[?25hRequirement already satisfied: packaging in /usr/local/lib/python3.7/dist-packages (from transformers) (20.9)\n",
            "Requirement already satisfied: pyyaml in /usr/local/lib/python3.7/dist-packages (from transformers) (3.13)\n",
            "Requirement already satisfied: requests in /usr/local/lib/python3.7/dist-packages (from transformers) (2.23.0)\n",
            "Requirement already satisfied: regex!=2019.12.17 in /usr/local/lib/python3.7/dist-packages (from transformers) (2019.12.20)\n",
            "Requirement already satisfied: filelock in /usr/local/lib/python3.7/dist-packages (from transformers) (3.0.12)\n",
            "Collecting huggingface-hub==0.0.8\n",
            "  Downloading https://files.pythonhosted.org/packages/a1/88/7b1e45720ecf59c6c6737ff332f41c955963090a18e72acbcbeac6b25e86/huggingface_hub-0.0.8-py3-none-any.whl\n",
            "Requirement already satisfied: numpy>=1.17 in /usr/local/lib/python3.7/dist-packages (from transformers) (1.19.5)\n",
            "Collecting sacremoses\n",
            "\u001b[?25l  Downloading https://files.pythonhosted.org/packages/75/ee/67241dc87f266093c533a2d4d3d69438e57d7a90abb216fa076e7d475d4a/sacremoses-0.0.45-py3-none-any.whl (895kB)\n",
            "\u001b[K     |████████████████████████████████| 901kB 14.9MB/s \n",
            "\u001b[?25hRequirement already satisfied: tqdm>=4.27 in /usr/local/lib/python3.7/dist-packages (from transformers) (4.41.1)\n",
            "Collecting tokenizers<0.11,>=0.10.1\n",
            "\u001b[?25l  Downloading https://files.pythonhosted.org/packages/d4/e2/df3543e8ffdab68f5acc73f613de9c2b155ac47f162e725dcac87c521c11/tokenizers-0.10.3-cp37-cp37m-manylinux_2_5_x86_64.manylinux1_x86_64.manylinux_2_12_x86_64.manylinux2010_x86_64.whl (3.3MB)\n",
            "\u001b[K     |████████████████████████████████| 3.3MB 36.0MB/s \n",
            "\u001b[?25hRequirement already satisfied: importlib-metadata; python_version < \"3.8\" in /usr/local/lib/python3.7/dist-packages (from transformers) (4.5.0)\n",
            "Requirement already satisfied: pyparsing>=2.0.2 in /usr/local/lib/python3.7/dist-packages (from packaging->transformers) (2.4.7)\n",
            "Requirement already satisfied: urllib3!=1.25.0,!=1.25.1,<1.26,>=1.21.1 in /usr/local/lib/python3.7/dist-packages (from requests->transformers) (1.24.3)\n",
            "Requirement already satisfied: chardet<4,>=3.0.2 in /usr/local/lib/python3.7/dist-packages (from requests->transformers) (3.0.4)\n",
            "Requirement already satisfied: certifi>=2017.4.17 in /usr/local/lib/python3.7/dist-packages (from requests->transformers) (2021.5.30)\n",
            "Requirement already satisfied: idna<3,>=2.5 in /usr/local/lib/python3.7/dist-packages (from requests->transformers) (2.10)\n",
            "Requirement already satisfied: click in /usr/local/lib/python3.7/dist-packages (from sacremoses->transformers) (7.1.2)\n",
            "Requirement already satisfied: six in /usr/local/lib/python3.7/dist-packages (from sacremoses->transformers) (1.15.0)\n",
            "Requirement already satisfied: joblib in /usr/local/lib/python3.7/dist-packages (from sacremoses->transformers) (1.0.1)\n",
            "Requirement already satisfied: typing-extensions>=3.6.4; python_version < \"3.8\" in /usr/local/lib/python3.7/dist-packages (from importlib-metadata; python_version < \"3.8\"->transformers) (3.7.4.3)\n",
            "Requirement already satisfied: zipp>=0.5 in /usr/local/lib/python3.7/dist-packages (from importlib-metadata; python_version < \"3.8\"->transformers) (3.4.1)\n",
            "Installing collected packages: huggingface-hub, sacremoses, tokenizers, transformers\n",
            "Successfully installed huggingface-hub-0.0.8 sacremoses-0.0.45 tokenizers-0.10.3 transformers-4.7.0\n",
            "Collecting SentencePiece\n",
            "\u001b[?25l  Downloading https://files.pythonhosted.org/packages/ac/aa/1437691b0c7c83086ebb79ce2da16e00bef024f24fec2a5161c35476f499/sentencepiece-0.1.96-cp37-cp37m-manylinux_2_17_x86_64.manylinux2014_x86_64.whl (1.2MB)\n",
            "\u001b[K     |████████████████████████████████| 1.2MB 30.5MB/s \n",
            "\u001b[?25hInstalling collected packages: SentencePiece\n",
            "Successfully installed SentencePiece-0.1.96\n",
            "Mounted at /content/drive\n"
          ],
          "name": "stdout"
        }
      ]
    },
    {
      "cell_type": "markdown",
      "metadata": {
        "id": "mhEUZXSD5fGI"
      },
      "source": [
        "## Reference\n",
        "https://gmihaila.medium.com/fine-tune-transformers-in-pytorch-using-transformers-57b40450635\n",
        "\n",
        "https://medium.com/swlh/using-xlnet-for-sentiment-classification-cfa948e65e85\n"
      ]
    },
    {
      "cell_type": "code",
      "metadata": {
        "id": "TYwTdMbr8BAy"
      },
      "source": [
        "set_seed(123)\n",
        "# Number of training epochs (authors recommend between 2 and 4)\n",
        "epochs = 2\n",
        "# Number of batches - depending on the max sequence length and GPU memory.\n",
        "# For 512 sequence length batch of 10 works without cuda memory issues.\n",
        "# For small sequence length can try batch of 32 or higher.\n",
        "batches = 10\n",
        "# Pad or truncate text sequences to a specific length\n",
        "# if `None` it will use maximum sequence of word piece tokens allowed by model.\n",
        "max_len = 300\n",
        "device = torch.device('cuda' if torch.cuda.is_available() else 'cpu')\n",
        "# Name of transformers model - will use already pretrained model.\n",
        "# Path of transformer model - will load your own model from local disk.\n",
        "# model_name = 'bert-base-cased'\n",
        "model_name = 'xlnet-base-cased'\n",
        "# Dicitonary of labels and their id - this will be used to convert.\n",
        "# String labels to number ids.\n",
        "# labels_ids = {'neg': 0, 'pos': 1}\n",
        "# How many labels are we using in training.\n",
        "# This is used to decide size of classification head.\n",
        "n_labels = 2\n",
        "class_names = ['negative', 'positive']"
      ],
      "execution_count": 2,
      "outputs": []
    },
    {
      "cell_type": "code",
      "metadata": {
        "id": "MrdOTXDmfxsr"
      },
      "source": [
        "path = '/content/drive/MyDrive/colab_data'\n",
        "def de_emojify(inputString):\n",
        "    return inputString.encode('ascii', 'ignore').decode('ascii')\n",
        "def clean_text(text):\n",
        "    text = re.sub(r\"@[A-Za-z0-9]+\", ' ', text)\n",
        "    text = re.sub(r\"https?://[A-Za-z0-9./]+\", ' ', text)\n",
        "    text = re.sub(r\"[^a-zA-z.!?'0-9]\", ' ', text)\n",
        "    text = re.sub('\\t', ' ',  text)\n",
        "    text = re.sub(r\" +\", ' ', text)\n",
        "    return text\n",
        "def text_proc(df, text_col='text'):\n",
        "    df['orig_text'] = df[text_col]\n",
        "    # Remove twitter handles\n",
        "    df[text_col] = df[text_col].apply(lambda x: clean_text(x))\n",
        "    # Remove URLs\n",
        "    df[text_col] = df[text_col].apply(lambda x:x.replace('<br />', ' '))\n",
        "    return df[df[text_col]!='']"
      ],
      "execution_count": 3,
      "outputs": []
    },
    {
      "cell_type": "code",
      "metadata": {
        "colab": {
          "base_uri": "https://localhost:8080/",
          "height": 159
        },
        "id": "HChQRWBafzdL",
        "outputId": "373ef376-3708-4acb-ef82-dc820e5f4a4a"
      },
      "source": [
        "data = pd.read_csv(os.path.join(path, \"covid-19_articles_data.csv\"))\n",
        "data = text_proc(data,'text').dropna(subset=['sentiment']).sample(2000, random_state = 10).reset_index(drop=True)\n",
        "data['len'] = data.text.apply(lambda x: len(x.split(' ')))\n",
        "print(len(data))\n",
        "data.head(3)"
      ],
      "execution_count": 4,
      "outputs": [
        {
          "output_type": "stream",
          "text": [
            "2000\n"
          ],
          "name": "stdout"
        },
        {
          "output_type": "execute_result",
          "data": {
            "text/html": [
              "<div>\n",
              "<style scoped>\n",
              "    .dataframe tbody tr th:only-of-type {\n",
              "        vertical-align: middle;\n",
              "    }\n",
              "\n",
              "    .dataframe tbody tr th {\n",
              "        vertical-align: top;\n",
              "    }\n",
              "\n",
              "    .dataframe thead th {\n",
              "        text-align: right;\n",
              "    }\n",
              "</style>\n",
              "<table border=\"1\" class=\"dataframe\">\n",
              "  <thead>\n",
              "    <tr style=\"text-align: right;\">\n",
              "      <th></th>\n",
              "      <th>Unnamed: 0</th>\n",
              "      <th>text</th>\n",
              "      <th>sentiment</th>\n",
              "      <th>orig_text</th>\n",
              "      <th>len</th>\n",
              "    </tr>\n",
              "  </thead>\n",
              "  <tbody>\n",
              "    <tr>\n",
              "      <th>0</th>\n",
              "      <td>30649</td>\n",
              "      <td>Trump throws up his hands as an ad from Biden'...</td>\n",
              "      <td>1</td>\n",
              "      <td>Trump throws up his hands as an ad from Biden'...</td>\n",
              "      <td>150</td>\n",
              "    </tr>\n",
              "    <tr>\n",
              "      <th>1</th>\n",
              "      <td>14382</td>\n",
              "      <td>The fallout from the outbreak aboard the Roose...</td>\n",
              "      <td>1</td>\n",
              "      <td>The fallout from the outbreak aboard the Roose...</td>\n",
              "      <td>274</td>\n",
              "    </tr>\n",
              "    <tr>\n",
              "      <th>2</th>\n",
              "      <td>26250</td>\n",
              "      <td>Test result throws US into fresh upheaval On T...</td>\n",
              "      <td>1</td>\n",
              "      <td>Test result throws US into fresh upheaval On T...</td>\n",
              "      <td>257</td>\n",
              "    </tr>\n",
              "  </tbody>\n",
              "</table>\n",
              "</div>"
            ],
            "text/plain": [
              "   Unnamed: 0  ...  len\n",
              "0       30649  ...  150\n",
              "1       14382  ...  274\n",
              "2       26250  ...  257\n",
              "\n",
              "[3 rows x 5 columns]"
            ]
          },
          "metadata": {
            "tags": []
          },
          "execution_count": 4
        }
      ]
    },
    {
      "cell_type": "code",
      "metadata": {
        "id": "skGpn3FMf0wC"
      },
      "source": [
        "df_train, df_val = train_test_split(data, test_size=0.33, random_state=42)"
      ],
      "execution_count": 5,
      "outputs": []
    },
    {
      "cell_type": "code",
      "metadata": {
        "id": "GinDamGpf2QD"
      },
      "source": [
        "# max_len = int(df_train.len.quantile(0.95))"
      ],
      "execution_count": null,
      "outputs": []
    },
    {
      "cell_type": "code",
      "metadata": {
        "id": "0uPSEAMDcuEf"
      },
      "source": [
        "class Transformer_Dataset(Dataset):\n",
        "\n",
        "    def __init__(self, text, target, tokenizer, max_len):\n",
        "        self.text = text\n",
        "        self.target = target\n",
        "        self.tokenizer = tokenizer\n",
        "        self.max_len = max_len\n",
        "    \n",
        "    def __len__(self):\n",
        "        return len(self.text)\n",
        "    \n",
        "    def __getitem__(self, item):\n",
        "        text = str(self.text[item])\n",
        "        target = self.target[item]\n",
        "\n",
        "        encoding = self.tokenizer.encode_plus(\n",
        "        text,\n",
        "        add_special_tokens=True,\n",
        "        max_length=self.max_len,\n",
        "        return_token_type_ids=False,\n",
        "        pad_to_max_length=False,\n",
        "        return_attention_mask=True,\n",
        "        return_tensors='pt',\n",
        "        truncation=True\n",
        "        )\n",
        "\n",
        "        input_ids = pad_sequences(encoding['input_ids'], maxlen=max_len, dtype=torch.Tensor ,truncating=\"post\",padding=\"post\")\n",
        "        input_ids = input_ids.astype(dtype = 'int64')\n",
        "        input_ids = torch.tensor(input_ids) \n",
        "\n",
        "        attention_mask = pad_sequences(encoding['attention_mask'], maxlen=max_len, dtype=torch.Tensor ,truncating=\"post\",padding=\"post\")\n",
        "        attention_mask = attention_mask.astype(dtype = 'int64')\n",
        "        attention_mask = torch.tensor(attention_mask)       \n",
        "\n",
        "        return {\n",
        "        'text': text,\n",
        "        'input_ids': input_ids,\n",
        "        'attention_mask': attention_mask.flatten(),\n",
        "        'target': torch.tensor(target, dtype=torch.long)\n",
        "        }"
      ],
      "execution_count": 6,
      "outputs": []
    },
    {
      "cell_type": "code",
      "metadata": {
        "id": "MLZseYlhc69V"
      },
      "source": [
        "def create_data_loader(df, target, tokenizer, max_len, batch_size):\n",
        "  ds = Transformer_Dataset(\n",
        "    text=df.text.to_numpy(),\n",
        "    target=df[target].to_numpy(),\n",
        "    tokenizer=tokenizer,\n",
        "    max_len=max_len\n",
        "  )\n",
        "\n",
        "  return DataLoader(\n",
        "    ds,\n",
        "    batch_size=batch_size,\n",
        "    num_workers=2,\n",
        "    drop_last = True\n",
        "  )"
      ],
      "execution_count": 7,
      "outputs": []
    },
    {
      "cell_type": "code",
      "metadata": {
        "colab": {
          "base_uri": "https://localhost:8080/",
          "height": 386,
          "referenced_widgets": [
            "2ce99ecf7b46490b94c5b65f0d8f27a2",
            "648eeceb6c0b43138fdf0130e7b36a04",
            "537f341f5f9f42e3979bf96e0466c750",
            "5390d5d51a1e45d98805a32938590789",
            "90e794ec0dc343f7b1ddcee52a77dc88",
            "5e9e535ab7444ec69b1aa94f6e99b060",
            "de48b24715f04f3f8b88ae74a1280ebb",
            "a21ddca01a11450a9af36a0107f6bd55",
            "0c5709c2ff354a0c823df81320c96cf7",
            "15b70bc9cc4647ad94af9ab8ac583bab",
            "2a83593a3f224b71be1028cea7bda9ef",
            "e15f4259e42c402981c4bca8c10cc246",
            "46c663f2719b4a82803e049e6b23a787",
            "b707873de7dc48129c3406c487a1b3c7",
            "8da4fdb9c6934584bce734f4e2b5bcab",
            "2da2caf020474e9d949e484e90dfdb10",
            "2d1d59c65492424da92e2b966097b85d",
            "1acd83b52d164e3fbca9ae659767de1b",
            "468bbf7940bd405aa93da4bbb07b0b61",
            "e649e2d91f784b80a8ecc12adfe9e4df",
            "8d0c2f86babb45cb850507e4d2c550d4",
            "d8301b48d27d4522b5d6ace1f4fb5e3c",
            "277bc939df954ab999ad7d745fea8632",
            "7f4689b0cd6d4f389ca3442306d79461",
            "0d71a32d0c7b40ee8957f9c3dec1440b",
            "19cc1861b75c440b8fb53a9401d8d770",
            "663812944407409c9012d8adbf94dc9d",
            "f0dabf29ed4347f1849ae7e10e623657",
            "928b240863884036905fa8ae87312e9e",
            "e82274a3ba0d423b8ed53a6a26704459",
            "8a6993b19df544ccaf43598f94ab4fbf",
            "c043996826b14f009e7ca4b3c67a4df3"
          ]
        },
        "id": "D9FjaV0jmlNJ",
        "outputId": "8a257738-8031-4ded-a1b9-b4791a3b1baa"
      },
      "source": [
        "# Get model configuration.\n",
        "print('Loading configuraiton...')\n",
        "model_config = AutoConfig.from_pretrained(pretrained_model_name_or_path=model_name, \n",
        "                                          num_labels=n_labels)\n",
        "\n",
        "# Get model's tokenizer.\n",
        "print('Loading tokenizer...')\n",
        "tokenizer = AutoTokenizer.from_pretrained(pretrained_model_name_or_path=model_name)\n",
        "\n",
        "# Get the actual model.\n",
        "print('Loading model...')\n",
        "model = AutoModelForSequenceClassification.from_pretrained(pretrained_model_name_or_path=model_name, \n",
        "                                                           config=model_config)\n",
        "\n",
        "# Load model to defined device.\n",
        "model.to(device)\n",
        "print('Model loaded to `%s`'%device)"
      ],
      "execution_count": 8,
      "outputs": [
        {
          "output_type": "stream",
          "text": [
            "Loading configuraiton...\n"
          ],
          "name": "stdout"
        },
        {
          "output_type": "display_data",
          "data": {
            "application/vnd.jupyter.widget-view+json": {
              "model_id": "2ce99ecf7b46490b94c5b65f0d8f27a2",
              "version_minor": 0,
              "version_major": 2
            },
            "text/plain": [
              "HBox(children=(FloatProgress(value=0.0, description='Downloading', max=760.0, style=ProgressStyle(description_…"
            ]
          },
          "metadata": {
            "tags": []
          }
        },
        {
          "output_type": "stream",
          "text": [
            "\n",
            "Loading tokenizer...\n"
          ],
          "name": "stdout"
        },
        {
          "output_type": "display_data",
          "data": {
            "application/vnd.jupyter.widget-view+json": {
              "model_id": "0c5709c2ff354a0c823df81320c96cf7",
              "version_minor": 0,
              "version_major": 2
            },
            "text/plain": [
              "HBox(children=(FloatProgress(value=0.0, description='Downloading', max=798011.0, style=ProgressStyle(descripti…"
            ]
          },
          "metadata": {
            "tags": []
          }
        },
        {
          "output_type": "stream",
          "text": [
            "\n"
          ],
          "name": "stdout"
        },
        {
          "output_type": "display_data",
          "data": {
            "application/vnd.jupyter.widget-view+json": {
              "model_id": "2d1d59c65492424da92e2b966097b85d",
              "version_minor": 0,
              "version_major": 2
            },
            "text/plain": [
              "HBox(children=(FloatProgress(value=0.0, description='Downloading', max=1382015.0, style=ProgressStyle(descript…"
            ]
          },
          "metadata": {
            "tags": []
          }
        },
        {
          "output_type": "stream",
          "text": [
            "\n",
            "Loading model...\n"
          ],
          "name": "stdout"
        },
        {
          "output_type": "display_data",
          "data": {
            "application/vnd.jupyter.widget-view+json": {
              "model_id": "0d71a32d0c7b40ee8957f9c3dec1440b",
              "version_minor": 0,
              "version_major": 2
            },
            "text/plain": [
              "HBox(children=(FloatProgress(value=0.0, description='Downloading', max=467042463.0, style=ProgressStyle(descri…"
            ]
          },
          "metadata": {
            "tags": []
          }
        },
        {
          "output_type": "stream",
          "text": [
            "\n"
          ],
          "name": "stdout"
        },
        {
          "output_type": "stream",
          "text": [
            "Some weights of the model checkpoint at xlnet-base-cased were not used when initializing XLNetForSequenceClassification: ['lm_loss.weight', 'lm_loss.bias']\n",
            "- This IS expected if you are initializing XLNetForSequenceClassification from the checkpoint of a model trained on another task or with another architecture (e.g. initializing a BertForSequenceClassification model from a BertForPreTraining model).\n",
            "- This IS NOT expected if you are initializing XLNetForSequenceClassification from the checkpoint of a model that you expect to be exactly identical (initializing a BertForSequenceClassification model from a BertForSequenceClassification model).\n",
            "Some weights of XLNetForSequenceClassification were not initialized from the model checkpoint at xlnet-base-cased and are newly initialized: ['logits_proj.weight', 'sequence_summary.summary.bias', 'logits_proj.bias', 'sequence_summary.summary.weight']\n",
            "You should probably TRAIN this model on a down-stream task to be able to use it for predictions and inference.\n"
          ],
          "name": "stderr"
        },
        {
          "output_type": "stream",
          "text": [
            "Model loaded to `cuda`\n"
          ],
          "name": "stdout"
        }
      ]
    },
    {
      "cell_type": "code",
      "metadata": {
        "id": "fpsE2jCJdPQE"
      },
      "source": [
        "train_data_loader = create_data_loader(df_train, 'sentiment', tokenizer, max_len, batches)\n",
        "val_data_loader = create_data_loader(df_val, 'sentiment', tokenizer, max_len, batches)"
      ],
      "execution_count": 9,
      "outputs": []
    },
    {
      "cell_type": "code",
      "metadata": {
        "id": "Or8WbY2sdgh0"
      },
      "source": [
        "param_optimizer = list(model.named_parameters())\n",
        "no_decay = ['bias', 'LayerNorm.bias', 'LayerNorm.weight']\n",
        "optimizer_grouped_parameters = [\n",
        "                                {'params': [p for n, p in param_optimizer if not any(nd in n for nd in no_decay)], 'weight_decay': 0.01},\n",
        "                                {'params': [p for n, p in param_optimizer if any(nd in n for nd in no_decay)], 'weight_decay':0.0}\n",
        "]\n",
        "optimizer = AdamW(optimizer_grouped_parameters, lr=3e-5)\n",
        "\n",
        "total_steps = len(train_data_loader) * epochs\n",
        "\n",
        "scheduler = get_linear_schedule_with_warmup(\n",
        "  optimizer,\n",
        "  num_warmup_steps=0,\n",
        "  num_training_steps=total_steps\n",
        ")"
      ],
      "execution_count": 10,
      "outputs": []
    },
    {
      "cell_type": "code",
      "metadata": {
        "id": "tAKiQ4jqdjFE"
      },
      "source": [
        "from sklearn import metrics\n",
        "def train_epoch(model, data_loader, optimizer, device, scheduler, n_examples, batch_size, maxlen):\n",
        "    model = model.train()\n",
        "    losses = []\n",
        "    acc = 0\n",
        "    counter = 0\n",
        "  \n",
        "    for d in data_loader:\n",
        "        input_ids = d[\"input_ids\"].reshape(batch_size,maxlen).to(device)\n",
        "        attention_mask = d[\"attention_mask\"].to(device)\n",
        "        target = d['target'].to(device)\n",
        "        \n",
        "        outputs = model(input_ids=input_ids, token_type_ids=None, attention_mask=attention_mask, labels = target)\n",
        "        loss = outputs[0]\n",
        "        logits = outputs[1]\n",
        "\n",
        "        # preds = preds.cpu().detach().numpy()\n",
        "        _, prediction = torch.max(outputs[1], dim=1)\n",
        "        target = target.cpu().detach().numpy()\n",
        "        prediction = prediction.cpu().detach().numpy()\n",
        "        accuracy = metrics.accuracy_score(target, prediction)\n",
        "\n",
        "        acc += accuracy\n",
        "        losses.append(loss.item())\n",
        "        \n",
        "        loss.backward()\n",
        "\n",
        "        nn.utils.clip_grad_norm_(model.parameters(), max_norm=1.0)\n",
        "        optimizer.step()\n",
        "        scheduler.step()\n",
        "        optimizer.zero_grad()\n",
        "        counter = counter + 1\n",
        "\n",
        "    return acc / counter, np.mean(losses)"
      ],
      "execution_count": 11,
      "outputs": []
    },
    {
      "cell_type": "code",
      "metadata": {
        "id": "8LT3EffNgtNW"
      },
      "source": [
        "def eval_model(model, data_loader, device, n_examples,batch_size,maxlen):\n",
        "    model = model.eval()\n",
        "    losses = []\n",
        "    acc = 0\n",
        "    counter = 0\n",
        "  \n",
        "    with torch.no_grad():\n",
        "        for d in data_loader:\n",
        "            input_ids = d[\"input_ids\"].reshape(batch_size,maxlen).to(device)\n",
        "            attention_mask = d[\"attention_mask\"].to(device)\n",
        "            target = d['target'].to(device)\n",
        "            \n",
        "            outputs = model(input_ids=input_ids, token_type_ids=None, attention_mask=attention_mask, labels = target)\n",
        "            loss = outputs[0]\n",
        "            logits = outputs[1]\n",
        "\n",
        "            _, prediction = torch.max(outputs[1], dim=1)\n",
        "            target = target.cpu().detach().numpy()\n",
        "            prediction = prediction.cpu().detach().numpy()\n",
        "            accuracy = metrics.accuracy_score(target, prediction)\n",
        "\n",
        "            acc += accuracy\n",
        "            losses.append(loss.item())\n",
        "            counter += 1\n",
        "\n",
        "    return acc / counter, np.mean(losses)"
      ],
      "execution_count": 12,
      "outputs": []
    },
    {
      "cell_type": "code",
      "metadata": {
        "colab": {
          "base_uri": "https://localhost:8080/",
          "height": 270,
          "referenced_widgets": [
            "f402fd2d0970404ca01ec6768a3db19b",
            "25b041f9c405469a97e058abbfa507b7",
            "81ebd551e22248248e3d79efd94ae96b",
            "35d6689b13be41688dccd37cb55aeefc",
            "1d7ab54682a14509b6f0a23b3b7d8aa9",
            "7fc55f0cf2484d7babcc73ab602a8d12",
            "6a1d20005d7e40418a3cebb6391e4951",
            "1462c7bda81a48868873660998ab1803"
          ]
        },
        "id": "NPRcmr8Qgz_U",
        "outputId": "32e368fc-4908-4005-a2f9-6c42e0a0772b"
      },
      "source": [
        "%%time\n",
        "history = defaultdict(list)\n",
        "best_accuracy = 0\n",
        "\n",
        "for epoch in tqdm(range(epochs)):\n",
        "    print(f'Epoch {epoch + 1}/{epochs}')\n",
        "    print('-' * 10)\n",
        "\n",
        "    train_acc, train_loss = train_epoch(\n",
        "        model,\n",
        "        train_data_loader,     \n",
        "        optimizer, \n",
        "        device, \n",
        "        scheduler, \n",
        "        len(df_train),\n",
        "        batches,\n",
        "        max_len\n",
        "    )\n",
        "\n",
        "    print(f'Train loss {train_loss} Train accuracy {train_acc}')\n",
        "\n",
        "    val_acc, val_loss = eval_model(\n",
        "        model,\n",
        "        val_data_loader, \n",
        "        device, \n",
        "        len(df_val),\n",
        "        batches,\n",
        "        max_len\n",
        "    )\n",
        "\n",
        "    print(f'Val loss {val_loss} Val accuracy {val_acc}')\n",
        "    print()\n",
        "\n",
        "    history['train_acc'].append(train_acc)\n",
        "    history['train_loss'].append(train_loss)\n",
        "    history['val_acc'].append(val_acc)\n",
        "    history['val_loss'].append(val_loss)\n",
        "\n",
        "    if val_acc > best_accuracy:\n",
        "        torch.save(model.state_dict(), os.path.join(path, 'xlnet_model.bin'))\n",
        "        best_accuracy = val_acc"
      ],
      "execution_count": 13,
      "outputs": [
        {
          "output_type": "display_data",
          "data": {
            "application/vnd.jupyter.widget-view+json": {
              "model_id": "f402fd2d0970404ca01ec6768a3db19b",
              "version_minor": 0,
              "version_major": 2
            },
            "text/plain": [
              "HBox(children=(FloatProgress(value=0.0, max=2.0), HTML(value='')))"
            ]
          },
          "metadata": {
            "tags": []
          }
        },
        {
          "output_type": "stream",
          "text": [
            "Epoch 1/2\n",
            "----------\n",
            "Train loss 0.6113620900840901 Train accuracy 0.667910447761194\n",
            "Val loss 0.4287401410666379 Val accuracy 0.8196969696969689\n",
            "\n",
            "Epoch 2/2\n",
            "----------\n",
            "Train loss 0.3733724210022101 Train accuracy 0.8335820895522393\n",
            "Val loss 0.4448756491483161 Val accuracy 0.8181818181818179\n",
            "\n",
            "\n",
            "CPU times: user 4min 41s, sys: 22.2 s, total: 5min 4s\n",
            "Wall time: 5min 11s\n"
          ],
          "name": "stdout"
        }
      ]
    },
    {
      "cell_type": "markdown",
      "metadata": {
        "id": "mbh59RoVUhln"
      },
      "source": [
        "Validation accuracy is 0.8045454545454545 with model ```bert-base-cased``` in sample dataset.\n",
        "\n",
        "Validation accuracy is 0.8196969696969689 with model ```xlnet-base-cased``` in sample dataset."
      ]
    },
    {
      "cell_type": "code",
      "metadata": {
        "id": "hf-oKO1JsMUt"
      },
      "source": [
        "def predict_sentiment(text):\n",
        "    text = text\n",
        "\n",
        "    encoded_review = tokenizer.encode_plus(\n",
        "    text,\n",
        "    add_special_tokens=True,\n",
        "    max_length=max_len,\n",
        "    return_token_type_ids=False,\n",
        "    pad_to_max_length=False,\n",
        "    return_attention_mask=True,\n",
        "    return_tensors='pt',\n",
        "    truncation=True\n",
        "    )\n",
        "\n",
        "    input_ids = pad_sequences(encoded_review['input_ids'], maxlen=max_len, dtype=torch.Tensor ,truncating=\"post\",padding=\"post\")\n",
        "    input_ids = input_ids.astype(dtype = 'int64')\n",
        "    input_ids = torch.tensor(input_ids) \n",
        "\n",
        "    attention_mask = pad_sequences(encoded_review['attention_mask'], maxlen=max_len, dtype=torch.Tensor ,truncating=\"post\",padding=\"post\")\n",
        "    attention_mask = attention_mask.astype(dtype = 'int64')\n",
        "    attention_mask = torch.tensor(attention_mask) \n",
        "\n",
        "    input_ids = input_ids.reshape(1,max_len).to(device)\n",
        "    attention_mask = attention_mask.to(device)\n",
        "\n",
        "    outputs = model(input_ids=input_ids, attention_mask=attention_mask)\n",
        "\n",
        "    outputs = outputs[0][0].cpu().detach()\n",
        "\n",
        "    probs = F.softmax(outputs, dim=-1).cpu().detach().numpy().tolist()\n",
        "    _, prediction = torch.max(outputs, dim =-1)\n",
        "\n",
        "    print(\"Positive score:\", probs[1])\n",
        "    print(\"Negative score:\", probs[0])\n",
        "    print(f'text: {text}')\n",
        "    print(f'target  : {class_names[prediction]}')"
      ],
      "execution_count": null,
      "outputs": []
    },
    {
      "cell_type": "code",
      "metadata": {
        "colab": {
          "base_uri": "https://localhost:8080/",
          "height": 142
        },
        "id": "f83U0wn9ssg8",
        "outputId": "cb7b4a4e-7a9a-4751-ad63-32a476ada25a"
      },
      "source": [
        "df_val.head(3)"
      ],
      "execution_count": null,
      "outputs": [
        {
          "output_type": "execute_result",
          "data": {
            "text/html": [
              "<div>\n",
              "<style scoped>\n",
              "    .dataframe tbody tr th:only-of-type {\n",
              "        vertical-align: middle;\n",
              "    }\n",
              "\n",
              "    .dataframe tbody tr th {\n",
              "        vertical-align: top;\n",
              "    }\n",
              "\n",
              "    .dataframe thead th {\n",
              "        text-align: right;\n",
              "    }\n",
              "</style>\n",
              "<table border=\"1\" class=\"dataframe\">\n",
              "  <thead>\n",
              "    <tr style=\"text-align: right;\">\n",
              "      <th></th>\n",
              "      <th>Unnamed: 0</th>\n",
              "      <th>text</th>\n",
              "      <th>sentiment</th>\n",
              "      <th>orig_text</th>\n",
              "      <th>len</th>\n",
              "    </tr>\n",
              "  </thead>\n",
              "  <tbody>\n",
              "    <tr>\n",
              "      <th>1860</th>\n",
              "      <td>17440</td>\n",
              "      <td>They wanted to use the records to investigate ...</td>\n",
              "      <td>0</td>\n",
              "      <td>They wanted to use the records to investigate ...</td>\n",
              "      <td>175</td>\n",
              "    </tr>\n",
              "    <tr>\n",
              "      <th>353</th>\n",
              "      <td>27433</td>\n",
              "      <td>In states that allow the counting of ballots r...</td>\n",
              "      <td>0</td>\n",
              "      <td>In states that allow the counting of ballots r...</td>\n",
              "      <td>159</td>\n",
              "    </tr>\n",
              "    <tr>\n",
              "      <th>1333</th>\n",
              "      <td>17478</td>\n",
              "      <td>Anderson is one of nearly 60 pets ACC has take...</td>\n",
              "      <td>1</td>\n",
              "      <td>Anderson is one of nearly 60 pets ACC has take...</td>\n",
              "      <td>263</td>\n",
              "    </tr>\n",
              "  </tbody>\n",
              "</table>\n",
              "</div>"
            ],
            "text/plain": [
              "      Unnamed: 0  ...  len\n",
              "1860       17440  ...  175\n",
              "353        27433  ...  159\n",
              "1333       17478  ...  263\n",
              "\n",
              "[3 rows x 5 columns]"
            ]
          },
          "metadata": {
            "tags": []
          },
          "execution_count": 48
        }
      ]
    },
    {
      "cell_type": "code",
      "metadata": {
        "colab": {
          "base_uri": "https://localhost:8080/"
        },
        "id": "rr83TDaTs5J6",
        "outputId": "ddc411bb-7570-4b66-a6ac-75305c1d4f7d"
      },
      "source": [
        "predict_sentiment(df_val.text[1860])"
      ],
      "execution_count": null,
      "outputs": [
        {
          "output_type": "stream",
          "text": [
            "Positive score: 0.1023903414607048\n",
            "Negative score: 0.8976095914840698\n",
            "Review text: They wanted to use the records to investigate allegations of misconduct before Trump became president but Trump intervened to try to block the subpoenas. He lost in lower courts and thus here we are. The outcome of these cases could draw the line on how much immunity a sitting president has against scrutiny from government. And yes today's proceedings will happen over the phone. 5. Mexico Mexico's president has ordered the military back on the streets to tackle a rising tide of violence in the country. President Andres Manuel Lopez Obrador signed a decree that would install the National Guard on Mexican streets for the next five years a time frame designed to help the force improve its capabilities. Lopez Obrador created the National Guard shortly after he took office in 2018 to combat Mexico's historic levels of violence pulling members from units of the armed forces. Its goal is to reduce violence by primarily focusing on organized criminal groups. Mexico recorded 2 585 murders in March marking the country's deadliest month since December 2018.\n",
            "target  : negative\n"
          ],
          "name": "stdout"
        }
      ]
    }
  ]
}