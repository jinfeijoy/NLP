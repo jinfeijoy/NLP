{
 "cells": [
  {
   "cell_type": "code",
   "execution_count": 10,
   "id": "7d0a1d1d",
   "metadata": {},
   "outputs": [],
   "source": [
    "import sys\n",
    "import os\n",
    "sys.path.append('C:\\\\Users\\\\luoyan011\\\\Desktop\\\\PersonalLearning\\\\GitHub\\\\python_functions\\\\jl_nlp_pkg')\n",
    "sys.path.append('C:\\\\Users\\\\luoyan011\\\\Desktop\\\\PersonalLearning\\\\GitHub\\\\python_functions\\\\jl_model_explain_pkg')\n",
    "import nlpbasic.textClean as textClean\n",
    "import nlpbasic.docVectors as DocVector\n",
    "import nlpbasic.dataExploration as DataExploration\n",
    "import nlpbasic.lda as lda\n",
    "import nlpbasic.tfidf as tfidf\n",
    "\n",
    "import model_explain.plot as meplot\n",
    "import model_explain.shap as meshap\n",
    "\n",
    "import data_visualization.distribution_plot as dbplot\n",
    "\n",
    "from numpy import array,asarray,zeros\n",
    "from scipy.spatial import distance\n",
    "from sklearn.model_selection import train_test_split\n",
    "from sklearn.metrics import confusion_matrix, classification_report\n",
    "from keras.preprocessing.text import Tokenizer\n",
    "from keras.preprocessing.sequence import pad_sequences\n",
    "from keras.models import Sequential\n",
    "from keras.layers import Dense,Flatten,Embedding\n",
    "import pickle\n",
    "import pandas as pd\n",
    "import matplotlib.pyplot as plt\n",
    "import seaborn as sb\n",
    "import numpy as np\n",
    "import re\n",
    "import pycountry\n",
    "import seaborn as sns\n",
    "import plotly.express as px\n",
    "\n",
    "import matplotlib\n",
    "import matplotlib.dates as mdates\n",
    "\n",
    "import nltk.data\n",
    "from numpy.linalg import svd as singular_value_decomposition\n",
    "import math\n",
    "\n",
    "text_path = 'C:\\\\Users\\\\luoyan011\\\\Desktop\\\\PersonalLearning\\\\GitHub\\\\NLP_data\\\\BBC_News_Summary\\\\BBC_News_Summary\\\\News_Articles'\n",
    "smr_path = 'C:\\\\Users\\\\luoyan011\\\\Desktop\\\\PersonalLearning\\\\GitHub\\\\NLP_data\\\\BBC_News_Summary\\\\BBC_News_Summary\\\\Summaries'\n",
    "# https://www.kaggle.com/datajameson/topic-modelling-nlp-amazon-reviews-bbc-news"
   ]
  },
  {
   "cell_type": "markdown",
   "id": "b267d4c8",
   "metadata": {},
   "source": [
    "## Load Dataset"
   ]
  },
  {
   "cell_type": "code",
   "execution_count": 2,
   "id": "41bfcfb1",
   "metadata": {},
   "outputs": [],
   "source": [
    "folders=[\"business\",\"entertainment\",\"politics\",\"sport\",\"tech\"]\n",
    "x=[]\n",
    "y=[]\n",
    "z=[]\n",
    "\n",
    "for i in folders:\n",
    "    files=os.listdir(os.path.join(text_path, i))\n",
    "    for text_file in files:\n",
    "        file_path=os.path.join(os.path.join(text_path, i), text_file)\n",
    "        with open(file_path,'rb') as f:\n",
    "            data=f.read().decode('iso-8859-1')\n",
    "        x.append(data)\n",
    "        y.append(i)\n",
    "        z.append(i+text_file[:3])\n",
    "        \n",
    "data={'news':x,'type':y, 'docid':z}\n",
    "textdf = pd.DataFrame(data)\n",
    "\n",
    "folders=[\"business\",\"entertainment\",\"politics\",\"sport\",\"tech\"]\n",
    "x=[]\n",
    "y=[]\n",
    "z=[]\n",
    "\n",
    "for i in folders:\n",
    "    files=os.listdir(os.path.join(smr_path, i))\n",
    "    for text_file in files:\n",
    "        file_path=os.path.join(os.path.join(smr_path, i), text_file)\n",
    "        with open(file_path,'rb') as f:\n",
    "            data=f.read()\n",
    "        x.append(data)\n",
    "        y.append(i)\n",
    "        z.append(i+text_file[:3])\n",
    "        \n",
    "data={'news':x,'type':y, 'docid':z}\n",
    "smrdf = pd.DataFrame(data)"
   ]
  },
  {
   "cell_type": "code",
   "execution_count": 3,
   "id": "d7609a1d",
   "metadata": {},
   "outputs": [
    {
     "data": {
      "text/html": [
       "<div>\n",
       "<style scoped>\n",
       "    .dataframe tbody tr th:only-of-type {\n",
       "        vertical-align: middle;\n",
       "    }\n",
       "\n",
       "    .dataframe tbody tr th {\n",
       "        vertical-align: top;\n",
       "    }\n",
       "\n",
       "    .dataframe thead th {\n",
       "        text-align: right;\n",
       "    }\n",
       "</style>\n",
       "<table border=\"1\" class=\"dataframe\">\n",
       "  <thead>\n",
       "    <tr style=\"text-align: right;\">\n",
       "      <th></th>\n",
       "      <th>news</th>\n",
       "      <th>type</th>\n",
       "      <th>docid</th>\n",
       "      <th>summary</th>\n",
       "    </tr>\n",
       "  </thead>\n",
       "  <tbody>\n",
       "    <tr>\n",
       "      <th>0</th>\n",
       "      <td>Ad sales boost Time Warner profit\\n\\nQuarterly...</td>\n",
       "      <td>business</td>\n",
       "      <td>business001</td>\n",
       "      <td>b\"TimeWarner said fourth quarter sales rose 2%...</td>\n",
       "    </tr>\n",
       "    <tr>\n",
       "      <th>1</th>\n",
       "      <td>Dollar gains on Greenspan speech\\n\\nThe dollar...</td>\n",
       "      <td>business</td>\n",
       "      <td>business002</td>\n",
       "      <td>b'The dollar has hit its highest level against...</td>\n",
       "    </tr>\n",
       "    <tr>\n",
       "      <th>2</th>\n",
       "      <td>Yukos unit buyer faces loan claim\\n\\nThe owner...</td>\n",
       "      <td>business</td>\n",
       "      <td>business003</td>\n",
       "      <td>b'Yukos\\' owner Menatep Group says it will ask...</td>\n",
       "    </tr>\n",
       "    <tr>\n",
       "      <th>3</th>\n",
       "      <td>High fuel prices hit BA's profits\\n\\nBritish A...</td>\n",
       "      <td>business</td>\n",
       "      <td>business004</td>\n",
       "      <td>b'Rod Eddington, BA\\'s chief executive, said t...</td>\n",
       "    </tr>\n",
       "    <tr>\n",
       "      <th>4</th>\n",
       "      <td>Pernod takeover talk lifts Domecq\\n\\nShares in...</td>\n",
       "      <td>business</td>\n",
       "      <td>business005</td>\n",
       "      <td>b\"Pernod has reduced the debt it took on to fu...</td>\n",
       "    </tr>\n",
       "    <tr>\n",
       "      <th>...</th>\n",
       "      <td>...</td>\n",
       "      <td>...</td>\n",
       "      <td>...</td>\n",
       "      <td>...</td>\n",
       "    </tr>\n",
       "    <tr>\n",
       "      <th>2220</th>\n",
       "      <td>BT program to beat dialler scams\\n\\nBT is intr...</td>\n",
       "      <td>tech</td>\n",
       "      <td>tech397</td>\n",
       "      <td>b'BT is introducing two initiatives to help be...</td>\n",
       "    </tr>\n",
       "    <tr>\n",
       "      <th>2221</th>\n",
       "      <td>Spam e-mails tempt net shoppers\\n\\nComputer us...</td>\n",
       "      <td>tech</td>\n",
       "      <td>tech398</td>\n",
       "      <td>b'A third of them read unsolicited junk e-mail...</td>\n",
       "    </tr>\n",
       "    <tr>\n",
       "      <th>2222</th>\n",
       "      <td>Be careful how you code\\n\\nA new European dire...</td>\n",
       "      <td>tech</td>\n",
       "      <td>tech399</td>\n",
       "      <td>b\"This goes to the heart of the European proje...</td>\n",
       "    </tr>\n",
       "    <tr>\n",
       "      <th>2223</th>\n",
       "      <td>US cyber security chief resigns\\n\\nThe man mak...</td>\n",
       "      <td>tech</td>\n",
       "      <td>tech400</td>\n",
       "      <td>b\"Amit Yoran was director of the National Cybe...</td>\n",
       "    </tr>\n",
       "    <tr>\n",
       "      <th>2224</th>\n",
       "      <td>Losing yourself in online gaming\\n\\nOnline rol...</td>\n",
       "      <td>tech</td>\n",
       "      <td>tech401</td>\n",
       "      <td>b'He says that in the world of online gaming s...</td>\n",
       "    </tr>\n",
       "  </tbody>\n",
       "</table>\n",
       "<p>2225 rows × 4 columns</p>\n",
       "</div>"
      ],
      "text/plain": [
       "                                                   news      type  \\\n",
       "0     Ad sales boost Time Warner profit\\n\\nQuarterly...  business   \n",
       "1     Dollar gains on Greenspan speech\\n\\nThe dollar...  business   \n",
       "2     Yukos unit buyer faces loan claim\\n\\nThe owner...  business   \n",
       "3     High fuel prices hit BA's profits\\n\\nBritish A...  business   \n",
       "4     Pernod takeover talk lifts Domecq\\n\\nShares in...  business   \n",
       "...                                                 ...       ...   \n",
       "2220  BT program to beat dialler scams\\n\\nBT is intr...      tech   \n",
       "2221  Spam e-mails tempt net shoppers\\n\\nComputer us...      tech   \n",
       "2222  Be careful how you code\\n\\nA new European dire...      tech   \n",
       "2223  US cyber security chief resigns\\n\\nThe man mak...      tech   \n",
       "2224  Losing yourself in online gaming\\n\\nOnline rol...      tech   \n",
       "\n",
       "            docid                                            summary  \n",
       "0     business001  b\"TimeWarner said fourth quarter sales rose 2%...  \n",
       "1     business002  b'The dollar has hit its highest level against...  \n",
       "2     business003  b'Yukos\\' owner Menatep Group says it will ask...  \n",
       "3     business004  b'Rod Eddington, BA\\'s chief executive, said t...  \n",
       "4     business005  b\"Pernod has reduced the debt it took on to fu...  \n",
       "...           ...                                                ...  \n",
       "2220      tech397  b'BT is introducing two initiatives to help be...  \n",
       "2221      tech398  b'A third of them read unsolicited junk e-mail...  \n",
       "2222      tech399  b\"This goes to the heart of the European proje...  \n",
       "2223      tech400  b\"Amit Yoran was director of the National Cybe...  \n",
       "2224      tech401  b'He says that in the world of online gaming s...  \n",
       "\n",
       "[2225 rows x 4 columns]"
      ]
     },
     "execution_count": 3,
     "metadata": {},
     "output_type": "execute_result"
    }
   ],
   "source": [
    "rawdata = textdf.merge(smrdf, how='left',on=['docid','type']).rename(columns={\"news_x\": \"news\", \"news_y\": \"summary\"})\n",
    "rawdata"
   ]
  },
  {
   "cell_type": "code",
   "execution_count": 4,
   "id": "4c183e03",
   "metadata": {},
   "outputs": [
    {
     "name": "stdout",
     "output_type": "stream",
     "text": [
      "Type: business // docid: business001\n",
      "-------------------- Summary --------------------\n",
      "Description: b\"TimeWarner said fourth quarter sales rose 2% to $11.1bn from $10.9bn.For the full-year, TimeWarner posted a profit of $3.36bn, up 27% from its 2003 performance, while revenues grew 6.4% to $42.09bn.Quarterly profits at US media giant TimeWarner jumped 76% to $1.13bn (\\xc2\\xa3600m) for the three months to December, from $639m year-earlier.However, the company said AOL's underlying profit before exceptional items rose 8% on the back of stronger internet advertising revenues.Its profits were buoyed by one-off gains which offset a profit dip at Warner Bros, and less users for AOL.For 2005, TimeWarner is projecting operating earnings growth of around 5%, and also expects higher revenue and wider profit margins.It lost 464,000 subscribers in the fourth quarter profits were lower than in the preceding three quarters.Time Warner's fourth quarter profits were slightly better than analysts' expectations.\"\n",
      "-------------------- News --------------------\n",
      "Ad sales boost Time Warner profit\n",
      "\n",
      "Quarterly profits at US media giant TimeWarner jumped 76% to $1.13bn (Â£600m) for the three months to December, from $639m year-earlier.\n",
      "\n",
      "The firm, which is now one of the biggest investors in Google, benefited from sales of high-speed internet connections and higher advert sales. TimeWarner said fourth quarter sales rose 2% to $11.1bn from $10.9bn. Its profits were buoyed by one-off gains which offset a profit dip at Warner Bros, and less users for AOL.\n",
      "\n",
      "Time Warner said on Friday that it now owns 8% of search-engine Google. But its own internet business, AOL, had has mixed fortunes. It lost 464,000 subscribers in the fourth quarter profits were lower than in the preceding three quarters. However, the company said AOL's underlying profit before exceptional items rose 8% on the back of stronger internet advertising revenues. It hopes to increase subscribers by offering the online service free to TimeWarner internet customers and will try to sign up AOL's existing customers for high-speed broadband. TimeWarner also has to restate 2000 and 2003 results following a probe by the US Securities Exchange Commission (SEC), which is close to concluding.\n",
      "\n",
      "Time Warner's fourth quarter profits were slightly better than analysts' expectations. But its film division saw profits slump 27% to $284m, helped by box-office flops Alexander and Catwoman, a sharp contrast to year-earlier, when the third and final film in the Lord of the Rings trilogy boosted results. For the full-year, TimeWarner posted a profit of $3.36bn, up 27% from its 2003 performance, while revenues grew 6.4% to $42.09bn. \"Our financial performance was strong, meeting or exceeding all of our full-year objectives and greatly enhancing our flexibility,\" chairman and chief executive Richard Parsons said. For 2005, TimeWarner is projecting operating earnings growth of around 5%, and also expects higher revenue and wider profit margins.\n",
      "\n",
      "TimeWarner is to restate its accounts as part of efforts to resolve an inquiry into AOL by US market regulators. It has already offered to pay $300m to settle charges, in a deal that is under review by the SEC. The company said it was unable to estimate the amount it needed to set aside for legal reserves, which it previously set at $500m. It intends to adjust the way it accounts for a deal with German music publisher Bertelsmann's purchase of a stake in AOL Europe, which it had reported as advertising revenue. It will now book the sale of its stake in AOL Europe as a loss on the value of that stake.\n",
      "\n"
     ]
    }
   ],
   "source": [
    "def print_article(data, index_id):\n",
    "    printdata = data[data.index==index_id]\n",
    "    print('Type:',printdata.type.item(), '// docid:', printdata.docid.item())\n",
    "    print('-------------------- Summary --------------------')\n",
    "    print('Description:',printdata.summary.item())\n",
    "    print('-------------------- News --------------------')\n",
    "    print(printdata.news.item())\n",
    "\n",
    "print_article(rawdata,0)"
   ]
  },
  {
   "cell_type": "code",
   "execution_count": 38,
   "id": "22ad4c6a",
   "metadata": {},
   "outputs": [
    {
     "data": {
      "text/plain": [
       "[\"On Friday, Federal Reserve chairman Mr Greenspan's speech in London ahead of the meeting of G7 finance ministers sent the dollar higher after it had earlier tumbled on the back of worse-than-expected US jobs data.\",\n",
       " \"The recent falls have partly been the result of big budget deficits, as well as the US's yawning current account gap, both of which need to be funded by the buying of US bonds and assets by foreign firms and governments.\",\n",
       " 'The White House will announce its budget on Monday, and many commentators believe the deficit will remain at close to half a trillion dollars.',\n",
       " 'The half-point window, some believe, could be enough to keep US assets looking more attractive, and could help prop up the dollar.',\n",
       " '\"He\\'s taking a longer-term view, laying out a set of conditions under which the current account deficit can improve this year and next.\"',\n",
       " 'Dollar gains on Greenspan speech\\n\\nThe dollar has hit its highest level against the euro in almost three months after the Federal Reserve head said the US trade deficit is set to stabilise.']"
      ]
     },
     "execution_count": 38,
     "metadata": {},
     "output_type": "execute_result"
    }
   ],
   "source": [
    "def lsa_text_extraction(textdoc, smooth=0.4, MIN_DIMENSIONS = 3, REDUCTION_RATIO = 1/1, topn = 5):\n",
    "    \"\"\"\n",
    "    reduction_ratio: used to reduce computation cost: limit diagonal size, when it is 1 it keeps original diagonal size, when it is 0.4 only keep 0.4 * original diagonal size\n",
    "    smooth: is a factor appened to matrix normalization, small value might cause overfitting and large value might cause underfitting\n",
    "    \"\"\"\n",
    "    ''' document to sentences '''\n",
    "    tokenizer = nltk.data.load('tokenizers/punkt/english.pickle')\n",
    "    document = tokenizer.tokenize(textdoc)\n",
    "    \n",
    "    ''' generate term freq matrix '''\n",
    "    assert 0.0 <= smooth < 1.0\n",
    "    preprocessed_text = textClean.pipeline(document, multi_gram = [1], lower_case=True, deacc=False, encoding='utf8',\n",
    "                                           errors='strict', stem_lemma = 'lemma', tag_drop = [], nltk_stop=True, \n",
    "                                           stop_word_list=[], check_numbers=False, word_length=2, remove_consecutives=True)\n",
    "    dictionary = DocVector.generate_corpus_dict(preprocessed_text, no_below = 2, no_above = 0.5, keep_n = 100000)\n",
    "    doc_vec = DocVector.create_document_vector(preprocessed_text, dictionary)\n",
    "    tfmatrix = DocVector.get_vocab_matrix(doc_vec, dictionary)\n",
    "    matrix_copy = tfmatrix.values.T\n",
    "\n",
    "    '''\n",
    "    Computes TF metrics for each sentence (column) in the given matrix and  normalize \n",
    "    the tf weights of all terms occurring in a document by the maximum tf in that document \n",
    "    according to ntf_{t,d} = a + (1-a)\\frac{tf_{t,d}}{tf_{max}(d)^{'}}.\n",
    "        \n",
    "    The smoothing term $a$ damps the contribution of the second term - which may be viewed \n",
    "    as a scaling down of tf by the largest tf value in $d$\n",
    "    '''\n",
    "    max_word_frequencies = np.max(matrix_copy, axis=0)\n",
    "    rows, cols = matrix_copy.shape\n",
    "    for row in range(rows):\n",
    "        for col in range(cols):\n",
    "            max_word_frequency = max_word_frequencies[col]\n",
    "            if max_word_frequency != 0:\n",
    "                frequency = matrix_copy[row, col]/max_word_frequency\n",
    "                matrix_copy[row, col] = smooth + (1.0 - smooth)*frequency    \n",
    "\n",
    "    ''' get ranks '''                \n",
    "    u, sigma, v_matrix = singular_value_decomposition(matrix_copy, full_matrices=False)\n",
    "    assert len(sigma) == v_matrix.shape[0]\n",
    "    dimensions = max(MIN_DIMENSIONS, int(len(sigma)*REDUCTION_RATIO))\n",
    "    powered_sigma = tuple(s**2 if i < dimensions else 0.0 for i, s in enumerate(sigma))\n",
    "    ranks = []       \n",
    "    for column_vector in v_matrix.T:\n",
    "        rank = sum(s*v**2 for s, v in zip(powered_sigma, column_vector))\n",
    "        ranks.append(math.sqrt(rank))\n",
    "\n",
    "    ''' output result '''                        \n",
    "    percentile_list = pd.DataFrame(\n",
    "    {'sentence': document,\n",
    "     'rank': ranks,\n",
    "    }).sort_values(by='rank',ascending=False)\n",
    "    \n",
    "    output_sentence = [ i for i in percentile_list.head(topn)['sentence']]\n",
    "    return output_sentence\n",
    "    \n",
    "\n",
    "test = lsa_text_extraction(rawdata.news[1], smooth = 0.4, topn = 6)\n",
    "test"
   ]
  },
  {
   "cell_type": "code",
   "execution_count": 36,
   "id": "be72c4f0",
   "metadata": {},
   "outputs": [
    {
     "data": {
      "text/plain": [
       "array([ 1,  8, 11, 19])"
      ]
     },
     "execution_count": 36,
     "metadata": {},
     "output_type": "execute_result"
    }
   ],
   "source": [
    "A = [[1, 4, 5, 12], \n",
    "    [-5, 8, 9, 0],\n",
    "    [-6, 7, 11, 19]]\n",
    "u, sigma, v_matrix = singular_value_decomposition(A, full_matrices=False)\n",
    "A\n",
    "np.max(A, axis=0)"
   ]
  },
  {
   "cell_type": "code",
   "execution_count": 25,
   "id": "c13c0811",
   "metadata": {},
   "outputs": [
    {
     "data": {
      "text/plain": [
       "(797.8262137797554, 114.98963267354883, 0.0)"
      ]
     },
     "execution_count": 25,
     "metadata": {},
     "output_type": "execute_result"
    }
   ],
   "source": [
    "tuple(s**2 if i < 2 else 0.0 for i, s in enumerate(sigma))"
   ]
  },
  {
   "cell_type": "markdown",
   "id": "a91aaddf",
   "metadata": {},
   "source": [
    "## Package sumy"
   ]
  },
  {
   "cell_type": "code",
   "execution_count": 13,
   "id": "1ed2b6e1",
   "metadata": {},
   "outputs": [],
   "source": [
    "import sumy\n",
    "from sumy.parsers.plaintext import PlaintextParser\n",
    "from sumy.nlp.tokenizers import Tokenizer\n",
    "from sumy.summarizers.lsa import LsaSummarizer as Summarizer\n",
    "from sumy.nlp.stemmers import Stemmer\n",
    "from sumy.utils import get_stop_words\n"
   ]
  },
  {
   "cell_type": "code",
   "execution_count": 14,
   "id": "c13166fc",
   "metadata": {},
   "outputs": [
    {
     "name": "stdout",
     "output_type": "stream",
     "text": [
      "The dollar has hit its highest level against the euro in almost three months after the Federal Reserve head said the US trade deficit is set to stabilise.\n",
      "And Alan Greenspan highlighted the US government's willingness to curb spending and rising household savings as factors which may help to reduce it.\n",
      "On Friday, Federal Reserve chairman Mr Greenspan's speech in London ahead of the meeting of G7 finance ministers sent the dollar higher after it had earlier tumbled on the back of worse-than-expected US jobs data.\n",
      "\"I think the chairman's taking a much more sanguine view on the current account deficit than he's taken for some time,\" said Robert Sinche, head of currency strategy at Bank of America in New York.\n",
      "But calls for a shift in Beijing's policy have fallen on deaf ears, despite recent comments in a major Chinese newspaper that the \"time is ripe\" for a loosening of the peg.\n",
      "The recent falls have partly been the result of big budget deficits, as well as the US's yawning current account gap, both of which need to be funded by the buying of US bonds and assets by foreign firms and governments.\n"
     ]
    }
   ],
   "source": [
    "parser = PlaintextParser.from_string(rawdata.news[1], Tokenizer(\"english\"))\n",
    "stemmer = Stemmer(\"english\")\n",
    "summarizer = Summarizer(stemmer)\n",
    "summarizer.stop_words = get_stop_words(\"english\")\n",
    "\n",
    "for sentence in summarizer(parser.document, 6):\n",
    "    print(sentence)"
   ]
  },
  {
   "cell_type": "code",
   "execution_count": 16,
   "id": "127e38ab",
   "metadata": {},
   "outputs": [
    {
     "name": "stderr",
     "output_type": "stream",
     "text": [
      "Building prefix dict from the default dictionary ...\n",
      "Loading model from cache C:\\Users\\LUOYAN~1\\AppData\\Local\\Temp\\jieba.cache\n",
      "Loading model cost 0.681 seconds.\n",
      "Prefix dict has been built successfully.\n"
     ]
    },
    {
     "name": "stdout",
     "output_type": "stream",
     "text": [
      "温客行一眼就看出周子舒使用的是四季山庄的流云九宫步，狠狠教训了顾湘一顿，就带她离开了。\n",
      "周子舒听到孩子们在唱那首五湖盟争夺武林盟主以及琉璃甲的歌谣，不禁感慨江湖的风云多变。\n",
      "周子舒来到镜湖山庄，从管家口中得知镜湖派掌门张玉森久不闻江湖事，他有三个儿子张成峰，张成峦和张成岭，也不许他们掺和江湖门派之争，管家把周子舒安顿到柴房，子时的时候，三秋钉又准时开始发作，周子舒感觉浑身疼痛难忍，只能发动全部功力为自己疗伤，突然听到外面人声嘈杂。\n",
      "周子舒打开门发现镜湖山庄已经变成一片火海，他飞身上屋顶观察，发现带着鬼面具的人在镜湖山庄大肆烧杀抢掠，怀疑是鬼谷的人所为，他立刻下去救人，张玉森，张成峦和张成峰父子三人被抓走，镜湖山庄的人几乎全部被杀，尸横遍野。\n",
      "摆渡船夫保护着张成岭想逃走，被鬼谷的人追杀，周子舒出手相救，掩护着他们俩乘船离开，远远看到温客行坐在华亭伤看热闹。\n",
      "温客行发现张成岭身受重伤，主动提出帮他医治，周子舒坚决不同意，两个人一言不合就大打出手。\n"
     ]
    }
   ],
   "source": [
    "testchinese = '温客行一眼就看出周子舒使用的是四季山庄的流云九宫步，狠狠教训了顾湘一顿，就带她离开了。张成岭看出周子舒有一身好武功，只是深藏不露，就主动过来和周子舒寒暄，还给他一块名帖，让他有事去镜湖山庄，张成岭着急给母亲买点心，就先行离开了。周子舒听到孩子们在唱那首五湖盟争夺武林盟主以及琉璃甲的歌谣，不禁感慨江湖的风云多变。周子舒叫醒岸边的摆渡船夫，他要乘船去镜湖山庄，摆渡船夫趁机狮子大开口，周子舒也不还价，摆渡船夫看他一副病恹恹的模样，不忍心敲诈他，温客行带顾湘及时赶来，主动提出送周子舒去镜湖山庄，摆渡船夫不依不饶，拉起周子舒就上船离开了。周子舒远远就发现镜湖山庄犹如人间仙境，他迫不及待赶过去，下船就忘了付钱，遭到摆渡船夫劈头盖脸一顿臭骂，周子舒索性就坐一次霸王船。周子舒施展轻功，很快就进入镜湖山庄的桃林，他沉醉于花香之中，温客行突然从背后偷袭，周子舒只能迎战，两个人交手几个回合，温客行对周子舒心生佩服，请他喝酒小叙，周子舒断然拒绝。周子舒来到镜湖山庄，从管家口中得知镜湖派掌门张玉森久不闻江湖事，他有三个儿子张成峰，张成峦和张成岭，也不许他们掺和江湖门派之争，管家把周子舒安顿到柴房，子时的时候，三秋钉又准时开始发作，周子舒感觉浑身疼痛难忍，只能发动全部功力为自己疗伤，突然听到外面人声嘈杂。周子舒打开门发现镜湖山庄已经变成一片火海，他飞身上屋顶观察，发现带着鬼面具的人在镜湖山庄大肆烧杀抢掠，怀疑是鬼谷的人所为，他立刻下去救人，张玉森，张成峦和张成峰父子三人被抓走，镜湖山庄的人几乎全部被杀，尸横遍野。摆渡船夫保护着张成岭想逃走，被鬼谷的人追杀，周子舒出手相救，掩护着他们俩乘船离开，远远看到温客行坐在华亭伤看热闹。周子舒把摆渡船夫和张成岭带到一间破庙，摆渡船夫说明张玉森曾经救过他的命，他在镜湖山庄门前摆渡三年，就是想等有朝一日报恩，摆渡船夫让张成岭去太湖找三白大侠，张成岭坚决不走。外面阴风阵阵，一群带鬼面具的人冲进来，一个自称吊死鬼的人叫嚣着进来抓张成岭，周子舒因为体力耗尽要静养半个时辰，摆渡船夫和吊死鬼战在一处，他渐渐体力不支被打翻在地，吊死鬼要杀了周子舒，张成岭拼命保护他，顾湘及时赶来，她和黑白无常大打出手，吊死鬼想杀张成岭，摆渡船夫奋不顾身护住他，被打成重伤。顾湘被恶鬼们团团包围，周子舒挣扎着跳起来为顾湘解围，把恶鬼们全部打跑，他因体力不支差点晕倒，温客行赶来抱住周子舒。摆渡船夫因为失血过多奄奄一息，温客行用内力帮他维持，船夫拜托周子舒把张成岭交给五湖盟的赵敬，还让张成岭当场给周子舒跪下磕头，周子舒满口答应，摆渡船夫说完这些话就咽气了。周子舒帮张成岭把摆渡船夫埋葬，张成岭累得精疲力尽，周子舒打算休息一夜再上路，温客行让顾湘生火，把干粮烤了给周子舒和张成岭，周子舒借口不饿不想吃，顾湘对他冷嘲热讽，张成岭也不吃顾湘的干粮，遭到顾湘的训斥，谴责他不知道报恩，张成岭连连向她赔礼道歉。温客行发现张成岭身受重伤，主动提出帮他医治，周子舒坚决不同意，两个人一言不合就大打出手。'\n",
    "parser = PlaintextParser.from_string(testchinese, Tokenizer(\"chinese\"))\n",
    "stemmer = Stemmer(\"chinese\")\n",
    "summarizer = Summarizer(stemmer)\n",
    "summarizer.stop_words = get_stop_words(\"chinese\")\n",
    "\n",
    "for sentence in summarizer(parser.document, 6):\n",
    "    print(sentence)"
   ]
  }
 ],
 "metadata": {
  "kernelspec": {
   "display_name": "Python 3",
   "language": "python",
   "name": "python3"
  },
  "language_info": {
   "codemirror_mode": {
    "name": "ipython",
    "version": 3
   },
   "file_extension": ".py",
   "mimetype": "text/x-python",
   "name": "python",
   "nbconvert_exporter": "python",
   "pygments_lexer": "ipython3",
   "version": "3.8.8"
  }
 },
 "nbformat": 4,
 "nbformat_minor": 5
}
