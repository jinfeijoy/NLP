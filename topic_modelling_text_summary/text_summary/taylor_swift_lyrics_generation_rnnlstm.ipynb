{
  "nbformat": 4,
  "nbformat_minor": 0,
  "metadata": {
    "colab": {
      "name": "taylor_swift_lyrics_generation_rnnlstm.ipynb",
      "provenance": [],
      "collapsed_sections": []
    },
    "kernelspec": {
      "name": "python3",
      "display_name": "Python 3"
    },
    "language_info": {
      "name": "python"
    },
    "accelerator": "GPU"
  },
  "cells": [
    {
      "cell_type": "code",
      "metadata": {
        "colab": {
          "base_uri": "https://localhost:8080/"
        },
        "id": "LdsvUR3-9HXJ",
        "outputId": "40992bee-df7f-4e31-95bc-41b584801a8f"
      },
      "source": [
        "import pandas as pd\n",
        "import numpy as np\n",
        "import seaborn as sns\n",
        "import matplotlib.pyplot as plt\n",
        "from wordcloud import WordCloud, STOPWORDS, ImageColorGenerator\n",
        "import string, os \n",
        "import tensorflow as tf\n",
        "\n",
        "# keras module for building LSTM \n",
        "from keras.preprocessing.sequence import pad_sequences\n",
        "from tensorflow.keras.layers import Embedding, Dropout, LSTM, Dense, Bidirectional \n",
        "from keras.preprocessing.text import Tokenizer\n",
        "from keras.callbacks import EarlyStopping\n",
        "from keras.models import Sequential\n",
        "\n",
        "import matplotlib.pyplot as plt\n",
        "import seaborn as sns\n",
        "import io\n",
        "import os\n",
        "import re\n",
        "from google.colab import drive\n",
        "drive.mount('/content/drive')\n",
        "path = '/content/drive/MyDrive/colab_data'"
      ],
      "execution_count": 1,
      "outputs": [
        {
          "output_type": "stream",
          "text": [
            "Mounted at /content/drive\n"
          ],
          "name": "stdout"
        }
      ]
    },
    {
      "cell_type": "code",
      "metadata": {
        "id": "lldFndso9pQM"
      },
      "source": [
        "dataset = pd.read_csv(os.path.join(path, \"taylor_swift_lyrics.csv\"), encoding= 'unicode_escape')"
      ],
      "execution_count": 2,
      "outputs": []
    },
    {
      "cell_type": "code",
      "metadata": {
        "id": "3ya6gx_O-gq5"
      },
      "source": [
        "def processFirstLine(lyrics, songID, songName, row):\n",
        "    lyrics.append(row['lyric'] + '.\\n')\n",
        "    songID.append( row['year']*100+ row['track_n'])\n",
        "    songName.append(row['track_title'])\n",
        "    return lyrics,songID,songName\n",
        "# define empty lists for the lyrics , songID , songName \n",
        "lyrics = []\n",
        "songID = []\n",
        "songName = []\n",
        "\n",
        "# songNumber indicates the song number in the dataset\n",
        "songNumber = 1\n",
        "\n",
        "# i indicates the song number\n",
        "i = 0\n",
        "isFirstLine = True\n",
        "\n",
        "# Iterate through every lyrics line and join them together for each song independently \n",
        "for index,row in dataset.iterrows():\n",
        "    if(songNumber == row['track_n']):\n",
        "        if (isFirstLine):\n",
        "            lyrics,songID,songName = processFirstLine(lyrics,songID,songName,row)\n",
        "            isFirstLine = False\n",
        "        else :\n",
        "            #if we still in the same song , keep joining the lyrics lines    \n",
        "            lyrics[i] +=  row['lyric'] + '.\\n'\n",
        "    #When it's done joining a song's lyrics lines , go to the next song :    \n",
        "    else :\n",
        "        lyrics,songID,songName = processFirstLine(lyrics,songID,songName,row)\n",
        "        songNumber = row['track_n']\n",
        "        i+=1\n",
        "\n",
        "# Define a new pandas DataFrame to save songID , songName , Lyrics in it to use them later\n",
        "lyrics_data = pd.DataFrame({'songID':songID, 'songName':songName, 'lyrics':lyrics })"
      ],
      "execution_count": 3,
      "outputs": []
    },
    {
      "cell_type": "markdown",
      "metadata": {
        "id": "qNs_jLTF-njI"
      },
      "source": [
        "# Data Processing"
      ]
    },
    {
      "cell_type": "code",
      "metadata": {
        "colab": {
          "base_uri": "https://localhost:8080/"
        },
        "id": "k7tHpS9W-iEY",
        "outputId": "dc81326b-e7b2-45d1-d9cb-2bc00f3ff383"
      },
      "source": [
        "tokenizer = Tokenizer()\n",
        "tokenizer.fit_on_texts(lyrics_data['lyrics'].astype(str).str.lower())\n",
        "\n",
        "total_words = len(tokenizer.word_index)+1\n",
        "tokenized_sentences = tokenizer.texts_to_sequences(lyrics_data['lyrics'].astype(str))\n",
        "tokenized_sentences[0]"
      ],
      "execution_count": 4,
      "outputs": [
        {
          "output_type": "execute_result",
          "data": {
            "text/plain": [
              "[61,\n",
              " 58,\n",
              " 3,\n",
              " 86,\n",
              " 10,\n",
              " 318,\n",
              " 115,\n",
              " 604,\n",
              " 194,\n",
              " 263,\n",
              " 1117,\n",
              " 605,\n",
              " 5,\n",
              " 410,\n",
              " 16,\n",
              " 84,\n",
              " 2,\n",
              " 58,\n",
              " 99,\n",
              " 8,\n",
              " 769,\n",
              " 34,\n",
              " 8,\n",
              " 474,\n",
              " 9,\n",
              " 8,\n",
              " 1472,\n",
              " 606,\n",
              " 16,\n",
              " 62,\n",
              " 8,\n",
              " 1473,\n",
              " 13,\n",
              " 1118,\n",
              " 1474,\n",
              " 21,\n",
              " 1475,\n",
              " 43,\n",
              " 84,\n",
              " 4,\n",
              " 2,\n",
              " 27,\n",
              " 90,\n",
              " 80,\n",
              " 1476,\n",
              " 135,\n",
              " 14,\n",
              " 607,\n",
              " 120,\n",
              " 4,\n",
              " 138,\n",
              " 3,\n",
              " 39,\n",
              " 11,\n",
              " 770,\n",
              " 40,\n",
              " 5,\n",
              " 255,\n",
              " 16,\n",
              " 607,\n",
              " 127,\n",
              " 15,\n",
              " 32,\n",
              " 1,\n",
              " 53,\n",
              " 608,\n",
              " 609,\n",
              " 2,\n",
              " 195,\n",
              " 1,\n",
              " 53,\n",
              " 10,\n",
              " 521,\n",
              " 240,\n",
              " 3,\n",
              " 49,\n",
              " 11,\n",
              " 906,\n",
              " 5,\n",
              " 14,\n",
              " 84,\n",
              " 120,\n",
              " 3,\n",
              " 1119,\n",
              " 19,\n",
              " 8,\n",
              " 1120,\n",
              " 21,\n",
              " 3,\n",
              " 1121,\n",
              " 32,\n",
              " 1,\n",
              " 53,\n",
              " 907,\n",
              " 2,\n",
              " 195,\n",
              " 1,\n",
              " 53,\n",
              " 16,\n",
              " 128,\n",
              " 411,\n",
              " 175,\n",
              " 53,\n",
              " 13,\n",
              " 10,\n",
              " 222,\n",
              " 21,\n",
              " 12,\n",
              " 908,\n",
              " 4,\n",
              " 10,\n",
              " 241,\n",
              " 771,\n",
              " 318,\n",
              " 564,\n",
              " 32,\n",
              " 1,\n",
              " 53,\n",
              " 608,\n",
              " 609,\n",
              " 2,\n",
              " 195,\n",
              " 1,\n",
              " 53,\n",
              " 13,\n",
              " 6,\n",
              " 1122,\n",
              " 264,\n",
              " 8,\n",
              " 909,\n",
              " 13,\n",
              " 668,\n",
              " 4,\n",
              " 1477,\n",
              " 522,\n",
              " 16,\n",
              " 1,\n",
              " 910,\n",
              " 83,\n",
              " 5,\n",
              " 50,\n",
              " 6,\n",
              " 19,\n",
              " 16,\n",
              " 15,\n",
              " 9,\n",
              " 8,\n",
              " 1478,\n",
              " 1123,\n",
              " 10,\n",
              " 669,\n",
              " 17,\n",
              " 8,\n",
              " 911,\n",
              " 16,\n",
              " 1,\n",
              " 35,\n",
              " 440,\n",
              " 121,\n",
              " 670,\n",
              " 1479,\n",
              " 31,\n",
              " 30,\n",
              " 275,\n",
              " 60,\n",
              " 5,\n",
              " 255,\n",
              " 7,\n",
              " 14,\n",
              " 8,\n",
              " 128,\n",
              " 1480,\n",
              " 4,\n",
              " 1481,\n",
              " 31,\n",
              " 21,\n",
              " 14,\n",
              " 13,\n",
              " 16,\n",
              " 30,\n",
              " 265,\n",
              " 5,\n",
              " 285,\n",
              " 32,\n",
              " 1,\n",
              " 53,\n",
              " 608,\n",
              " 609,\n",
              " 2,\n",
              " 195,\n",
              " 1,\n",
              " 53,\n",
              " 10,\n",
              " 521,\n",
              " 240,\n",
              " 3,\n",
              " 49,\n",
              " 11,\n",
              " 906,\n",
              " 5,\n",
              " 14,\n",
              " 84,\n",
              " 120,\n",
              " 3,\n",
              " 1119,\n",
              " 19,\n",
              " 8,\n",
              " 1120,\n",
              " 21,\n",
              " 3,\n",
              " 1121,\n",
              " 32,\n",
              " 1,\n",
              " 53,\n",
              " 907,\n",
              " 2,\n",
              " 195,\n",
              " 1,\n",
              " 53,\n",
              " 16,\n",
              " 128,\n",
              " 411,\n",
              " 175,\n",
              " 53,\n",
              " 13,\n",
              " 10,\n",
              " 222,\n",
              " 21,\n",
              " 12,\n",
              " 908,\n",
              " 4,\n",
              " 10,\n",
              " 241,\n",
              " 771,\n",
              " 318,\n",
              " 564,\n",
              " 32,\n",
              " 1,\n",
              " 53,\n",
              " 608,\n",
              " 609,\n",
              " 2,\n",
              " 195,\n",
              " 1,\n",
              " 53,\n",
              " 13,\n",
              " 6,\n",
              " 4,\n",
              " 20,\n",
              " 31,\n",
              " 37,\n",
              " 3,\n",
              " 93,\n",
              " 39,\n",
              " 295,\n",
              " 138,\n",
              " 20,\n",
              " 1482,\n",
              " 21,\n",
              " 12,\n",
              " 441,\n",
              " 4,\n",
              " 178,\n",
              " 8,\n",
              " 911,\n",
              " 296,\n",
              " 21,\n",
              " 12,\n",
              " 1483,\n",
              " 4,\n",
              " 3,\n",
              " 93,\n",
              " 179,\n",
              " 16,\n",
              " 163,\n",
              " 440,\n",
              " 17,\n",
              " 32,\n",
              " 1,\n",
              " 53,\n",
              " 608,\n",
              " 609,\n",
              " 2,\n",
              " 195,\n",
              " 1,\n",
              " 53,\n",
              " 10,\n",
              " 521,\n",
              " 240,\n",
              " 286,\n",
              " 163,\n",
              " 256,\n",
              " 12,\n",
              " 671,\n",
              " 21,\n",
              " 2,\n",
              " 195,\n",
              " 7,\n",
              " 672,\n",
              " 1,\n",
              " 31,\n",
              " 5,\n",
              " 16,\n",
              " 210,\n",
              " 32,\n",
              " 1,\n",
              " 53,\n",
              " 907,\n",
              " 2,\n",
              " 195,\n",
              " 1,\n",
              " 53,\n",
              " 16,\n",
              " 128,\n",
              " 411,\n",
              " 175,\n",
              " 53,\n",
              " 13,\n",
              " 10,\n",
              " 222,\n",
              " 21,\n",
              " 12,\n",
              " 908,\n",
              " 4,\n",
              " 10,\n",
              " 241,\n",
              " 771,\n",
              " 318,\n",
              " 564,\n",
              " 32,\n",
              " 1,\n",
              " 53,\n",
              " 608,\n",
              " 609,\n",
              " 2,\n",
              " 195,\n",
              " 1,\n",
              " 53,\n",
              " 13,\n",
              " 6,\n",
              " 23,\n",
              " 53,\n",
              " 13,\n",
              " 6,\n",
              " 1484,\n",
              " 61,\n",
              " 58,\n",
              " 3,\n",
              " 86,\n",
              " 10,\n",
              " 318,\n",
              " 115,\n",
              " 305,\n",
              " 194,\n",
              " 263,\n",
              " 1117,\n",
              " 605,\n",
              " 5,\n",
              " 410,\n",
              " 16,\n",
              " 84,\n",
              " 2,\n",
              " 58,\n",
              " 99,\n",
              " 8,\n",
              " 769]"
            ]
          },
          "metadata": {
            "tags": []
          },
          "execution_count": 4
        }
      ]
    },
    {
      "cell_type": "code",
      "metadata": {
        "id": "7Flt3iwf-0h-"
      },
      "source": [
        "# Slash sequences into n gram sequence\n",
        "input_sequences = list()\n",
        "for i in tokenized_sentences:\n",
        "    for t in range(1, len(i)):\n",
        "        n_gram_sequence = i[:t+1]\n",
        "        input_sequences.append(n_gram_sequence)\n",
        "        \n",
        "# Pre padding\n",
        "max_sequence_len = max([len(x) for x in input_sequences])\n",
        "input_sequences = np.array(pad_sequences(input_sequences, maxlen=max_sequence_len, padding='pre'))"
      ],
      "execution_count": 5,
      "outputs": []
    },
    {
      "cell_type": "code",
      "metadata": {
        "id": "nwLL0O05-2dO"
      },
      "source": [
        "# create predictors and label\n",
        "import tensorflow as tf\n",
        "X, labels = input_sequences[:,:-1],input_sequences[:,-1]\n",
        "y = tf.keras.utils.to_categorical(labels, num_classes=total_words)"
      ],
      "execution_count": 6,
      "outputs": []
    },
    {
      "cell_type": "code",
      "metadata": {
        "id": "ig4WDzWp-sNG"
      },
      "source": [
        ""
      ],
      "execution_count": null,
      "outputs": []
    },
    {
      "cell_type": "markdown",
      "metadata": {
        "id": "JEjECK43-5TA"
      },
      "source": [
        "# Model"
      ]
    },
    {
      "cell_type": "code",
      "metadata": {
        "colab": {
          "base_uri": "https://localhost:8080/"
        },
        "id": "6kb3G3dg-PC5",
        "outputId": "89c60039-b2ff-4f32-c0f6-59b9c139af81"
      },
      "source": [
        "from keras.preprocessing.sequence import pad_sequences\n",
        "from tensorflow.keras.layers import Embedding, Dropout, LSTM, Dense, Bidirectional \n",
        "from keras.preprocessing.text import Tokenizer\n",
        "from keras.callbacks import EarlyStopping\n",
        "from keras.models import Sequential\n",
        "# create model\n",
        "model = Sequential()\n",
        "model.add(Embedding(total_words, 40, input_length=max_sequence_len-1))\n",
        "model.add(Bidirectional(LSTM(250)))\n",
        "model.add(Dropout(0.1))\n",
        "model.add(Dense(total_words, activation='softmax'))\n",
        "model.compile(loss='categorical_crossentropy', optimizer='adam', metrics=['accuracy'])\n",
        "earlystop = EarlyStopping(monitor='loss', min_delta=0, patience=3, verbose=0, mode='auto')\n",
        "history = model.fit(X, y, epochs=10, verbose=1, callbacks=[earlystop])"
      ],
      "execution_count": 7,
      "outputs": [
        {
          "output_type": "stream",
          "text": [
            "Epoch 1/10\n",
            "1106/1106 [==============================] - 119s 83ms/step - loss: 6.1095 - accuracy: 0.0515\n",
            "Epoch 2/10\n",
            "1106/1106 [==============================] - 93s 84ms/step - loss: 4.9787 - accuracy: 0.1229\n",
            "Epoch 3/10\n",
            "1106/1106 [==============================] - 93s 84ms/step - loss: 4.2001 - accuracy: 0.2086\n",
            "Epoch 4/10\n",
            "1106/1106 [==============================] - 94s 85ms/step - loss: 3.4920 - accuracy: 0.3115\n",
            "Epoch 5/10\n",
            "1106/1106 [==============================] - 94s 85ms/step - loss: 2.9017 - accuracy: 0.4110\n",
            "Epoch 6/10\n",
            "1106/1106 [==============================] - 93s 84ms/step - loss: 2.4131 - accuracy: 0.4952\n",
            "Epoch 7/10\n",
            "1106/1106 [==============================] - 93s 84ms/step - loss: 2.0615 - accuracy: 0.5659\n",
            "Epoch 8/10\n",
            "1106/1106 [==============================] - 93s 84ms/step - loss: 1.7673 - accuracy: 0.6188\n",
            "Epoch 9/10\n",
            "1106/1106 [==============================] - 93s 84ms/step - loss: 1.4998 - accuracy: 0.6733\n",
            "Epoch 10/10\n",
            "1106/1106 [==============================] - 93s 84ms/step - loss: 1.3058 - accuracy: 0.7104\n"
          ],
          "name": "stdout"
        }
      ]
    },
    {
      "cell_type": "code",
      "metadata": {
        "colab": {
          "base_uri": "https://localhost:8080/",
          "height": 282
        },
        "id": "n-5eXqL1ZzPo",
        "outputId": "9b585f2b-1801-476f-e1cd-689d49439fe0"
      },
      "source": [
        "# plot the accuracy\n",
        "plt.plot(history.history['accuracy'], label='train acc')\n",
        "plt.legend()\n",
        "plt.show()\n",
        "plt.savefig('AccVal_acc')"
      ],
      "execution_count": 8,
      "outputs": [
        {
          "output_type": "display_data",
          "data": {
            "image/png": "[encoded data removed]",
            "text/plain": [
              "<Figure size 432x288 with 1 Axes>"
            ]
          },
          "metadata": {
            "tags": [],
            "needs_background": "light"
          }
        },
        {
          "output_type": "display_data",
          "data": {
            "text/plain": [
              "<Figure size 432x288 with 0 Axes>"
            ]
          },
          "metadata": {
            "tags": []
          }
        }
      ]
    },
    {
      "cell_type": "markdown",
      "metadata": {
        "id": "nk6Fnj7DZz0u"
      },
      "source": [
        "Generate New Songs"
      ]
    },
    {
      "cell_type": "code",
      "metadata": {
        "id": "4MDck4RMZ3ZO"
      },
      "source": [
        "def complete_this_song(seed_text, next_words):\n",
        "    for _ in range(next_words):\n",
        "        token_list = tokenizer.texts_to_sequences([seed_text])[0]\n",
        "        token_list = pad_sequences([token_list], maxlen=max_sequence_len-1, padding='pre')\n",
        "        predicted = model.predict_classes(token_list, verbose=0)\n",
        "        \n",
        "        output_word = \"\"\n",
        "        for word, index in tokenizer.word_index.items():\n",
        "            if index == predicted:\n",
        "                output_word = word\n",
        "                break\n",
        "        seed_text += \" \" + output_word\n",
        "    return seed_text"
      ],
      "execution_count": 9,
      "outputs": []
    },
    {
      "cell_type": "code",
      "metadata": {
        "colab": {
          "base_uri": "https://localhost:8080/",
          "height": 123
        },
        "id": "KuyKczLBZ6uW",
        "outputId": "712954c5-82ea-495a-ba3b-4b2369380edf"
      },
      "source": [
        "complete_this_song(\"on my baby\", 140)"
      ],
      "execution_count": 15,
      "outputs": [
        {
          "output_type": "stream",
          "text": [
            "/usr/local/lib/python3.7/dist-packages/keras/engine/sequential.py:450: UserWarning: `model.predict_classes()` is deprecated and will be removed after 2021-01-01. Please use instead:* `np.argmax(model.predict(x), axis=-1)`,   if your model does multi-class classification   (e.g. if it uses a `softmax` last-layer activation).* `(model.predict(x) > 0.5).astype(\"int32\")`,   if your model does binary classification   (e.g. if it uses a `sigmoid` last-layer activation).\n",
            "  warnings.warn('`model.predict_classes()` is deprecated and '\n"
          ],
          "name": "stderr"
        },
        {
          "output_type": "execute_result",
          "data": {
            "application/vnd.google.colaboratory.intrinsic+json": {
              "type": "string"
            },
            "text/plain": [
              "\"on my baby i got a smile and you walk me when i'm never take a beautiful town but i could dance in a motel little city and i had a bad feeling and i had a bad feeling but i am is from the curtains you made me down we fall the same we had it in the bathroom i was a m kiss to a money in a getaway car i was a dreamer of a bag of a yard of the mirror you said you walk the same and that's the weather i could hold on to you and i will hold on to you please don't ever become a stranger to the memories they will hold on to you whose laugh i could recognize anywhere hold on to the memories they will hold on to you whose laugh i\""
            ]
          },
          "metadata": {
            "tags": []
          },
          "execution_count": 15
        }
      ]
    }
  ]
}